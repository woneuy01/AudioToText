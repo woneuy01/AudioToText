{
  "nbformat": 4,
  "nbformat_minor": 0,
  "metadata": {
    "colab": {
      "name": "Reddit_comments.ipynb",
      "provenance": [],
      "collapsed_sections": [],
      "toc_visible": true,
      "authorship_tag": "ABX9TyO3zkKyNPRBLHARAQax8LkW",
      "include_colab_link": true
    },
    "kernelspec": {
      "name": "python3",
      "display_name": "Python 3"
    }
  },
  "cells": [
    {
      "cell_type": "markdown",
      "metadata": {
        "id": "view-in-github",
        "colab_type": "text"
      },
      "source": [
        "<a href=\"https://colab.research.google.com/github/woneuy01/AudioToText/blob/master/Reddit_comments.ipynb\" target=\"_parent\"><img src=\"https://colab.research.google.com/assets/colab-badge.svg\" alt=\"Open In Colab\"/></a>"
      ]
    },
    {
      "cell_type": "code",
      "metadata": {
        "id": "hAkPuTgXeLGu",
        "colab_type": "code",
        "colab": {}
      },
      "source": [
        "import pandas as pd\n",
        "import requests\n",
        "import json\n",
        "import csv\n",
        "import time\n",
        "#import datetime"
      ],
      "execution_count": 25,
      "outputs": []
    },
    {
      "cell_type": "code",
      "metadata": {
        "id": "DFz3wj1ReNjH",
        "colab_type": "code",
        "colab": {}
      },
      "source": [
        "def getPushshiftData(query, after, before, sub):\n",
        "    url = 'https://api.pushshift.io/reddit/search/submission/?title='+str(query)+'&size=100&after='+str(after)+'&before='+str(before)+'&subreddit='+str(sub)\n",
        "    print(url)\n",
        "    r = requests.get(url)\n",
        "    data = json.loads(r.text)\n",
        "    return data['data']"
      ],
      "execution_count": 26,
      "outputs": []
    },
    {
      "cell_type": "code",
      "metadata": {
        "id": "OlqswullejXF",
        "colab_type": "code",
        "colab": {}
      },
      "source": [
        "def collectSubData(subm):\n",
        "    subData = list() #list to store data points\n",
        "    title = subm['title']\n",
        "    url = subm['url']\n",
        "    try:\n",
        "        flair = subm['link_flair_text']\n",
        "    except KeyError:\n",
        "        flair = \"NaN\"    \n",
        "    author = subm['author']\n",
        "    sub_id = subm['id']\n",
        "    score = subm['score']\n",
        "    created = datetime.fromtimestamp(subm['created_utc']) #1520561700.0\n",
        "    numComms = subm['num_comments']\n",
        "    permalink = subm['permalink']\n",
        "    \n",
        "    subData.append((sub_id,title,url,author,score,created,numComms,permalink,flair))\n",
        "    subStats[sub_id] = subData"
      ],
      "execution_count": 27,
      "outputs": []
    },
    {
      "cell_type": "code",
      "metadata": {
        "id": "p02tk-ZJqOq5",
        "colab_type": "code",
        "colab": {
          "base_uri": "https://localhost:8080/",
          "height": 101
        },
        "outputId": "c8995d9a-0478-44f6-9e76-61d224589fd2"
      },
      "source": [
        "import pandas as pd\n",
        "from datetime import datetime\n",
        "#import datetime\n",
        "from datetime import timezone\n",
        "import seaborn as sns\n",
        "#from youtube_data import youtube_search\n",
        "sub = input('Enter a keyword: ')\n",
        "searchdateafter = input(\"Enter search date publish after (yyyymmdd):\")\n",
        "searchdatebefore = input(\"Enter search date publish before (yyyymmdd):\")\n",
        "\n",
        "searchdateafter = datetime.strptime(searchdateafter, \"%Y%m%d\")\n",
        "after=int(searchdateafter.replace(tzinfo=timezone.utc).timestamp())\n",
        "#searchdateafter=str(searchdateafter)+\"T00:00:00Z\"\n",
        "print(after)\n",
        "\n",
        "searchdatebefore = datetime.strptime(searchdatebefore, \"%Y%m%d\")\n",
        "before=int(searchdatebefore.replace(tzinfo=timezone.utc).timestamp())\n",
        "#searchdatebefore=str(searchdatebefore)+\"T00:00:00Z\"\n",
        "print(before)\n",
        "\n",
        "#query = \"\"\n",
        "# the time should set to period 5/26--> published after 5/26 to published before 5/27\n",
        "\n",
        "#test = youtube_search(keyword,searchdateafter,searchdatebefore)\n",
        "#test.keys()"
      ],
      "execution_count": 23,
      "outputs": [
        {
          "output_type": "stream",
          "text": [
            "Enter a keyword: coronavirus\n",
            "Enter search date publish after (yyyymmdd):20200601\n",
            "Enter search date publish before (yyyymmdd):20200602\n",
            "1590969600\n",
            "1591056000\n"
          ],
          "name": "stdout"
        }
      ]
    },
    {
      "cell_type": "code",
      "metadata": {
        "id": "7O2odz6l5HUr",
        "colab_type": "code",
        "colab": {}
      },
      "source": [
        "from datetime import timezone\n",
        "dt = datetime(2015, 10, 19)\n",
        "timestamp = dt.replace(tzinfo=timezone.utc).timestamp()\n",
        "print(timestamp)"
      ],
      "execution_count": null,
      "outputs": []
    },
    {
      "cell_type": "code",
      "metadata": {
        "id": "MLh38YcXgMuO",
        "colab_type": "code",
        "colab": {
          "base_uri": "https://localhost:8080/",
          "height": 353
        },
        "outputId": "fd5df0aa-7d83-4e9e-d0f9-128be58093dd"
      },
      "source": [
        "query = \"\"\n",
        "subCount = 0\n",
        "subStats = {}\n",
        "\n",
        "data = getPushshiftData(query, after, before, sub)\n",
        "# Will run until all posts have been gathered \n",
        "# from the 'after' date up until before date\n",
        "while len(data) > 0:\n",
        "    for submission in data:\n",
        "        collectSubData(submission)\n",
        "        subCount+=1\n",
        "    # Calls getPushshiftData() with the created date of the last submission\n",
        "    print(len(data))\n",
        "    print(str(datetime.fromtimestamp(data[-1]['created_utc'])))\n",
        "    after = data[-1]['created_utc']\n",
        "    try:\n",
        "      data = getPushshiftData(query, after, before, sub)\n",
        "    except ValueError:\n",
        "      print(\"response content is not valid json\")\n",
        "    \n",
        "print(len(data))"
      ],
      "execution_count": 29,
      "outputs": [
        {
          "output_type": "stream",
          "text": [
            "https://api.pushshift.io/reddit/search/submission/?title=&size=100&after=1590969600&before=1591056000&subreddit=coronavirus\n",
            "100\n",
            "2020-06-01 04:48:53\n",
            "https://api.pushshift.io/reddit/search/submission/?title=&size=100&after=1590986933&before=1591056000&subreddit=coronavirus\n",
            "100\n",
            "2020-06-01 11:02:25\n",
            "https://api.pushshift.io/reddit/search/submission/?title=&size=100&after=1591009345&before=1591056000&subreddit=coronavirus\n",
            "100\n",
            "2020-06-01 15:02:18\n",
            "https://api.pushshift.io/reddit/search/submission/?title=&size=100&after=1591023738&before=1591056000&subreddit=coronavirus\n",
            "100\n",
            "2020-06-01 18:23:58\n",
            "https://api.pushshift.io/reddit/search/submission/?title=&size=100&after=1591035838&before=1591056000&subreddit=coronavirus\n",
            "100\n",
            "2020-06-01 22:06:51\n",
            "https://api.pushshift.io/reddit/search/submission/?title=&size=100&after=1591049211&before=1591056000&subreddit=coronavirus\n",
            "23\n",
            "2020-06-01 23:54:11\n",
            "https://api.pushshift.io/reddit/search/submission/?title=&size=100&after=1591055651&before=1591056000&subreddit=coronavirus\n",
            "0\n"
          ],
          "name": "stdout"
        }
      ]
    },
    {
      "cell_type": "code",
      "metadata": {
        "id": "elV8zAUBgQdl",
        "colab_type": "code",
        "colab": {
          "base_uri": "https://localhost:8080/",
          "height": 101
        },
        "outputId": "7f5df95b-01a1-402d-a960-136393630116"
      },
      "source": [
        "print(str(len(subStats)) + \" submissions have added to list\")\n",
        "print(\"1st entry is:\")\n",
        "print(list(subStats.values())[0][0][1] + \" created: \" + str(list(subStats.values())[0][0][5]))\n",
        "print(\"Last entry is:\")\n",
        "print(list(subStats.values())[-1][0][1] + \" created: \" + str(list(subStats.values())[-1][0][5]))"
      ],
      "execution_count": 30,
      "outputs": [
        {
          "output_type": "stream",
          "text": [
            "523 submissions have added to list\n",
            "1st entry is:\n",
            "Arizona sees deadliest March and April on record created: 2020-06-01 00:05:44\n",
            "Last entry is:\n",
            "My favorite playlist during the corona lockdown. My advice against boredom 😃 created: 2020-06-01 23:54:11\n"
          ],
          "name": "stdout"
        }
      ]
    },
    {
      "cell_type": "code",
      "metadata": {
        "id": "DfvfWI2ggVYY",
        "colab_type": "code",
        "colab": {}
      },
      "source": [
        "# def updateSubs_file():\n",
        "#     upload_count = 0\n",
        "#     location = \"\"\n",
        "#     print(\"input filename of submission file, please add .csv\")\n",
        "    #filename = input()\n",
        "    #file = location + filename\n",
        "    # with open(file, 'w', newline='', encoding='utf-8') as file: \n",
        "    #     a = csv.writer(file, delimiter=',')\n",
        "    #     headers = [\"Post ID\",\"Title\",\"Url\",\"Author\",\"Score\",\"Publish Date\",\"Total No. of Comments\",\"Permalink\",\"Flair\"]\n",
        "    #     a.writerow(headers)\n",
        "    #     for sub in subStats:\n",
        "    #         a.writerow(subStats[sub][0])\n",
        "    #         upload_count+=1\n",
        "               \n",
        "        #print(str(upload_count) + \" submissions have been uploaded\")\n"
      ],
      "execution_count": null,
      "outputs": []
    },
    {
      "cell_type": "code",
      "metadata": {
        "id": "Wgpicp9_y8TI",
        "colab_type": "code",
        "colab": {
          "base_uri": "https://localhost:8080/",
          "height": 501
        },
        "outputId": "aaa5c8f7-993d-40a4-faed-db5686a6e51a"
      },
      "source": [
        "posts=[]\n",
        "for sub in subStats:\n",
        "  posts.append(subStats[sub][0]) \n",
        " \n",
        "df=pd.DataFrame(posts, columns=[\"Post ID\",\"Title\",\"Url\",\"Author\",\"Score\",\"Publish Date\",\"Total No. of Comments\",\"Permalink\",\"Flair\"])\n",
        "df.head()"
      ],
      "execution_count": 31,
      "outputs": [
        {
          "output_type": "execute_result",
          "data": {
            "text/html": [
              "<div>\n",
              "<style scoped>\n",
              "    .dataframe tbody tr th:only-of-type {\n",
              "        vertical-align: middle;\n",
              "    }\n",
              "\n",
              "    .dataframe tbody tr th {\n",
              "        vertical-align: top;\n",
              "    }\n",
              "\n",
              "    .dataframe thead th {\n",
              "        text-align: right;\n",
              "    }\n",
              "</style>\n",
              "<table border=\"1\" class=\"dataframe\">\n",
              "  <thead>\n",
              "    <tr style=\"text-align: right;\">\n",
              "      <th></th>\n",
              "      <th>Post ID</th>\n",
              "      <th>Title</th>\n",
              "      <th>Url</th>\n",
              "      <th>Author</th>\n",
              "      <th>Score</th>\n",
              "      <th>Publish Date</th>\n",
              "      <th>Total No. of Comments</th>\n",
              "      <th>Permalink</th>\n",
              "      <th>Flair</th>\n",
              "    </tr>\n",
              "  </thead>\n",
              "  <tbody>\n",
              "    <tr>\n",
              "      <th>0</th>\n",
              "      <td>gua1j4</td>\n",
              "      <td>Arizona sees deadliest March and April on record</td>\n",
              "      <td>https://www.azfamily.com/news/arizona-sees-dea...</td>\n",
              "      <td>[deleted]</td>\n",
              "      <td>0</td>\n",
              "      <td>2020-06-01 00:05:44</td>\n",
              "      <td>0</td>\n",
              "      <td>/r/Coronavirus/comments/gua1j4/arizona_sees_de...</td>\n",
              "      <td>USA</td>\n",
              "    </tr>\n",
              "    <tr>\n",
              "      <th>1</th>\n",
              "      <td>gua4or</td>\n",
              "      <td>Brazil records 29,314 deaths (+480) and 514,84...</td>\n",
              "      <td>https://g1.globo.com/bemestar/coronavirus/noti...</td>\n",
              "      <td>EffectiveIndividual3</td>\n",
              "      <td>2</td>\n",
              "      <td>2020-06-01 00:10:58</td>\n",
              "      <td>4</td>\n",
              "      <td>/r/Coronavirus/comments/gua4or/brazil_records_...</td>\n",
              "      <td>Latin America</td>\n",
              "    </tr>\n",
              "    <tr>\n",
              "      <th>2</th>\n",
              "      <td>gua6kc</td>\n",
              "      <td>Texas Tribune @TexasTribune Texas reported 1,9...</td>\n",
              "      <td>https://www.texastribune.org/2020/05/31/texas-...</td>\n",
              "      <td>[deleted]</td>\n",
              "      <td>13</td>\n",
              "      <td>2020-06-01 00:14:06</td>\n",
              "      <td>13</td>\n",
              "      <td>/r/Coronavirus/comments/gua6kc/texas_tribune_t...</td>\n",
              "      <td>USA</td>\n",
              "    </tr>\n",
              "    <tr>\n",
              "      <th>3</th>\n",
              "      <td>guadd5</td>\n",
              "      <td>“Our calm is contagious”: How to use mindfulne...</td>\n",
              "      <td>https://www.vox.com/platform/amp/future-perfec...</td>\n",
              "      <td>shallah</td>\n",
              "      <td>1</td>\n",
              "      <td>2020-06-01 00:25:35</td>\n",
              "      <td>0</td>\n",
              "      <td>/r/Coronavirus/comments/guadd5/our_calm_is_con...</td>\n",
              "      <td>NaN</td>\n",
              "    </tr>\n",
              "    <tr>\n",
              "      <th>4</th>\n",
              "      <td>guagsl</td>\n",
              "      <td>New coronavirus losing potency, top Italian do...</td>\n",
              "      <td>https://uk.reuters.com/article/us-health-coron...</td>\n",
              "      <td>[deleted]</td>\n",
              "      <td>2</td>\n",
              "      <td>2020-06-01 00:31:32</td>\n",
              "      <td>2</td>\n",
              "      <td>/r/Coronavirus/comments/guagsl/new_coronavirus...</td>\n",
              "      <td>Good News</td>\n",
              "    </tr>\n",
              "  </tbody>\n",
              "</table>\n",
              "</div>"
            ],
            "text/plain": [
              "  Post ID  ...          Flair\n",
              "0  gua1j4  ...            USA\n",
              "1  gua4or  ...  Latin America\n",
              "2  gua6kc  ...            USA\n",
              "3  guadd5  ...            NaN\n",
              "4  guagsl  ...      Good News\n",
              "\n",
              "[5 rows x 9 columns]"
            ]
          },
          "metadata": {
            "tags": []
          },
          "execution_count": 31
        }
      ]
    },
    {
      "cell_type": "code",
      "metadata": {
        "id": "b259CmUoDHpX",
        "colab_type": "code",
        "colab": {
          "base_uri": "https://localhost:8080/",
          "height": 585
        },
        "outputId": "633d221a-e318-495f-db80-1b2a91ad5a5c"
      },
      "source": [
        "df.sort_values(\"Total No. of Comments\", axis = 0, ascending = False, \n",
        "                 inplace = True, na_position ='last') \n",
        "df.head()"
      ],
      "execution_count": 33,
      "outputs": [
        {
          "output_type": "execute_result",
          "data": {
            "text/html": [
              "<div>\n",
              "<style scoped>\n",
              "    .dataframe tbody tr th:only-of-type {\n",
              "        vertical-align: middle;\n",
              "    }\n",
              "\n",
              "    .dataframe tbody tr th {\n",
              "        vertical-align: top;\n",
              "    }\n",
              "\n",
              "    .dataframe thead th {\n",
              "        text-align: right;\n",
              "    }\n",
              "</style>\n",
              "<table border=\"1\" class=\"dataframe\">\n",
              "  <thead>\n",
              "    <tr style=\"text-align: right;\">\n",
              "      <th></th>\n",
              "      <th>Post ID</th>\n",
              "      <th>Title</th>\n",
              "      <th>Url</th>\n",
              "      <th>Author</th>\n",
              "      <th>Score</th>\n",
              "      <th>Publish Date</th>\n",
              "      <th>Total No. of Comments</th>\n",
              "      <th>Permalink</th>\n",
              "      <th>Flair</th>\n",
              "    </tr>\n",
              "  </thead>\n",
              "  <tbody>\n",
              "    <tr>\n",
              "      <th>290</th>\n",
              "      <td>gulu7b</td>\n",
              "      <td>57% of Americans say it’s more important to tr...</td>\n",
              "      <td>https://abcnews.go.com/Politics/hesitancy-resu...</td>\n",
              "      <td>HugeDetective0</td>\n",
              "      <td>36</td>\n",
              "      <td>2020-06-01 14:42:50</td>\n",
              "      <td>2375</td>\n",
              "      <td>/r/Coronavirus/comments/gulu7b/57_of_americans...</td>\n",
              "      <td>USA</td>\n",
              "    </tr>\n",
              "    <tr>\n",
              "      <th>65</th>\n",
              "      <td>gucr3h</td>\n",
              "      <td>‘Coronavirus Cooking Survey’ Finds That People...</td>\n",
              "      <td>https://www.goodnewsnetwork.org/people-are-eat...</td>\n",
              "      <td>Barknuckle</td>\n",
              "      <td>97</td>\n",
              "      <td>2020-06-01 03:05:04</td>\n",
              "      <td>688</td>\n",
              "      <td>/r/Coronavirus/comments/gucr3h/coronavirus_coo...</td>\n",
              "      <td>Good News</td>\n",
              "    </tr>\n",
              "    <tr>\n",
              "      <th>262</th>\n",
              "      <td>gul0hp</td>\n",
              "      <td>Daily Discussion Post - June 01 | Questions, i...</td>\n",
              "      <td>https://www.reddit.com/r/Coronavirus/comments/...</td>\n",
              "      <td>AutoModerator</td>\n",
              "      <td>1</td>\n",
              "      <td>2020-06-01 13:52:39</td>\n",
              "      <td>684</td>\n",
              "      <td>/r/Coronavirus/comments/gul0hp/daily_discussio...</td>\n",
              "      <td>NaN</td>\n",
              "    </tr>\n",
              "    <tr>\n",
              "      <th>235</th>\n",
              "      <td>guk32n</td>\n",
              "      <td>The Protests Will Spread the Coronavirus</td>\n",
              "      <td>https://www.theatlantic.com/health/archive/202...</td>\n",
              "      <td>pump_the_brakes_son</td>\n",
              "      <td>1</td>\n",
              "      <td>2020-06-01 12:51:14</td>\n",
              "      <td>437</td>\n",
              "      <td>/r/Coronavirus/comments/guk32n/the_protests_wi...</td>\n",
              "      <td>USA</td>\n",
              "    </tr>\n",
              "    <tr>\n",
              "      <th>332</th>\n",
              "      <td>gun51t</td>\n",
              "      <td>Good news: the US saw a 21% drop in Covid deat...</td>\n",
              "      <td>https://coronachaser.com/?rows=year%2Ccountry%...</td>\n",
              "      <td>shreddit47</td>\n",
              "      <td>70</td>\n",
              "      <td>2020-06-01 15:58:27</td>\n",
              "      <td>414</td>\n",
              "      <td>/r/Coronavirus/comments/gun51t/good_news_the_u...</td>\n",
              "      <td>Good News</td>\n",
              "    </tr>\n",
              "  </tbody>\n",
              "</table>\n",
              "</div>"
            ],
            "text/plain": [
              "    Post ID  ...      Flair\n",
              "290  gulu7b  ...        USA\n",
              "65   gucr3h  ...  Good News\n",
              "262  gul0hp  ...        NaN\n",
              "235  guk32n  ...        USA\n",
              "332  gun51t  ...  Good News\n",
              "\n",
              "[5 rows x 9 columns]"
            ]
          },
          "metadata": {
            "tags": []
          },
          "execution_count": 33
        }
      ]
    },
    {
      "cell_type": "code",
      "metadata": {
        "id": "XZLUC0xWEyiB",
        "colab_type": "code",
        "colab": {
          "base_uri": "https://localhost:8080/",
          "height": 585
        },
        "outputId": "f5631a89-bb98-484d-ef40-e34fd3ab8430"
      },
      "source": [
        "df=df[df[\"Total No. of Comments\"]>300]\n",
        "df.head()"
      ],
      "execution_count": 34,
      "outputs": [
        {
          "output_type": "execute_result",
          "data": {
            "text/html": [
              "<div>\n",
              "<style scoped>\n",
              "    .dataframe tbody tr th:only-of-type {\n",
              "        vertical-align: middle;\n",
              "    }\n",
              "\n",
              "    .dataframe tbody tr th {\n",
              "        vertical-align: top;\n",
              "    }\n",
              "\n",
              "    .dataframe thead th {\n",
              "        text-align: right;\n",
              "    }\n",
              "</style>\n",
              "<table border=\"1\" class=\"dataframe\">\n",
              "  <thead>\n",
              "    <tr style=\"text-align: right;\">\n",
              "      <th></th>\n",
              "      <th>Post ID</th>\n",
              "      <th>Title</th>\n",
              "      <th>Url</th>\n",
              "      <th>Author</th>\n",
              "      <th>Score</th>\n",
              "      <th>Publish Date</th>\n",
              "      <th>Total No. of Comments</th>\n",
              "      <th>Permalink</th>\n",
              "      <th>Flair</th>\n",
              "    </tr>\n",
              "  </thead>\n",
              "  <tbody>\n",
              "    <tr>\n",
              "      <th>290</th>\n",
              "      <td>gulu7b</td>\n",
              "      <td>57% of Americans say it’s more important to tr...</td>\n",
              "      <td>https://abcnews.go.com/Politics/hesitancy-resu...</td>\n",
              "      <td>HugeDetective0</td>\n",
              "      <td>36</td>\n",
              "      <td>2020-06-01 14:42:50</td>\n",
              "      <td>2375</td>\n",
              "      <td>/r/Coronavirus/comments/gulu7b/57_of_americans...</td>\n",
              "      <td>USA</td>\n",
              "    </tr>\n",
              "    <tr>\n",
              "      <th>65</th>\n",
              "      <td>gucr3h</td>\n",
              "      <td>‘Coronavirus Cooking Survey’ Finds That People...</td>\n",
              "      <td>https://www.goodnewsnetwork.org/people-are-eat...</td>\n",
              "      <td>Barknuckle</td>\n",
              "      <td>97</td>\n",
              "      <td>2020-06-01 03:05:04</td>\n",
              "      <td>688</td>\n",
              "      <td>/r/Coronavirus/comments/gucr3h/coronavirus_coo...</td>\n",
              "      <td>Good News</td>\n",
              "    </tr>\n",
              "    <tr>\n",
              "      <th>262</th>\n",
              "      <td>gul0hp</td>\n",
              "      <td>Daily Discussion Post - June 01 | Questions, i...</td>\n",
              "      <td>https://www.reddit.com/r/Coronavirus/comments/...</td>\n",
              "      <td>AutoModerator</td>\n",
              "      <td>1</td>\n",
              "      <td>2020-06-01 13:52:39</td>\n",
              "      <td>684</td>\n",
              "      <td>/r/Coronavirus/comments/gul0hp/daily_discussio...</td>\n",
              "      <td>NaN</td>\n",
              "    </tr>\n",
              "    <tr>\n",
              "      <th>235</th>\n",
              "      <td>guk32n</td>\n",
              "      <td>The Protests Will Spread the Coronavirus</td>\n",
              "      <td>https://www.theatlantic.com/health/archive/202...</td>\n",
              "      <td>pump_the_brakes_son</td>\n",
              "      <td>1</td>\n",
              "      <td>2020-06-01 12:51:14</td>\n",
              "      <td>437</td>\n",
              "      <td>/r/Coronavirus/comments/guk32n/the_protests_wi...</td>\n",
              "      <td>USA</td>\n",
              "    </tr>\n",
              "    <tr>\n",
              "      <th>332</th>\n",
              "      <td>gun51t</td>\n",
              "      <td>Good news: the US saw a 21% drop in Covid deat...</td>\n",
              "      <td>https://coronachaser.com/?rows=year%2Ccountry%...</td>\n",
              "      <td>shreddit47</td>\n",
              "      <td>70</td>\n",
              "      <td>2020-06-01 15:58:27</td>\n",
              "      <td>414</td>\n",
              "      <td>/r/Coronavirus/comments/gun51t/good_news_the_u...</td>\n",
              "      <td>Good News</td>\n",
              "    </tr>\n",
              "  </tbody>\n",
              "</table>\n",
              "</div>"
            ],
            "text/plain": [
              "    Post ID  ...      Flair\n",
              "290  gulu7b  ...        USA\n",
              "65   gucr3h  ...  Good News\n",
              "262  gul0hp  ...        NaN\n",
              "235  guk32n  ...        USA\n",
              "332  gun51t  ...  Good News\n",
              "\n",
              "[5 rows x 9 columns]"
            ]
          },
          "metadata": {
            "tags": []
          },
          "execution_count": 34
        }
      ]
    },
    {
      "cell_type": "code",
      "metadata": {
        "id": "8c4g7yJ9FHkj",
        "colab_type": "code",
        "colab": {}
      },
      "source": [
        "#produce excel\n",
        "df.to_csv(str(after)+\".csv\",encoding=\"utf-8-sig\")"
      ],
      "execution_count": 35,
      "outputs": []
    },
    {
      "cell_type": "code",
      "metadata": {
        "id": "Onigujz0Bqvn",
        "colab_type": "code",
        "colab": {}
      },
      "source": [
        "gb7i90\n",
        "https://api.pushshift.io/reddit/comment/search/?link_id=crzqmg&limit=1000&size=100&after='+str(after)+'&before='+str(before)\n",
        "https://api.pushshift.io/reddit/search/comment/?q=trump&after=7d&aggs=created_utc&frequency=hour&size=0"
      ],
      "execution_count": null,
      "outputs": []
    },
    {
      "cell_type": "code",
      "metadata": {
        "id": "FqnlupEuCc0s",
        "colab_type": "code",
        "colab": {}
      },
      "source": [
        "# def getPushshiftData(query, after, before, sub):\n",
        "#     url = 'https://api.pushshift.io/reddit/search/submission/?title='+str(query)+'&size=100&after='+str(after)+'&before='+str(before)+'&subreddit='+str(sub)\n",
        "#     print(url)\n",
        "#     r = requests.get(url)\n",
        "#     data = json.loads(r.text)\n",
        "#     return data['data']"
      ],
      "execution_count": null,
      "outputs": []
    },
    {
      "cell_type": "code",
      "metadata": {
        "id": "uALbOBxHDgII",
        "colab_type": "code",
        "colab": {}
      },
      "source": [
        "def getPushshiftComments(PostId):\n",
        "  url='https://api.pushshift.io/reddit/comment/search/?link_id='+str(PostId)+'&limit=100'\n",
        "  print(url)\n",
        "  r = requests.get(url)\n",
        "  comments = json.loads(r.text)\n",
        "  return comments['data']"
      ],
      "execution_count": 68,
      "outputs": []
    },
    {
      "cell_type": "code",
      "metadata": {
        "id": "7RgZNKzvCaam",
        "colab_type": "code",
        "colab": {
          "base_uri": "https://localhost:8080/",
          "height": 70
        },
        "outputId": "559c979b-0b20-469d-e509-1a186652da72"
      },
      "source": [
        "# data=getPushshiftComments('gucr3h')\n",
        "# print(data)"
      ],
      "execution_count": 51,
      "outputs": [
        {
          "output_type": "stream",
          "text": [
            "https://api.pushshift.io/reddit/comment/search/?link_id=gucr3h&limit=100\n",
            "[{'all_awardings': [], 'approved_at_utc': None, 'associated_award': None, 'author': 'jo_annev', 'author_flair_background_color': None, 'author_flair_css_class': None, 'author_flair_richtext': [], 'author_flair_template_id': None, 'author_flair_text': None, 'author_flair_text_color': None, 'author_flair_type': 'text', 'author_fullname': 't2_uwodv', 'author_patreon_flair': False, 'author_premium': False, 'awarders': [], 'banned_at_utc': None, 'body': \"I am happy I wrote it for you, and you deserved it!! And your reply is the kindest thing I've heard in a long time and I can't tell you how much that means to me, especially these days! Heartfelt best wishes to you!!\", 'can_mod_post': False, 'collapsed': False, 'collapsed_because_crowd_control': None, 'collapsed_reason': None, 'created_utc': 1591299224, 'distinguished': None, 'edited': False, 'gildings': {}, 'id': 'fsw62vl', 'is_submitter': False, 'link_id': 't3_gucr3h', 'locked': False, 'no_follow': True, 'parent_id': 't1_fsu0p77', 'permalink': '/r/Coronavirus/comments/gucr3h/coronavirus_cooking_survey_finds_that_people_are/fsw62vl/', 'retrieved_on': 1591304463, 'score': 2, 'send_replies': True, 'stickied': False, 'subreddit': 'Coronavirus', 'subreddit_id': 't5_2x4yx', 'top_awarded_type': None, 'total_awards_received': 0, 'treatment_tags': []}, {'all_awardings': [], 'approved_at_utc': None, 'associated_award': None, 'author': 'ryebreadx', 'author_flair_background_color': None, 'author_flair_css_class': None, 'author_flair_richtext': [], 'author_flair_template_id': None, 'author_flair_text': None, 'author_flair_text_color': None, 'author_flair_type': 'text', 'author_fullname': 't2_2rpkzncj', 'author_patreon_flair': False, 'author_premium': False, 'awarders': [], 'banned_at_utc': None, 'body': 'this is the most wholesome comment i’ve ever received. i hope you and your boyfriend have loads of years of enjoying home-grown veggies together!', 'can_mod_post': False, 'collapsed': False, 'collapsed_because_crowd_control': None, 'collapsed_reason': None, 'created_utc': 1591251327, 'distinguished': None, 'edited': False, 'gildings': {}, 'id': 'fsu0p77', 'is_submitter': False, 'link_id': 't3_gucr3h', 'locked': False, 'no_follow': True, 'parent_id': 't1_fsntnb6', 'permalink': '/r/Coronavirus/comments/gucr3h/coronavirus_cooking_survey_finds_that_people_are/fsu0p77/', 'retrieved_on': 1591255598, 'score': 1, 'send_replies': True, 'stickied': False, 'subreddit': 'Coronavirus', 'subreddit_id': 't5_2x4yx', 'top_awarded_type': None, 'total_awards_received': 0, 'treatment_tags': []}, {'all_awardings': [], 'approved_at_utc': None, 'associated_award': None, 'author': 'AGDude', 'author_flair_background_color': None, 'author_flair_css_class': None, 'author_flair_richtext': [], 'author_flair_template_id': None, 'author_flair_text': None, 'author_flair_text_color': None, 'author_flair_type': 'text', 'author_fullname': 't2_gh0r9', 'author_patreon_flair': False, 'author_premium': False, 'awarders': [], 'banned_at_utc': None, 'body': \"Non-stick doesn't last as long as traditional pans, but it will survive a few years of regular use if you treat it right:\\n\\n* No high heat\\n* Hand-wash only\\n* No metal utensils\\n\\nMind you, non-stick is an awful choice if you own exotic birds.\", 'can_mod_post': False, 'collapsed': False, 'collapsed_because_crowd_control': None, 'collapsed_reason': None, 'created_utc': 1591139252, 'distinguished': None, 'edited': False, 'gildings': {}, 'id': 'fsos2db', 'is_submitter': False, 'link_id': 't3_gucr3h', 'locked': False, 'no_follow': True, 'parent_id': 't1_fsjeh6i', 'permalink': '/r/Coronavirus/comments/gucr3h/coronavirus_cooking_survey_finds_that_people_are/fsos2db/', 'retrieved_on': 1591145901, 'score': 1, 'send_replies': True, 'stickied': False, 'subreddit': 'Coronavirus', 'subreddit_id': 't5_2x4yx', 'top_awarded_type': None, 'total_awards_received': 0, 'treatment_tags': []}, {'all_awardings': [], 'approved_at_utc': None, 'associated_award': None, 'author': 'SpeedySloth51221', 'author_flair_background_color': None, 'author_flair_css_class': None, 'author_flair_richtext': [], 'author_flair_template_id': None, 'author_flair_text': None, 'author_flair_text_color': None, 'author_flair_type': 'text', 'author_fullname': 't2_4e1lu3c7', 'author_patreon_flair': False, 'author_premium': False, 'awarders': [], 'banned_at_utc': None, 'body': 'Haha Glad I could help you to not miss this one!', 'can_mod_post': False, 'collapsed': False, 'collapsed_because_crowd_control': None, 'collapsed_reason': None, 'created_utc': 1591132149, 'distinguished': None, 'edited': False, 'gildings': {}, 'id': 'fsodte8', 'is_submitter': False, 'link_id': 't3_gucr3h', 'locked': False, 'no_follow': True, 'parent_id': 't1_fsocx3h', 'permalink': '/r/Coronavirus/comments/gucr3h/coronavirus_cooking_survey_finds_that_people_are/fsodte8/', 'retrieved_on': 1591137928, 'score': 1, 'send_replies': True, 'stickied': False, 'subreddit': 'Coronavirus', 'subreddit_id': 't5_2x4yx', 'top_awarded_type': None, 'total_awards_received': 0, 'treatment_tags': []}, {'all_awardings': [], 'approved_at_utc': None, 'associated_award': None, 'author': 'theblueberryspirit', 'author_cakeday': True, 'author_flair_background_color': None, 'author_flair_css_class': None, 'author_flair_richtext': [], 'author_flair_template_id': None, 'author_flair_text': None, 'author_flair_text_color': None, 'author_flair_type': 'text', 'author_fullname': 't2_7vk11', 'author_patreon_flair': False, 'author_premium': False, 'awarders': [], 'banned_at_utc': None, 'body': \"Oh, dang, thanks! I think I've missed my Cake Day every year on reddit since I joined haha\", 'can_mod_post': False, 'collapsed': False, 'collapsed_because_crowd_control': None, 'collapsed_reason': None, 'created_utc': 1591131714, 'distinguished': None, 'edited': False, 'gildings': {}, 'id': 'fsocx3h', 'is_submitter': False, 'link_id': 't3_gucr3h', 'locked': False, 'no_follow': True, 'parent_id': 't1_fsnxxg0', 'permalink': '/r/Coronavirus/comments/gucr3h/coronavirus_cooking_survey_finds_that_people_are/fsocx3h/', 'retrieved_on': 1591137411, 'score': 2, 'send_replies': True, 'stickied': False, 'subreddit': 'Coronavirus', 'subreddit_id': 't5_2x4yx', 'top_awarded_type': None, 'total_awards_received': 0, 'treatment_tags': []}, {'all_awardings': [], 'approved_at_utc': None, 'associated_award': None, 'author': 'SpeedySloth51221', 'author_flair_background_color': None, 'author_flair_css_class': None, 'author_flair_richtext': [], 'author_flair_template_id': None, 'author_flair_text': None, 'author_flair_text_color': None, 'author_flair_type': 'text', 'author_fullname': 't2_4e1lu3c7', 'author_patreon_flair': False, 'author_premium': False, 'awarders': [], 'banned_at_utc': None, 'body': 'Happy Cake Day!', 'can_mod_post': False, 'collapsed': False, 'collapsed_because_crowd_control': None, 'collapsed_reason': None, 'created_utc': 1591124707, 'distinguished': None, 'edited': False, 'gildings': {}, 'id': 'fsnxxg0', 'is_submitter': False, 'link_id': 't3_gucr3h', 'locked': False, 'no_follow': True, 'parent_id': 't1_fsjuvh4', 'permalink': '/r/Coronavirus/comments/gucr3h/coronavirus_cooking_survey_finds_that_people_are/fsnxxg0/', 'retrieved_on': 1591128466, 'score': 1, 'send_replies': True, 'stickied': False, 'subreddit': 'Coronavirus', 'subreddit_id': 't5_2x4yx', 'top_awarded_type': None, 'total_awards_received': 0, 'treatment_tags': []}, {'all_awardings': [], 'approved_at_utc': None, 'associated_award': None, 'author': 'jo_annev', 'author_flair_background_color': None, 'author_flair_css_class': None, 'author_flair_richtext': [], 'author_flair_template_id': None, 'author_flair_text': None, 'author_flair_text_color': None, 'author_flair_type': 'text', 'author_fullname': 't2_uwodv', 'author_patreon_flair': False, 'author_premium': False, 'awarders': [], 'banned_at_utc': None, 'body': \"You're so welcome! I definitely started out as the Eva Gabor of this Green Acres relationship, and still don't think I could accomplish much, besides delivering good tea and a good hat and some snacks. However, I couldn't be more grateful for the work that he does, the food that we get, etc. Thank you so much for your comment, I hope it sparks more people to at least start to try any of it! Also, maybe some can work together with their neighbors sharing and learning, and so on! He's actually using a lot more pots this year instead of raised beds, etc. because he finds ways to make soil improve in the pots for the next generations and protects them from too much rain, etc. It's so much more complicated than that but that's just a detail or two of course as you know. It blows my mind what you gardeners can do! And greens have the most nutrients per calorie! Thanks again and best wishes!\", 'can_mod_post': False, 'collapsed': False, 'collapsed_because_crowd_control': None, 'collapsed_reason': None, 'created_utc': 1591122704, 'distinguished': None, 'edited': False, 'gildings': {}, 'id': 'fsntnb6', 'is_submitter': False, 'link_id': 't3_gucr3h', 'locked': False, 'no_follow': True, 'parent_id': 't1_fsidtor', 'permalink': '/r/Coronavirus/comments/gucr3h/coronavirus_cooking_survey_finds_that_people_are/fsntnb6/', 'retrieved_on': 1591125842, 'score': 2, 'send_replies': True, 'stickied': False, 'subreddit': 'Coronavirus', 'subreddit_id': 't5_2x4yx', 'top_awarded_type': None, 'total_awards_received': 0, 'treatment_tags': []}, {'all_awardings': [], 'approved_at_utc': None, 'associated_award': None, 'author': 'lankyleper', 'author_flair_background_color': None, 'author_flair_css_class': None, 'author_flair_richtext': [], 'author_flair_template_id': None, 'author_flair_text': None, 'author_flair_text_color': None, 'author_flair_type': 'text', 'author_fullname': 't2_2iiultq6', 'author_patreon_flair': False, 'author_premium': False, 'awarders': [], 'banned_at_utc': None, 'body': \"I have a block of super sharp cheddar on hand. I'm totally trying the mayo method for lunch tomorrow.\", 'can_mod_post': False, 'collapsed': False, 'collapsed_because_crowd_control': None, 'collapsed_reason': None, 'created_utc': 1591120354, 'distinguished': None, 'edited': False, 'gildings': {}, 'id': 'fsnon2r', 'is_submitter': False, 'link_id': 't3_gucr3h', 'locked': False, 'no_follow': True, 'parent_id': 't1_fsi8xcm', 'permalink': '/r/Coronavirus/comments/gucr3h/coronavirus_cooking_survey_finds_that_people_are/fsnon2r/', 'retrieved_on': 1591122789, 'score': 1, 'send_replies': True, 'stickied': False, 'subreddit': 'Coronavirus', 'subreddit_id': 't5_2x4yx', 'top_awarded_type': None, 'total_awards_received': 0, 'treatment_tags': []}, {'all_awardings': [], 'approved_at_utc': None, 'associated_award': None, 'author': 'grendus', 'author_flair_background_color': None, 'author_flair_css_class': None, 'author_flair_richtext': [], 'author_flair_template_id': None, 'author_flair_text': None, 'author_flair_text_color': None, 'author_flair_type': 'text', 'author_fullname': 't2_ef9kb', 'author_patreon_flair': False, 'author_premium': False, 'awarders': [], 'banned_at_utc': None, 'body': 'Care to elaborate?', 'can_mod_post': False, 'collapsed': False, 'collapsed_because_crowd_control': None, 'collapsed_reason': None, 'created_utc': 1591107242, 'distinguished': None, 'edited': False, 'gildings': {}, 'id': 'fsmxso4', 'is_submitter': False, 'link_id': 't3_gucr3h', 'locked': False, 'no_follow': True, 'parent_id': 't1_fsjt35y', 'permalink': '/r/Coronavirus/comments/gucr3h/coronavirus_cooking_survey_finds_that_people_are/fsmxso4/', 'retrieved_on': 1591107245, 'score': 1, 'send_replies': True, 'stickied': False, 'subreddit': 'Coronavirus', 'subreddit_id': 't5_2x4yx', 'top_awarded_type': None, 'total_awards_received': 0, 'treatment_tags': []}, {'all_awardings': [], 'approved_at_utc': None, 'associated_award': None, 'author': '[deleted]', 'author_flair_background_color': '', 'author_flair_css_class': None, 'author_flair_template_id': None, 'author_flair_text': None, 'author_flair_text_color': 'dark', 'awarders': [], 'banned_at_utc': None, 'body': '[removed]', 'can_mod_post': False, 'collapsed': True, 'collapsed_because_crowd_control': None, 'collapsed_reason': None, 'created_utc': 1591092610, 'distinguished': None, 'edited': False, 'gildings': {}, 'id': 'fsmdw03', 'is_submitter': False, 'link_id': 't3_gucr3h', 'locked': False, 'no_follow': True, 'parent_id': 't1_fsi6xzp', 'permalink': '/r/Coronavirus/comments/gucr3h/coronavirus_cooking_survey_finds_that_people_are/fsmdw03/', 'retrieved_on': 1591092612, 'score': 1, 'send_replies': True, 'stickied': False, 'subreddit': 'Coronavirus', 'subreddit_id': 't5_2x4yx', 'top_awarded_type': None, 'total_awards_received': 0, 'treatment_tags': []}, {'all_awardings': [], 'approved_at_utc': None, 'associated_award': None, 'author': 'Socky_McPuppet', 'author_flair_background_color': None, 'author_flair_css_class': None, 'author_flair_richtext': [], 'author_flair_template_id': None, 'author_flair_text': None, 'author_flair_text_color': None, 'author_flair_type': 'text', 'author_fullname': 't2_6blo2', 'author_patreon_flair': False, 'author_premium': False, 'awarders': [], 'banned_at_utc': None, 'body': 'What can I say? I have expensive tastes and a sophisticated palate.', 'can_mod_post': False, 'collapsed': False, 'collapsed_because_crowd_control': None, 'collapsed_reason': None, 'created_utc': 1591090438, 'distinguished': None, 'edited': False, 'gildings': {}, 'id': 'fsmbpbi', 'is_submitter': False, 'link_id': 't3_gucr3h', 'locked': False, 'no_follow': True, 'parent_id': 't1_fsjb03d', 'permalink': '/r/Coronavirus/comments/gucr3h/coronavirus_cooking_survey_finds_that_people_are/fsmbpbi/', 'retrieved_on': 1591090439, 'score': 1, 'send_replies': True, 'stickied': False, 'subreddit': 'Coronavirus', 'subreddit_id': 't5_2x4yx', 'top_awarded_type': None, 'total_awards_received': 0, 'treatment_tags': []}, {'all_awardings': [], 'approved_at_utc': None, 'associated_award': None, 'author': 'pupper4793762', 'author_flair_background_color': None, 'author_flair_css_class': None, 'author_flair_richtext': [], 'author_flair_template_id': None, 'author_flair_text': None, 'author_flair_text_color': None, 'author_flair_type': 'text', 'author_fullname': 't2_56021l8i', 'author_patreon_flair': False, 'author_premium': False, 'awarders': [], 'banned_at_utc': None, 'body': \"Same, I miss my scheduled group fitness classes. I didn't realize how much of my week was built around yoga or zumba or bodypump start times. \\n\\nNow there's no reason to go to bed on time, nothing to be on time to, nothing to look forward to, no reason to put on makeup or do your hair, barely even reason to get dressed.\\n\\nThe riots put my anxiety through the roof, I'm struggling to concentrate this last week. It feels like we'll be living this way, plus economic consequences and cycles of protest, for YEARS.\\n\\nBut I am eating healthier so, there's that.\", 'can_mod_post': False, 'collapsed': False, 'collapsed_because_crowd_control': None, 'collapsed_reason': None, 'created_utc': 1591069714, 'distinguished': None, 'edited': False, 'gildings': {}, 'id': 'fslluk3', 'is_submitter': False, 'link_id': 't3_gucr3h', 'locked': False, 'no_follow': True, 'parent_id': 't1_fsisjd4', 'permalink': '/r/Coronavirus/comments/gucr3h/coronavirus_cooking_survey_finds_that_people_are/fslluk3/', 'retrieved_on': 1591073672, 'score': 1, 'send_replies': True, 'stickied': False, 'subreddit': 'Coronavirus', 'subreddit_id': 't5_2x4yx', 'top_awarded_type': None, 'total_awards_received': 0, 'treatment_tags': []}, {'all_awardings': [], 'approved_at_utc': None, 'associated_award': None, 'author': 'BasicCaucasianSecks', 'author_flair_background_color': None, 'author_flair_css_class': None, 'author_flair_richtext': [], 'author_flair_template_id': None, 'author_flair_text': None, 'author_flair_text_color': None, 'author_flair_type': 'text', 'author_fullname': 't2_5d2eaqz7', 'author_patreon_flair': False, 'author_premium': False, 'awarders': [], 'banned_at_utc': None, 'body': \"They obviously didn't poll me. I'm sitting here eating nacho cheese Doritos.\", 'can_mod_post': False, 'collapsed': False, 'collapsed_because_crowd_control': None, 'collapsed_reason': None, 'created_utc': 1591068826, 'distinguished': None, 'edited': False, 'gildings': {}, 'id': 'fslke2r', 'is_submitter': False, 'link_id': 't3_gucr3h', 'locked': False, 'no_follow': True, 'parent_id': 't3_gucr3h', 'permalink': '/r/Coronavirus/comments/gucr3h/coronavirus_cooking_survey_finds_that_people_are/fslke2r/', 'retrieved_on': 1591072926, 'score': 1, 'send_replies': True, 'stickied': False, 'subreddit': 'Coronavirus', 'subreddit_id': 't5_2x4yx', 'top_awarded_type': None, 'total_awards_received': 0, 'treatment_tags': []}, {'all_awardings': [], 'approved_at_utc': None, 'associated_award': None, 'author': 'Emgmin', 'author_flair_background_color': None, 'author_flair_css_class': None, 'author_flair_richtext': [], 'author_flair_template_id': None, 'author_flair_text': None, 'author_flair_text_color': None, 'author_flair_type': 'text', 'author_fullname': 't2_d32di', 'author_patreon_flair': False, 'author_premium': False, 'awarders': [], 'banned_at_utc': None, 'body': \"Lol the five pounds I've gained would beg to differ\", 'can_mod_post': False, 'collapsed': False, 'collapsed_because_crowd_control': None, 'collapsed_reason': None, 'created_utc': 1591065121, 'distinguished': None, 'edited': False, 'gildings': {}, 'id': 'fsle6rc', 'is_submitter': False, 'link_id': 't3_gucr3h', 'locked': False, 'no_follow': True, 'parent_id': 't3_gucr3h', 'permalink': '/r/Coronavirus/comments/gucr3h/coronavirus_cooking_survey_finds_that_people_are/fsle6rc/', 'retrieved_on': 1591069698, 'score': 1, 'send_replies': True, 'stickied': False, 'subreddit': 'Coronavirus', 'subreddit_id': 't5_2x4yx', 'top_awarded_type': None, 'total_awards_received': 0, 'treatment_tags': []}, {'all_awardings': [], 'approved_at_utc': None, 'associated_award': None, 'author': 'Pyro_The_Gyro', 'author_flair_background_color': None, 'author_flair_css_class': None, 'author_flair_richtext': [], 'author_flair_template_id': None, 'author_flair_text': None, 'author_flair_text_color': None, 'author_flair_type': 'text', 'author_fullname': 't2_5j4jakd5', 'author_patreon_flair': False, 'author_premium': False, 'awarders': [], 'banned_at_utc': None, 'body': 'I eat my entire bag of Cheetos and Hagan Daz ice cream TYVM.', 'can_mod_post': False, 'collapsed': False, 'collapsed_because_crowd_control': None, 'collapsed_reason': None, 'created_utc': 1591063701, 'distinguished': None, 'edited': False, 'gildings': {}, 'id': 'fslbqry', 'is_submitter': False, 'link_id': 't3_gucr3h', 'locked': False, 'no_follow': True, 'parent_id': 't3_gucr3h', 'permalink': '/r/Coronavirus/comments/gucr3h/coronavirus_cooking_survey_finds_that_people_are/fslbqry/', 'retrieved_on': 1591068415, 'score': 1, 'send_replies': True, 'stickied': False, 'subreddit': 'Coronavirus', 'subreddit_id': 't5_2x4yx', 'top_awarded_type': None, 'total_awards_received': 0, 'treatment_tags': []}, {'all_awardings': [], 'approved_at_utc': None, 'associated_award': None, 'author': 'Divorced_Ghost', 'author_flair_background_color': None, 'author_flair_css_class': None, 'author_flair_richtext': [], 'author_flair_template_id': None, 'author_flair_text': None, 'author_flair_text_color': None, 'author_flair_type': 'text', 'author_fullname': 't2_2r8zuwvn', 'author_patreon_flair': False, 'author_premium': False, 'awarders': [], 'banned_at_utc': None, 'body': \"Almost the same deal in brasil. In the end it depends on your company's plan with the ticket provider. Most company gives you the meal ticket, some lets you choose between meal and food ticket and a few gives you both tickets.\\n\\n\\n\\nThe meal ticket is restaurant only and the food is grocery only. Groceries will only accept meal when they have a restaurant inside, but still its for restaurant products only (you cant buy a broom with meal ticket)\", 'can_mod_post': False, 'collapsed': False, 'collapsed_because_crowd_control': None, 'collapsed_reason': None, 'created_utc': 1591063464, 'distinguished': None, 'edited': False, 'gildings': {}, 'id': 'fslbbs6', 'is_submitter': False, 'link_id': 't3_gucr3h', 'locked': False, 'no_follow': True, 'parent_id': 't1_fsi2a8h', 'permalink': '/r/Coronavirus/comments/gucr3h/coronavirus_cooking_survey_finds_that_people_are/fslbbs6/', 'retrieved_on': 1591068200, 'score': 1, 'send_replies': True, 'stickied': False, 'subreddit': 'Coronavirus', 'subreddit_id': 't5_2x4yx', 'top_awarded_type': None, 'total_awards_received': 0, 'treatment_tags': []}, {'all_awardings': [], 'approved_at_utc': None, 'associated_award': None, 'author': 'TinkerTasker', 'author_flair_background_color': None, 'author_flair_css_class': None, 'author_flair_richtext': [], 'author_flair_template_id': None, 'author_flair_text': None, 'author_flair_text_color': None, 'author_flair_type': 'text', 'author_fullname': 't2_560fhdgf', 'author_patreon_flair': False, 'author_premium': False, 'awarders': [], 'banned_at_utc': None, 'body': \"I'm sure if I went to a farmers market all my issues would be solved\", 'can_mod_post': False, 'collapsed': False, 'collapsed_because_crowd_control': None, 'collapsed_reason': None, 'created_utc': 1591062962, 'distinguished': None, 'edited': False, 'gildings': {}, 'id': 'fslafsc', 'is_submitter': False, 'link_id': 't3_gucr3h', 'locked': False, 'no_follow': True, 'parent_id': 't1_fslae3c', 'permalink': '/r/Coronavirus/comments/gucr3h/coronavirus_cooking_survey_finds_that_people_are/fslafsc/', 'retrieved_on': 1591067735, 'score': 1, 'send_replies': True, 'stickied': False, 'subreddit': 'Coronavirus', 'subreddit_id': 't5_2x4yx', 'top_awarded_type': None, 'total_awards_received': 0, 'treatment_tags': []}, {'all_awardings': [], 'approved_at_utc': None, 'associated_award': None, 'author': 'TinkerTasker', 'author_flair_background_color': None, 'author_flair_css_class': None, 'author_flair_richtext': [], 'author_flair_template_id': None, 'author_flair_text': None, 'author_flair_text_color': None, 'author_flair_type': 'text', 'author_fullname': 't2_560fhdgf', 'author_patreon_flair': False, 'author_premium': False, 'awarders': [], 'banned_at_utc': None, 'body': \"I do grocery pick up, It has told me out of stock on bananas, mushrooms, spinach, and I have not been given them on my orders sometimes however next week they will have them. I'm sure different areas will be affected differently. I didnt get any meat once I dont go into stores at all but somone else I know does and they told me there was none to buy, however I placed an order  a few days later and got some. Produce is here just not as consistently as it was in my area.\", 'can_mod_post': False, 'collapsed': False, 'collapsed_because_crowd_control': None, 'collapsed_reason': None, 'created_utc': 1591062936, 'distinguished': None, 'edited': False, 'gildings': {}, 'id': 'fslae3c', 'is_submitter': False, 'link_id': 't3_gucr3h', 'locked': False, 'no_follow': True, 'parent_id': 't1_fsia48m', 'permalink': '/r/Coronavirus/comments/gucr3h/coronavirus_cooking_survey_finds_that_people_are/fslae3c/', 'retrieved_on': 1591067712, 'score': 1, 'send_replies': True, 'stickied': False, 'subreddit': 'Coronavirus', 'subreddit_id': 't5_2x4yx', 'top_awarded_type': None, 'total_awards_received': 0, 'treatment_tags': []}, {'all_awardings': [], 'approved_at_utc': None, 'associated_award': None, 'author': 'TareXmd', 'author_flair_background_color': None, 'author_flair_css_class': None, 'author_flair_richtext': [], 'author_flair_template_id': None, 'author_flair_text': None, 'author_flair_text_color': None, 'author_flair_type': 'text', 'author_fullname': 't2_5iplk', 'author_patreon_flair': False, 'author_premium': False, 'awarders': [], 'banned_at_utc': None, 'body': \"That pizza is made of white carbs that are processed to make you hungrier after a bit. Try to get whole grain pizza so you don't feel as hungry as fast.\", 'can_mod_post': False, 'collapsed': False, 'collapsed_because_crowd_control': None, 'collapsed_reason': None, 'created_utc': 1591061545, 'distinguished': None, 'edited': False, 'gildings': {}, 'id': 'fsl7wtj', 'is_submitter': False, 'link_id': 't3_gucr3h', 'locked': False, 'no_follow': True, 'parent_id': 't1_fshvgtn', 'permalink': '/r/Coronavirus/comments/gucr3h/coronavirus_cooking_survey_finds_that_people_are/fsl7wtj/', 'retrieved_on': 1591066400, 'score': 1, 'send_replies': True, 'stickied': False, 'subreddit': 'Coronavirus', 'subreddit_id': 't5_2x4yx', 'top_awarded_type': None, 'total_awards_received': 0, 'treatment_tags': []}, {'all_awardings': [], 'approved_at_utc': None, 'associated_award': None, 'author': 'Hohoholyshit15', 'author_flair_background_color': None, 'author_flair_css_class': None, 'author_flair_richtext': [], 'author_flair_template_id': None, 'author_flair_text': None, 'author_flair_text_color': None, 'author_flair_type': 'text', 'author_fullname': 't2_k875m', 'author_patreon_flair': False, 'author_premium': False, 'awarders': [], 'banned_at_utc': None, 'body': 'Not me.', 'can_mod_post': False, 'collapsed': False, 'collapsed_because_crowd_control': None, 'collapsed_reason': None, 'created_utc': 1591061510, 'distinguished': None, 'edited': False, 'gildings': {}, 'id': 'fsl7uk0', 'is_submitter': False, 'link_id': 't3_gucr3h', 'locked': False, 'no_follow': True, 'parent_id': 't3_gucr3h', 'permalink': '/r/Coronavirus/comments/gucr3h/coronavirus_cooking_survey_finds_that_people_are/fsl7uk0/', 'retrieved_on': 1591066367, 'score': 1, 'send_replies': True, 'stickied': False, 'subreddit': 'Coronavirus', 'subreddit_id': 't5_2x4yx', 'top_awarded_type': None, 'total_awards_received': 0, 'treatment_tags': []}, {'all_awardings': [], 'approved_at_utc': None, 'associated_award': None, 'author': 'acute-almond', 'author_flair_background_color': None, 'author_flair_css_class': None, 'author_flair_richtext': [], 'author_flair_template_id': None, 'author_flair_text': None, 'author_flair_text_color': None, 'author_flair_type': 'text', 'author_fullname': 't2_i3iow39', 'author_patreon_flair': False, 'author_premium': False, 'awarders': [], 'banned_at_utc': None, 'body': 'Not me!', 'can_mod_post': False, 'collapsed': False, 'collapsed_because_crowd_control': None, 'collapsed_reason': None, 'created_utc': 1591061076, 'distinguished': None, 'edited': False, 'gildings': {}, 'id': 'fsl72ez', 'is_submitter': False, 'link_id': 't3_gucr3h', 'locked': False, 'no_follow': True, 'parent_id': 't3_gucr3h', 'permalink': '/r/Coronavirus/comments/gucr3h/coronavirus_cooking_survey_finds_that_people_are/fsl72ez/', 'retrieved_on': 1591065953, 'score': 1, 'send_replies': True, 'stickied': False, 'subreddit': 'Coronavirus', 'subreddit_id': 't5_2x4yx', 'top_awarded_type': None, 'total_awards_received': 0, 'treatment_tags': []}, {'all_awardings': [], 'approved_at_utc': None, 'associated_award': None, 'author': 'abdl_hornist', 'author_flair_background_color': None, 'author_flair_css_class': None, 'author_flair_richtext': [], 'author_flair_template_id': None, 'author_flair_text': None, 'author_flair_text_color': None, 'author_flair_type': 'text', 'author_fullname': 't2_yuiwr', 'author_patreon_flair': False, 'author_premium': False, 'awarders': [], 'banned_at_utc': None, 'body': 'Nah, I just glob in on there :) :) :)', 'can_mod_post': False, 'collapsed': False, 'collapsed_because_crowd_control': None, 'collapsed_reason': None, 'created_utc': 1591058709, 'distinguished': None, 'edited': False, 'gildings': {}, 'id': 'fsl2ugv', 'is_submitter': False, 'link_id': 't3_gucr3h', 'locked': False, 'no_follow': True, 'parent_id': 't1_fsie7er', 'permalink': '/r/Coronavirus/comments/gucr3h/coronavirus_cooking_survey_finds_that_people_are/fsl2ugv/', 'retrieved_on': 1591063700, 'score': 1, 'send_replies': True, 'stickied': False, 'subreddit': 'Coronavirus', 'subreddit_id': 't5_2x4yx', 'top_awarded_type': None, 'total_awards_received': 0, 'treatment_tags': []}, {'all_awardings': [], 'approved_at_utc': None, 'associated_award': None, 'author': 'mixreality', 'author_flair_background_color': None, 'author_flair_css_class': None, 'author_flair_richtext': [], 'author_flair_template_id': None, 'author_flair_text': None, 'author_flair_text_color': None, 'author_flair_type': 'text', 'author_fullname': 't2_we4lx', 'author_patreon_flair': False, 'author_premium': False, 'awarders': [], 'banned_at_utc': None, 'body': 'Insta pot is going right now. \\n\\nI always make too much and freeze individual portions I can heat up later. Also just chop up the rest of whatever veggies I have before they go bad and freeze them for a future insta pot session.', 'can_mod_post': False, 'collapsed': False, 'collapsed_because_crowd_control': None, 'collapsed_reason': None, 'created_utc': 1591058121, 'distinguished': None, 'edited': False, 'gildings': {}, 'id': 'fsl1s18', 'is_submitter': False, 'link_id': 't3_gucr3h', 'locked': False, 'no_follow': True, 'parent_id': 't1_fsi7ni9', 'permalink': '/r/Coronavirus/comments/gucr3h/coronavirus_cooking_survey_finds_that_people_are/fsl1s18/', 'retrieved_on': 1591063123, 'score': 1, 'send_replies': True, 'stickied': False, 'subreddit': 'Coronavirus', 'subreddit_id': 't5_2x4yx', 'top_awarded_type': None, 'total_awards_received': 0, 'treatment_tags': []}, {'all_awardings': [], 'approved_at_utc': None, 'associated_award': None, 'author': 'nevertimeatall', 'author_flair_background_color': None, 'author_flair_css_class': None, 'author_flair_richtext': [], 'author_flair_template_id': None, 'author_flair_text': None, 'author_flair_text_color': None, 'author_flair_type': 'text', 'author_fullname': 't2_526qyta5', 'author_patreon_flair': False, 'author_premium': False, 'awarders': [], 'banned_at_utc': None, 'body': 'That genuinely looks like pure shit', 'can_mod_post': False, 'collapsed': False, 'collapsed_because_crowd_control': None, 'collapsed_reason': None, 'created_utc': 1591057105, 'distinguished': None, 'edited': False, 'gildings': {}, 'id': 'fskzxra', 'is_submitter': False, 'link_id': 't3_gucr3h', 'locked': False, 'no_follow': True, 'parent_id': 't3_gucr3h', 'permalink': '/r/Coronavirus/comments/gucr3h/coronavirus_cooking_survey_finds_that_people_are/fskzxra/', 'retrieved_on': 1591062134, 'score': 1, 'send_replies': True, 'stickied': False, 'subreddit': 'Coronavirus', 'subreddit_id': 't5_2x4yx', 'top_awarded_type': None, 'total_awards_received': 0, 'treatment_tags': []}, {'all_awardings': [], 'approved_at_utc': None, 'associated_award': None, 'author': 'bwinsy', 'author_flair_background_color': None, 'author_flair_css_class': None, 'author_flair_richtext': [], 'author_flair_template_id': None, 'author_flair_text': None, 'author_flair_text_color': None, 'author_flair_type': 'text', 'author_fullname': 't2_zm4qa', 'author_patreon_flair': False, 'author_premium': True, 'awarders': [], 'banned_at_utc': None, 'body': 'Yeah, I same here. I’m making an effort to cut down on ordering fast food and buy more groceries. I’ve scheduled a delivery of groceries earlier today.', 'can_mod_post': False, 'collapsed': False, 'collapsed_because_crowd_control': None, 'collapsed_reason': None, 'created_utc': 1591055991, 'distinguished': None, 'edited': False, 'gildings': {}, 'id': 'fskxx6s', 'is_submitter': False, 'link_id': 't3_gucr3h', 'locked': False, 'no_follow': True, 'parent_id': 't1_fskxfag', 'permalink': '/r/Coronavirus/comments/gucr3h/coronavirus_cooking_survey_finds_that_people_are/fskxx6s/', 'retrieved_on': 1591061036, 'score': 1, 'send_replies': True, 'stickied': False, 'subreddit': 'Coronavirus', 'subreddit_id': 't5_2x4yx', 'top_awarded_type': None, 'total_awards_received': 0, 'treatment_tags': []}, {'all_awardings': [], 'approved_at_utc': None, 'associated_award': None, 'author': 'shadowpanda1248', 'author_flair_background_color': None, 'author_flair_css_class': None, 'author_flair_richtext': [], 'author_flair_template_id': None, 'author_flair_text': None, 'author_flair_text_color': None, 'author_flair_type': 'text', 'author_fullname': 't2_3flhrv7x', 'author_patreon_flair': False, 'author_premium': False, 'awarders': [], 'banned_at_utc': None, 'body': 'Because people are poor and out of jobs so cant afford the luxury of buying McDonalds and steaks. Also meat plants are closing, we want to be grease stained but only have vegetables left to eat!!', 'can_mod_post': False, 'collapsed': False, 'collapsed_because_crowd_control': None, 'collapsed_reason': None, 'created_utc': 1591055967, 'distinguished': None, 'edited': False, 'gildings': {}, 'id': 'fskxvlm', 'is_submitter': False, 'link_id': 't3_gucr3h', 'locked': False, 'no_follow': True, 'parent_id': 't3_gucr3h', 'permalink': '/r/Coronavirus/comments/gucr3h/coronavirus_cooking_survey_finds_that_people_are/fskxvlm/', 'retrieved_on': 1591061011, 'score': 1, 'send_replies': True, 'stickied': False, 'subreddit': 'Coronavirus', 'subreddit_id': 't5_2x4yx', 'top_awarded_type': None, 'total_awards_received': 0, 'treatment_tags': []}, {'all_awardings': [], 'approved_at_utc': None, 'associated_award': None, 'author': 'incognixo', 'author_flair_background_color': None, 'author_flair_css_class': None, 'author_flair_richtext': [], 'author_flair_template_id': None, 'author_flair_text': None, 'author_flair_text_color': None, 'author_flair_type': 'text', 'author_fullname': 't2_16bbhj', 'author_patreon_flair': False, 'author_premium': False, 'awarders': [], 'banned_at_utc': None, 'body': 'It hasn’t been my BFF to my wallet.', 'can_mod_post': False, 'collapsed': False, 'collapsed_because_crowd_control': None, 'collapsed_reason': None, 'created_utc': 1591055720, 'distinguished': None, 'edited': False, 'gildings': {}, 'id': 'fskxfag', 'is_submitter': False, 'link_id': 't3_gucr3h', 'locked': False, 'no_follow': True, 'parent_id': 't1_fsjzsh8', 'permalink': '/r/Coronavirus/comments/gucr3h/coronavirus_cooking_survey_finds_that_people_are/fskxfag/', 'retrieved_on': 1591060761, 'score': 1, 'send_replies': True, 'stickied': False, 'subreddit': 'Coronavirus', 'subreddit_id': 't5_2x4yx', 'top_awarded_type': None, 'total_awards_received': 0, 'treatment_tags': []}, {'all_awardings': [], 'approved_at_utc': None, 'associated_award': None, 'author': 'IrishRose21', 'author_flair_background_color': None, 'author_flair_css_class': None, 'author_flair_richtext': [], 'author_flair_template_id': None, 'author_flair_text': None, 'author_flair_text_color': None, 'author_flair_type': 'text', 'author_fullname': 't2_5vfowx57', 'author_patreon_flair': False, 'author_premium': False, 'awarders': [], 'banned_at_utc': None, 'body': 'Yup. Like, I don\\'t even know anyone that feeds their kids chicken nuggets, let alone frozen chicken nuggets! How has this become a thing everyone assumes kids get fed anyway? I always found it weird cause last time I thought I\\'d get them and \"treat\" the kids time them they all groaned like I was forcing them to eat liver, whichbironically they love, lol.', 'can_mod_post': False, 'collapsed': False, 'collapsed_because_crowd_control': None, 'collapsed_reason': None, 'created_utc': 1591055144, 'distinguished': None, 'edited': False, 'gildings': {}, 'id': 'fskwdda', 'is_submitter': False, 'link_id': 't3_gucr3h', 'locked': False, 'no_follow': True, 'parent_id': 't1_fsjh3d9', 'permalink': '/r/Coronavirus/comments/gucr3h/coronavirus_cooking_survey_finds_that_people_are/fskwdda/', 'retrieved_on': 1591060186, 'score': 1, 'send_replies': True, 'stickied': False, 'subreddit': 'Coronavirus', 'subreddit_id': 't5_2x4yx', 'top_awarded_type': None, 'total_awards_received': 0, 'treatment_tags': []}, {'all_awardings': [], 'approved_at_utc': None, 'associated_award': None, 'author': 'IrishRose21', 'author_flair_background_color': None, 'author_flair_css_class': None, 'author_flair_richtext': [], 'author_flair_template_id': None, 'author_flair_text': None, 'author_flair_text_color': None, 'author_flair_type': 'text', 'author_fullname': 't2_5vfowx57', 'author_patreon_flair': False, 'author_premium': False, 'awarders': [], 'banned_at_utc': None, 'body': 'This made me laugh way too hard!!!', 'can_mod_post': False, 'collapsed': False, 'collapsed_because_crowd_control': None, 'collapsed_reason': None, 'created_utc': 1591054921, 'distinguished': None, 'edited': False, 'gildings': {}, 'id': 'fskvyn0', 'is_submitter': False, 'link_id': 't3_gucr3h', 'locked': False, 'no_follow': True, 'parent_id': 't1_fsi8bux', 'permalink': '/r/Coronavirus/comments/gucr3h/coronavirus_cooking_survey_finds_that_people_are/fskvyn0/', 'retrieved_on': 1591059967, 'score': 2, 'send_replies': True, 'stickied': False, 'subreddit': 'Coronavirus', 'subreddit_id': 't5_2x4yx', 'top_awarded_type': None, 'total_awards_received': 0, 'treatment_tags': []}, {'all_awardings': [], 'approved_at_utc': None, 'associated_award': None, 'author': 'IrishRose21', 'author_flair_background_color': None, 'author_flair_css_class': None, 'author_flair_richtext': [], 'author_flair_template_id': None, 'author_flair_text': None, 'author_flair_text_color': None, 'author_flair_type': 'text', 'author_fullname': 't2_5vfowx57', 'author_patreon_flair': False, 'author_premium': False, 'awarders': [], 'banned_at_utc': None, 'body': \"My kids eat anything. They are not picky eaters at all. All four of them will eat 99% of whatever food is out in front of them. And if they haven't seen it before they don't care either. They will try anything. I exposed them to every food I could think of when toddlers. Or maybe I just got lucky. I am the worlds pickiest eater. I fed my kids stuff I wouldn't touch with a ten foot pole. But I also have medical issues and making meals two or three times a day when I wasn't prepared for it at all got to be too exhausting too quick. Normally our diet is 90% from scratch. With four kids you have to make food from scratch because on top of being healthier its cheaper. Hell, I make my own noodles sometimes when funds get low. We have 5 gallon buckets of flour, sugar, rice, and various other things because buying in bulk when things are on sale is cheaper in the long run when you are feeding an army as well. I am embarrassed at how much food with preservatives has entered my house over the last month. I cringe when I see my kids eating anything from a box, whether frozen or dry. I think last year we had like 5 boxes of mac n cheese enter the house. All year! I'm too ashamed to admit how many I bought this month! Or Ramen. Or frozen pizza! Frankly, its depressing and demoralizing. So picky eating isn't an issue. Mom being exhausted is the issue. Add in this freaky weather where we go from snowing to over 80° in 48 hours and my migraines are kicking my ass. Spring this year has been like some sort of torture experiment by mother nature.\", 'can_mod_post': False, 'collapsed': False, 'collapsed_because_crowd_control': None, 'collapsed_reason': None, 'created_utc': 1591054747, 'distinguished': None, 'edited': False, 'gildings': {}, 'id': 'fskvn6y', 'is_submitter': False, 'link_id': 't3_gucr3h', 'locked': False, 'no_follow': True, 'parent_id': 't1_fsjg3cy', 'permalink': '/r/Coronavirus/comments/gucr3h/coronavirus_cooking_survey_finds_that_people_are/fskvn6y/', 'retrieved_on': 1591059793, 'score': 1, 'send_replies': True, 'stickied': False, 'subreddit': 'Coronavirus', 'subreddit_id': 't5_2x4yx', 'top_awarded_type': None, 'total_awards_received': 0, 'treatment_tags': []}, {'all_awardings': [], 'approved_at_utc': None, 'associated_award': None, 'author': 'damnatio_memoriae', 'author_flair_background_color': None, 'author_flair_css_class': None, 'author_flair_richtext': [], 'author_flair_template_id': None, 'author_flair_text': None, 'author_flair_text_color': None, 'author_flair_type': 'text', 'author_fullname': 't2_4akvj', 'author_patreon_flair': False, 'author_premium': False, 'awarders': [], 'banned_at_utc': None, 'body': 'little soggy', 'can_mod_post': False, 'collapsed': False, 'collapsed_because_crowd_control': None, 'collapsed_reason': None, 'created_utc': 1591054314, 'distinguished': None, 'edited': False, 'gildings': {}, 'id': 'fskuuji', 'is_submitter': False, 'link_id': 't3_gucr3h', 'locked': False, 'no_follow': True, 'parent_id': 't1_fsivy1q', 'permalink': '/r/Coronavirus/comments/gucr3h/coronavirus_cooking_survey_finds_that_people_are/fskuuji/', 'retrieved_on': 1591059363, 'score': 1, 'send_replies': True, 'stickied': False, 'subreddit': 'Coronavirus', 'subreddit_id': 't5_2x4yx', 'top_awarded_type': None, 'total_awards_received': 0, 'treatment_tags': []}, {'all_awardings': [], 'approved_at_utc': None, 'associated_award': None, 'author': 'Vulcade', 'author_flair_background_color': None, 'author_flair_css_class': None, 'author_flair_richtext': [], 'author_flair_template_id': None, 'author_flair_text': None, 'author_flair_text_color': None, 'author_flair_type': 'text', 'author_fullname': 't2_4y3724rv', 'author_patreon_flair': False, 'author_premium': False, 'awarders': [], 'banned_at_utc': None, 'body': 'I\\'m curious as to your source for \"most B12 in soil is pseudo B-12\". The same bacteria which produce B12 in soil (among other places) also produce the bioavailable B12 in the guts of herbivores, and are used industrially to produce B12 supplements. Perhaps you\\'re getting it confused with algae and seaweed, which indeed have pseudo-B12.\\n\\nWhat I meant is that, even when you hand-wash your produce, there are often still traces of dirt. Modern hygiene practices are far more rigorous. Such bacteria are also present in feces and natural water sources. There is therefore ample opportunity to ingest this form of B12 when we live close to nature. Whether it\\'s enough, I don\\'t know. Fermented foods however, according to this (https://www.ncbi.nlm.nih.gov/pmc/articles/PMC4042564/) potentially contain well above the RDI.\\n\\nSupplements are recommended because they\\'re easy and reliable. Not all varieties of a particular food are fermented with the appropriate bacteria, for example, and there probably isn\\'t enough evidence to ethically recommend these sources. As stated before I\\'m not interested in how \"natural\" a vegan diet is, I think we are naturally omnivorous, it\\'s just fallacious to claim it\\'s a \"bad diet\" just because it lacks such a rare nutrient as B12, this being a weak claim to begin with because evidence suggests the contrary.', 'can_mod_post': False, 'collapsed': False, 'collapsed_because_crowd_control': None, 'collapsed_reason': None, 'created_utc': 1591053058, 'distinguished': None, 'edited': False, 'gildings': {}, 'id': 'fsksi5n', 'is_submitter': False, 'link_id': 't3_gucr3h', 'locked': False, 'no_follow': True, 'parent_id': 't1_fskbg8d', 'permalink': '/r/Coronavirus/comments/gucr3h/coronavirus_cooking_survey_finds_that_people_are/fsksi5n/', 'retrieved_on': 1591058081, 'score': 1, 'send_replies': True, 'stickied': False, 'subreddit': 'Coronavirus', 'subreddit_id': 't5_2x4yx', 'top_awarded_type': None, 'total_awards_received': 0, 'treatment_tags': []}, {'all_awardings': [], 'approved_at_utc': None, 'associated_award': None, 'author': '[deleted]', 'author_flair_background_color': '', 'author_flair_css_class': None, 'author_flair_template_id': None, 'author_flair_text': None, 'author_flair_text_color': 'dark', 'awarders': [], 'banned_at_utc': None, 'body': '[removed]', 'can_mod_post': False, 'collapsed': True, 'collapsed_because_crowd_control': None, 'collapsed_reason': None, 'created_utc': 1591051511, 'distinguished': None, 'edited': False, 'gildings': {}, 'id': 'fskpl74', 'is_submitter': False, 'link_id': 't3_gucr3h', 'locked': False, 'no_follow': True, 'parent_id': 't3_gucr3h', 'permalink': '/r/Coronavirus/comments/gucr3h/coronavirus_cooking_survey_finds_that_people_are/fskpl74/', 'retrieved_on': 1591056473, 'score': 1, 'send_replies': True, 'stickied': False, 'subreddit': 'Coronavirus', 'subreddit_id': 't5_2x4yx', 'top_awarded_type': None, 'total_awards_received': 0, 'treatment_tags': []}, {'all_awardings': [], 'approved_at_utc': None, 'associated_award': None, 'author': 'automatez', 'author_flair_background_color': None, 'author_flair_css_class': None, 'author_flair_richtext': [], 'author_flair_template_id': None, 'author_flair_text': None, 'author_flair_text_color': None, 'author_flair_type': 'text', 'author_fullname': 't2_472twt1n', 'author_patreon_flair': False, 'author_premium': False, 'awarders': [], 'banned_at_utc': None, 'body': 'True that! But stopped making mayo-bread grilled cheeses due to how unhealthy it was. Also grilled cheese is usually unhealthy so I try to have it only once a year.\\n\\nHaven’t had pizza from a fast food place in a while and so I’ve made it home. So yeah actually Coronavirus has been making me eat healthier.', 'can_mod_post': False, 'collapsed': False, 'collapsed_because_crowd_control': None, 'collapsed_reason': None, 'created_utc': 1591051050, 'distinguished': None, 'edited': False, 'gildings': {}, 'id': 'fskoq0h', 'is_submitter': False, 'link_id': 't3_gucr3h', 'locked': False, 'no_follow': True, 'parent_id': 't1_fsi8xcm', 'permalink': '/r/Coronavirus/comments/gucr3h/coronavirus_cooking_survey_finds_that_people_are/fskoq0h/', 'retrieved_on': 1591055954, 'score': 1, 'send_replies': True, 'stickied': False, 'subreddit': 'Coronavirus', 'subreddit_id': 't5_2x4yx', 'top_awarded_type': None, 'total_awards_received': 0, 'treatment_tags': []}, {'all_awardings': [], 'approved_at_utc': None, 'associated_award': None, 'author': 'MiniMobBokoblin', 'author_flair_background_color': None, 'author_flair_css_class': None, 'author_flair_richtext': [], 'author_flair_template_id': None, 'author_flair_text': None, 'author_flair_text_color': None, 'author_flair_type': 'text', 'author_fullname': 't2_ojuaz', 'author_patreon_flair': False, 'author_premium': False, 'awarders': [], 'banned_at_utc': None, 'body': 'Have you ever heard of seitan?', 'can_mod_post': False, 'collapsed': False, 'collapsed_because_crowd_control': None, 'collapsed_reason': None, 'created_utc': 1591050150, 'distinguished': None, 'edited': False, 'gildings': {}, 'id': 'fskmzwh', 'is_submitter': False, 'link_id': 't3_gucr3h', 'locked': False, 'no_follow': True, 'parent_id': 't1_fsjtkdg', 'permalink': '/r/Coronavirus/comments/gucr3h/coronavirus_cooking_survey_finds_that_people_are/fskmzwh/', 'retrieved_on': 1591055008, 'score': 1, 'send_replies': True, 'stickied': False, 'subreddit': 'Coronavirus', 'subreddit_id': 't5_2x4yx', 'top_awarded_type': None, 'total_awards_received': 0, 'treatment_tags': []}, {'all_awardings': [], 'approved_at_utc': None, 'associated_award': None, 'author': 'MiniMobBokoblin', 'author_flair_background_color': None, 'author_flair_css_class': None, 'author_flair_richtext': [], 'author_flair_template_id': None, 'author_flair_text': None, 'author_flair_text_color': None, 'author_flair_type': 'text', 'author_fullname': 't2_ojuaz', 'author_patreon_flair': False, 'author_premium': False, 'awarders': [], 'banned_at_utc': None, 'body': 'Seitan, my dude. 14g carbs, 2g fat, 75g protein.', 'can_mod_post': False, 'collapsed': False, 'collapsed_because_crowd_control': None, 'collapsed_reason': None, 'created_utc': 1591050129, 'distinguished': None, 'edited': False, 'gildings': {}, 'id': 'fskmydo', 'is_submitter': False, 'link_id': 't3_gucr3h', 'locked': False, 'no_follow': True, 'parent_id': 't1_fsj96yw', 'permalink': '/r/Coronavirus/comments/gucr3h/coronavirus_cooking_survey_finds_that_people_are/fskmydo/', 'retrieved_on': 1591054983, 'score': 1, 'send_replies': True, 'stickied': False, 'subreddit': 'Coronavirus', 'subreddit_id': 't5_2x4yx', 'top_awarded_type': None, 'total_awards_received': 0, 'treatment_tags': []}, {'all_awardings': [], 'approved_at_utc': None, 'associated_award': None, 'author': 'CheekyBlind', 'author_flair_background_color': None, 'author_flair_css_class': None, 'author_flair_richtext': [], 'author_flair_template_id': None, 'author_flair_text': None, 'author_flair_text_color': None, 'author_flair_type': 'text', 'author_fullname': 't2_55w70id7', 'author_patreon_flair': False, 'author_premium': False, 'awarders': [], 'banned_at_utc': None, 'body': \"Well there's a lot more time to spend thinking about what to cook, learning how to and actually trying it out. Not to mention more time to appreciate it too as phone calls from work are lessened\", 'can_mod_post': False, 'collapsed': False, 'collapsed_because_crowd_control': None, 'collapsed_reason': None, 'created_utc': 1591048314, 'distinguished': None, 'edited': False, 'gildings': {}, 'id': 'fskjfjo', 'is_submitter': False, 'link_id': 't3_gucr3h', 'locked': False, 'no_follow': True, 'parent_id': 't3_gucr3h', 'permalink': '/r/Coronavirus/comments/gucr3h/coronavirus_cooking_survey_finds_that_people_are/fskjfjo/', 'retrieved_on': 1591052962, 'score': 1, 'send_replies': True, 'stickied': False, 'subreddit': 'Coronavirus', 'subreddit_id': 't5_2x4yx', 'top_awarded_type': None, 'total_awards_received': 0, 'treatment_tags': []}, {'all_awardings': [], 'approved_at_utc': None, 'associated_award': None, 'author': 'Rohri_Calhoun', 'author_flair_background_color': None, 'author_flair_css_class': None, 'author_flair_richtext': [], 'author_flair_template_id': None, 'author_flair_text': None, 'author_flair_text_color': None, 'author_flair_type': 'text', 'author_fullname': 't2_67o1u', 'author_patreon_flair': False, 'author_premium': False, 'awarders': [], 'banned_at_utc': None, 'body': 'I find that having the extra time of the butter melting and then the bread toasting helps give the cheese extra time to melt. But having a hot pan is critical when adding the bread.', 'can_mod_post': False, 'collapsed': False, 'collapsed_because_crowd_control': None, 'collapsed_reason': None, 'created_utc': 1591047823, 'distinguished': None, 'edited': False, 'gildings': {}, 'id': 'fskigax', 'is_submitter': False, 'link_id': 't3_gucr3h', 'locked': False, 'no_follow': True, 'parent_id': 't1_fskc97o', 'permalink': '/r/Coronavirus/comments/gucr3h/coronavirus_cooking_survey_finds_that_people_are/fskigax/', 'retrieved_on': 1591052396, 'score': 1, 'send_replies': True, 'stickied': False, 'subreddit': 'Coronavirus', 'subreddit_id': 't5_2x4yx', 'top_awarded_type': None, 'total_awards_received': 0, 'treatment_tags': []}, {'all_awardings': [], 'approved_at_utc': None, 'associated_award': None, 'author': 'Innermissions', 'author_flair_background_color': None, 'author_flair_css_class': None, 'author_flair_richtext': [], 'author_flair_template_id': None, 'author_flair_text': None, 'author_flair_text_color': None, 'author_flair_type': 'text', 'author_fullname': 't2_491sv8ij', 'author_patreon_flair': False, 'author_premium': False, 'awarders': [], 'banned_at_utc': None, 'body': 'Even with junk food I can’t gain weight lol. I weighed 135 pounds last week and I’m 6 feet tall', 'can_mod_post': False, 'collapsed': False, 'collapsed_because_crowd_control': None, 'collapsed_reason': None, 'created_utc': 1591047241, 'distinguished': None, 'edited': False, 'gildings': {}, 'id': 'fskhabh', 'is_submitter': False, 'link_id': 't3_gucr3h', 'locked': False, 'no_follow': True, 'parent_id': 't1_fskh4z6', 'permalink': '/r/Coronavirus/comments/gucr3h/coronavirus_cooking_survey_finds_that_people_are/fskhabh/', 'retrieved_on': 1591051714, 'score': 1, 'send_replies': True, 'stickied': False, 'subreddit': 'Coronavirus', 'subreddit_id': 't5_2x4yx', 'top_awarded_type': None, 'total_awards_received': 0, 'treatment_tags': []}, {'all_awardings': [], 'approved_at_utc': None, 'associated_award': None, 'author': '45356675467789988', 'author_flair_background_color': None, 'author_flair_css_class': None, 'author_flair_richtext': [], 'author_flair_template_id': None, 'author_flair_text': None, 'author_flair_text_color': None, 'author_flair_type': 'text', 'author_fullname': 't2_5ak3aab6', 'author_patreon_flair': False, 'author_premium': False, 'awarders': [], 'banned_at_utc': None, 'body': 'Well my secret was adding in extra snacks, less vegetables, and more junk food 👍', 'can_mod_post': False, 'collapsed': False, 'collapsed_because_crowd_control': None, 'collapsed_reason': None, 'created_utc': 1591047168, 'distinguished': None, 'edited': False, 'gildings': {}, 'id': 'fskh4z6', 'is_submitter': False, 'link_id': 't3_gucr3h', 'locked': False, 'no_follow': True, 'parent_id': 't1_fskeuzv', 'permalink': '/r/Coronavirus/comments/gucr3h/coronavirus_cooking_survey_finds_that_people_are/fskh4z6/', 'retrieved_on': 1591051627, 'score': 1, 'send_replies': True, 'stickied': False, 'subreddit': 'Coronavirus', 'subreddit_id': 't5_2x4yx', 'top_awarded_type': None, 'total_awards_received': 0, 'treatment_tags': []}, {'all_awardings': [], 'approved_at_utc': None, 'associated_award': None, 'author': 'options-noob', 'author_flair_background_color': None, 'author_flair_css_class': None, 'author_flair_richtext': [], 'author_flair_template_id': None, 'author_flair_text': None, 'author_flair_text_color': None, 'author_flair_type': 'text', 'author_fullname': 't2_2vexrz1r', 'author_patreon_flair': False, 'author_premium': False, 'awarders': [], 'banned_at_utc': None, 'body': \"eat a lot of good fat. Like snack on plain peanuts, walnuts, almonds etc. These good fats makes you feel satiety.\\n\\nliquid sugars don't give you a full feeling, plus it is like sugar on an IV. \\n\\nPeople who argue about calorie forgets that it is only a part of the equation. \\n\\nEat a heavy breakfast with fat and protein. Don't skimp on calories in the morning.\\n\\nstatutory: Not a doctor or dietitian, proceed at your own risk.\", 'can_mod_post': False, 'collapsed': False, 'collapsed_because_crowd_control': None, 'collapsed_reason': None, 'created_utc': 1591047071, 'distinguished': None, 'edited': False, 'gildings': {}, 'id': 'fskgxy0', 'is_submitter': False, 'link_id': 't3_gucr3h', 'locked': False, 'no_follow': True, 'parent_id': 't1_fsih1td', 'permalink': '/r/Coronavirus/comments/gucr3h/coronavirus_cooking_survey_finds_that_people_are/fskgxy0/', 'retrieved_on': 1591051513, 'score': 2, 'send_replies': True, 'stickied': False, 'subreddit': 'Coronavirus', 'subreddit_id': 't5_2x4yx', 'top_awarded_type': None, 'total_awards_received': 0, 'treatment_tags': []}, {'all_awardings': [], 'approved_at_utc': None, 'associated_award': None, 'author': 'options-noob', 'author_flair_background_color': None, 'author_flair_css_class': None, 'author_flair_richtext': [], 'author_flair_template_id': None, 'author_flair_text': None, 'author_flair_text_color': None, 'author_flair_type': 'text', 'author_fullname': 't2_2vexrz1r', 'author_patreon_flair': False, 'author_premium': False, 'awarders': [], 'banned_at_utc': None, 'body': 'Pasta. Frozen Veggies. Store bought sauce.\\n\\nThis would be a good start.', 'can_mod_post': False, 'collapsed': False, 'collapsed_because_crowd_control': None, 'collapsed_reason': None, 'created_utc': 1591046243, 'distinguished': None, 'edited': False, 'gildings': {}, 'id': 'fskf9kw', 'is_submitter': False, 'link_id': 't3_gucr3h', 'locked': False, 'no_follow': True, 'parent_id': 't1_fshvgtn', 'permalink': '/r/Coronavirus/comments/gucr3h/coronavirus_cooking_survey_finds_that_people_are/fskf9kw/', 'retrieved_on': 1591050517, 'score': 1, 'send_replies': True, 'stickied': False, 'subreddit': 'Coronavirus', 'subreddit_id': 't5_2x4yx', 'top_awarded_type': None, 'total_awards_received': 0, 'treatment_tags': []}, {'all_awardings': [], 'approved_at_utc': None, 'associated_award': None, 'author': 'Innermissions', 'author_flair_background_color': None, 'author_flair_css_class': None, 'author_flair_richtext': [], 'author_flair_template_id': None, 'author_flair_text': None, 'author_flair_text_color': None, 'author_flair_type': 'text', 'author_fullname': 't2_491sv8ij', 'author_patreon_flair': False, 'author_premium': False, 'awarders': [], 'banned_at_utc': None, 'body': 'I’m out here trying to gain weight and end up losing more', 'can_mod_post': False, 'collapsed': False, 'collapsed_because_crowd_control': None, 'collapsed_reason': None, 'created_utc': 1591046043, 'distinguished': None, 'edited': False, 'gildings': {}, 'id': 'fskeuzv', 'is_submitter': False, 'link_id': 't3_gucr3h', 'locked': False, 'no_follow': True, 'parent_id': 't1_fsiu5dk', 'permalink': '/r/Coronavirus/comments/gucr3h/coronavirus_cooking_survey_finds_that_people_are/fskeuzv/', 'retrieved_on': 1591050274, 'score': 1, 'send_replies': True, 'stickied': False, 'subreddit': 'Coronavirus', 'subreddit_id': 't5_2x4yx', 'top_awarded_type': None, 'total_awards_received': 0, 'treatment_tags': []}, {'all_awardings': [], 'approved_at_utc': None, 'associated_award': None, 'author': 'Mochigood', 'author_flair_background_color': None, 'author_flair_css_class': None, 'author_flair_richtext': [], 'author_flair_template_id': None, 'author_flair_text': None, 'author_flair_text_color': None, 'author_flair_type': 'text', 'author_fullname': 't2_f8eox', 'author_patreon_flair': False, 'author_premium': False, 'awarders': [], 'banned_at_utc': None, 'body': 'I mean, baking/cooking is a makeup technique.  And people can and do use food items for makeup, like rice powder.', 'can_mod_post': False, 'collapsed': False, 'collapsed_because_crowd_control': None, 'collapsed_reason': None, 'created_utc': 1591045146, 'distinguished': None, 'edited': False, 'gildings': {}, 'id': 'fskd1hw', 'is_submitter': False, 'link_id': 't3_gucr3h', 'locked': False, 'no_follow': True, 'parent_id': 't1_fskbip2', 'permalink': '/r/Coronavirus/comments/gucr3h/coronavirus_cooking_survey_finds_that_people_are/fskd1hw/', 'retrieved_on': 1591049199, 'score': 1, 'send_replies': True, 'stickied': False, 'subreddit': 'Coronavirus', 'subreddit_id': 't5_2x4yx', 'top_awarded_type': None, 'total_awards_received': 0, 'treatment_tags': []}, {'all_awardings': [], 'approved_at_utc': None, 'associated_award': None, 'author': 'bookerTmandela', 'author_flair_background_color': None, 'author_flair_css_class': None, 'author_flair_richtext': [], 'author_flair_template_id': None, 'author_flair_text': None, 'author_flair_text_color': None, 'author_flair_type': 'text', 'author_fullname': 't2_bx8eo', 'author_patreon_flair': False, 'author_premium': False, 'awarders': [], 'banned_at_utc': None, 'body': 'Agreed', 'can_mod_post': False, 'collapsed': False, 'collapsed_because_crowd_control': None, 'collapsed_reason': None, 'created_utc': 1591044841, 'distinguished': None, 'edited': False, 'gildings': {}, 'id': 'fskceui', 'is_submitter': False, 'link_id': 't3_gucr3h', 'locked': False, 'no_follow': True, 'parent_id': 't1_fsjw3fi', 'permalink': '/r/Coronavirus/comments/gucr3h/coronavirus_cooking_survey_finds_that_people_are/fskceui/', 'retrieved_on': 1591048819, 'score': 1, 'send_replies': True, 'stickied': False, 'subreddit': 'Coronavirus', 'subreddit_id': 't5_2x4yx', 'top_awarded_type': None, 'total_awards_received': 0, 'treatment_tags': []}, {'all_awardings': [], 'approved_at_utc': None, 'associated_award': None, 'author': 'adamantmuse', 'author_flair_background_color': None, 'author_flair_css_class': None, 'author_flair_richtext': [], 'author_flair_template_id': None, 'author_flair_text': None, 'author_flair_text_color': None, 'author_flair_type': 'text', 'author_fullname': 't2_hnwp6lq', 'author_patreon_flair': False, 'author_premium': False, 'awarders': [], 'banned_at_utc': None, 'body': 'I honestly don’t know. I’ve never tried buttering the bread first, so I can’t compare them. Someone said something about needing the pan to be hot before cooking, I guess to make sure the sandwich cooks right? Maybe it solves that problem, because if the butter is melted, clearly the pan is hot.', 'can_mod_post': False, 'collapsed': False, 'collapsed_because_crowd_control': None, 'collapsed_reason': None, 'created_utc': 1591044766, 'distinguished': None, 'edited': False, 'gildings': {}, 'id': 'fskc97o', 'is_submitter': False, 'link_id': 't3_gucr3h', 'locked': False, 'no_follow': True, 'parent_id': 't1_fsjvyuj', 'permalink': '/r/Coronavirus/comments/gucr3h/coronavirus_cooking_survey_finds_that_people_are/fskc97o/', 'retrieved_on': 1591048726, 'score': 1, 'send_replies': True, 'stickied': False, 'subreddit': 'Coronavirus', 'subreddit_id': 't5_2x4yx', 'top_awarded_type': None, 'total_awards_received': 0, 'treatment_tags': []}, {'all_awardings': [], 'approved_at_utc': None, 'associated_award': None, 'author': 'ReineLeNoire', 'author_flair_background_color': None, 'author_flair_css_class': None, 'author_flair_richtext': [], 'author_flair_template_id': None, 'author_flair_text': None, 'author_flair_text_color': None, 'author_flair_type': 'text', 'author_fullname': 't2_36xc04ir', 'author_patreon_flair': False, 'author_premium': False, 'awarders': [], 'banned_at_utc': None, 'body': \"I waste nothing.\\n\\nI've also lost a full dress size. I need weight lifting and cardio training but this is a great start. I'd been trying to lose weight for over a year. It didn't happen.\\n\\nMeat, snacks, and quick meals sell out quickly in our stores. I went to vegetarian options and things I would never have bought before. Lots of veggies. I buy lean meat when I can find it.\\n\\nI haven't had anything from fast food since March or the end of February. I find in don't miss it. The family has embraced vegetables and the vegetarian options.\\n\\nNow that my body is used to cleaner eating I don't think I can go back. Bad food is addictive. Sugar is addictive. Additives are addictive.\", 'can_mod_post': False, 'collapsed': False, 'collapsed_because_crowd_control': None, 'collapsed_reason': None, 'created_utc': 1591044685, 'distinguished': None, 'edited': False, 'gildings': {}, 'id': 'fskc37z', 'is_submitter': False, 'link_id': 't3_gucr3h', 'locked': False, 'no_follow': True, 'parent_id': 't3_gucr3h', 'permalink': '/r/Coronavirus/comments/gucr3h/coronavirus_cooking_survey_finds_that_people_are/fskc37z/', 'retrieved_on': 1591048626, 'score': 1, 'send_replies': True, 'stickied': False, 'subreddit': 'Coronavirus', 'subreddit_id': 't5_2x4yx', 'top_awarded_type': None, 'total_awards_received': 0, 'treatment_tags': []}, {'all_awardings': [], 'approved_at_utc': None, 'associated_award': None, 'author': 'Divorced_Ghost', 'author_flair_background_color': None, 'author_flair_css_class': None, 'author_flair_richtext': [], 'author_flair_template_id': None, 'author_flair_text': None, 'author_flair_text_color': None, 'author_flair_type': 'text', 'author_fullname': 't2_2r8zuwvn', 'author_patreon_flair': False, 'author_premium': False, 'awarders': [], 'banned_at_utc': None, 'body': 'How to cook makeup', 'can_mod_post': False, 'collapsed': False, 'collapsed_because_crowd_control': None, 'collapsed_reason': None, 'created_utc': 1591044407, 'distinguished': None, 'edited': False, 'gildings': {}, 'id': 'fskbip2', 'is_submitter': False, 'link_id': 't3_gucr3h', 'locked': False, 'no_follow': True, 'parent_id': 't1_fsjunhe', 'permalink': '/r/Coronavirus/comments/gucr3h/coronavirus_cooking_survey_finds_that_people_are/fskbip2/', 'retrieved_on': 1591048284, 'score': 1, 'send_replies': True, 'stickied': False, 'subreddit': 'Coronavirus', 'subreddit_id': 't5_2x4yx', 'top_awarded_type': None, 'total_awards_received': 0, 'treatment_tags': []}, {'all_awardings': [], 'approved_at_utc': None, 'associated_award': None, 'author': 'NeoSniper', 'author_flair_background_color': None, 'author_flair_css_class': None, 'author_flair_richtext': [], 'author_flair_template_id': None, 'author_flair_text': None, 'author_flair_text_color': None, 'author_flair_type': 'text', 'author_fullname': 't2_3rb2c', 'author_patreon_flair': False, 'author_premium': False, 'awarders': [], 'banned_at_utc': None, 'body': 'Next after those I would highly recommend hot ham water.', 'can_mod_post': False, 'collapsed': False, 'collapsed_because_crowd_control': None, 'collapsed_reason': None, 'created_utc': 1591044388, 'distinguished': None, 'edited': False, 'gildings': {}, 'id': 'fskbhad', 'is_submitter': False, 'link_id': 't3_gucr3h', 'locked': False, 'no_follow': True, 'parent_id': 't1_fshx5i6', 'permalink': '/r/Coronavirus/comments/gucr3h/coronavirus_cooking_survey_finds_that_people_are/fskbhad/', 'retrieved_on': 1591048261, 'score': 1, 'send_replies': True, 'stickied': False, 'subreddit': 'Coronavirus', 'subreddit_id': 't5_2x4yx', 'top_awarded_type': None, 'total_awards_received': 0, 'treatment_tags': []}, {'all_awardings': [], 'approved_at_utc': None, 'associated_award': None, 'author': 'WowTIL', 'author_flair_background_color': None, 'author_flair_css_class': None, 'author_flair_richtext': [], 'author_flair_template_id': None, 'author_flair_text': None, 'author_flair_text_color': None, 'author_flair_type': 'text', 'author_fullname': 't2_66lag31d', 'author_patreon_flair': False, 'author_premium': False, 'awarders': [], 'banned_at_utc': None, 'body': \"I'm just copy and pasting my comment below that I replied to someone else. Applies to your comment as well.\\n\\nThat's debatable at best that you can get enough b12 from unwashed produce. Even by your fellow [vegan centric websites](https://veganhealth.org/what-every-vegan-should-know-about-vitamin-b12/), they will warn against relying on this methodology. Even to say the soil was different back then is a stretch, as it's never been proven to be suffient. And most of the soil b12 is in the form of pseudo-vitamin B12, which cannot be absorbed by your body. Any reputable vegan website will tell you that b12 supplements or fortified foods are required. \\n\\nBesides the fact that I said 200 years ago, which meant the person who chose to be on a plant diet would wash the dirt off before eating anyway, they don't have a forum full of vegans telling them not to wash away dirt. So their diet would still be unsustainable.\\n\\nJust wondering, in my quick Google search I see a lot of science based vegan websites that debunk the whole eating algae or unwashed produce theory. A lot of them even admit humans were meant to eat some meat in the past, but of course elaborate to say times have changed due to supplements. Do you guys just choose to ignore those websites because you like to have a counter to the b12 argument when someone brings it up?\", 'can_mod_post': False, 'collapsed': False, 'collapsed_because_crowd_control': None, 'collapsed_reason': None, 'created_utc': 1591044374, 'distinguished': None, 'edited': False, 'gildings': {}, 'id': 'fskbg8d', 'is_submitter': False, 'link_id': 't3_gucr3h', 'locked': False, 'no_follow': True, 'parent_id': 't1_fsjcrci', 'permalink': '/r/Coronavirus/comments/gucr3h/coronavirus_cooking_survey_finds_that_people_are/fskbg8d/', 'retrieved_on': 1591048244, 'score': 1, 'send_replies': True, 'stickied': False, 'subreddit': 'Coronavirus', 'subreddit_id': 't5_2x4yx', 'top_awarded_type': None, 'total_awards_received': 0, 'treatment_tags': []}, {'all_awardings': [], 'approved_at_utc': None, 'associated_award': None, 'author': 'Divorced_Ghost', 'author_flair_background_color': None, 'author_flair_css_class': None, 'author_flair_richtext': [], 'author_flair_template_id': None, 'author_flair_text': None, 'author_flair_text_color': None, 'author_flair_type': 'text', 'author_fullname': 't2_2r8zuwvn', 'author_patreon_flair': False, 'author_premium': False, 'awarders': [], 'banned_at_utc': None, 'body': \"I wouldnt say i cant cook at all, i can cook water. The warmest water you'll ever taste. Still tastes like water, but with a fun twist, its WARM. Ancient family recipeh, only use water\\n\\n\\n\\nTbh im also looking skills i dont have on my SO. My SO wont need to know how to   and  and also i can  . None of those, because im there for him/her\", 'can_mod_post': False, 'collapsed': False, 'collapsed_because_crowd_control': None, 'collapsed_reason': None, 'created_utc': 1591044343, 'distinguished': None, 'edited': False, 'gildings': {}, 'id': 'fskbdzs', 'is_submitter': False, 'link_id': 't3_gucr3h', 'locked': False, 'no_follow': True, 'parent_id': 't1_fsjutjz', 'permalink': '/r/Coronavirus/comments/gucr3h/coronavirus_cooking_survey_finds_that_people_are/fskbdzs/', 'retrieved_on': 1591048206, 'score': 1, 'send_replies': True, 'stickied': False, 'subreddit': 'Coronavirus', 'subreddit_id': 't5_2x4yx', 'top_awarded_type': None, 'total_awards_received': 0, 'treatment_tags': []}, {'all_awardings': [], 'approved_at_utc': None, 'associated_award': None, 'author': 'Local-Weather', 'author_flair_background_color': None, 'author_flair_css_class': None, 'author_flair_richtext': [], 'author_flair_template_id': None, 'author_flair_text': None, 'author_flair_text_color': None, 'author_flair_type': 'text', 'author_fullname': 't2_5ng7ogbv', 'author_patreon_flair': False, 'author_premium': False, 'awarders': [], 'banned_at_utc': None, 'body': \"Ok so post something to prove your point lmao.  I found a source that showed a dramatic weight loss and that was still less than 40%.  You can't tell me you're too lazy to post the articles you were reading and then criticize the ones I find.\", 'can_mod_post': False, 'collapsed': False, 'collapsed_because_crowd_control': None, 'collapsed_reason': None, 'created_utc': 1591044296, 'distinguished': None, 'edited': False, 'gildings': {}, 'id': 'fskbaiq', 'is_submitter': False, 'link_id': 't3_gucr3h', 'locked': False, 'no_follow': True, 'parent_id': 't1_fska3n7', 'permalink': '/r/Coronavirus/comments/gucr3h/coronavirus_cooking_survey_finds_that_people_are/fskbaiq/', 'retrieved_on': 1591048149, 'score': 1, 'send_replies': True, 'stickied': False, 'subreddit': 'Coronavirus', 'subreddit_id': 't5_2x4yx', 'top_awarded_type': None, 'total_awards_received': 0, 'treatment_tags': []}, {'all_awardings': [], 'approved_at_utc': None, 'associated_award': None, 'author': 'FearlessLingonberry', 'author_flair_background_color': None, 'author_flair_css_class': None, 'author_flair_richtext': [], 'author_flair_template_id': None, 'author_flair_text': None, 'author_flair_text_color': None, 'author_flair_type': 'text', 'author_fullname': 't2_208maoac', 'author_patreon_flair': False, 'author_premium': False, 'awarders': [], 'banned_at_utc': None, 'body': 'There are a few things about that, though - the first is that he hardly had a typical body or state of health to begin with, and the second is that the post-ventilation weight was after an unspecified amount of time in rehabilitation.  He even says in the article that he probably weighed less when he first came off the ventilator.', 'can_mod_post': False, 'collapsed': False, 'collapsed_because_crowd_control': None, 'collapsed_reason': None, 'created_utc': 1591043714, 'distinguished': None, 'edited': False, 'gildings': {}, 'id': 'fska3n7', 'is_submitter': False, 'link_id': 't3_gucr3h', 'locked': False, 'no_follow': True, 'parent_id': 't1_fsk2l48', 'permalink': '/r/Coronavirus/comments/gucr3h/coronavirus_cooking_survey_finds_that_people_are/fska3n7/', 'retrieved_on': 1591047432, 'score': 1, 'send_replies': True, 'stickied': False, 'subreddit': 'Coronavirus', 'subreddit_id': 't5_2x4yx', 'top_awarded_type': None, 'total_awards_received': 0, 'treatment_tags': []}, {'all_awardings': [], 'approved_at_utc': None, 'associated_award': None, 'author': '781229131325', 'author_flair_background_color': None, 'author_flair_css_class': None, 'author_flair_richtext': [], 'author_flair_template_id': None, 'author_flair_text': None, 'author_flair_text_color': None, 'author_flair_type': 'text', 'author_fullname': 't2_5hgttchg', 'author_patreon_flair': False, 'author_premium': False, 'awarders': [], 'banned_at_utc': None, 'body': 'I literally said to take a b12 supplement. I never said to eat unwashed produce for b12. I just explained where the vitamin comes from and why there b12 in animal products to begin with. \\n\\nYa, back 200 years ago a plant based diet isn’t reasonable since food wasn’t in such abundance back then. But, it’s 2020. We have more resources now. No need to kill animals. We can just stay out of their way', 'can_mod_post': False, 'collapsed': False, 'collapsed_because_crowd_control': None, 'collapsed_reason': None, 'created_utc': 1591042393, 'distinguished': None, 'edited': False, 'gildings': {}, 'id': 'fsk7ed7', 'is_submitter': False, 'link_id': 't3_gucr3h', 'locked': False, 'no_follow': True, 'parent_id': 't1_fsjvafr', 'permalink': '/r/Coronavirus/comments/gucr3h/coronavirus_cooking_survey_finds_that_people_are/fsk7ed7/', 'retrieved_on': 1591045788, 'score': 1, 'send_replies': True, 'stickied': False, 'subreddit': 'Coronavirus', 'subreddit_id': 't5_2x4yx', 'top_awarded_type': None, 'total_awards_received': 0, 'treatment_tags': []}, {'all_awardings': [], 'approved_at_utc': None, 'associated_award': None, 'author': 'DredPRoberts', 'author_flair_background_color': None, 'author_flair_css_class': None, 'author_flair_richtext': [], 'author_flair_template_id': None, 'author_flair_text': None, 'author_flair_text_color': None, 'author_flair_type': 'text', 'author_fullname': 't2_c5xvm', 'author_patreon_flair': False, 'author_premium': False, 'awarders': [], 'banned_at_utc': None, 'body': '*Looks at lasagna leftovers and bread machine on counter*  \\n\\nIt\\'ll be at least a couple of days before I get to \"healthier\".', 'can_mod_post': False, 'collapsed': False, 'collapsed_because_crowd_control': None, 'collapsed_reason': None, 'created_utc': 1591041502, 'distinguished': None, 'edited': False, 'gildings': {}, 'id': 'fsk5ki5', 'is_submitter': False, 'link_id': 't3_gucr3h', 'locked': False, 'no_follow': True, 'parent_id': 't3_gucr3h', 'permalink': '/r/Coronavirus/comments/gucr3h/coronavirus_cooking_survey_finds_that_people_are/fsk5ki5/', 'retrieved_on': 1591044679, 'score': 1, 'send_replies': True, 'stickied': False, 'subreddit': 'Coronavirus', 'subreddit_id': 't5_2x4yx', 'top_awarded_type': None, 'total_awards_received': 0, 'treatment_tags': []}, {'all_awardings': [], 'approved_at_utc': None, 'associated_award': None, 'author': 'FlaccidOctopus', 'author_flair_background_color': None, 'author_flair_css_class': None, 'author_flair_richtext': [], 'author_flair_template_id': None, 'author_flair_text': None, 'author_flair_text_color': None, 'author_flair_type': 'text', 'author_fullname': 't2_qfvrv', 'author_patreon_flair': False, 'author_premium': False, 'awarders': [], 'banned_at_utc': None, 'body': \"Where are all these people taking surveys?! So many articles claim that and I've never been asked to take a single one.\", 'can_mod_post': False, 'collapsed': False, 'collapsed_because_crowd_control': None, 'collapsed_reason': None, 'created_utc': 1591041238, 'distinguished': None, 'edited': False, 'gildings': {}, 'id': 'fsk50us', 'is_submitter': False, 'link_id': 't3_gucr3h', 'locked': False, 'no_follow': True, 'parent_id': 't3_gucr3h', 'permalink': '/r/Coronavirus/comments/gucr3h/coronavirus_cooking_survey_finds_that_people_are/fsk50us/', 'retrieved_on': 1591044348, 'score': 1, 'send_replies': True, 'stickied': False, 'subreddit': 'Coronavirus', 'subreddit_id': 't5_2x4yx', 'top_awarded_type': None, 'total_awards_received': 0, 'treatment_tags': []}, {'all_awardings': [], 'approved_at_utc': None, 'associated_award': None, 'author': 'SequencedLife', 'author_flair_background_color': None, 'author_flair_css_class': None, 'author_flair_richtext': [], 'author_flair_template_id': None, 'author_flair_text': None, 'author_flair_text_color': None, 'author_flair_type': 'text', 'author_fullname': 't2_7rwkt', 'author_patreon_flair': False, 'author_premium': False, 'awarders': [], 'banned_at_utc': None, 'body': 'Why is the thumbnail pic *NEVER* relevant', 'can_mod_post': False, 'collapsed': False, 'collapsed_because_crowd_control': None, 'collapsed_reason': None, 'created_utc': 1591040922, 'distinguished': None, 'edited': False, 'gildings': {}, 'id': 'fsk4d6j', 'is_submitter': False, 'link_id': 't3_gucr3h', 'locked': False, 'no_follow': True, 'parent_id': 't3_gucr3h', 'permalink': '/r/Coronavirus/comments/gucr3h/coronavirus_cooking_survey_finds_that_people_are/fsk4d6j/', 'retrieved_on': 1591043945, 'score': 1, 'send_replies': True, 'stickied': False, 'subreddit': 'Coronavirus', 'subreddit_id': 't5_2x4yx', 'top_awarded_type': None, 'total_awards_received': 0, 'treatment_tags': []}, {'all_awardings': [], 'approved_at_utc': None, 'associated_award': None, 'author': 'Captain_Meowxx', 'author_flair_background_color': None, 'author_flair_css_class': None, 'author_flair_richtext': [], 'author_flair_template_id': None, 'author_flair_text': None, 'author_flair_text_color': None, 'author_flair_type': 'text', 'author_fullname': 't2_14f472', 'author_patreon_flair': False, 'author_premium': False, 'awarders': [], 'banned_at_utc': None, 'body': 'Okay but what in the 1950s hell is that photo', 'can_mod_post': False, 'collapsed': False, 'collapsed_because_crowd_control': None, 'collapsed_reason': None, 'created_utc': 1591040451, 'distinguished': None, 'edited': False, 'gildings': {}, 'id': 'fsk3dpc', 'is_submitter': False, 'link_id': 't3_gucr3h', 'locked': False, 'no_follow': True, 'parent_id': 't3_gucr3h', 'permalink': '/r/Coronavirus/comments/gucr3h/coronavirus_cooking_survey_finds_that_people_are/fsk3dpc/', 'retrieved_on': 1591043345, 'score': 1, 'send_replies': True, 'stickied': False, 'subreddit': 'Coronavirus', 'subreddit_id': 't5_2x4yx', 'top_awarded_type': None, 'total_awards_received': 0, 'treatment_tags': []}, {'all_awardings': [], 'approved_at_utc': None, 'associated_award': None, 'author': 'Local-Weather', 'author_flair_background_color': None, 'author_flair_css_class': None, 'author_flair_richtext': [], 'author_flair_template_id': None, 'author_flair_text': None, 'author_flair_text_color': None, 'author_flair_type': 'text', 'author_fullname': 't2_5ng7ogbv', 'author_patreon_flair': False, 'author_premium': False, 'awarders': [], 'banned_at_utc': None, 'body': \"Yeah I was asking because I couldn't find anything to verify that.  You made it seem like you read it in multiple articles so I figured you might know where to look.\\n\\nEdit:  This guy was ventilated for 6 weeks and lost roughly 26% of his weight.  https://www.health.com/condition/infectious-diseases/coronavirus/mike-schultz-weight-loss-coronavirus\", 'can_mod_post': False, 'collapsed': False, 'collapsed_because_crowd_control': None, 'collapsed_reason': None, 'created_utc': 1591040068, 'distinguished': None, 'edited': False, 'gildings': {}, 'id': 'fsk2l48', 'is_submitter': False, 'link_id': 't3_gucr3h', 'locked': False, 'no_follow': True, 'parent_id': 't1_fsjzfy9', 'permalink': '/r/Coronavirus/comments/gucr3h/coronavirus_cooking_survey_finds_that_people_are/fsk2l48/', 'retrieved_on': 1591042864, 'score': 1, 'send_replies': True, 'stickied': False, 'subreddit': 'Coronavirus', 'subreddit_id': 't5_2x4yx', 'top_awarded_type': None, 'total_awards_received': 0, 'treatment_tags': []}, {'all_awardings': [], 'approved_at_utc': None, 'associated_award': None, 'author': 'msmont1', 'author_flair_background_color': None, 'author_flair_css_class': None, 'author_flair_richtext': [], 'author_flair_template_id': None, 'author_flair_text': None, 'author_flair_text_color': None, 'author_flair_type': 'text', 'author_fullname': 't2_x4cfs', 'author_patreon_flair': False, 'author_premium': False, 'awarders': [], 'banned_at_utc': None, 'body': 'Dang, good for you.', 'can_mod_post': False, 'collapsed': False, 'collapsed_because_crowd_control': None, 'collapsed_reason': None, 'created_utc': 1591039878, 'distinguished': None, 'edited': False, 'gildings': {}, 'id': 'fsk273n', 'is_submitter': False, 'link_id': 't3_gucr3h', 'locked': False, 'no_follow': True, 'parent_id': 't1_fsi9stb', 'permalink': '/r/Coronavirus/comments/gucr3h/coronavirus_cooking_survey_finds_that_people_are/fsk273n/', 'retrieved_on': 1591042629, 'score': 1, 'send_replies': True, 'stickied': False, 'subreddit': 'Coronavirus', 'subreddit_id': 't5_2x4yx', 'top_awarded_type': None, 'total_awards_received': 0, 'treatment_tags': []}, {'all_awardings': [], 'approved_at_utc': None, 'associated_award': None, 'author': 'brdwatchr', 'author_flair_background_color': None, 'author_flair_css_class': None, 'author_flair_richtext': [], 'author_flair_template_id': None, 'author_flair_text': None, 'author_flair_text_color': None, 'author_flair_type': 'text', 'author_fullname': 't2_45als8jd', 'author_patreon_flair': False, 'author_premium': False, 'awarders': [], 'banned_at_utc': None, 'body': 'Right,  it adds more flavor than butter which is pretty bland.  I only like salted butter on freshly made warm bread or rolls.', 'can_mod_post': False, 'collapsed': False, 'collapsed_because_crowd_control': None, 'collapsed_reason': None, 'created_utc': 1591039504, 'distinguished': None, 'edited': False, 'gildings': {}, 'id': 'fsk1fgb', 'is_submitter': False, 'link_id': 't3_gucr3h', 'locked': False, 'no_follow': True, 'parent_id': 't1_fsjxcma', 'permalink': '/r/Coronavirus/comments/gucr3h/coronavirus_cooking_survey_finds_that_people_are/fsk1fgb/', 'retrieved_on': 1591042163, 'score': 1, 'send_replies': True, 'stickied': False, 'subreddit': 'Coronavirus', 'subreddit_id': 't5_2x4yx', 'top_awarded_type': None, 'total_awards_received': 0, 'treatment_tags': []}, {'all_awardings': [], 'approved_at_utc': None, 'associated_award': None, 'author': 'Soensou', 'author_flair_background_color': None, 'author_flair_css_class': None, 'author_flair_richtext': [], 'author_flair_template_id': None, 'author_flair_text': None, 'author_flair_text_color': None, 'author_flair_type': 'text', 'author_fullname': 't2_4uzk9', 'author_patreon_flair': False, 'author_premium': False, 'awarders': [], 'banned_at_utc': None, 'body': 'Happy grilling, my dude.', 'can_mod_post': False, 'collapsed': False, 'collapsed_because_crowd_control': None, 'collapsed_reason': None, 'created_utc': 1591038780, 'distinguished': None, 'edited': False, 'gildings': {}, 'id': 'fsjzy2o', 'is_submitter': False, 'link_id': 't3_gucr3h', 'locked': False, 'no_follow': True, 'parent_id': 't1_fsjvpva', 'permalink': '/r/Coronavirus/comments/gucr3h/coronavirus_cooking_survey_finds_that_people_are/fsjzy2o/', 'retrieved_on': 1591041259, 'score': 1, 'send_replies': True, 'stickied': False, 'subreddit': 'Coronavirus', 'subreddit_id': 't5_2x4yx', 'top_awarded_type': None, 'total_awards_received': 0, 'treatment_tags': []}, {'all_awardings': [], 'approved_at_utc': None, 'associated_award': None, 'author': 'bwinsy', 'author_flair_background_color': None, 'author_flair_css_class': None, 'author_flair_richtext': [], 'author_flair_template_id': None, 'author_flair_text': None, 'author_flair_text_color': None, 'author_flair_type': 'text', 'author_fullname': 't2_zm4qa', 'author_patreon_flair': False, 'author_premium': True, 'awarders': [], 'banned_at_utc': None, 'body': 'Same! DoorDash has been my BFF but the scale hasn’t.', 'can_mod_post': False, 'collapsed': False, 'collapsed_because_crowd_control': None, 'collapsed_reason': None, 'created_utc': 1591038705, 'distinguished': None, 'edited': False, 'gildings': {}, 'id': 'fsjzsh8', 'is_submitter': False, 'link_id': 't3_gucr3h', 'locked': False, 'no_follow': True, 'parent_id': 't1_fsi12y6', 'permalink': '/r/Coronavirus/comments/gucr3h/coronavirus_cooking_survey_finds_that_people_are/fsjzsh8/', 'retrieved_on': 1591041166, 'score': 1, 'send_replies': True, 'stickied': False, 'subreddit': 'Coronavirus', 'subreddit_id': 't5_2x4yx', 'total_awards_received': 0, 'treatment_tags': []}, {'all_awardings': [], 'approved_at_utc': None, 'associated_award': None, 'author': 'bwinsy', 'author_flair_background_color': None, 'author_flair_css_class': None, 'author_flair_richtext': [], 'author_flair_template_id': None, 'author_flair_text': None, 'author_flair_text_color': None, 'author_flair_type': 'text', 'author_fullname': 't2_zm4qa', 'author_patreon_flair': False, 'author_premium': True, 'awarders': [], 'banned_at_utc': None, 'body': 'It’s her reality!', 'can_mod_post': False, 'collapsed': False, 'collapsed_because_crowd_control': None, 'collapsed_reason': None, 'created_utc': 1591038625, 'distinguished': None, 'edited': False, 'gildings': {}, 'id': 'fsjzmge', 'is_submitter': False, 'link_id': 't3_gucr3h', 'locked': False, 'no_follow': True, 'parent_id': 't1_fsivh6v', 'permalink': '/r/Coronavirus/comments/gucr3h/coronavirus_cooking_survey_finds_that_people_are/fsjzmge/', 'retrieved_on': 1591041062, 'score': 1, 'send_replies': True, 'stickied': False, 'subreddit': 'Coronavirus', 'subreddit_id': 't5_2x4yx', 'total_awards_received': 0, 'treatment_tags': []}, {'all_awardings': [], 'approved_at_utc': None, 'associated_award': None, 'author': 'FearlessLingonberry', 'author_flair_background_color': None, 'author_flair_css_class': None, 'author_flair_richtext': [], 'author_flair_template_id': None, 'author_flair_text': None, 'author_flair_text_color': None, 'author_flair_type': 'text', 'author_fullname': 't2_208maoac', 'author_patreon_flair': False, 'author_premium': False, 'awarders': [], 'banned_at_utc': None, 'body': \"Naw, I'm not going to spend my time digging around for a source for you, but feel free if you'd like to.  That's the number I've been seeing thrown around, and I made it crystal clear that I don't know if it's accurate.\", 'can_mod_post': False, 'collapsed': False, 'collapsed_because_crowd_control': None, 'collapsed_reason': None, 'created_utc': 1591038537, 'distinguished': None, 'edited': False, 'gildings': {}, 'id': 'fsjzfy9', 'is_submitter': False, 'link_id': 't3_gucr3h', 'locked': False, 'no_follow': True, 'parent_id': 't1_fsjth31', 'permalink': '/r/Coronavirus/comments/gucr3h/coronavirus_cooking_survey_finds_that_people_are/fsjzfy9/', 'retrieved_on': 1591040952, 'score': 1, 'send_replies': True, 'stickied': False, 'subreddit': 'Coronavirus', 'subreddit_id': 't5_2x4yx', 'top_awarded_type': None, 'total_awards_received': 0, 'treatment_tags': []}, {'all_awardings': [], 'approved_at_utc': None, 'associated_award': None, 'author': 'bwinsy', 'author_flair_background_color': None, 'author_flair_css_class': None, 'author_flair_richtext': [], 'author_flair_template_id': None, 'author_flair_text': None, 'author_flair_text_color': None, 'author_flair_type': 'text', 'author_fullname': 't2_zm4qa', 'author_patreon_flair': False, 'author_premium': True, 'awarders': [], 'banned_at_utc': None, 'body': 'I would think they should start with boiling water first, then making a grilled cheese sandwich.  Boiling water involves less steps.', 'can_mod_post': False, 'collapsed': False, 'collapsed_because_crowd_control': None, 'collapsed_reason': None, 'created_utc': 1591038326, 'distinguished': None, 'edited': False, 'gildings': {}, 'id': 'fsjz0dk', 'is_submitter': False, 'link_id': 't3_gucr3h', 'locked': False, 'no_follow': True, 'parent_id': 't1_fshx5i6', 'permalink': '/r/Coronavirus/comments/gucr3h/coronavirus_cooking_survey_finds_that_people_are/fsjz0dk/', 'retrieved_on': 1591040687, 'score': 1, 'send_replies': True, 'stickied': False, 'subreddit': 'Coronavirus', 'subreddit_id': 't5_2x4yx', 'total_awards_received': 0, 'treatment_tags': []}, {'all_awardings': [], 'approved_at_utc': None, 'associated_award': None, 'author': 'Designer_Dog', 'author_flair_background_color': None, 'author_flair_css_class': None, 'author_flair_richtext': [], 'author_flair_template_id': None, 'author_flair_text': None, 'author_flair_text_color': None, 'author_flair_type': 'text', 'author_fullname': 't2_3la7f0xa', 'author_patreon_flair': False, 'author_premium': False, 'awarders': [], 'banned_at_utc': None, 'body': \"You can't beat the mayo method.\", 'can_mod_post': False, 'collapsed': False, 'collapsed_because_crowd_control': None, 'collapsed_reason': None, 'created_utc': 1591037529, 'distinguished': None, 'edited': False, 'gildings': {}, 'id': 'fsjxcma', 'is_submitter': False, 'link_id': 't3_gucr3h', 'locked': False, 'no_follow': True, 'parent_id': 't1_fsjevhu', 'permalink': '/r/Coronavirus/comments/gucr3h/coronavirus_cooking_survey_finds_that_people_are/fsjxcma/', 'retrieved_on': 1591039685, 'score': 1, 'send_replies': True, 'stickied': False, 'subreddit': 'Coronavirus', 'subreddit_id': 't5_2x4yx', 'total_awards_received': 0, 'treatment_tags': []}, {'all_awardings': [], 'approved_at_utc': None, 'associated_award': None, 'author': 'liquilife', 'author_flair_background_color': None, 'author_flair_css_class': None, 'author_flair_richtext': [], 'author_flair_template_id': None, 'author_flair_text': None, 'author_flair_text_color': None, 'author_flair_type': 'text', 'author_fullname': 't2_1emzo', 'author_patreon_flair': False, 'author_premium': True, 'awarders': [], 'banned_at_utc': None, 'body': 'What dish is that in the thumbnail??', 'can_mod_post': False, 'collapsed': False, 'collapsed_because_crowd_control': None, 'collapsed_reason': None, 'created_utc': 1591037049, 'distinguished': None, 'edited': False, 'gildings': {}, 'id': 'fsjwcc0', 'is_submitter': False, 'link_id': 't3_gucr3h', 'locked': False, 'no_follow': True, 'parent_id': 't3_gucr3h', 'permalink': '/r/Coronavirus/comments/gucr3h/coronavirus_cooking_survey_finds_that_people_are/fsjwcc0/', 'retrieved_on': 1591039081, 'score': 1, 'send_replies': True, 'stickied': False, 'subreddit': 'Coronavirus', 'subreddit_id': 't5_2x4yx', 'total_awards_received': 0, 'treatment_tags': []}, {'all_awardings': [], 'approved_at_utc': None, 'associated_award': None, 'author': 'theblueberryspirit', 'author_flair_background_color': None, 'author_flair_css_class': None, 'author_flair_richtext': [], 'author_flair_template_id': None, 'author_flair_text': None, 'author_flair_text_color': None, 'author_flair_type': 'text', 'author_fullname': 't2_7vk11', 'author_patreon_flair': False, 'author_premium': False, 'awarders': [], 'banned_at_utc': None, 'body': 'I honestly felt the low and slow was at least 50% an excuse to have time to make her coffee while it cooked. \\n\\nDefinitely depending on the cheese, it would make perfect sense -- having unmelted middles is the worst', 'can_mod_post': False, 'collapsed': False, 'collapsed_because_crowd_control': None, 'collapsed_reason': None, 'created_utc': 1591036931, 'distinguished': None, 'edited': False, 'gildings': {}, 'id': 'fsjw3fi', 'is_submitter': False, 'link_id': 't3_gucr3h', 'locked': False, 'no_follow': True, 'parent_id': 't1_fsiqkl7', 'permalink': '/r/Coronavirus/comments/gucr3h/coronavirus_cooking_survey_finds_that_people_are/fsjw3fi/', 'retrieved_on': 1591038932, 'score': 1, 'send_replies': True, 'stickied': False, 'subreddit': 'Coronavirus', 'subreddit_id': 't5_2x4yx', 'total_awards_received': 0, 'treatment_tags': []}, {'all_awardings': [], 'approved_at_utc': None, 'associated_award': None, 'author': 'Rohri_Calhoun', 'author_flair_background_color': None, 'author_flair_css_class': None, 'author_flair_richtext': [], 'author_flair_template_id': None, 'author_flair_text': None, 'author_flair_text_color': None, 'author_flair_type': 'text', 'author_fullname': 't2_67o1u', 'author_patreon_flair': False, 'author_premium': False, 'awarders': [], 'banned_at_utc': None, 'body': 'Does it improve the toast vs buttering the whole sandich before grilling?', 'can_mod_post': False, 'collapsed': False, 'collapsed_because_crowd_control': None, 'collapsed_reason': None, 'created_utc': 1591036870, 'distinguished': None, 'edited': False, 'gildings': {}, 'id': 'fsjvyuj', 'is_submitter': False, 'link_id': 't3_gucr3h', 'locked': False, 'no_follow': True, 'parent_id': 't1_fsj8wnt', 'permalink': '/r/Coronavirus/comments/gucr3h/coronavirus_cooking_survey_finds_that_people_are/fsjvyuj/', 'retrieved_on': 1591038856, 'score': 1, 'send_replies': True, 'stickied': False, 'subreddit': 'Coronavirus', 'subreddit_id': 't5_2x4yx', 'total_awards_received': 0, 'treatment_tags': []}, {'all_awardings': [], 'approved_at_utc': None, 'associated_award': None, 'author': 'theblueberryspirit', 'author_flair_background_color': None, 'author_flair_css_class': None, 'author_flair_richtext': [], 'author_flair_template_id': None, 'author_flair_text': None, 'author_flair_text_color': None, 'author_flair_type': 'text', 'author_fullname': 't2_7vk11', 'author_patreon_flair': False, 'author_premium': False, 'awarders': [], 'banned_at_utc': None, 'body': \"From the video seems like most people mayo'd both sides first, but some waited to mayo the second side until they were about to flip it. Figure it can't make that big of a difference\", 'can_mod_post': False, 'collapsed': False, 'collapsed_because_crowd_control': None, 'collapsed_reason': None, 'created_utc': 1591036849, 'distinguished': None, 'edited': False, 'gildings': {}, 'id': 'fsjvx7y', 'is_submitter': False, 'link_id': 't3_gucr3h', 'locked': False, 'no_follow': True, 'parent_id': 't1_fsjd06x', 'permalink': '/r/Coronavirus/comments/gucr3h/coronavirus_cooking_survey_finds_that_people_are/fsjvx7y/', 'retrieved_on': 1591038828, 'score': 1, 'send_replies': True, 'stickied': False, 'subreddit': 'Coronavirus', 'subreddit_id': 't5_2x4yx', 'total_awards_received': 0, 'treatment_tags': []}, {'all_awardings': [], 'approved_at_utc': None, 'associated_award': None, 'author': 'theblueberryspirit', 'author_flair_background_color': None, 'author_flair_css_class': None, 'author_flair_richtext': [], 'author_flair_template_id': None, 'author_flair_text': None, 'author_flair_text_color': None, 'author_flair_type': 'text', 'author_fullname': 't2_7vk11', 'author_patreon_flair': False, 'author_premium': False, 'awarders': [], 'banned_at_utc': None, 'body': 'This sounds amazing', 'can_mod_post': False, 'collapsed': False, 'collapsed_because_crowd_control': None, 'collapsed_reason': None, 'created_utc': 1591036752, 'distinguished': None, 'edited': False, 'gildings': {}, 'id': 'fsjvpva', 'is_submitter': False, 'link_id': 't3_gucr3h', 'locked': False, 'no_follow': True, 'parent_id': 't1_fsitflm', 'permalink': '/r/Coronavirus/comments/gucr3h/coronavirus_cooking_survey_finds_that_people_are/fsjvpva/', 'retrieved_on': 1591038709, 'score': 1, 'send_replies': True, 'stickied': False, 'subreddit': 'Coronavirus', 'subreddit_id': 't5_2x4yx', 'total_awards_received': 0, 'treatment_tags': []}, {'all_awardings': [], 'approved_at_utc': None, 'associated_award': None, 'author': 'theblueberryspirit', 'author_flair_background_color': None, 'author_flair_css_class': None, 'author_flair_richtext': [], 'author_flair_template_id': None, 'author_flair_text': None, 'author_flair_text_color': None, 'author_flair_type': 'text', 'author_fullname': 't2_7vk11', 'author_patreon_flair': False, 'author_premium': False, 'awarders': [], 'banned_at_utc': None, 'body': \"I didn't even know hibachi white sauce was a thing... this sounds amazing\", 'can_mod_post': False, 'collapsed': False, 'collapsed_because_crowd_control': None, 'collapsed_reason': None, 'created_utc': 1591036640, 'distinguished': None, 'edited': False, 'gildings': {}, 'id': 'fsjvhdk', 'is_submitter': False, 'link_id': 't3_gucr3h', 'locked': False, 'no_follow': True, 'parent_id': 't1_fsifzxv', 'permalink': '/r/Coronavirus/comments/gucr3h/coronavirus_cooking_survey_finds_that_people_are/fsjvhdk/', 'retrieved_on': 1591038572, 'score': 1, 'send_replies': True, 'stickied': False, 'subreddit': 'Coronavirus', 'subreddit_id': 't5_2x4yx', 'total_awards_received': 0, 'treatment_tags': []}, {'all_awardings': [], 'approved_at_utc': None, 'associated_award': None, 'author': 'WowTIL', 'author_flair_background_color': None, 'author_flair_css_class': None, 'author_flair_richtext': [], 'author_flair_template_id': None, 'author_flair_text': None, 'author_flair_text_color': None, 'author_flair_type': 'text', 'author_fullname': 't2_66lag31d', 'author_patreon_flair': False, 'author_premium': False, 'awarders': [], 'banned_at_utc': None, 'body': \"That's debatable at best that you can get enough b12 from unwashed produce dirt. Even by your fellow [vegan centric websites](https://veganhealth.org/what-every-vegan-should-know-about-vitamin-b12/), they will warn against relying on this methodology. Even to say the soil was different back then is a stretch, as it's never been proven to be suffient. And most of the soil b12 is in the form of pseudo-vitamin B12, which cannot be absorbed by your body. Any reputable vegan website will tell you that b12 supplements or fortified foods are required. \\n\\nBesides the fact that I said 200 years ago, which meant the person who chose to be on a plant diet would wash the dirt off before eating anyway, they don't have a forum full of vegans telling them not to wash away dirt. So their diet would still be unsustainable.\", 'can_mod_post': False, 'collapsed': False, 'collapsed_because_crowd_control': None, 'collapsed_reason': None, 'created_utc': 1591036548, 'distinguished': None, 'edited': False, 'gildings': {}, 'id': 'fsjvafr', 'is_submitter': False, 'link_id': 't3_gucr3h', 'locked': False, 'no_follow': True, 'parent_id': 't1_fsjp6is', 'permalink': '/r/Coronavirus/comments/gucr3h/coronavirus_cooking_survey_finds_that_people_are/fsjvafr/', 'retrieved_on': 1591038460, 'score': 1, 'send_replies': True, 'stickied': False, 'subreddit': 'Coronavirus', 'subreddit_id': 't5_2x4yx', 'total_awards_received': 0, 'treatment_tags': []}, {'all_awardings': [], 'approved_at_utc': None, 'associated_award': None, 'author': 'WowTIL', 'author_flair_background_color': None, 'author_flair_css_class': None, 'author_flair_richtext': [], 'author_flair_template_id': None, 'author_flair_text': None, 'author_flair_text_color': None, 'author_flair_type': 'text', 'author_fullname': 't2_66lag31d', 'author_patreon_flair': False, 'author_premium': False, 'awarders': [], 'banned_at_utc': None, 'body': \"That's debatable at best that you can get enough b12 from unwashed produce. Even by your fellow [vegan centric websites](https://veganhealth.org/what-every-vegan-should-know-about-vitamin-b12/), they will warn against relying on this methodology. Even to say the soil was different back then is a stretch, as it's never been proven to be suffient. And most of the soil b12 is in the form of pseudo-vitamin B12, which cannot be absorbed by your body. Any reputable vegan website will tell you that b12 supplements or fortified foods are required. \\n\\nBesides the fact that I said 200 years ago, which meant the person who chose to be on a plant diet would wash the dirt off before eating anyway, they don't have a forum full of vegans telling them not to wash away dirt. So their diet would still be unsustainable.\", 'can_mod_post': False, 'collapsed': False, 'collapsed_because_crowd_control': None, 'collapsed_reason': None, 'created_utc': 1591036493, 'distinguished': None, 'edited': False, 'gildings': {}, 'id': 'fsjv6b0', 'is_submitter': False, 'link_id': 't3_gucr3h', 'locked': False, 'no_follow': True, 'parent_id': 't1_fsjhprb', 'permalink': '/r/Coronavirus/comments/gucr3h/coronavirus_cooking_survey_finds_that_people_are/fsjv6b0/', 'retrieved_on': 1591038394, 'score': 1, 'send_replies': True, 'stickied': False, 'subreddit': 'Coronavirus', 'subreddit_id': 't5_2x4yx', 'total_awards_received': 0, 'treatment_tags': []}, {'all_awardings': [], 'approved_at_utc': None, 'associated_award': None, 'author': 'OutbreakAlpha', 'author_flair_background_color': None, 'author_flair_css_class': None, 'author_flair_richtext': [], 'author_flair_template_id': None, 'author_flair_text': None, 'author_flair_text_color': None, 'author_flair_type': 'text', 'author_fullname': 't2_2dpvismm', 'author_patreon_flair': False, 'author_premium': False, 'awarders': [], 'banned_at_utc': None, 'body': 'yeah, for sure. But after not doing it, damn is it a total stomach bomb', 'can_mod_post': False, 'collapsed': False, 'collapsed_because_crowd_control': None, 'collapsed_reason': None, 'created_utc': 1591036453, 'distinguished': None, 'edited': False, 'gildings': {}, 'id': 'fsjv3aq', 'is_submitter': False, 'link_id': 't3_gucr3h', 'locked': False, 'no_follow': True, 'parent_id': 't1_fsjdodo', 'permalink': '/r/Coronavirus/comments/gucr3h/coronavirus_cooking_survey_finds_that_people_are/fsjv3aq/', 'retrieved_on': 1591038343, 'score': 1, 'send_replies': True, 'stickied': False, 'subreddit': 'Coronavirus', 'subreddit_id': 't5_2x4yx', 'total_awards_received': 0, 'treatment_tags': []}, {'all_awardings': [], 'approved_at_utc': None, 'associated_award': None, 'author': 'theblueberryspirit', 'author_flair_background_color': None, 'author_flair_css_class': None, 'author_flair_richtext': [], 'author_flair_template_id': None, 'author_flair_text': None, 'author_flair_text_color': None, 'author_flair_type': 'text', 'author_fullname': 't2_7vk11', 'author_patreon_flair': False, 'author_premium': False, 'awarders': [], 'banned_at_utc': None, 'body': \"Technically even a buttery or mayo-y grilled cheese would be better for you than eating a bunch of takeout, just because the portion size is a lot smaller. That's the only reason I think I've been losing some weight during all this (or maybe existential dread who knows).\", 'can_mod_post': False, 'collapsed': False, 'collapsed_because_crowd_control': None, 'collapsed_reason': None, 'created_utc': 1591036348, 'distinguished': None, 'edited': False, 'gildings': {}, 'id': 'fsjuvh4', 'is_submitter': False, 'link_id': 't3_gucr3h', 'locked': False, 'no_follow': True, 'parent_id': 't1_fsiyosm', 'permalink': '/r/Coronavirus/comments/gucr3h/coronavirus_cooking_survey_finds_that_people_are/fsjuvh4/', 'retrieved_on': 1591038216, 'score': 1, 'send_replies': True, 'stickied': False, 'subreddit': 'Coronavirus', 'subreddit_id': 't5_2x4yx', 'total_awards_received': 0, 'treatment_tags': []}, {'all_awardings': [], 'approved_at_utc': None, 'associated_award': None, 'author': 'forgetful_storytellr', 'author_flair_background_color': None, 'author_flair_css_class': None, 'author_flair_richtext': [], 'author_flair_template_id': None, 'author_flair_text': None, 'author_flair_text_color': None, 'author_flair_type': 'text', 'author_fullname': 't2_76yhj', 'author_patreon_flair': False, 'author_premium': False, 'awarders': [], 'banned_at_utc': None, 'body': 'You seriously can’t cook at all?\\n\\nMake an effort to learn how to cook something so you don’t have to remain dependent all of your life.', 'can_mod_post': False, 'collapsed': False, 'collapsed_because_crowd_control': None, 'collapsed_reason': None, 'created_utc': 1591036323, 'distinguished': None, 'edited': False, 'gildings': {}, 'id': 'fsjutjz', 'is_submitter': False, 'link_id': 't3_gucr3h', 'locked': False, 'no_follow': True, 'parent_id': 't1_fshvgtn', 'permalink': '/r/Coronavirus/comments/gucr3h/coronavirus_cooking_survey_finds_that_people_are/fsjutjz/', 'retrieved_on': 1591038186, 'score': 1, 'send_replies': True, 'stickied': False, 'subreddit': 'Coronavirus', 'subreddit_id': 't5_2x4yx', 'total_awards_received': 0, 'treatment_tags': []}, {'all_awardings': [], 'approved_at_utc': None, 'associated_award': None, 'author': 'Mochigood', 'author_flair_background_color': None, 'author_flair_css_class': None, 'author_flair_richtext': [], 'author_flair_template_id': None, 'author_flair_text': None, 'author_flair_text_color': None, 'author_flair_type': 'text', 'author_fullname': 't2_f8eox', 'author_patreon_flair': False, 'author_premium': False, 'awarders': [], 'banned_at_utc': None, 'body': \"I used to be useless at makeup, but recently, I started to watch YouTube tutorials and I've gotten wayyyyy better. I bet the same could be done for cooking.\", 'can_mod_post': False, 'collapsed': False, 'collapsed_because_crowd_control': None, 'collapsed_reason': None, 'created_utc': 1591036241, 'distinguished': None, 'edited': False, 'gildings': {}, 'id': 'fsjunhe', 'is_submitter': False, 'link_id': 't3_gucr3h', 'locked': False, 'no_follow': True, 'parent_id': 't1_fshvgtn', 'permalink': '/r/Coronavirus/comments/gucr3h/coronavirus_cooking_survey_finds_that_people_are/fsjunhe/', 'retrieved_on': 1591038083, 'score': 1, 'send_replies': True, 'stickied': False, 'subreddit': 'Coronavirus', 'subreddit_id': 't5_2x4yx', 'total_awards_received': 0, 'treatment_tags': []}, {'all_awardings': [], 'approved_at_utc': None, 'associated_award': None, 'author': 'JO_on_rails', 'author_flair_background_color': None, 'author_flair_css_class': None, 'author_flair_richtext': [], 'author_flair_template_id': None, 'author_flair_text': None, 'author_flair_text_color': None, 'author_flair_type': 'text', 'author_fullname': 't2_69x0ftiq', 'author_patreon_flair': False, 'author_premium': False, 'awarders': [], 'banned_at_utc': None, 'body': 'When they said hob, they meant a homeless man that rides trains.', 'can_mod_post': False, 'collapsed': False, 'collapsed_because_crowd_control': None, 'collapsed_reason': None, 'created_utc': 1591036195, 'distinguished': None, 'edited': False, 'gildings': {}, 'id': 'fsjuk02', 'is_submitter': False, 'link_id': 't3_gucr3h', 'locked': False, 'no_follow': True, 'parent_id': 't1_fsim2or', 'permalink': '/r/Coronavirus/comments/gucr3h/coronavirus_cooking_survey_finds_that_people_are/fsjuk02/', 'retrieved_on': 1591038025, 'score': 1, 'send_replies': True, 'stickied': False, 'subreddit': 'Coronavirus', 'subreddit_id': 't5_2x4yx', 'total_awards_received': 0, 'treatment_tags': []}, {'all_awardings': [], 'approved_at_utc': None, 'associated_award': None, 'author': 'kit-kat315', 'author_flair_background_color': None, 'author_flair_css_class': None, 'author_flair_richtext': [], 'author_flair_template_id': None, 'author_flair_text': None, 'author_flair_text_color': None, 'author_flair_type': 'text', 'author_fullname': 't2_3mwcq5hc', 'author_patreon_flair': False, 'author_premium': False, 'awarders': [], 'banned_at_utc': None, 'body': \"Yes, but also no. We're eating more veg and home cooked meals, for sure. But I've been baking a ton of cakes and my husband's working on the perfect smoked ribs. And we're not exactly wasting all those extra goodies.\", 'can_mod_post': False, 'collapsed': False, 'collapsed_because_crowd_control': None, 'collapsed_reason': None, 'created_utc': 1591036073, 'distinguished': None, 'edited': False, 'gildings': {}, 'id': 'fsjuaus', 'is_submitter': False, 'link_id': 't3_gucr3h', 'locked': False, 'no_follow': True, 'parent_id': 't3_gucr3h', 'permalink': '/r/Coronavirus/comments/gucr3h/coronavirus_cooking_survey_finds_that_people_are/fsjuaus/', 'retrieved_on': 1591037869, 'score': 1, 'send_replies': True, 'stickied': False, 'subreddit': 'Coronavirus', 'subreddit_id': 't5_2x4yx', 'total_awards_received': 0, 'treatment_tags': []}, {'all_awardings': [], 'approved_at_utc': None, 'associated_award': None, 'author': 'Local-Weather', 'author_flair_background_color': None, 'author_flair_css_class': None, 'author_flair_richtext': [], 'author_flair_template_id': None, 'author_flair_text': None, 'author_flair_text_color': None, 'author_flair_type': 'text', 'author_fullname': 't2_5ng7ogbv', 'author_patreon_flair': False, 'author_premium': False, 'awarders': [], 'banned_at_utc': None, 'body': 'Let me counter that argument.  Yes.', 'can_mod_post': False, 'collapsed': False, 'collapsed_because_crowd_control': None, 'collapsed_reason': None, 'created_utc': 1591035721, 'distinguished': None, 'edited': False, 'gildings': {}, 'id': 'fsjtkdg', 'is_submitter': False, 'link_id': 't3_gucr3h', 'locked': False, 'no_follow': True, 'parent_id': 't1_fsjt35y', 'permalink': '/r/Coronavirus/comments/gucr3h/coronavirus_cooking_survey_finds_that_people_are/fsjtkdg/', 'retrieved_on': 1591037426, 'score': 1, 'send_replies': True, 'stickied': False, 'subreddit': 'Coronavirus', 'subreddit_id': 't5_2x4yx', 'total_awards_received': 0, 'treatment_tags': []}, {'all_awardings': [], 'approved_at_utc': None, 'associated_award': None, 'author': 'Local-Weather', 'author_flair_background_color': None, 'author_flair_css_class': None, 'author_flair_richtext': [], 'author_flair_template_id': None, 'author_flair_text': None, 'author_flair_text_color': None, 'author_flair_type': 'text', 'author_fullname': 't2_5ng7ogbv', 'author_patreon_flair': False, 'author_premium': False, 'awarders': [], 'banned_at_utc': None, 'body': \"Source on that?  Unless the average person on a ventilator is very overweight I think 40% is astonishingly high.  I'm 190lbs roughly so I would drop to 114 lbs?  I haven't weighed that much since i was 13.\", 'can_mod_post': False, 'collapsed': False, 'collapsed_because_crowd_control': None, 'collapsed_reason': None, 'created_utc': 1591035677, 'distinguished': None, 'edited': False, 'gildings': {}, 'id': 'fsjth31', 'is_submitter': False, 'link_id': 't3_gucr3h', 'locked': False, 'no_follow': True, 'parent_id': 't1_fsimqzd', 'permalink': '/r/Coronavirus/comments/gucr3h/coronavirus_cooking_survey_finds_that_people_are/fsjth31/', 'retrieved_on': 1591037371, 'score': 1, 'send_replies': True, 'stickied': False, 'subreddit': 'Coronavirus', 'subreddit_id': 't5_2x4yx', 'total_awards_received': 0, 'treatment_tags': []}, {'all_awardings': [], 'approved_at_utc': None, 'associated_award': None, 'author': 'Shadaez', 'author_flair_background_color': None, 'author_flair_css_class': None, 'author_flair_richtext': [], 'author_flair_template_id': None, 'author_flair_text': None, 'author_flair_text_color': None, 'author_flair_type': 'text', 'author_fullname': 't2_5emm5', 'author_patreon_flair': False, 'author_premium': False, 'awarders': [], 'banned_at_utc': None, 'body': 'no', 'can_mod_post': False, 'collapsed': False, 'collapsed_because_crowd_control': None, 'collapsed_reason': None, 'created_utc': 1591035500, 'distinguished': None, 'edited': False, 'gildings': {}, 'id': 'fsjt35y', 'is_submitter': False, 'link_id': 't3_gucr3h', 'locked': False, 'no_follow': True, 'parent_id': 't1_fsj96yw', 'permalink': '/r/Coronavirus/comments/gucr3h/coronavirus_cooking_survey_finds_that_people_are/fsjt35y/', 'retrieved_on': 1591037136, 'score': 1, 'send_replies': False, 'stickied': False, 'subreddit': 'Coronavirus', 'subreddit_id': 't5_2x4yx', 'total_awards_received': 0, 'treatment_tags': []}, {'all_awardings': [], 'approved_at_utc': None, 'associated_award': None, 'author': 'testestestestest555', 'author_flair_background_color': None, 'author_flair_css_class': None, 'author_flair_richtext': [], 'author_flair_template_id': None, 'author_flair_text': None, 'author_flair_text_color': None, 'author_flair_type': 'text', 'author_fullname': 't2_1dsbh0ob', 'author_patreon_flair': False, 'author_premium': False, 'awarders': [], 'banned_at_utc': None, 'body': 'Butter spreads just fine at room temp. Get a butter dish and keep some out of the fridge for spreading.', 'can_mod_post': False, 'collapsed': False, 'collapsed_because_crowd_control': None, 'collapsed_reason': None, 'created_utc': 1591034896, 'distinguished': None, 'edited': False, 'gildings': {}, 'id': 'fsjru3h', 'is_submitter': False, 'link_id': 't3_gucr3h', 'locked': False, 'no_follow': True, 'parent_id': 't1_fsi8xcm', 'permalink': '/r/Coronavirus/comments/gucr3h/coronavirus_cooking_survey_finds_that_people_are/fsjru3h/', 'retrieved_on': 1591036386, 'score': 1, 'send_replies': True, 'stickied': False, 'subreddit': 'Coronavirus', 'subreddit_id': 't5_2x4yx', 'total_awards_received': 0, 'treatment_tags': []}, {'all_awardings': [], 'approved_at_utc': None, 'associated_award': None, 'author': 'JO_on_rails', 'author_flair_background_color': None, 'author_flair_css_class': None, 'author_flair_richtext': [], 'author_flair_template_id': None, 'author_flair_text': None, 'author_flair_text_color': None, 'author_flair_type': 'text', 'author_fullname': 't2_69x0ftiq', 'author_patreon_flair': False, 'author_premium': False, 'awarders': [], 'banned_at_utc': None, 'body': 'Try  eating it with some butter oil. Hong Kong gutter oil is the best. Gutter oil from all other cities is inferior.', 'can_mod_post': False, 'collapsed': False, 'collapsed_because_crowd_control': None, 'collapsed_reason': None, 'created_utc': 1591034892, 'distinguished': None, 'edited': False, 'gildings': {}, 'id': 'fsjrtrf', 'is_submitter': False, 'link_id': 't3_gucr3h', 'locked': False, 'no_follow': True, 'parent_id': 't1_fsifzxv', 'permalink': '/r/Coronavirus/comments/gucr3h/coronavirus_cooking_survey_finds_that_people_are/fsjrtrf/', 'retrieved_on': 1591036380, 'score': 1, 'send_replies': True, 'stickied': False, 'subreddit': 'Coronavirus', 'subreddit_id': 't5_2x4yx', 'total_awards_received': 0, 'treatment_tags': []}, {'all_awardings': [], 'approved_at_utc': None, 'associated_award': None, 'author': 'Grantology', 'author_flair_background_color': None, 'author_flair_css_class': None, 'author_flair_richtext': [], 'author_flair_template_id': None, 'author_flair_text': None, 'author_flair_text_color': None, 'author_flair_type': 'text', 'author_fullname': 't2_7cc0z', 'author_patreon_flair': False, 'author_premium': False, 'awarders': [], 'banned_at_utc': None, 'body': 'Im so much happier since I started cooking at homr again a month ago. Been losing weight and eating better. Also saved a shitload of money. Not only that, but I love that my local grocery stores have implemented carside pickup. I have so much more free time without the traffic/indoor shopping. Much better quality of life.', 'can_mod_post': False, 'collapsed': False, 'collapsed_because_crowd_control': None, 'collapsed_reason': None, 'created_utc': 1591034891, 'distinguished': None, 'edited': False, 'gildings': {}, 'id': 'fsjrtph', 'is_submitter': False, 'link_id': 't3_gucr3h', 'locked': False, 'no_follow': True, 'parent_id': 't1_fsho4i9', 'permalink': '/r/Coronavirus/comments/gucr3h/coronavirus_cooking_survey_finds_that_people_are/fsjrtph/', 'retrieved_on': 1591036379, 'score': 1, 'send_replies': True, 'stickied': False, 'subreddit': 'Coronavirus', 'subreddit_id': 't5_2x4yx', 'total_awards_received': 0, 'treatment_tags': []}, {'all_awardings': [], 'approved_at_utc': None, 'associated_award': None, 'author': 'penpointaccuracy', 'author_flair_background_color': None, 'author_flair_css_class': None, 'author_flair_richtext': [], 'author_flair_template_id': None, 'author_flair_text': None, 'author_flair_text_color': None, 'author_flair_type': 'text', 'author_fullname': 't2_rsju3', 'author_patreon_flair': False, 'author_premium': False, 'awarders': [], 'banned_at_utc': None, 'body': 'To tag on to skillet heat, proper temp control of the pan. Too hot and you get Christmas coal for bread.', 'can_mod_post': False, 'collapsed': False, 'collapsed_because_crowd_control': None, 'collapsed_reason': None, 'created_utc': 1591034491, 'distinguished': None, 'edited': False, 'gildings': {}, 'id': 'fsjr02a', 'is_submitter': False, 'link_id': 't3_gucr3h', 'locked': False, 'no_follow': True, 'parent_id': 't1_fshxn6o', 'permalink': '/r/Coronavirus/comments/gucr3h/coronavirus_cooking_survey_finds_that_people_are/fsjr02a/', 'retrieved_on': 1591035885, 'score': 1, 'send_replies': True, 'stickied': False, 'subreddit': 'Coronavirus', 'subreddit_id': 't5_2x4yx', 'total_awards_received': 0, 'treatment_tags': []}, {'all_awardings': [], 'approved_at_utc': None, 'associated_award': None, 'author': 'aithne1', 'author_flair_background_color': None, 'author_flair_css_class': None, 'author_flair_richtext': [], 'author_flair_template_id': None, 'author_flair_text': None, 'author_flair_text_color': None, 'author_flair_type': 'text', 'author_fullname': 't2_i17kd', 'author_patreon_flair': False, 'author_premium': False, 'awarders': [], 'banned_at_utc': None, 'body': \"This is totally true in my family. We're cooking every meal, and my lunches are a million times healthier at home than at the office. Even our pizza is more nutritious now that I've learned you can make a crust with just Greek yogurt and whole wheat flour (plus salt and baking soda). Down 13 lbs and hoping to be able to telework til I knock off at least 20 total.\", 'can_mod_post': False, 'collapsed': False, 'collapsed_because_crowd_control': None, 'collapsed_reason': None, 'created_utc': 1591034018, 'distinguished': None, 'edited': False, 'gildings': {}, 'id': 'fsjq0ra', 'is_submitter': False, 'link_id': 't3_gucr3h', 'locked': False, 'no_follow': True, 'parent_id': 't3_gucr3h', 'permalink': '/r/Coronavirus/comments/gucr3h/coronavirus_cooking_survey_finds_that_people_are/fsjq0ra/', 'retrieved_on': 1591035303, 'score': 1, 'send_replies': True, 'stickied': False, 'subreddit': 'Coronavirus', 'subreddit_id': 't5_2x4yx', 'total_awards_received': 0, 'treatment_tags': []}, {'all_awardings': [], 'approved_at_utc': None, 'associated_award': None, 'author': '781229131325', 'author_flair_background_color': None, 'author_flair_css_class': None, 'author_flair_richtext': [], 'author_flair_template_id': None, 'author_flair_text': None, 'author_flair_text_color': None, 'author_flair_type': 'text', 'author_fullname': 't2_5hgttchg', 'author_patreon_flair': False, 'author_premium': False, 'awarders': [], 'banned_at_utc': None, 'body': 'Just take a b12 supplement. You realize that b12 is found in dirt? The only reason animal products have b12 is because they are either injected with b12 or their feed is fortified with b12. You can just take the supplement directly instead', 'can_mod_post': False, 'collapsed': False, 'collapsed_because_crowd_control': None, 'collapsed_reason': None, 'created_utc': 1591033615, 'distinguished': None, 'edited': False, 'gildings': {}, 'id': 'fsjp6is', 'is_submitter': False, 'link_id': 't3_gucr3h', 'locked': False, 'no_follow': True, 'parent_id': 't1_fsj7pi7', 'permalink': '/r/Coronavirus/comments/gucr3h/coronavirus_cooking_survey_finds_that_people_are/fsjp6is/', 'retrieved_on': 1591034809, 'score': 1, 'send_replies': True, 'stickied': False, 'subreddit': 'Coronavirus', 'subreddit_id': 't5_2x4yx', 'total_awards_received': 0, 'treatment_tags': []}, {'all_awardings': [], 'approved_at_utc': None, 'associated_award': None, 'author': 'ericjk1', 'author_flair_background_color': None, 'author_flair_css_class': None, 'author_flair_richtext': [], 'author_flair_template_id': None, 'author_flair_text': None, 'author_flair_text_color': None, 'author_flair_type': 'text', 'author_fullname': 't2_59xvz', 'author_patreon_flair': False, 'author_premium': False, 'awarders': [], 'banned_at_utc': None, 'body': 'When your unemployed 1 dollar brocali looks alot better then 2 dollar single microwave burrito', 'can_mod_post': False, 'collapsed': False, 'collapsed_because_crowd_control': None, 'collapsed_reason': None, 'created_utc': 1591033396, 'distinguished': None, 'edited': False, 'gildings': {}, 'id': 'fsjoq48', 'is_submitter': False, 'link_id': 't3_gucr3h', 'locked': False, 'no_follow': True, 'parent_id': 't3_gucr3h', 'permalink': '/r/Coronavirus/comments/gucr3h/coronavirus_cooking_survey_finds_that_people_are/fsjoq48/', 'retrieved_on': 1591034539, 'score': 1, 'send_replies': True, 'stickied': False, 'subreddit': 'Coronavirus', 'subreddit_id': 't5_2x4yx', 'total_awards_received': 0, 'treatment_tags': []}, {'all_awardings': [], 'approved_at_utc': None, 'associated_award': None, 'author': 'lost_man_wants_soda', 'author_flair_background_color': None, 'author_flair_css_class': None, 'author_flair_richtext': [], 'author_flair_template_id': None, 'author_flair_text': None, 'author_flair_text_color': None, 'author_flair_type': 'text', 'author_fullname': 't2_493xhyda', 'author_patreon_flair': False, 'author_premium': False, 'awarders': [], 'banned_at_utc': None, 'body': 'All I eat are vegetables now and I’m hungry all the time.\\n\\nI hate being healthy', 'can_mod_post': False, 'collapsed': False, 'collapsed_because_crowd_control': None, 'collapsed_reason': None, 'created_utc': 1591033355, 'distinguished': None, 'edited': False, 'gildings': {}, 'id': 'fsjomxn', 'is_submitter': False, 'link_id': 't3_gucr3h', 'locked': False, 'no_follow': True, 'parent_id': 't3_gucr3h', 'permalink': '/r/Coronavirus/comments/gucr3h/coronavirus_cooking_survey_finds_that_people_are/fsjomxn/', 'retrieved_on': 1591034485, 'score': 1, 'send_replies': True, 'stickied': False, 'subreddit': 'Coronavirus', 'subreddit_id': 't5_2x4yx', 'total_awards_received': 0, 'treatment_tags': []}, {'all_awardings': [], 'approved_at_utc': None, 'associated_award': None, 'author': '[deleted]', 'author_flair_background_color': '', 'author_flair_css_class': None, 'author_flair_template_id': None, 'author_flair_text': None, 'author_flair_text_color': 'dark', 'awarders': [], 'banned_at_utc': None, 'body': '[removed]', 'can_mod_post': False, 'collapsed': True, 'collapsed_because_crowd_control': None, 'collapsed_reason': None, 'created_utc': 1591033073, 'distinguished': None, 'edited': False, 'gildings': {}, 'id': 'fsjo1ul', 'is_submitter': False, 'link_id': 't3_gucr3h', 'locked': False, 'no_follow': True, 'parent_id': 't3_gucr3h', 'permalink': '/r/Coronavirus/comments/gucr3h/coronavirus_cooking_survey_finds_that_people_are/fsjo1ul/', 'retrieved_on': 1591034135, 'score': 1, 'send_replies': True, 'stickied': False, 'subreddit': 'Coronavirus', 'subreddit_id': 't5_2x4yx', 'total_awards_received': 0, 'treatment_tags': []}, {'all_awardings': [], 'approved_at_utc': None, 'associated_award': None, 'author': 'AuDBallBag', 'author_flair_background_color': None, 'author_flair_css_class': None, 'author_flair_richtext': [], 'author_flair_template_id': None, 'author_flair_text': None, 'author_flair_text_color': None, 'author_flair_type': 'text', 'author_fullname': 't2_659lj', 'author_patreon_flair': False, 'author_premium': False, 'awarders': [], 'banned_at_utc': None, 'body': 'Our chain is Hannafords but I think you can check hello fresh website for other distributors.\\n\\nEdit: https://fortune.com/2018/06/04/hellofresh-grocery-stores/', 'can_mod_post': False, 'collapsed': False, 'collapsed_because_crowd_control': None, 'collapsed_reason': None, 'created_utc': 1591032897, 'distinguished': None, 'edited': False, 'gildings': {}, 'id': 'fsjnos0', 'is_submitter': False, 'link_id': 't3_gucr3h', 'locked': False, 'no_follow': True, 'parent_id': 't1_fsjhi14', 'permalink': '/r/Coronavirus/comments/gucr3h/coronavirus_cooking_survey_finds_that_people_are/fsjnos0/', 'retrieved_on': 1591033916, 'score': 1, 'send_replies': True, 'stickied': False, 'subreddit': 'Coronavirus', 'subreddit_id': 't5_2x4yx', 'total_awards_received': 0, 'treatment_tags': []}, {'all_awardings': [], 'approved_at_utc': None, 'associated_award': None, 'author': '[deleted]', 'author_flair_background_color': '', 'author_flair_css_class': None, 'author_flair_template_id': None, 'author_flair_text': None, 'author_flair_text_color': 'dark', 'awarders': [], 'banned_at_utc': None, 'body': '[removed]', 'can_mod_post': False, 'collapsed': True, 'collapsed_because_crowd_control': None, 'collapsed_reason': None, 'created_utc': 1591032806, 'distinguished': None, 'edited': False, 'gildings': {}, 'id': 'fsjnhw8', 'is_submitter': False, 'link_id': 't3_gucr3h', 'locked': False, 'no_follow': True, 'parent_id': 't3_gucr3h', 'permalink': '/r/Coronavirus/comments/gucr3h/coronavirus_cooking_survey_finds_that_people_are/fsjnhw8/', 'retrieved_on': 1591033801, 'score': 1, 'send_replies': True, 'stickied': False, 'subreddit': 'Coronavirus', 'subreddit_id': 't5_2x4yx', 'total_awards_received': 0, 'treatment_tags': []}, {'all_awardings': [], 'approved_at_utc': None, 'associated_award': None, 'author': 'ComradeNexus', 'author_flair_background_color': None, 'author_flair_css_class': None, 'author_flair_richtext': [], 'author_flair_template_id': None, 'author_flair_text': None, 'author_flair_text_color': None, 'author_flair_type': 'text', 'author_fullname': 't2_wsbgz', 'author_patreon_flair': False, 'author_premium': False, 'awarders': [], 'banned_at_utc': None, 'body': 'Pro tip: Once you master that, a quesadilla is just a grilled cheese with tortillas.', 'can_mod_post': False, 'collapsed': False, 'collapsed_because_crowd_control': None, 'collapsed_reason': None, 'created_utc': 1591032611, 'distinguished': None, 'edited': False, 'gildings': {}, 'id': 'fsjn3k5', 'is_submitter': False, 'link_id': 't3_gucr3h', 'locked': False, 'no_follow': True, 'parent_id': 't1_fshx5i6', 'permalink': '/r/Coronavirus/comments/gucr3h/coronavirus_cooking_survey_finds_that_people_are/fsjn3k5/', 'retrieved_on': 1591033564, 'score': 1, 'send_replies': True, 'stickied': False, 'subreddit': 'Coronavirus', 'subreddit_id': 't5_2x4yx', 'total_awards_received': 0, 'treatment_tags': []}, {'all_awardings': [], 'approved_at_utc': None, 'associated_award': None, 'author': '[deleted]', 'author_flair_background_color': '', 'author_flair_css_class': None, 'author_flair_template_id': None, 'author_flair_text': None, 'author_flair_text_color': 'dark', 'awarders': [], 'banned_at_utc': None, 'body': '[removed]', 'can_mod_post': False, 'collapsed': True, 'collapsed_because_crowd_control': None, 'collapsed_reason': None, 'created_utc': 1591032141, 'distinguished': None, 'edited': False, 'gildings': {}, 'id': 'fsjm4gd', 'is_submitter': False, 'link_id': 't3_gucr3h', 'locked': False, 'no_follow': True, 'parent_id': 't3_gucr3h', 'permalink': '/r/Coronavirus/comments/gucr3h/coronavirus_cooking_survey_finds_that_people_are/fsjm4gd/', 'retrieved_on': 1591032990, 'score': 1, 'send_replies': True, 'stickied': False, 'subreddit': 'Coronavirus', 'subreddit_id': 't5_2x4yx', 'total_awards_received': 0, 'treatment_tags': []}, {'all_awardings': [], 'approved_at_utc': None, 'associated_award': None, 'author': 'username18379', 'author_flair_background_color': None, 'author_flair_css_class': None, 'author_flair_richtext': [], 'author_flair_template_id': None, 'author_flair_text': None, 'author_flair_text_color': None, 'author_flair_type': 'text', 'author_fullname': 't2_46zhbnom', 'author_patreon_flair': False, 'author_premium': False, 'awarders': [], 'banned_at_utc': None, 'body': 'Interesting. I actually found we were wasting more food because we weren’t taking left overs to work for lunch anymore. And it was hard to keep track of the days so all of a sudden we couldn’t remember how old the food was.', 'can_mod_post': False, 'collapsed': False, 'collapsed_because_crowd_control': None, 'collapsed_reason': None, 'created_utc': 1591032123, 'distinguished': None, 'edited': False, 'gildings': {}, 'id': 'fsjm353', 'is_submitter': False, 'link_id': 't3_gucr3h', 'locked': False, 'no_follow': True, 'parent_id': 't3_gucr3h', 'permalink': '/r/Coronavirus/comments/gucr3h/coronavirus_cooking_survey_finds_that_people_are/fsjm353/', 'retrieved_on': 1591032968, 'score': 1, 'send_replies': True, 'stickied': False, 'subreddit': 'Coronavirus', 'subreddit_id': 't5_2x4yx', 'total_awards_received': 0, 'treatment_tags': []}, {'all_awardings': [], 'approved_at_utc': None, 'associated_award': None, 'author': 'SVAuspicious', 'author_flair_background_color': None, 'author_flair_css_class': None, 'author_flair_richtext': [], 'author_flair_template_id': None, 'author_flair_text': None, 'author_flair_text_color': None, 'author_flair_type': 'text', 'author_fullname': 't2_486ye6x', 'author_patreon_flair': False, 'author_premium': False, 'awarders': [], 'banned_at_utc': None, 'body': \"What people say and what they do are not the same. What the article describes and what I observe in my local grocery are different. In the beginning of March the grocery was pretty well wiped out. I suspect most of the produce went bad and was wasted. Somewhere there are people sitting in their living room surrounded by rolls of toilet paper and bags of flour. The grocery has mostly bounced back subject to the same supply chain issues as everywhere else. TP, paper towels, facial tissues, and paper napkins have not caught up. What gets wiped out now are all prepared and convenience foods: frozen dinners, steam-in-bag frozen veg, jarred pasta sauce, pasta, canned chili, prepared foods including rotisserie chicken. Junk food is definitely picked over: chips, cookies, crackers, salsa, dips. My conclusion is that the majority of people can't or won't cook. Tostidos chips and El Paso salsa may or may not be healthier than McDonalds two or three times per day but they for sure are not cooking. \\n\\nIn my grocery we have an abundance of produce. Dairy, except for block cheese, is fully stocked. No problem with eggs. Even meats, at least the cuts we buy, are stocked. All the pre-made hamburgers are gone but there is all kinds of ground beef right next to the empty section. No peeled and cooked frozen shrimp but plenty of raw shrimp. People can't or won't cook. \\n\\nFoods that can be shoved into a microwave and eaten as is are in short supply. The makings for those same products are plentiful. Bag-o-salad is gone. Lettuce, peppers, carrots, tomato, onion, etc. are plentiful. No prepared potato salad in the deli but potatoes, celery, green onion in produce and mayonnaise and mustard on aisle 4 (or is it 7?). People can't or won't cook.\", 'can_mod_post': False, 'collapsed': False, 'collapsed_because_crowd_control': None, 'collapsed_reason': None, 'created_utc': 1591032071, 'distinguished': None, 'edited': False, 'gildings': {}, 'id': 'fsjlzby', 'is_submitter': False, 'link_id': 't3_gucr3h', 'locked': False, 'no_follow': True, 'parent_id': 't3_gucr3h', 'permalink': '/r/Coronavirus/comments/gucr3h/coronavirus_cooking_survey_finds_that_people_are/fsjlzby/', 'retrieved_on': 1591032906, 'score': 1, 'send_replies': True, 'stickied': False, 'subreddit': 'Coronavirus', 'subreddit_id': 't5_2x4yx', 'total_awards_received': 0, 'treatment_tags': []}, {'all_awardings': [], 'approved_at_utc': None, 'associated_award': None, 'author': '[deleted]', 'author_flair_background_color': '', 'author_flair_css_class': None, 'author_flair_template_id': None, 'author_flair_text': None, 'author_flair_text_color': 'dark', 'awarders': [], 'banned_at_utc': None, 'body': '[removed]', 'can_mod_post': False, 'collapsed': True, 'collapsed_because_crowd_control': None, 'collapsed_reason': None, 'created_utc': 1591031993, 'distinguished': None, 'edited': False, 'gildings': {}, 'id': 'fsjltja', 'is_submitter': False, 'link_id': 't3_gucr3h', 'locked': False, 'no_follow': True, 'parent_id': 't1_fshvgtn', 'permalink': '/r/Coronavirus/comments/gucr3h/coronavirus_cooking_survey_finds_that_people_are/fsjltja/', 'retrieved_on': 1591032806, 'score': 1, 'send_replies': True, 'stickied': False, 'subreddit': 'Coronavirus', 'subreddit_id': 't5_2x4yx', 'total_awards_received': 0, 'treatment_tags': []}]\n"
          ],
          "name": "stdout"
        }
      ]
    },
    {
      "cell_type": "code",
      "metadata": {
        "id": "f-PKXXaZonCz",
        "colab_type": "code",
        "colab": {}
      },
      "source": [
        "subCount = 0\n",
        "subStatsC = {}"
      ],
      "execution_count": 69,
      "outputs": []
    },
    {
      "cell_type": "code",
      "metadata": {
        "id": "hBKVa3zfJ2j_",
        "colab_type": "code",
        "colab": {}
      },
      "source": [
        "def collectComments(subm):\n",
        "    subData = list() #list to store data points\n",
        "    permalink=subm['permalink']\n",
        "    comment = subm['body']\n",
        "    subreddit = subm['subreddit']\n",
        "    subreddit_id = subm['subreddit_id']    \n",
        "    total_awards_received = subm['total_awards_received']\n",
        "    created = datetime.fromtimestamp(subm['created_utc']) #1520561700.0    \n",
        "    \n",
        "    subData.append((permalink,comment,subreddit,subreddit_id,total_awards_received,created))\n",
        "    subStatsC[permalink] = subData"
      ],
      "execution_count": 70,
      "outputs": []
    },
    {
      "cell_type": "code",
      "metadata": {
        "id": "zuWs1QASA80t",
        "colab_type": "code",
        "colab": {
          "base_uri": "https://localhost:8080/",
          "height": 70
        },
        "outputId": "973b2519-2551-41d8-d5ef-04c6810259a9"
      },
      "source": [
        "# data=getPushshiftComments('gucr3h')\n",
        "# for submission in data:\n",
        "#   collectComments(submission)\n",
        "\n",
        "# print(subStatsC)\n"
      ],
      "execution_count": 60,
      "outputs": [
        {
          "output_type": "stream",
          "text": [
            "https://api.pushshift.io/reddit/comment/search/?link_id=gucr3h&limit=100\n",
            "{'/r/Coronavirus/comments/gucr3h/coronavirus_cooking_survey_finds_that_people_are/fsw62vl/': [('/r/Coronavirus/comments/gucr3h/coronavirus_cooking_survey_finds_that_people_are/fsw62vl/', \"I am happy I wrote it for you, and you deserved it!! And your reply is the kindest thing I've heard in a long time and I can't tell you how much that means to me, especially these days! Heartfelt best wishes to you!!\", 'Coronavirus', 't5_2x4yx', 0, datetime.datetime(2020, 6, 4, 19, 33, 44))], '/r/Coronavirus/comments/gucr3h/coronavirus_cooking_survey_finds_that_people_are/fsu0p77/': [('/r/Coronavirus/comments/gucr3h/coronavirus_cooking_survey_finds_that_people_are/fsu0p77/', 'this is the most wholesome comment i’ve ever received. i hope you and your boyfriend have loads of years of enjoying home-grown veggies together!', 'Coronavirus', 't5_2x4yx', 0, datetime.datetime(2020, 6, 4, 6, 15, 27))], '/r/Coronavirus/comments/gucr3h/coronavirus_cooking_survey_finds_that_people_are/fsos2db/': [('/r/Coronavirus/comments/gucr3h/coronavirus_cooking_survey_finds_that_people_are/fsos2db/', \"Non-stick doesn't last as long as traditional pans, but it will survive a few years of regular use if you treat it right:\\n\\n* No high heat\\n* Hand-wash only\\n* No metal utensils\\n\\nMind you, non-stick is an awful choice if you own exotic birds.\", 'Coronavirus', 't5_2x4yx', 0, datetime.datetime(2020, 6, 2, 23, 7, 32))], '/r/Coronavirus/comments/gucr3h/coronavirus_cooking_survey_finds_that_people_are/fsodte8/': [('/r/Coronavirus/comments/gucr3h/coronavirus_cooking_survey_finds_that_people_are/fsodte8/', 'Haha Glad I could help you to not miss this one!', 'Coronavirus', 't5_2x4yx', 0, datetime.datetime(2020, 6, 2, 21, 9, 9))], '/r/Coronavirus/comments/gucr3h/coronavirus_cooking_survey_finds_that_people_are/fsocx3h/': [('/r/Coronavirus/comments/gucr3h/coronavirus_cooking_survey_finds_that_people_are/fsocx3h/', \"Oh, dang, thanks! I think I've missed my Cake Day every year on reddit since I joined haha\", 'Coronavirus', 't5_2x4yx', 0, datetime.datetime(2020, 6, 2, 21, 1, 54))], '/r/Coronavirus/comments/gucr3h/coronavirus_cooking_survey_finds_that_people_are/fsnxxg0/': [('/r/Coronavirus/comments/gucr3h/coronavirus_cooking_survey_finds_that_people_are/fsnxxg0/', 'Happy Cake Day!', 'Coronavirus', 't5_2x4yx', 0, datetime.datetime(2020, 6, 2, 19, 5, 7))], '/r/Coronavirus/comments/gucr3h/coronavirus_cooking_survey_finds_that_people_are/fsntnb6/': [('/r/Coronavirus/comments/gucr3h/coronavirus_cooking_survey_finds_that_people_are/fsntnb6/', \"You're so welcome! I definitely started out as the Eva Gabor of this Green Acres relationship, and still don't think I could accomplish much, besides delivering good tea and a good hat and some snacks. However, I couldn't be more grateful for the work that he does, the food that we get, etc. Thank you so much for your comment, I hope it sparks more people to at least start to try any of it! Also, maybe some can work together with their neighbors sharing and learning, and so on! He's actually using a lot more pots this year instead of raised beds, etc. because he finds ways to make soil improve in the pots for the next generations and protects them from too much rain, etc. It's so much more complicated than that but that's just a detail or two of course as you know. It blows my mind what you gardeners can do! And greens have the most nutrients per calorie! Thanks again and best wishes!\", 'Coronavirus', 't5_2x4yx', 0, datetime.datetime(2020, 6, 2, 18, 31, 44))], '/r/Coronavirus/comments/gucr3h/coronavirus_cooking_survey_finds_that_people_are/fsnon2r/': [('/r/Coronavirus/comments/gucr3h/coronavirus_cooking_survey_finds_that_people_are/fsnon2r/', \"I have a block of super sharp cheddar on hand. I'm totally trying the mayo method for lunch tomorrow.\", 'Coronavirus', 't5_2x4yx', 0, datetime.datetime(2020, 6, 2, 17, 52, 34))], '/r/Coronavirus/comments/gucr3h/coronavirus_cooking_survey_finds_that_people_are/fsmxso4/': [('/r/Coronavirus/comments/gucr3h/coronavirus_cooking_survey_finds_that_people_are/fsmxso4/', 'Care to elaborate?', 'Coronavirus', 't5_2x4yx', 0, datetime.datetime(2020, 6, 2, 14, 14, 2))], '/r/Coronavirus/comments/gucr3h/coronavirus_cooking_survey_finds_that_people_are/fsmdw03/': [('/r/Coronavirus/comments/gucr3h/coronavirus_cooking_survey_finds_that_people_are/fsmdw03/', '[removed]', 'Coronavirus', 't5_2x4yx', 0, datetime.datetime(2020, 6, 2, 10, 10, 10))], '/r/Coronavirus/comments/gucr3h/coronavirus_cooking_survey_finds_that_people_are/fsmbpbi/': [('/r/Coronavirus/comments/gucr3h/coronavirus_cooking_survey_finds_that_people_are/fsmbpbi/', 'What can I say? I have expensive tastes and a sophisticated palate.', 'Coronavirus', 't5_2x4yx', 0, datetime.datetime(2020, 6, 2, 9, 33, 58))], '/r/Coronavirus/comments/gucr3h/coronavirus_cooking_survey_finds_that_people_are/fslluk3/': [('/r/Coronavirus/comments/gucr3h/coronavirus_cooking_survey_finds_that_people_are/fslluk3/', \"Same, I miss my scheduled group fitness classes. I didn't realize how much of my week was built around yoga or zumba or bodypump start times. \\n\\nNow there's no reason to go to bed on time, nothing to be on time to, nothing to look forward to, no reason to put on makeup or do your hair, barely even reason to get dressed.\\n\\nThe riots put my anxiety through the roof, I'm struggling to concentrate this last week. It feels like we'll be living this way, plus economic consequences and cycles of protest, for YEARS.\\n\\nBut I am eating healthier so, there's that.\", 'Coronavirus', 't5_2x4yx', 0, datetime.datetime(2020, 6, 2, 3, 48, 34))], '/r/Coronavirus/comments/gucr3h/coronavirus_cooking_survey_finds_that_people_are/fslke2r/': [('/r/Coronavirus/comments/gucr3h/coronavirus_cooking_survey_finds_that_people_are/fslke2r/', \"They obviously didn't poll me. I'm sitting here eating nacho cheese Doritos.\", 'Coronavirus', 't5_2x4yx', 0, datetime.datetime(2020, 6, 2, 3, 33, 46))], '/r/Coronavirus/comments/gucr3h/coronavirus_cooking_survey_finds_that_people_are/fsle6rc/': [('/r/Coronavirus/comments/gucr3h/coronavirus_cooking_survey_finds_that_people_are/fsle6rc/', \"Lol the five pounds I've gained would beg to differ\", 'Coronavirus', 't5_2x4yx', 0, datetime.datetime(2020, 6, 2, 2, 32, 1))], '/r/Coronavirus/comments/gucr3h/coronavirus_cooking_survey_finds_that_people_are/fslbqry/': [('/r/Coronavirus/comments/gucr3h/coronavirus_cooking_survey_finds_that_people_are/fslbqry/', 'I eat my entire bag of Cheetos and Hagan Daz ice cream TYVM.', 'Coronavirus', 't5_2x4yx', 0, datetime.datetime(2020, 6, 2, 2, 8, 21))], '/r/Coronavirus/comments/gucr3h/coronavirus_cooking_survey_finds_that_people_are/fslbbs6/': [('/r/Coronavirus/comments/gucr3h/coronavirus_cooking_survey_finds_that_people_are/fslbbs6/', \"Almost the same deal in brasil. In the end it depends on your company's plan with the ticket provider. Most company gives you the meal ticket, some lets you choose between meal and food ticket and a few gives you both tickets.\\n\\n\\n\\nThe meal ticket is restaurant only and the food is grocery only. Groceries will only accept meal when they have a restaurant inside, but still its for restaurant products only (you cant buy a broom with meal ticket)\", 'Coronavirus', 't5_2x4yx', 0, datetime.datetime(2020, 6, 2, 2, 4, 24))], '/r/Coronavirus/comments/gucr3h/coronavirus_cooking_survey_finds_that_people_are/fslafsc/': [('/r/Coronavirus/comments/gucr3h/coronavirus_cooking_survey_finds_that_people_are/fslafsc/', \"I'm sure if I went to a farmers market all my issues would be solved\", 'Coronavirus', 't5_2x4yx', 0, datetime.datetime(2020, 6, 2, 1, 56, 2))], '/r/Coronavirus/comments/gucr3h/coronavirus_cooking_survey_finds_that_people_are/fslae3c/': [('/r/Coronavirus/comments/gucr3h/coronavirus_cooking_survey_finds_that_people_are/fslae3c/', \"I do grocery pick up, It has told me out of stock on bananas, mushrooms, spinach, and I have not been given them on my orders sometimes however next week they will have them. I'm sure different areas will be affected differently. I didnt get any meat once I dont go into stores at all but somone else I know does and they told me there was none to buy, however I placed an order  a few days later and got some. Produce is here just not as consistently as it was in my area.\", 'Coronavirus', 't5_2x4yx', 0, datetime.datetime(2020, 6, 2, 1, 55, 36))], '/r/Coronavirus/comments/gucr3h/coronavirus_cooking_survey_finds_that_people_are/fsl7wtj/': [('/r/Coronavirus/comments/gucr3h/coronavirus_cooking_survey_finds_that_people_are/fsl7wtj/', \"That pizza is made of white carbs that are processed to make you hungrier after a bit. Try to get whole grain pizza so you don't feel as hungry as fast.\", 'Coronavirus', 't5_2x4yx', 0, datetime.datetime(2020, 6, 2, 1, 32, 25))], '/r/Coronavirus/comments/gucr3h/coronavirus_cooking_survey_finds_that_people_are/fsl7uk0/': [('/r/Coronavirus/comments/gucr3h/coronavirus_cooking_survey_finds_that_people_are/fsl7uk0/', 'Not me.', 'Coronavirus', 't5_2x4yx', 0, datetime.datetime(2020, 6, 2, 1, 31, 50))], '/r/Coronavirus/comments/gucr3h/coronavirus_cooking_survey_finds_that_people_are/fsl72ez/': [('/r/Coronavirus/comments/gucr3h/coronavirus_cooking_survey_finds_that_people_are/fsl72ez/', 'Not me!', 'Coronavirus', 't5_2x4yx', 0, datetime.datetime(2020, 6, 2, 1, 24, 36))], '/r/Coronavirus/comments/gucr3h/coronavirus_cooking_survey_finds_that_people_are/fsl2ugv/': [('/r/Coronavirus/comments/gucr3h/coronavirus_cooking_survey_finds_that_people_are/fsl2ugv/', 'Nah, I just glob in on there :) :) :)', 'Coronavirus', 't5_2x4yx', 0, datetime.datetime(2020, 6, 2, 0, 45, 9))], '/r/Coronavirus/comments/gucr3h/coronavirus_cooking_survey_finds_that_people_are/fsl1s18/': [('/r/Coronavirus/comments/gucr3h/coronavirus_cooking_survey_finds_that_people_are/fsl1s18/', 'Insta pot is going right now. \\n\\nI always make too much and freeze individual portions I can heat up later. Also just chop up the rest of whatever veggies I have before they go bad and freeze them for a future insta pot session.', 'Coronavirus', 't5_2x4yx', 0, datetime.datetime(2020, 6, 2, 0, 35, 21))], '/r/Coronavirus/comments/gucr3h/coronavirus_cooking_survey_finds_that_people_are/fskzxra/': [('/r/Coronavirus/comments/gucr3h/coronavirus_cooking_survey_finds_that_people_are/fskzxra/', 'That genuinely looks like pure shit', 'Coronavirus', 't5_2x4yx', 0, datetime.datetime(2020, 6, 2, 0, 18, 25))], '/r/Coronavirus/comments/gucr3h/coronavirus_cooking_survey_finds_that_people_are/fskxx6s/': [('/r/Coronavirus/comments/gucr3h/coronavirus_cooking_survey_finds_that_people_are/fskxx6s/', 'Yeah, I same here. I’m making an effort to cut down on ordering fast food and buy more groceries. I’ve scheduled a delivery of groceries earlier today.', 'Coronavirus', 't5_2x4yx', 0, datetime.datetime(2020, 6, 1, 23, 59, 51))], '/r/Coronavirus/comments/gucr3h/coronavirus_cooking_survey_finds_that_people_are/fskxvlm/': [('/r/Coronavirus/comments/gucr3h/coronavirus_cooking_survey_finds_that_people_are/fskxvlm/', 'Because people are poor and out of jobs so cant afford the luxury of buying McDonalds and steaks. Also meat plants are closing, we want to be grease stained but only have vegetables left to eat!!', 'Coronavirus', 't5_2x4yx', 0, datetime.datetime(2020, 6, 1, 23, 59, 27))], '/r/Coronavirus/comments/gucr3h/coronavirus_cooking_survey_finds_that_people_are/fskxfag/': [('/r/Coronavirus/comments/gucr3h/coronavirus_cooking_survey_finds_that_people_are/fskxfag/', 'It hasn’t been my BFF to my wallet.', 'Coronavirus', 't5_2x4yx', 0, datetime.datetime(2020, 6, 1, 23, 55, 20))], '/r/Coronavirus/comments/gucr3h/coronavirus_cooking_survey_finds_that_people_are/fskwdda/': [('/r/Coronavirus/comments/gucr3h/coronavirus_cooking_survey_finds_that_people_are/fskwdda/', 'Yup. Like, I don\\'t even know anyone that feeds their kids chicken nuggets, let alone frozen chicken nuggets! How has this become a thing everyone assumes kids get fed anyway? I always found it weird cause last time I thought I\\'d get them and \"treat\" the kids time them they all groaned like I was forcing them to eat liver, whichbironically they love, lol.', 'Coronavirus', 't5_2x4yx', 0, datetime.datetime(2020, 6, 1, 23, 45, 44))], '/r/Coronavirus/comments/gucr3h/coronavirus_cooking_survey_finds_that_people_are/fskvyn0/': [('/r/Coronavirus/comments/gucr3h/coronavirus_cooking_survey_finds_that_people_are/fskvyn0/', 'This made me laugh way too hard!!!', 'Coronavirus', 't5_2x4yx', 0, datetime.datetime(2020, 6, 1, 23, 42, 1))], '/r/Coronavirus/comments/gucr3h/coronavirus_cooking_survey_finds_that_people_are/fskvn6y/': [('/r/Coronavirus/comments/gucr3h/coronavirus_cooking_survey_finds_that_people_are/fskvn6y/', \"My kids eat anything. They are not picky eaters at all. All four of them will eat 99% of whatever food is out in front of them. And if they haven't seen it before they don't care either. They will try anything. I exposed them to every food I could think of when toddlers. Or maybe I just got lucky. I am the worlds pickiest eater. I fed my kids stuff I wouldn't touch with a ten foot pole. But I also have medical issues and making meals two or three times a day when I wasn't prepared for it at all got to be too exhausting too quick. Normally our diet is 90% from scratch. With four kids you have to make food from scratch because on top of being healthier its cheaper. Hell, I make my own noodles sometimes when funds get low. We have 5 gallon buckets of flour, sugar, rice, and various other things because buying in bulk when things are on sale is cheaper in the long run when you are feeding an army as well. I am embarrassed at how much food with preservatives has entered my house over the last month. I cringe when I see my kids eating anything from a box, whether frozen or dry. I think last year we had like 5 boxes of mac n cheese enter the house. All year! I'm too ashamed to admit how many I bought this month! Or Ramen. Or frozen pizza! Frankly, its depressing and demoralizing. So picky eating isn't an issue. Mom being exhausted is the issue. Add in this freaky weather where we go from snowing to over 80° in 48 hours and my migraines are kicking my ass. Spring this year has been like some sort of torture experiment by mother nature.\", 'Coronavirus', 't5_2x4yx', 0, datetime.datetime(2020, 6, 1, 23, 39, 7))], '/r/Coronavirus/comments/gucr3h/coronavirus_cooking_survey_finds_that_people_are/fskuuji/': [('/r/Coronavirus/comments/gucr3h/coronavirus_cooking_survey_finds_that_people_are/fskuuji/', 'little soggy', 'Coronavirus', 't5_2x4yx', 0, datetime.datetime(2020, 6, 1, 23, 31, 54))], '/r/Coronavirus/comments/gucr3h/coronavirus_cooking_survey_finds_that_people_are/fsksi5n/': [('/r/Coronavirus/comments/gucr3h/coronavirus_cooking_survey_finds_that_people_are/fsksi5n/', 'I\\'m curious as to your source for \"most B12 in soil is pseudo B-12\". The same bacteria which produce B12 in soil (among other places) also produce the bioavailable B12 in the guts of herbivores, and are used industrially to produce B12 supplements. Perhaps you\\'re getting it confused with algae and seaweed, which indeed have pseudo-B12.\\n\\nWhat I meant is that, even when you hand-wash your produce, there are often still traces of dirt. Modern hygiene practices are far more rigorous. Such bacteria are also present in feces and natural water sources. There is therefore ample opportunity to ingest this form of B12 when we live close to nature. Whether it\\'s enough, I don\\'t know. Fermented foods however, according to this (https://www.ncbi.nlm.nih.gov/pmc/articles/PMC4042564/) potentially contain well above the RDI.\\n\\nSupplements are recommended because they\\'re easy and reliable. Not all varieties of a particular food are fermented with the appropriate bacteria, for example, and there probably isn\\'t enough evidence to ethically recommend these sources. As stated before I\\'m not interested in how \"natural\" a vegan diet is, I think we are naturally omnivorous, it\\'s just fallacious to claim it\\'s a \"bad diet\" just because it lacks such a rare nutrient as B12, this being a weak claim to begin with because evidence suggests the contrary.', 'Coronavirus', 't5_2x4yx', 0, datetime.datetime(2020, 6, 1, 23, 10, 58))], '/r/Coronavirus/comments/gucr3h/coronavirus_cooking_survey_finds_that_people_are/fskpl74/': [('/r/Coronavirus/comments/gucr3h/coronavirus_cooking_survey_finds_that_people_are/fskpl74/', '[removed]', 'Coronavirus', 't5_2x4yx', 0, datetime.datetime(2020, 6, 1, 22, 45, 11))], '/r/Coronavirus/comments/gucr3h/coronavirus_cooking_survey_finds_that_people_are/fskoq0h/': [('/r/Coronavirus/comments/gucr3h/coronavirus_cooking_survey_finds_that_people_are/fskoq0h/', 'True that! But stopped making mayo-bread grilled cheeses due to how unhealthy it was. Also grilled cheese is usually unhealthy so I try to have it only once a year.\\n\\nHaven’t had pizza from a fast food place in a while and so I’ve made it home. So yeah actually Coronavirus has been making me eat healthier.', 'Coronavirus', 't5_2x4yx', 0, datetime.datetime(2020, 6, 1, 22, 37, 30))], '/r/Coronavirus/comments/gucr3h/coronavirus_cooking_survey_finds_that_people_are/fskmzwh/': [('/r/Coronavirus/comments/gucr3h/coronavirus_cooking_survey_finds_that_people_are/fskmzwh/', 'Have you ever heard of seitan?', 'Coronavirus', 't5_2x4yx', 0, datetime.datetime(2020, 6, 1, 22, 22, 30))], '/r/Coronavirus/comments/gucr3h/coronavirus_cooking_survey_finds_that_people_are/fskmydo/': [('/r/Coronavirus/comments/gucr3h/coronavirus_cooking_survey_finds_that_people_are/fskmydo/', 'Seitan, my dude. 14g carbs, 2g fat, 75g protein.', 'Coronavirus', 't5_2x4yx', 0, datetime.datetime(2020, 6, 1, 22, 22, 9))], '/r/Coronavirus/comments/gucr3h/coronavirus_cooking_survey_finds_that_people_are/fskjfjo/': [('/r/Coronavirus/comments/gucr3h/coronavirus_cooking_survey_finds_that_people_are/fskjfjo/', \"Well there's a lot more time to spend thinking about what to cook, learning how to and actually trying it out. Not to mention more time to appreciate it too as phone calls from work are lessened\", 'Coronavirus', 't5_2x4yx', 0, datetime.datetime(2020, 6, 1, 21, 51, 54))], '/r/Coronavirus/comments/gucr3h/coronavirus_cooking_survey_finds_that_people_are/fskigax/': [('/r/Coronavirus/comments/gucr3h/coronavirus_cooking_survey_finds_that_people_are/fskigax/', 'I find that having the extra time of the butter melting and then the bread toasting helps give the cheese extra time to melt. But having a hot pan is critical when adding the bread.', 'Coronavirus', 't5_2x4yx', 0, datetime.datetime(2020, 6, 1, 21, 43, 43))], '/r/Coronavirus/comments/gucr3h/coronavirus_cooking_survey_finds_that_people_are/fskhabh/': [('/r/Coronavirus/comments/gucr3h/coronavirus_cooking_survey_finds_that_people_are/fskhabh/', 'Even with junk food I can’t gain weight lol. I weighed 135 pounds last week and I’m 6 feet tall', 'Coronavirus', 't5_2x4yx', 0, datetime.datetime(2020, 6, 1, 21, 34, 1))], '/r/Coronavirus/comments/gucr3h/coronavirus_cooking_survey_finds_that_people_are/fskh4z6/': [('/r/Coronavirus/comments/gucr3h/coronavirus_cooking_survey_finds_that_people_are/fskh4z6/', 'Well my secret was adding in extra snacks, less vegetables, and more junk food 👍', 'Coronavirus', 't5_2x4yx', 0, datetime.datetime(2020, 6, 1, 21, 32, 48))], '/r/Coronavirus/comments/gucr3h/coronavirus_cooking_survey_finds_that_people_are/fskgxy0/': [('/r/Coronavirus/comments/gucr3h/coronavirus_cooking_survey_finds_that_people_are/fskgxy0/', \"eat a lot of good fat. Like snack on plain peanuts, walnuts, almonds etc. These good fats makes you feel satiety.\\n\\nliquid sugars don't give you a full feeling, plus it is like sugar on an IV. \\n\\nPeople who argue about calorie forgets that it is only a part of the equation. \\n\\nEat a heavy breakfast with fat and protein. Don't skimp on calories in the morning.\\n\\nstatutory: Not a doctor or dietitian, proceed at your own risk.\", 'Coronavirus', 't5_2x4yx', 0, datetime.datetime(2020, 6, 1, 21, 31, 11))], '/r/Coronavirus/comments/gucr3h/coronavirus_cooking_survey_finds_that_people_are/fskf9kw/': [('/r/Coronavirus/comments/gucr3h/coronavirus_cooking_survey_finds_that_people_are/fskf9kw/', 'Pasta. Frozen Veggies. Store bought sauce.\\n\\nThis would be a good start.', 'Coronavirus', 't5_2x4yx', 0, datetime.datetime(2020, 6, 1, 21, 17, 23))], '/r/Coronavirus/comments/gucr3h/coronavirus_cooking_survey_finds_that_people_are/fskeuzv/': [('/r/Coronavirus/comments/gucr3h/coronavirus_cooking_survey_finds_that_people_are/fskeuzv/', 'I’m out here trying to gain weight and end up losing more', 'Coronavirus', 't5_2x4yx', 0, datetime.datetime(2020, 6, 1, 21, 14, 3))], '/r/Coronavirus/comments/gucr3h/coronavirus_cooking_survey_finds_that_people_are/fskd1hw/': [('/r/Coronavirus/comments/gucr3h/coronavirus_cooking_survey_finds_that_people_are/fskd1hw/', 'I mean, baking/cooking is a makeup technique.  And people can and do use food items for makeup, like rice powder.', 'Coronavirus', 't5_2x4yx', 0, datetime.datetime(2020, 6, 1, 20, 59, 6))], '/r/Coronavirus/comments/gucr3h/coronavirus_cooking_survey_finds_that_people_are/fskceui/': [('/r/Coronavirus/comments/gucr3h/coronavirus_cooking_survey_finds_that_people_are/fskceui/', 'Agreed', 'Coronavirus', 't5_2x4yx', 0, datetime.datetime(2020, 6, 1, 20, 54, 1))], '/r/Coronavirus/comments/gucr3h/coronavirus_cooking_survey_finds_that_people_are/fskc97o/': [('/r/Coronavirus/comments/gucr3h/coronavirus_cooking_survey_finds_that_people_are/fskc97o/', 'I honestly don’t know. I’ve never tried buttering the bread first, so I can’t compare them. Someone said something about needing the pan to be hot before cooking, I guess to make sure the sandwich cooks right? Maybe it solves that problem, because if the butter is melted, clearly the pan is hot.', 'Coronavirus', 't5_2x4yx', 0, datetime.datetime(2020, 6, 1, 20, 52, 46))], '/r/Coronavirus/comments/gucr3h/coronavirus_cooking_survey_finds_that_people_are/fskc37z/': [('/r/Coronavirus/comments/gucr3h/coronavirus_cooking_survey_finds_that_people_are/fskc37z/', \"I waste nothing.\\n\\nI've also lost a full dress size. I need weight lifting and cardio training but this is a great start. I'd been trying to lose weight for over a year. It didn't happen.\\n\\nMeat, snacks, and quick meals sell out quickly in our stores. I went to vegetarian options and things I would never have bought before. Lots of veggies. I buy lean meat when I can find it.\\n\\nI haven't had anything from fast food since March or the end of February. I find in don't miss it. The family has embraced vegetables and the vegetarian options.\\n\\nNow that my body is used to cleaner eating I don't think I can go back. Bad food is addictive. Sugar is addictive. Additives are addictive.\", 'Coronavirus', 't5_2x4yx', 0, datetime.datetime(2020, 6, 1, 20, 51, 25))], '/r/Coronavirus/comments/gucr3h/coronavirus_cooking_survey_finds_that_people_are/fskbip2/': [('/r/Coronavirus/comments/gucr3h/coronavirus_cooking_survey_finds_that_people_are/fskbip2/', 'How to cook makeup', 'Coronavirus', 't5_2x4yx', 0, datetime.datetime(2020, 6, 1, 20, 46, 47))], '/r/Coronavirus/comments/gucr3h/coronavirus_cooking_survey_finds_that_people_are/fskbhad/': [('/r/Coronavirus/comments/gucr3h/coronavirus_cooking_survey_finds_that_people_are/fskbhad/', 'Next after those I would highly recommend hot ham water.', 'Coronavirus', 't5_2x4yx', 0, datetime.datetime(2020, 6, 1, 20, 46, 28))], '/r/Coronavirus/comments/gucr3h/coronavirus_cooking_survey_finds_that_people_are/fskbg8d/': [('/r/Coronavirus/comments/gucr3h/coronavirus_cooking_survey_finds_that_people_are/fskbg8d/', \"I'm just copy and pasting my comment below that I replied to someone else. Applies to your comment as well.\\n\\nThat's debatable at best that you can get enough b12 from unwashed produce. Even by your fellow [vegan centric websites](https://veganhealth.org/what-every-vegan-should-know-about-vitamin-b12/), they will warn against relying on this methodology. Even to say the soil was different back then is a stretch, as it's never been proven to be suffient. And most of the soil b12 is in the form of pseudo-vitamin B12, which cannot be absorbed by your body. Any reputable vegan website will tell you that b12 supplements or fortified foods are required. \\n\\nBesides the fact that I said 200 years ago, which meant the person who chose to be on a plant diet would wash the dirt off before eating anyway, they don't have a forum full of vegans telling them not to wash away dirt. So their diet would still be unsustainable.\\n\\nJust wondering, in my quick Google search I see a lot of science based vegan websites that debunk the whole eating algae or unwashed produce theory. A lot of them even admit humans were meant to eat some meat in the past, but of course elaborate to say times have changed due to supplements. Do you guys just choose to ignore those websites because you like to have a counter to the b12 argument when someone brings it up?\", 'Coronavirus', 't5_2x4yx', 0, datetime.datetime(2020, 6, 1, 20, 46, 14))], '/r/Coronavirus/comments/gucr3h/coronavirus_cooking_survey_finds_that_people_are/fskbdzs/': [('/r/Coronavirus/comments/gucr3h/coronavirus_cooking_survey_finds_that_people_are/fskbdzs/', \"I wouldnt say i cant cook at all, i can cook water. The warmest water you'll ever taste. Still tastes like water, but with a fun twist, its WARM. Ancient family recipeh, only use water\\n\\n\\n\\nTbh im also looking skills i dont have on my SO. My SO wont need to know how to   and  and also i can  . None of those, because im there for him/her\", 'Coronavirus', 't5_2x4yx', 0, datetime.datetime(2020, 6, 1, 20, 45, 43))], '/r/Coronavirus/comments/gucr3h/coronavirus_cooking_survey_finds_that_people_are/fskbaiq/': [('/r/Coronavirus/comments/gucr3h/coronavirus_cooking_survey_finds_that_people_are/fskbaiq/', \"Ok so post something to prove your point lmao.  I found a source that showed a dramatic weight loss and that was still less than 40%.  You can't tell me you're too lazy to post the articles you were reading and then criticize the ones I find.\", 'Coronavirus', 't5_2x4yx', 0, datetime.datetime(2020, 6, 1, 20, 44, 56))], '/r/Coronavirus/comments/gucr3h/coronavirus_cooking_survey_finds_that_people_are/fska3n7/': [('/r/Coronavirus/comments/gucr3h/coronavirus_cooking_survey_finds_that_people_are/fska3n7/', 'There are a few things about that, though - the first is that he hardly had a typical body or state of health to begin with, and the second is that the post-ventilation weight was after an unspecified amount of time in rehabilitation.  He even says in the article that he probably weighed less when he first came off the ventilator.', 'Coronavirus', 't5_2x4yx', 0, datetime.datetime(2020, 6, 1, 20, 35, 14))], '/r/Coronavirus/comments/gucr3h/coronavirus_cooking_survey_finds_that_people_are/fsk7ed7/': [('/r/Coronavirus/comments/gucr3h/coronavirus_cooking_survey_finds_that_people_are/fsk7ed7/', 'I literally said to take a b12 supplement. I never said to eat unwashed produce for b12. I just explained where the vitamin comes from and why there b12 in animal products to begin with. \\n\\nYa, back 200 years ago a plant based diet isn’t reasonable since food wasn’t in such abundance back then. But, it’s 2020. We have more resources now. No need to kill animals. We can just stay out of their way', 'Coronavirus', 't5_2x4yx', 0, datetime.datetime(2020, 6, 1, 20, 13, 13))], '/r/Coronavirus/comments/gucr3h/coronavirus_cooking_survey_finds_that_people_are/fsk5ki5/': [('/r/Coronavirus/comments/gucr3h/coronavirus_cooking_survey_finds_that_people_are/fsk5ki5/', '*Looks at lasagna leftovers and bread machine on counter*  \\n\\nIt\\'ll be at least a couple of days before I get to \"healthier\".', 'Coronavirus', 't5_2x4yx', 0, datetime.datetime(2020, 6, 1, 19, 58, 22))], '/r/Coronavirus/comments/gucr3h/coronavirus_cooking_survey_finds_that_people_are/fsk50us/': [('/r/Coronavirus/comments/gucr3h/coronavirus_cooking_survey_finds_that_people_are/fsk50us/', \"Where are all these people taking surveys?! So many articles claim that and I've never been asked to take a single one.\", 'Coronavirus', 't5_2x4yx', 0, datetime.datetime(2020, 6, 1, 19, 53, 58))], '/r/Coronavirus/comments/gucr3h/coronavirus_cooking_survey_finds_that_people_are/fsk4d6j/': [('/r/Coronavirus/comments/gucr3h/coronavirus_cooking_survey_finds_that_people_are/fsk4d6j/', 'Why is the thumbnail pic *NEVER* relevant', 'Coronavirus', 't5_2x4yx', 0, datetime.datetime(2020, 6, 1, 19, 48, 42))], '/r/Coronavirus/comments/gucr3h/coronavirus_cooking_survey_finds_that_people_are/fsk3dpc/': [('/r/Coronavirus/comments/gucr3h/coronavirus_cooking_survey_finds_that_people_are/fsk3dpc/', 'Okay but what in the 1950s hell is that photo', 'Coronavirus', 't5_2x4yx', 0, datetime.datetime(2020, 6, 1, 19, 40, 51))], '/r/Coronavirus/comments/gucr3h/coronavirus_cooking_survey_finds_that_people_are/fsk2l48/': [('/r/Coronavirus/comments/gucr3h/coronavirus_cooking_survey_finds_that_people_are/fsk2l48/', \"Yeah I was asking because I couldn't find anything to verify that.  You made it seem like you read it in multiple articles so I figured you might know where to look.\\n\\nEdit:  This guy was ventilated for 6 weeks and lost roughly 26% of his weight.  https://www.health.com/condition/infectious-diseases/coronavirus/mike-schultz-weight-loss-coronavirus\", 'Coronavirus', 't5_2x4yx', 0, datetime.datetime(2020, 6, 1, 19, 34, 28))], '/r/Coronavirus/comments/gucr3h/coronavirus_cooking_survey_finds_that_people_are/fsk273n/': [('/r/Coronavirus/comments/gucr3h/coronavirus_cooking_survey_finds_that_people_are/fsk273n/', 'Dang, good for you.', 'Coronavirus', 't5_2x4yx', 0, datetime.datetime(2020, 6, 1, 19, 31, 18))], '/r/Coronavirus/comments/gucr3h/coronavirus_cooking_survey_finds_that_people_are/fsk1fgb/': [('/r/Coronavirus/comments/gucr3h/coronavirus_cooking_survey_finds_that_people_are/fsk1fgb/', 'Right,  it adds more flavor than butter which is pretty bland.  I only like salted butter on freshly made warm bread or rolls.', 'Coronavirus', 't5_2x4yx', 0, datetime.datetime(2020, 6, 1, 19, 25, 4))], '/r/Coronavirus/comments/gucr3h/coronavirus_cooking_survey_finds_that_people_are/fsjzy2o/': [('/r/Coronavirus/comments/gucr3h/coronavirus_cooking_survey_finds_that_people_are/fsjzy2o/', 'Happy grilling, my dude.', 'Coronavirus', 't5_2x4yx', 0, datetime.datetime(2020, 6, 1, 19, 13))], '/r/Coronavirus/comments/gucr3h/coronavirus_cooking_survey_finds_that_people_are/fsjzsh8/': [('/r/Coronavirus/comments/gucr3h/coronavirus_cooking_survey_finds_that_people_are/fsjzsh8/', 'Same! DoorDash has been my BFF but the scale hasn’t.', 'Coronavirus', 't5_2x4yx', 0, datetime.datetime(2020, 6, 1, 19, 11, 45))], '/r/Coronavirus/comments/gucr3h/coronavirus_cooking_survey_finds_that_people_are/fsjzmge/': [('/r/Coronavirus/comments/gucr3h/coronavirus_cooking_survey_finds_that_people_are/fsjzmge/', 'It’s her reality!', 'Coronavirus', 't5_2x4yx', 0, datetime.datetime(2020, 6, 1, 19, 10, 25))], '/r/Coronavirus/comments/gucr3h/coronavirus_cooking_survey_finds_that_people_are/fsjzfy9/': [('/r/Coronavirus/comments/gucr3h/coronavirus_cooking_survey_finds_that_people_are/fsjzfy9/', \"Naw, I'm not going to spend my time digging around for a source for you, but feel free if you'd like to.  That's the number I've been seeing thrown around, and I made it crystal clear that I don't know if it's accurate.\", 'Coronavirus', 't5_2x4yx', 0, datetime.datetime(2020, 6, 1, 19, 8, 57))], '/r/Coronavirus/comments/gucr3h/coronavirus_cooking_survey_finds_that_people_are/fsjz0dk/': [('/r/Coronavirus/comments/gucr3h/coronavirus_cooking_survey_finds_that_people_are/fsjz0dk/', 'I would think they should start with boiling water first, then making a grilled cheese sandwich.  Boiling water involves less steps.', 'Coronavirus', 't5_2x4yx', 0, datetime.datetime(2020, 6, 1, 19, 5, 26))], '/r/Coronavirus/comments/gucr3h/coronavirus_cooking_survey_finds_that_people_are/fsjxcma/': [('/r/Coronavirus/comments/gucr3h/coronavirus_cooking_survey_finds_that_people_are/fsjxcma/', \"You can't beat the mayo method.\", 'Coronavirus', 't5_2x4yx', 0, datetime.datetime(2020, 6, 1, 18, 52, 9))], '/r/Coronavirus/comments/gucr3h/coronavirus_cooking_survey_finds_that_people_are/fsjwcc0/': [('/r/Coronavirus/comments/gucr3h/coronavirus_cooking_survey_finds_that_people_are/fsjwcc0/', 'What dish is that in the thumbnail??', 'Coronavirus', 't5_2x4yx', 0, datetime.datetime(2020, 6, 1, 18, 44, 9))], '/r/Coronavirus/comments/gucr3h/coronavirus_cooking_survey_finds_that_people_are/fsjw3fi/': [('/r/Coronavirus/comments/gucr3h/coronavirus_cooking_survey_finds_that_people_are/fsjw3fi/', 'I honestly felt the low and slow was at least 50% an excuse to have time to make her coffee while it cooked. \\n\\nDefinitely depending on the cheese, it would make perfect sense -- having unmelted middles is the worst', 'Coronavirus', 't5_2x4yx', 0, datetime.datetime(2020, 6, 1, 18, 42, 11))], '/r/Coronavirus/comments/gucr3h/coronavirus_cooking_survey_finds_that_people_are/fsjvyuj/': [('/r/Coronavirus/comments/gucr3h/coronavirus_cooking_survey_finds_that_people_are/fsjvyuj/', 'Does it improve the toast vs buttering the whole sandich before grilling?', 'Coronavirus', 't5_2x4yx', 0, datetime.datetime(2020, 6, 1, 18, 41, 10))], '/r/Coronavirus/comments/gucr3h/coronavirus_cooking_survey_finds_that_people_are/fsjvx7y/': [('/r/Coronavirus/comments/gucr3h/coronavirus_cooking_survey_finds_that_people_are/fsjvx7y/', \"From the video seems like most people mayo'd both sides first, but some waited to mayo the second side until they were about to flip it. Figure it can't make that big of a difference\", 'Coronavirus', 't5_2x4yx', 0, datetime.datetime(2020, 6, 1, 18, 40, 49))], '/r/Coronavirus/comments/gucr3h/coronavirus_cooking_survey_finds_that_people_are/fsjvpva/': [('/r/Coronavirus/comments/gucr3h/coronavirus_cooking_survey_finds_that_people_are/fsjvpva/', 'This sounds amazing', 'Coronavirus', 't5_2x4yx', 0, datetime.datetime(2020, 6, 1, 18, 39, 12))], '/r/Coronavirus/comments/gucr3h/coronavirus_cooking_survey_finds_that_people_are/fsjvhdk/': [('/r/Coronavirus/comments/gucr3h/coronavirus_cooking_survey_finds_that_people_are/fsjvhdk/', \"I didn't even know hibachi white sauce was a thing... this sounds amazing\", 'Coronavirus', 't5_2x4yx', 0, datetime.datetime(2020, 6, 1, 18, 37, 20))], '/r/Coronavirus/comments/gucr3h/coronavirus_cooking_survey_finds_that_people_are/fsjvafr/': [('/r/Coronavirus/comments/gucr3h/coronavirus_cooking_survey_finds_that_people_are/fsjvafr/', \"That's debatable at best that you can get enough b12 from unwashed produce dirt. Even by your fellow [vegan centric websites](https://veganhealth.org/what-every-vegan-should-know-about-vitamin-b12/), they will warn against relying on this methodology. Even to say the soil was different back then is a stretch, as it's never been proven to be suffient. And most of the soil b12 is in the form of pseudo-vitamin B12, which cannot be absorbed by your body. Any reputable vegan website will tell you that b12 supplements or fortified foods are required. \\n\\nBesides the fact that I said 200 years ago, which meant the person who chose to be on a plant diet would wash the dirt off before eating anyway, they don't have a forum full of vegans telling them not to wash away dirt. So their diet would still be unsustainable.\", 'Coronavirus', 't5_2x4yx', 0, datetime.datetime(2020, 6, 1, 18, 35, 48))], '/r/Coronavirus/comments/gucr3h/coronavirus_cooking_survey_finds_that_people_are/fsjv6b0/': [('/r/Coronavirus/comments/gucr3h/coronavirus_cooking_survey_finds_that_people_are/fsjv6b0/', \"That's debatable at best that you can get enough b12 from unwashed produce. Even by your fellow [vegan centric websites](https://veganhealth.org/what-every-vegan-should-know-about-vitamin-b12/), they will warn against relying on this methodology. Even to say the soil was different back then is a stretch, as it's never been proven to be suffient. And most of the soil b12 is in the form of pseudo-vitamin B12, which cannot be absorbed by your body. Any reputable vegan website will tell you that b12 supplements or fortified foods are required. \\n\\nBesides the fact that I said 200 years ago, which meant the person who chose to be on a plant diet would wash the dirt off before eating anyway, they don't have a forum full of vegans telling them not to wash away dirt. So their diet would still be unsustainable.\", 'Coronavirus', 't5_2x4yx', 0, datetime.datetime(2020, 6, 1, 18, 34, 53))], '/r/Coronavirus/comments/gucr3h/coronavirus_cooking_survey_finds_that_people_are/fsjv3aq/': [('/r/Coronavirus/comments/gucr3h/coronavirus_cooking_survey_finds_that_people_are/fsjv3aq/', 'yeah, for sure. But after not doing it, damn is it a total stomach bomb', 'Coronavirus', 't5_2x4yx', 0, datetime.datetime(2020, 6, 1, 18, 34, 13))], '/r/Coronavirus/comments/gucr3h/coronavirus_cooking_survey_finds_that_people_are/fsjuvh4/': [('/r/Coronavirus/comments/gucr3h/coronavirus_cooking_survey_finds_that_people_are/fsjuvh4/', \"Technically even a buttery or mayo-y grilled cheese would be better for you than eating a bunch of takeout, just because the portion size is a lot smaller. That's the only reason I think I've been losing some weight during all this (or maybe existential dread who knows).\", 'Coronavirus', 't5_2x4yx', 0, datetime.datetime(2020, 6, 1, 18, 32, 28))], '/r/Coronavirus/comments/gucr3h/coronavirus_cooking_survey_finds_that_people_are/fsjutjz/': [('/r/Coronavirus/comments/gucr3h/coronavirus_cooking_survey_finds_that_people_are/fsjutjz/', 'You seriously can’t cook at all?\\n\\nMake an effort to learn how to cook something so you don’t have to remain dependent all of your life.', 'Coronavirus', 't5_2x4yx', 0, datetime.datetime(2020, 6, 1, 18, 32, 3))], '/r/Coronavirus/comments/gucr3h/coronavirus_cooking_survey_finds_that_people_are/fsjunhe/': [('/r/Coronavirus/comments/gucr3h/coronavirus_cooking_survey_finds_that_people_are/fsjunhe/', \"I used to be useless at makeup, but recently, I started to watch YouTube tutorials and I've gotten wayyyyy better. I bet the same could be done for cooking.\", 'Coronavirus', 't5_2x4yx', 0, datetime.datetime(2020, 6, 1, 18, 30, 41))], '/r/Coronavirus/comments/gucr3h/coronavirus_cooking_survey_finds_that_people_are/fsjuk02/': [('/r/Coronavirus/comments/gucr3h/coronavirus_cooking_survey_finds_that_people_are/fsjuk02/', 'When they said hob, they meant a homeless man that rides trains.', 'Coronavirus', 't5_2x4yx', 0, datetime.datetime(2020, 6, 1, 18, 29, 55))], '/r/Coronavirus/comments/gucr3h/coronavirus_cooking_survey_finds_that_people_are/fsjuaus/': [('/r/Coronavirus/comments/gucr3h/coronavirus_cooking_survey_finds_that_people_are/fsjuaus/', \"Yes, but also no. We're eating more veg and home cooked meals, for sure. But I've been baking a ton of cakes and my husband's working on the perfect smoked ribs. And we're not exactly wasting all those extra goodies.\", 'Coronavirus', 't5_2x4yx', 0, datetime.datetime(2020, 6, 1, 18, 27, 53))], '/r/Coronavirus/comments/gucr3h/coronavirus_cooking_survey_finds_that_people_are/fsjtkdg/': [('/r/Coronavirus/comments/gucr3h/coronavirus_cooking_survey_finds_that_people_are/fsjtkdg/', 'Let me counter that argument.  Yes.', 'Coronavirus', 't5_2x4yx', 0, datetime.datetime(2020, 6, 1, 18, 22, 1))], '/r/Coronavirus/comments/gucr3h/coronavirus_cooking_survey_finds_that_people_are/fsjth31/': [('/r/Coronavirus/comments/gucr3h/coronavirus_cooking_survey_finds_that_people_are/fsjth31/', \"Source on that?  Unless the average person on a ventilator is very overweight I think 40% is astonishingly high.  I'm 190lbs roughly so I would drop to 114 lbs?  I haven't weighed that much since i was 13.\", 'Coronavirus', 't5_2x4yx', 0, datetime.datetime(2020, 6, 1, 18, 21, 17))], '/r/Coronavirus/comments/gucr3h/coronavirus_cooking_survey_finds_that_people_are/fsjt35y/': [('/r/Coronavirus/comments/gucr3h/coronavirus_cooking_survey_finds_that_people_are/fsjt35y/', 'no', 'Coronavirus', 't5_2x4yx', 0, datetime.datetime(2020, 6, 1, 18, 18, 20))], '/r/Coronavirus/comments/gucr3h/coronavirus_cooking_survey_finds_that_people_are/fsjru3h/': [('/r/Coronavirus/comments/gucr3h/coronavirus_cooking_survey_finds_that_people_are/fsjru3h/', 'Butter spreads just fine at room temp. Get a butter dish and keep some out of the fridge for spreading.', 'Coronavirus', 't5_2x4yx', 0, datetime.datetime(2020, 6, 1, 18, 8, 16))], '/r/Coronavirus/comments/gucr3h/coronavirus_cooking_survey_finds_that_people_are/fsjrtrf/': [('/r/Coronavirus/comments/gucr3h/coronavirus_cooking_survey_finds_that_people_are/fsjrtrf/', 'Try  eating it with some butter oil. Hong Kong gutter oil is the best. Gutter oil from all other cities is inferior.', 'Coronavirus', 't5_2x4yx', 0, datetime.datetime(2020, 6, 1, 18, 8, 12))], '/r/Coronavirus/comments/gucr3h/coronavirus_cooking_survey_finds_that_people_are/fsjrtph/': [('/r/Coronavirus/comments/gucr3h/coronavirus_cooking_survey_finds_that_people_are/fsjrtph/', 'Im so much happier since I started cooking at homr again a month ago. Been losing weight and eating better. Also saved a shitload of money. Not only that, but I love that my local grocery stores have implemented carside pickup. I have so much more free time without the traffic/indoor shopping. Much better quality of life.', 'Coronavirus', 't5_2x4yx', 0, datetime.datetime(2020, 6, 1, 18, 8, 11))], '/r/Coronavirus/comments/gucr3h/coronavirus_cooking_survey_finds_that_people_are/fsjr02a/': [('/r/Coronavirus/comments/gucr3h/coronavirus_cooking_survey_finds_that_people_are/fsjr02a/', 'To tag on to skillet heat, proper temp control of the pan. Too hot and you get Christmas coal for bread.', 'Coronavirus', 't5_2x4yx', 0, datetime.datetime(2020, 6, 1, 18, 1, 31))], '/r/Coronavirus/comments/gucr3h/coronavirus_cooking_survey_finds_that_people_are/fsjq0ra/': [('/r/Coronavirus/comments/gucr3h/coronavirus_cooking_survey_finds_that_people_are/fsjq0ra/', \"This is totally true in my family. We're cooking every meal, and my lunches are a million times healthier at home than at the office. Even our pizza is more nutritious now that I've learned you can make a crust with just Greek yogurt and whole wheat flour (plus salt and baking soda). Down 13 lbs and hoping to be able to telework til I knock off at least 20 total.\", 'Coronavirus', 't5_2x4yx', 0, datetime.datetime(2020, 6, 1, 17, 53, 38))], '/r/Coronavirus/comments/gucr3h/coronavirus_cooking_survey_finds_that_people_are/fsjp6is/': [('/r/Coronavirus/comments/gucr3h/coronavirus_cooking_survey_finds_that_people_are/fsjp6is/', 'Just take a b12 supplement. You realize that b12 is found in dirt? The only reason animal products have b12 is because they are either injected with b12 or their feed is fortified with b12. You can just take the supplement directly instead', 'Coronavirus', 't5_2x4yx', 0, datetime.datetime(2020, 6, 1, 17, 46, 55))], '/r/Coronavirus/comments/gucr3h/coronavirus_cooking_survey_finds_that_people_are/fsjoq48/': [('/r/Coronavirus/comments/gucr3h/coronavirus_cooking_survey_finds_that_people_are/fsjoq48/', 'When your unemployed 1 dollar brocali looks alot better then 2 dollar single microwave burrito', 'Coronavirus', 't5_2x4yx', 0, datetime.datetime(2020, 6, 1, 17, 43, 16))], '/r/Coronavirus/comments/gucr3h/coronavirus_cooking_survey_finds_that_people_are/fsjomxn/': [('/r/Coronavirus/comments/gucr3h/coronavirus_cooking_survey_finds_that_people_are/fsjomxn/', 'All I eat are vegetables now and I’m hungry all the time.\\n\\nI hate being healthy', 'Coronavirus', 't5_2x4yx', 0, datetime.datetime(2020, 6, 1, 17, 42, 35))], '/r/Coronavirus/comments/gucr3h/coronavirus_cooking_survey_finds_that_people_are/fsjo1ul/': [('/r/Coronavirus/comments/gucr3h/coronavirus_cooking_survey_finds_that_people_are/fsjo1ul/', '[removed]', 'Coronavirus', 't5_2x4yx', 0, datetime.datetime(2020, 6, 1, 17, 37, 53))], '/r/Coronavirus/comments/gucr3h/coronavirus_cooking_survey_finds_that_people_are/fsjnos0/': [('/r/Coronavirus/comments/gucr3h/coronavirus_cooking_survey_finds_that_people_are/fsjnos0/', 'Our chain is Hannafords but I think you can check hello fresh website for other distributors.\\n\\nEdit: https://fortune.com/2018/06/04/hellofresh-grocery-stores/', 'Coronavirus', 't5_2x4yx', 0, datetime.datetime(2020, 6, 1, 17, 34, 57))], '/r/Coronavirus/comments/gucr3h/coronavirus_cooking_survey_finds_that_people_are/fsjnhw8/': [('/r/Coronavirus/comments/gucr3h/coronavirus_cooking_survey_finds_that_people_are/fsjnhw8/', '[removed]', 'Coronavirus', 't5_2x4yx', 0, datetime.datetime(2020, 6, 1, 17, 33, 26))], '/r/Coronavirus/comments/gucr3h/coronavirus_cooking_survey_finds_that_people_are/fsjn3k5/': [('/r/Coronavirus/comments/gucr3h/coronavirus_cooking_survey_finds_that_people_are/fsjn3k5/', 'Pro tip: Once you master that, a quesadilla is just a grilled cheese with tortillas.', 'Coronavirus', 't5_2x4yx', 0, datetime.datetime(2020, 6, 1, 17, 30, 11))], '/r/Coronavirus/comments/gucr3h/coronavirus_cooking_survey_finds_that_people_are/fsjm4gd/': [('/r/Coronavirus/comments/gucr3h/coronavirus_cooking_survey_finds_that_people_are/fsjm4gd/', '[removed]', 'Coronavirus', 't5_2x4yx', 0, datetime.datetime(2020, 6, 1, 17, 22, 21))], '/r/Coronavirus/comments/gucr3h/coronavirus_cooking_survey_finds_that_people_are/fsjm353/': [('/r/Coronavirus/comments/gucr3h/coronavirus_cooking_survey_finds_that_people_are/fsjm353/', 'Interesting. I actually found we were wasting more food because we weren’t taking left overs to work for lunch anymore. And it was hard to keep track of the days so all of a sudden we couldn’t remember how old the food was.', 'Coronavirus', 't5_2x4yx', 0, datetime.datetime(2020, 6, 1, 17, 22, 3))], '/r/Coronavirus/comments/gucr3h/coronavirus_cooking_survey_finds_that_people_are/fsjlzby/': [('/r/Coronavirus/comments/gucr3h/coronavirus_cooking_survey_finds_that_people_are/fsjlzby/', \"What people say and what they do are not the same. What the article describes and what I observe in my local grocery are different. In the beginning of March the grocery was pretty well wiped out. I suspect most of the produce went bad and was wasted. Somewhere there are people sitting in their living room surrounded by rolls of toilet paper and bags of flour. The grocery has mostly bounced back subject to the same supply chain issues as everywhere else. TP, paper towels, facial tissues, and paper napkins have not caught up. What gets wiped out now are all prepared and convenience foods: frozen dinners, steam-in-bag frozen veg, jarred pasta sauce, pasta, canned chili, prepared foods including rotisserie chicken. Junk food is definitely picked over: chips, cookies, crackers, salsa, dips. My conclusion is that the majority of people can't or won't cook. Tostidos chips and El Paso salsa may or may not be healthier than McDonalds two or three times per day but they for sure are not cooking. \\n\\nIn my grocery we have an abundance of produce. Dairy, except for block cheese, is fully stocked. No problem with eggs. Even meats, at least the cuts we buy, are stocked. All the pre-made hamburgers are gone but there is all kinds of ground beef right next to the empty section. No peeled and cooked frozen shrimp but plenty of raw shrimp. People can't or won't cook. \\n\\nFoods that can be shoved into a microwave and eaten as is are in short supply. The makings for those same products are plentiful. Bag-o-salad is gone. Lettuce, peppers, carrots, tomato, onion, etc. are plentiful. No prepared potato salad in the deli but potatoes, celery, green onion in produce and mayonnaise and mustard on aisle 4 (or is it 7?). People can't or won't cook.\", 'Coronavirus', 't5_2x4yx', 0, datetime.datetime(2020, 6, 1, 17, 21, 11))], '/r/Coronavirus/comments/gucr3h/coronavirus_cooking_survey_finds_that_people_are/fsjltja/': [('/r/Coronavirus/comments/gucr3h/coronavirus_cooking_survey_finds_that_people_are/fsjltja/', '[removed]', 'Coronavirus', 't5_2x4yx', 0, datetime.datetime(2020, 6, 1, 17, 19, 53))]}\n"
          ],
          "name": "stdout"
        }
      ]
    },
    {
      "cell_type": "code",
      "metadata": {
        "id": "N9-Mz1IUNHlI",
        "colab_type": "code",
        "colab": {
          "base_uri": "https://localhost:8080/",
          "height": 185
        },
        "outputId": "8d302d30-fc1c-400d-f2e7-28507f765472"
      },
      "source": [
        "for link in df['Post ID']:\n",
        "  try:\n",
        "    data=getPushshiftComments(link)\n",
        "    for submission in data:\n",
        "      collectComments(submission)\n",
        "      subCount+=1\n",
        "  except:\n",
        "    pass\n"
      ],
      "execution_count": 71,
      "outputs": [
        {
          "output_type": "stream",
          "text": [
            "https://api.pushshift.io/reddit/comment/search/?link_id=gulu7b&limit=100\n",
            "https://api.pushshift.io/reddit/comment/search/?link_id=gucr3h&limit=100\n",
            "https://api.pushshift.io/reddit/comment/search/?link_id=gul0hp&limit=100\n",
            "https://api.pushshift.io/reddit/comment/search/?link_id=guk32n&limit=100\n",
            "https://api.pushshift.io/reddit/comment/search/?link_id=gun51t&limit=100\n",
            "https://api.pushshift.io/reddit/comment/search/?link_id=gulozi&limit=100\n",
            "https://api.pushshift.io/reddit/comment/search/?link_id=guw0ot&limit=100\n",
            "https://api.pushshift.io/reddit/comment/search/?link_id=gulgf2&limit=100\n",
            "https://api.pushshift.io/reddit/comment/search/?link_id=guleez&limit=100\n",
            "https://api.pushshift.io/reddit/comment/search/?link_id=gudz9j&limit=100\n"
          ],
          "name": "stdout"
        }
      ]
    },
    {
      "cell_type": "code",
      "metadata": {
        "id": "Uo0_UeXJFsRK",
        "colab_type": "code",
        "colab": {}
      },
      "source": [
        "k=0\n",
        "i=0\n",
        "for com in comments:\n",
        "  leng=len(comments[k]['items'])\n",
        "  for i in range(0,leng):\n",
        "    #print(i)\n",
        "    try:\n",
        "      publishedAt.append(comments[k]['items'][i]['snippet']['topLevelComment']['snippet']['publishedAt'])\n",
        "      videoId.append(comments[k]['items'][i]['snippet']['topLevelComment']['snippet']['videoId'])\n",
        "      likeCount.append(comments[k]['items'][i]['snippet']['topLevelComment']['snippet']['likeCount'])\n",
        "      textOriginal.append(comments[k]['items'][i]['snippet']['topLevelComment']['snippet']['textDisplay'])\n",
        "      i+=1\n",
        "    except:\n",
        "      pass\n",
        "  k+=1\n",
        "\n",
        "         "
      ],
      "execution_count": null,
      "outputs": []
    },
    {
      "cell_type": "code",
      "metadata": {
        "id": "VhBJC_N1Af3Z",
        "colab_type": "code",
        "colab": {}
      },
      "source": [
        "subStatsC"
      ],
      "execution_count": null,
      "outputs": []
    },
    {
      "cell_type": "code",
      "metadata": {
        "id": "VNh84yH6Eq9v",
        "colab_type": "code",
        "colab": {
          "base_uri": "https://localhost:8080/",
          "height": 34
        },
        "outputId": "0b3d2c4f-aeb7-4a34-88fe-bd3bb8dbce10"
      },
      "source": [
        "len(subStatsC)"
      ],
      "execution_count": 72,
      "outputs": [
        {
          "output_type": "execute_result",
          "data": {
            "text/plain": [
              "1000"
            ]
          },
          "metadata": {
            "tags": []
          },
          "execution_count": 72
        }
      ]
    },
    {
      "cell_type": "code",
      "metadata": {
        "id": "pNNs_R3mpEQN",
        "colab_type": "code",
        "colab": {
          "base_uri": "https://localhost:8080/",
          "height": 738
        },
        "outputId": "14a336f8-7bf0-47d5-bbd4-56c3055eb194"
      },
      "source": [
        "postsC=[]\n",
        "for sub in subStatsC:\n",
        "  postsC.append(subStatsC[sub][0]) \n",
        " \n",
        "dfc=pd.DataFrame(postsC, columns=[\"permalink\",\"comment\",\"subreddit\",\"subreddit_id\",\"total_awards_received\",\"created\"])\n",
        "dfc.head(100)"
      ],
      "execution_count": 73,
      "outputs": [
        {
          "output_type": "execute_result",
          "data": {
            "text/html": [
              "<div>\n",
              "<style scoped>\n",
              "    .dataframe tbody tr th:only-of-type {\n",
              "        vertical-align: middle;\n",
              "    }\n",
              "\n",
              "    .dataframe tbody tr th {\n",
              "        vertical-align: top;\n",
              "    }\n",
              "\n",
              "    .dataframe thead th {\n",
              "        text-align: right;\n",
              "    }\n",
              "</style>\n",
              "<table border=\"1\" class=\"dataframe\">\n",
              "  <thead>\n",
              "    <tr style=\"text-align: right;\">\n",
              "      <th></th>\n",
              "      <th>permalink</th>\n",
              "      <th>comment</th>\n",
              "      <th>subreddit</th>\n",
              "      <th>subreddit_id</th>\n",
              "      <th>total_awards_received</th>\n",
              "      <th>created</th>\n",
              "    </tr>\n",
              "  </thead>\n",
              "  <tbody>\n",
              "    <tr>\n",
              "      <th>0</th>\n",
              "      <td>/r/Coronavirus/comments/gulu7b/57_of_americans...</td>\n",
              "      <td>Your post or comment has been removed because\\...</td>\n",
              "      <td>Coronavirus</td>\n",
              "      <td>t5_2x4yx</td>\n",
              "      <td>0</td>\n",
              "      <td>2020-06-02 22:05:42</td>\n",
              "    </tr>\n",
              "    <tr>\n",
              "      <th>1</th>\n",
              "      <td>/r/Coronavirus/comments/gulu7b/57_of_americans...</td>\n",
              "      <td>Your post or comment has been removed because\\...</td>\n",
              "      <td>Coronavirus</td>\n",
              "      <td>t5_2x4yx</td>\n",
              "      <td>0</td>\n",
              "      <td>2020-06-02 22:04:24</td>\n",
              "    </tr>\n",
              "    <tr>\n",
              "      <th>2</th>\n",
              "      <td>/r/Coronavirus/comments/gulu7b/57_of_americans...</td>\n",
              "      <td>Your post or comment has been removed because\\...</td>\n",
              "      <td>Coronavirus</td>\n",
              "      <td>t5_2x4yx</td>\n",
              "      <td>0</td>\n",
              "      <td>2020-06-02 22:04:13</td>\n",
              "    </tr>\n",
              "    <tr>\n",
              "      <th>3</th>\n",
              "      <td>/r/Coronavirus/comments/gulu7b/57_of_americans...</td>\n",
              "      <td>Your post or comment has been removed because\\...</td>\n",
              "      <td>Coronavirus</td>\n",
              "      <td>t5_2x4yx</td>\n",
              "      <td>0</td>\n",
              "      <td>2020-06-02 22:03:29</td>\n",
              "    </tr>\n",
              "    <tr>\n",
              "      <th>4</th>\n",
              "      <td>/r/Coronavirus/comments/gulu7b/57_of_americans...</td>\n",
              "      <td>Your post or comment has been removed because\\...</td>\n",
              "      <td>Coronavirus</td>\n",
              "      <td>t5_2x4yx</td>\n",
              "      <td>0</td>\n",
              "      <td>2020-06-02 22:03:19</td>\n",
              "    </tr>\n",
              "    <tr>\n",
              "      <th>...</th>\n",
              "      <td>...</td>\n",
              "      <td>...</td>\n",
              "      <td>...</td>\n",
              "      <td>...</td>\n",
              "      <td>...</td>\n",
              "      <td>...</td>\n",
              "    </tr>\n",
              "    <tr>\n",
              "      <th>95</th>\n",
              "      <td>/r/Coronavirus/comments/gulu7b/57_of_americans...</td>\n",
              "      <td>Yeah, because if the economy is utterly shut d...</td>\n",
              "      <td>Coronavirus</td>\n",
              "      <td>t5_2x4yx</td>\n",
              "      <td>0</td>\n",
              "      <td>2020-06-02 02:42:50</td>\n",
              "    </tr>\n",
              "    <tr>\n",
              "      <th>96</th>\n",
              "      <td>/r/Coronavirus/comments/gulu7b/57_of_americans...</td>\n",
              "      <td>To bad 50 percent of america is currently gath...</td>\n",
              "      <td>Coronavirus</td>\n",
              "      <td>t5_2x4yx</td>\n",
              "      <td>0</td>\n",
              "      <td>2020-06-02 02:38:50</td>\n",
              "    </tr>\n",
              "    <tr>\n",
              "      <th>97</th>\n",
              "      <td>/r/Coronavirus/comments/gulu7b/57_of_americans...</td>\n",
              "      <td>The woman who mentors me said it in April!! Wo...</td>\n",
              "      <td>Coronavirus</td>\n",
              "      <td>t5_2x4yx</td>\n",
              "      <td>0</td>\n",
              "      <td>2020-06-02 02:38:43</td>\n",
              "    </tr>\n",
              "    <tr>\n",
              "      <th>98</th>\n",
              "      <td>/r/Coronavirus/comments/gulu7b/57_of_americans...</td>\n",
              "      <td>[removed]</td>\n",
              "      <td>Coronavirus</td>\n",
              "      <td>t5_2x4yx</td>\n",
              "      <td>0</td>\n",
              "      <td>2020-06-02 02:37:58</td>\n",
              "    </tr>\n",
              "    <tr>\n",
              "      <th>99</th>\n",
              "      <td>/r/Coronavirus/comments/gulu7b/57_of_americans...</td>\n",
              "      <td>it only being 57% is what bothers me... jesus ...</td>\n",
              "      <td>Coronavirus</td>\n",
              "      <td>t5_2x4yx</td>\n",
              "      <td>0</td>\n",
              "      <td>2020-06-02 02:35:51</td>\n",
              "    </tr>\n",
              "  </tbody>\n",
              "</table>\n",
              "<p>100 rows × 6 columns</p>\n",
              "</div>"
            ],
            "text/plain": [
              "                                            permalink  ...             created\n",
              "0   /r/Coronavirus/comments/gulu7b/57_of_americans...  ... 2020-06-02 22:05:42\n",
              "1   /r/Coronavirus/comments/gulu7b/57_of_americans...  ... 2020-06-02 22:04:24\n",
              "2   /r/Coronavirus/comments/gulu7b/57_of_americans...  ... 2020-06-02 22:04:13\n",
              "3   /r/Coronavirus/comments/gulu7b/57_of_americans...  ... 2020-06-02 22:03:29\n",
              "4   /r/Coronavirus/comments/gulu7b/57_of_americans...  ... 2020-06-02 22:03:19\n",
              "..                                                ...  ...                 ...\n",
              "95  /r/Coronavirus/comments/gulu7b/57_of_americans...  ... 2020-06-02 02:42:50\n",
              "96  /r/Coronavirus/comments/gulu7b/57_of_americans...  ... 2020-06-02 02:38:50\n",
              "97  /r/Coronavirus/comments/gulu7b/57_of_americans...  ... 2020-06-02 02:38:43\n",
              "98  /r/Coronavirus/comments/gulu7b/57_of_americans...  ... 2020-06-02 02:37:58\n",
              "99  /r/Coronavirus/comments/gulu7b/57_of_americans...  ... 2020-06-02 02:35:51\n",
              "\n",
              "[100 rows x 6 columns]"
            ]
          },
          "metadata": {
            "tags": []
          },
          "execution_count": 73
        }
      ]
    },
    {
      "cell_type": "code",
      "metadata": {
        "id": "aVGOcYesDelI",
        "colab_type": "code",
        "colab": {}
      },
      "source": [
        "dfc.to_csv(\"reddit_comments\"+str(searchdateafter)+\"_\"+str(searchdatebefore)+\".csv\",encoding=\"utf-8-sig\")"
      ],
      "execution_count": 75,
      "outputs": []
    }
  ]
}
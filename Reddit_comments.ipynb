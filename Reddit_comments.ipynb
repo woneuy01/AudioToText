{
  "nbformat": 4,
  "nbformat_minor": 0,
  "metadata": {
    "colab": {
      "name": "Reddit_comments.ipynb",
      "provenance": [],
      "collapsed_sections": [],
      "toc_visible": true,
      "authorship_tag": "ABX9TyMYBDM7kQ0WdsU5XheZjKmq",
      "include_colab_link": true
    },
    "kernelspec": {
      "name": "python3",
      "display_name": "Python 3"
    }
  },
  "cells": [
    {
      "cell_type": "markdown",
      "metadata": {
        "id": "view-in-github",
        "colab_type": "text"
      },
      "source": [
        "<a href=\"https://colab.research.google.com/github/woneuy01/AudioToText/blob/master/Reddit_comments.ipynb\" target=\"_parent\"><img src=\"https://colab.research.google.com/assets/colab-badge.svg\" alt=\"Open In Colab\"/></a>"
      ]
    },
    {
      "cell_type": "code",
      "metadata": {
        "id": "hAkPuTgXeLGu",
        "colab_type": "code",
        "colab": {}
      },
      "source": [
        "import pandas as pd\n",
        "import requests\n",
        "import json\n",
        "import csv\n",
        "import time\n",
        "#import datetime"
      ],
      "execution_count": 25,
      "outputs": []
    },
    {
      "cell_type": "code",
      "metadata": {
        "id": "DFz3wj1ReNjH",
        "colab_type": "code",
        "colab": {}
      },
      "source": [
        "def getPushshiftData(query, after, before, sub):\n",
        "    url = 'https://api.pushshift.io/reddit/search/submission/?title='+str(query)+'&size=100&after='+str(after)+'&before='+str(before)+'&subreddit='+str(sub)\n",
        "    print(url)\n",
        "    r = requests.get(url)\n",
        "    data = json.loads(r.text)\n",
        "    return data['data']"
      ],
      "execution_count": 26,
      "outputs": []
    },
    {
      "cell_type": "code",
      "metadata": {
        "id": "OlqswullejXF",
        "colab_type": "code",
        "colab": {}
      },
      "source": [
        "def collectSubData(subm):\n",
        "    subData = list() #list to store data points\n",
        "    title = subm['title']\n",
        "    url = subm['url']\n",
        "    try:\n",
        "        flair = subm['link_flair_text']\n",
        "    except KeyError:\n",
        "        flair = \"NaN\"    \n",
        "    author = subm['author']\n",
        "    sub_id = subm['id']\n",
        "    score = subm['score']\n",
        "    created = datetime.fromtimestamp(subm['created_utc']) #1520561700.0\n",
        "    numComms = subm['num_comments']\n",
        "    permalink = subm['permalink']\n",
        "    \n",
        "    subData.append((sub_id,title,url,author,score,created,numComms,permalink,flair))\n",
        "    subStats[sub_id] = subData"
      ],
      "execution_count": 27,
      "outputs": []
    },
    {
      "cell_type": "code",
      "metadata": {
        "id": "p02tk-ZJqOq5",
        "colab_type": "code",
        "colab": {
          "base_uri": "https://localhost:8080/",
          "height": 101
        },
        "outputId": "c8995d9a-0478-44f6-9e76-61d224589fd2"
      },
      "source": [
        "import pandas as pd\n",
        "from datetime import datetime\n",
        "#import datetime\n",
        "from datetime import timezone\n",
        "import seaborn as sns\n",
        "#from youtube_data import youtube_search\n",
        "sub = input('Enter a keyword: ')\n",
        "searchdateafter = input(\"Enter search date publish after (yyyymmdd):\")\n",
        "searchdatebefore = input(\"Enter search date publish before (yyyymmdd):\")\n",
        "\n",
        "searchdateafter = datetime.strptime(searchdateafter, \"%Y%m%d\")\n",
        "after=int(searchdateafter.replace(tzinfo=timezone.utc).timestamp())\n",
        "#searchdateafter=str(searchdateafter)+\"T00:00:00Z\"\n",
        "print(after)\n",
        "\n",
        "searchdatebefore = datetime.strptime(searchdatebefore, \"%Y%m%d\")\n",
        "before=int(searchdatebefore.replace(tzinfo=timezone.utc).timestamp())\n",
        "#searchdatebefore=str(searchdatebefore)+\"T00:00:00Z\"\n",
        "print(before)\n",
        "\n",
        "#query = \"\"\n",
        "# the time should set to period 5/26--> published after 5/26 to published before 5/27\n",
        "\n",
        "#test = youtube_search(keyword,searchdateafter,searchdatebefore)\n",
        "#test.keys()"
      ],
      "execution_count": 23,
      "outputs": [
        {
          "output_type": "stream",
          "text": [
            "Enter a keyword: coronavirus\n",
            "Enter search date publish after (yyyymmdd):20200601\n",
            "Enter search date publish before (yyyymmdd):20200602\n",
            "1590969600\n",
            "1591056000\n"
          ],
          "name": "stdout"
        }
      ]
    },
    {
      "cell_type": "code",
      "metadata": {
        "id": "7O2odz6l5HUr",
        "colab_type": "code",
        "colab": {}
      },
      "source": [
        "from datetime import timezone\n",
        "dt = datetime(2015, 10, 19)\n",
        "timestamp = dt.replace(tzinfo=timezone.utc).timestamp()\n",
        "print(timestamp)"
      ],
      "execution_count": null,
      "outputs": []
    },
    {
      "cell_type": "code",
      "metadata": {
        "id": "MLh38YcXgMuO",
        "colab_type": "code",
        "colab": {
          "base_uri": "https://localhost:8080/",
          "height": 353
        },
        "outputId": "fd5df0aa-7d83-4e9e-d0f9-128be58093dd"
      },
      "source": [
        "query = \"\"\n",
        "subCount = 0\n",
        "subStats = {}\n",
        "\n",
        "data = getPushshiftData(query, after, before, sub)\n",
        "# Will run until all posts have been gathered \n",
        "# from the 'after' date up until before date\n",
        "while len(data) > 0:\n",
        "    for submission in data:\n",
        "        collectSubData(submission)\n",
        "        subCount+=1\n",
        "    # Calls getPushshiftData() with the created date of the last submission\n",
        "    print(len(data))\n",
        "    print(str(datetime.fromtimestamp(data[-1]['created_utc'])))\n",
        "    after = data[-1]['created_utc']\n",
        "    try:\n",
        "      data = getPushshiftData(query, after, before, sub)\n",
        "    except ValueError:\n",
        "      print(\"response content is not valid json\")\n",
        "    \n",
        "print(len(data))"
      ],
      "execution_count": 29,
      "outputs": [
        {
          "output_type": "stream",
          "text": [
            "https://api.pushshift.io/reddit/search/submission/?title=&size=100&after=1590969600&before=1591056000&subreddit=coronavirus\n",
            "100\n",
            "2020-06-01 04:48:53\n",
            "https://api.pushshift.io/reddit/search/submission/?title=&size=100&after=1590986933&before=1591056000&subreddit=coronavirus\n",
            "100\n",
            "2020-06-01 11:02:25\n",
            "https://api.pushshift.io/reddit/search/submission/?title=&size=100&after=1591009345&before=1591056000&subreddit=coronavirus\n",
            "100\n",
            "2020-06-01 15:02:18\n",
            "https://api.pushshift.io/reddit/search/submission/?title=&size=100&after=1591023738&before=1591056000&subreddit=coronavirus\n",
            "100\n",
            "2020-06-01 18:23:58\n",
            "https://api.pushshift.io/reddit/search/submission/?title=&size=100&after=1591035838&before=1591056000&subreddit=coronavirus\n",
            "100\n",
            "2020-06-01 22:06:51\n",
            "https://api.pushshift.io/reddit/search/submission/?title=&size=100&after=1591049211&before=1591056000&subreddit=coronavirus\n",
            "23\n",
            "2020-06-01 23:54:11\n",
            "https://api.pushshift.io/reddit/search/submission/?title=&size=100&after=1591055651&before=1591056000&subreddit=coronavirus\n",
            "0\n"
          ],
          "name": "stdout"
        }
      ]
    },
    {
      "cell_type": "code",
      "metadata": {
        "id": "elV8zAUBgQdl",
        "colab_type": "code",
        "colab": {
          "base_uri": "https://localhost:8080/",
          "height": 101
        },
        "outputId": "7f5df95b-01a1-402d-a960-136393630116"
      },
      "source": [
        "print(str(len(subStats)) + \" submissions have added to list\")\n",
        "print(\"1st entry is:\")\n",
        "print(list(subStats.values())[0][0][1] + \" created: \" + str(list(subStats.values())[0][0][5]))\n",
        "print(\"Last entry is:\")\n",
        "print(list(subStats.values())[-1][0][1] + \" created: \" + str(list(subStats.values())[-1][0][5]))"
      ],
      "execution_count": 30,
      "outputs": [
        {
          "output_type": "stream",
          "text": [
            "523 submissions have added to list\n",
            "1st entry is:\n",
            "Arizona sees deadliest March and April on record created: 2020-06-01 00:05:44\n",
            "Last entry is:\n",
            "My favorite playlist during the corona lockdown. My advice against boredom 😃 created: 2020-06-01 23:54:11\n"
          ],
          "name": "stdout"
        }
      ]
    },
    {
      "cell_type": "code",
      "metadata": {
        "id": "DfvfWI2ggVYY",
        "colab_type": "code",
        "colab": {}
      },
      "source": [
        "# def updateSubs_file():\n",
        "#     upload_count = 0\n",
        "#     location = \"\"\n",
        "#     print(\"input filename of submission file, please add .csv\")\n",
        "    #filename = input()\n",
        "    #file = location + filename\n",
        "    # with open(file, 'w', newline='', encoding='utf-8') as file: \n",
        "    #     a = csv.writer(file, delimiter=',')\n",
        "    #     headers = [\"Post ID\",\"Title\",\"Url\",\"Author\",\"Score\",\"Publish Date\",\"Total No. of Comments\",\"Permalink\",\"Flair\"]\n",
        "    #     a.writerow(headers)\n",
        "    #     for sub in subStats:\n",
        "    #         a.writerow(subStats[sub][0])\n",
        "    #         upload_count+=1\n",
        "               \n",
        "        #print(str(upload_count) + \" submissions have been uploaded\")\n"
      ],
      "execution_count": null,
      "outputs": []
    },
    {
      "cell_type": "code",
      "metadata": {
        "id": "Wgpicp9_y8TI",
        "colab_type": "code",
        "colab": {
          "base_uri": "https://localhost:8080/",
          "height": 501
        },
        "outputId": "aaa5c8f7-993d-40a4-faed-db5686a6e51a"
      },
      "source": [
        "posts=[]\n",
        "for sub in subStats:\n",
        "  posts.append(subStats[sub][0]) \n",
        " \n",
        "df=pd.DataFrame(posts, columns=[\"Post ID\",\"Title\",\"Url\",\"Author\",\"Score\",\"Publish Date\",\"Total No. of Comments\",\"Permalink\",\"Flair\"])\n",
        "df.head()"
      ],
      "execution_count": 31,
      "outputs": [
        {
          "output_type": "execute_result",
          "data": {
            "text/html": [
              "<div>\n",
              "<style scoped>\n",
              "    .dataframe tbody tr th:only-of-type {\n",
              "        vertical-align: middle;\n",
              "    }\n",
              "\n",
              "    .dataframe tbody tr th {\n",
              "        vertical-align: top;\n",
              "    }\n",
              "\n",
              "    .dataframe thead th {\n",
              "        text-align: right;\n",
              "    }\n",
              "</style>\n",
              "<table border=\"1\" class=\"dataframe\">\n",
              "  <thead>\n",
              "    <tr style=\"text-align: right;\">\n",
              "      <th></th>\n",
              "      <th>Post ID</th>\n",
              "      <th>Title</th>\n",
              "      <th>Url</th>\n",
              "      <th>Author</th>\n",
              "      <th>Score</th>\n",
              "      <th>Publish Date</th>\n",
              "      <th>Total No. of Comments</th>\n",
              "      <th>Permalink</th>\n",
              "      <th>Flair</th>\n",
              "    </tr>\n",
              "  </thead>\n",
              "  <tbody>\n",
              "    <tr>\n",
              "      <th>0</th>\n",
              "      <td>gua1j4</td>\n",
              "      <td>Arizona sees deadliest March and April on record</td>\n",
              "      <td>https://www.azfamily.com/news/arizona-sees-dea...</td>\n",
              "      <td>[deleted]</td>\n",
              "      <td>0</td>\n",
              "      <td>2020-06-01 00:05:44</td>\n",
              "      <td>0</td>\n",
              "      <td>/r/Coronavirus/comments/gua1j4/arizona_sees_de...</td>\n",
              "      <td>USA</td>\n",
              "    </tr>\n",
              "    <tr>\n",
              "      <th>1</th>\n",
              "      <td>gua4or</td>\n",
              "      <td>Brazil records 29,314 deaths (+480) and 514,84...</td>\n",
              "      <td>https://g1.globo.com/bemestar/coronavirus/noti...</td>\n",
              "      <td>EffectiveIndividual3</td>\n",
              "      <td>2</td>\n",
              "      <td>2020-06-01 00:10:58</td>\n",
              "      <td>4</td>\n",
              "      <td>/r/Coronavirus/comments/gua4or/brazil_records_...</td>\n",
              "      <td>Latin America</td>\n",
              "    </tr>\n",
              "    <tr>\n",
              "      <th>2</th>\n",
              "      <td>gua6kc</td>\n",
              "      <td>Texas Tribune @TexasTribune Texas reported 1,9...</td>\n",
              "      <td>https://www.texastribune.org/2020/05/31/texas-...</td>\n",
              "      <td>[deleted]</td>\n",
              "      <td>13</td>\n",
              "      <td>2020-06-01 00:14:06</td>\n",
              "      <td>13</td>\n",
              "      <td>/r/Coronavirus/comments/gua6kc/texas_tribune_t...</td>\n",
              "      <td>USA</td>\n",
              "    </tr>\n",
              "    <tr>\n",
              "      <th>3</th>\n",
              "      <td>guadd5</td>\n",
              "      <td>“Our calm is contagious”: How to use mindfulne...</td>\n",
              "      <td>https://www.vox.com/platform/amp/future-perfec...</td>\n",
              "      <td>shallah</td>\n",
              "      <td>1</td>\n",
              "      <td>2020-06-01 00:25:35</td>\n",
              "      <td>0</td>\n",
              "      <td>/r/Coronavirus/comments/guadd5/our_calm_is_con...</td>\n",
              "      <td>NaN</td>\n",
              "    </tr>\n",
              "    <tr>\n",
              "      <th>4</th>\n",
              "      <td>guagsl</td>\n",
              "      <td>New coronavirus losing potency, top Italian do...</td>\n",
              "      <td>https://uk.reuters.com/article/us-health-coron...</td>\n",
              "      <td>[deleted]</td>\n",
              "      <td>2</td>\n",
              "      <td>2020-06-01 00:31:32</td>\n",
              "      <td>2</td>\n",
              "      <td>/r/Coronavirus/comments/guagsl/new_coronavirus...</td>\n",
              "      <td>Good News</td>\n",
              "    </tr>\n",
              "  </tbody>\n",
              "</table>\n",
              "</div>"
            ],
            "text/plain": [
              "  Post ID  ...          Flair\n",
              "0  gua1j4  ...            USA\n",
              "1  gua4or  ...  Latin America\n",
              "2  gua6kc  ...            USA\n",
              "3  guadd5  ...            NaN\n",
              "4  guagsl  ...      Good News\n",
              "\n",
              "[5 rows x 9 columns]"
            ]
          },
          "metadata": {
            "tags": []
          },
          "execution_count": 31
        }
      ]
    },
    {
      "cell_type": "code",
      "metadata": {
        "id": "b259CmUoDHpX",
        "colab_type": "code",
        "colab": {
          "base_uri": "https://localhost:8080/",
          "height": 585
        },
        "outputId": "633d221a-e318-495f-db80-1b2a91ad5a5c"
      },
      "source": [
        "df.sort_values(\"Total No. of Comments\", axis = 0, ascending = False, \n",
        "                 inplace = True, na_position ='last') \n",
        "df.head()"
      ],
      "execution_count": 33,
      "outputs": [
        {
          "output_type": "execute_result",
          "data": {
            "text/html": [
              "<div>\n",
              "<style scoped>\n",
              "    .dataframe tbody tr th:only-of-type {\n",
              "        vertical-align: middle;\n",
              "    }\n",
              "\n",
              "    .dataframe tbody tr th {\n",
              "        vertical-align: top;\n",
              "    }\n",
              "\n",
              "    .dataframe thead th {\n",
              "        text-align: right;\n",
              "    }\n",
              "</style>\n",
              "<table border=\"1\" class=\"dataframe\">\n",
              "  <thead>\n",
              "    <tr style=\"text-align: right;\">\n",
              "      <th></th>\n",
              "      <th>Post ID</th>\n",
              "      <th>Title</th>\n",
              "      <th>Url</th>\n",
              "      <th>Author</th>\n",
              "      <th>Score</th>\n",
              "      <th>Publish Date</th>\n",
              "      <th>Total No. of Comments</th>\n",
              "      <th>Permalink</th>\n",
              "      <th>Flair</th>\n",
              "    </tr>\n",
              "  </thead>\n",
              "  <tbody>\n",
              "    <tr>\n",
              "      <th>290</th>\n",
              "      <td>gulu7b</td>\n",
              "      <td>57% of Americans say it’s more important to tr...</td>\n",
              "      <td>https://abcnews.go.com/Politics/hesitancy-resu...</td>\n",
              "      <td>HugeDetective0</td>\n",
              "      <td>36</td>\n",
              "      <td>2020-06-01 14:42:50</td>\n",
              "      <td>2375</td>\n",
              "      <td>/r/Coronavirus/comments/gulu7b/57_of_americans...</td>\n",
              "      <td>USA</td>\n",
              "    </tr>\n",
              "    <tr>\n",
              "      <th>65</th>\n",
              "      <td>gucr3h</td>\n",
              "      <td>‘Coronavirus Cooking Survey’ Finds That People...</td>\n",
              "      <td>https://www.goodnewsnetwork.org/people-are-eat...</td>\n",
              "      <td>Barknuckle</td>\n",
              "      <td>97</td>\n",
              "      <td>2020-06-01 03:05:04</td>\n",
              "      <td>688</td>\n",
              "      <td>/r/Coronavirus/comments/gucr3h/coronavirus_coo...</td>\n",
              "      <td>Good News</td>\n",
              "    </tr>\n",
              "    <tr>\n",
              "      <th>262</th>\n",
              "      <td>gul0hp</td>\n",
              "      <td>Daily Discussion Post - June 01 | Questions, i...</td>\n",
              "      <td>https://www.reddit.com/r/Coronavirus/comments/...</td>\n",
              "      <td>AutoModerator</td>\n",
              "      <td>1</td>\n",
              "      <td>2020-06-01 13:52:39</td>\n",
              "      <td>684</td>\n",
              "      <td>/r/Coronavirus/comments/gul0hp/daily_discussio...</td>\n",
              "      <td>NaN</td>\n",
              "    </tr>\n",
              "    <tr>\n",
              "      <th>235</th>\n",
              "      <td>guk32n</td>\n",
              "      <td>The Protests Will Spread the Coronavirus</td>\n",
              "      <td>https://www.theatlantic.com/health/archive/202...</td>\n",
              "      <td>pump_the_brakes_son</td>\n",
              "      <td>1</td>\n",
              "      <td>2020-06-01 12:51:14</td>\n",
              "      <td>437</td>\n",
              "      <td>/r/Coronavirus/comments/guk32n/the_protests_wi...</td>\n",
              "      <td>USA</td>\n",
              "    </tr>\n",
              "    <tr>\n",
              "      <th>332</th>\n",
              "      <td>gun51t</td>\n",
              "      <td>Good news: the US saw a 21% drop in Covid deat...</td>\n",
              "      <td>https://coronachaser.com/?rows=year%2Ccountry%...</td>\n",
              "      <td>shreddit47</td>\n",
              "      <td>70</td>\n",
              "      <td>2020-06-01 15:58:27</td>\n",
              "      <td>414</td>\n",
              "      <td>/r/Coronavirus/comments/gun51t/good_news_the_u...</td>\n",
              "      <td>Good News</td>\n",
              "    </tr>\n",
              "  </tbody>\n",
              "</table>\n",
              "</div>"
            ],
            "text/plain": [
              "    Post ID  ...      Flair\n",
              "290  gulu7b  ...        USA\n",
              "65   gucr3h  ...  Good News\n",
              "262  gul0hp  ...        NaN\n",
              "235  guk32n  ...        USA\n",
              "332  gun51t  ...  Good News\n",
              "\n",
              "[5 rows x 9 columns]"
            ]
          },
          "metadata": {
            "tags": []
          },
          "execution_count": 33
        }
      ]
    },
    {
      "cell_type": "code",
      "metadata": {
        "id": "XZLUC0xWEyiB",
        "colab_type": "code",
        "colab": {
          "base_uri": "https://localhost:8080/",
          "height": 585
        },
        "outputId": "f5631a89-bb98-484d-ef40-e34fd3ab8430"
      },
      "source": [
        "df=df[df[\"Total No. of Comments\"]>300]\n",
        "df.head()"
      ],
      "execution_count": 34,
      "outputs": [
        {
          "output_type": "execute_result",
          "data": {
            "text/html": [
              "<div>\n",
              "<style scoped>\n",
              "    .dataframe tbody tr th:only-of-type {\n",
              "        vertical-align: middle;\n",
              "    }\n",
              "\n",
              "    .dataframe tbody tr th {\n",
              "        vertical-align: top;\n",
              "    }\n",
              "\n",
              "    .dataframe thead th {\n",
              "        text-align: right;\n",
              "    }\n",
              "</style>\n",
              "<table border=\"1\" class=\"dataframe\">\n",
              "  <thead>\n",
              "    <tr style=\"text-align: right;\">\n",
              "      <th></th>\n",
              "      <th>Post ID</th>\n",
              "      <th>Title</th>\n",
              "      <th>Url</th>\n",
              "      <th>Author</th>\n",
              "      <th>Score</th>\n",
              "      <th>Publish Date</th>\n",
              "      <th>Total No. of Comments</th>\n",
              "      <th>Permalink</th>\n",
              "      <th>Flair</th>\n",
              "    </tr>\n",
              "  </thead>\n",
              "  <tbody>\n",
              "    <tr>\n",
              "      <th>290</th>\n",
              "      <td>gulu7b</td>\n",
              "      <td>57% of Americans say it’s more important to tr...</td>\n",
              "      <td>https://abcnews.go.com/Politics/hesitancy-resu...</td>\n",
              "      <td>HugeDetective0</td>\n",
              "      <td>36</td>\n",
              "      <td>2020-06-01 14:42:50</td>\n",
              "      <td>2375</td>\n",
              "      <td>/r/Coronavirus/comments/gulu7b/57_of_americans...</td>\n",
              "      <td>USA</td>\n",
              "    </tr>\n",
              "    <tr>\n",
              "      <th>65</th>\n",
              "      <td>gucr3h</td>\n",
              "      <td>‘Coronavirus Cooking Survey’ Finds That People...</td>\n",
              "      <td>https://www.goodnewsnetwork.org/people-are-eat...</td>\n",
              "      <td>Barknuckle</td>\n",
              "      <td>97</td>\n",
              "      <td>2020-06-01 03:05:04</td>\n",
              "      <td>688</td>\n",
              "      <td>/r/Coronavirus/comments/gucr3h/coronavirus_coo...</td>\n",
              "      <td>Good News</td>\n",
              "    </tr>\n",
              "    <tr>\n",
              "      <th>262</th>\n",
              "      <td>gul0hp</td>\n",
              "      <td>Daily Discussion Post - June 01 | Questions, i...</td>\n",
              "      <td>https://www.reddit.com/r/Coronavirus/comments/...</td>\n",
              "      <td>AutoModerator</td>\n",
              "      <td>1</td>\n",
              "      <td>2020-06-01 13:52:39</td>\n",
              "      <td>684</td>\n",
              "      <td>/r/Coronavirus/comments/gul0hp/daily_discussio...</td>\n",
              "      <td>NaN</td>\n",
              "    </tr>\n",
              "    <tr>\n",
              "      <th>235</th>\n",
              "      <td>guk32n</td>\n",
              "      <td>The Protests Will Spread the Coronavirus</td>\n",
              "      <td>https://www.theatlantic.com/health/archive/202...</td>\n",
              "      <td>pump_the_brakes_son</td>\n",
              "      <td>1</td>\n",
              "      <td>2020-06-01 12:51:14</td>\n",
              "      <td>437</td>\n",
              "      <td>/r/Coronavirus/comments/guk32n/the_protests_wi...</td>\n",
              "      <td>USA</td>\n",
              "    </tr>\n",
              "    <tr>\n",
              "      <th>332</th>\n",
              "      <td>gun51t</td>\n",
              "      <td>Good news: the US saw a 21% drop in Covid deat...</td>\n",
              "      <td>https://coronachaser.com/?rows=year%2Ccountry%...</td>\n",
              "      <td>shreddit47</td>\n",
              "      <td>70</td>\n",
              "      <td>2020-06-01 15:58:27</td>\n",
              "      <td>414</td>\n",
              "      <td>/r/Coronavirus/comments/gun51t/good_news_the_u...</td>\n",
              "      <td>Good News</td>\n",
              "    </tr>\n",
              "  </tbody>\n",
              "</table>\n",
              "</div>"
            ],
            "text/plain": [
              "    Post ID  ...      Flair\n",
              "290  gulu7b  ...        USA\n",
              "65   gucr3h  ...  Good News\n",
              "262  gul0hp  ...        NaN\n",
              "235  guk32n  ...        USA\n",
              "332  gun51t  ...  Good News\n",
              "\n",
              "[5 rows x 9 columns]"
            ]
          },
          "metadata": {
            "tags": []
          },
          "execution_count": 34
        }
      ]
    },
    {
      "cell_type": "code",
      "metadata": {
        "id": "8c4g7yJ9FHkj",
        "colab_type": "code",
        "colab": {}
      },
      "source": [
        "#produce excel\n",
        "df.to_csv(str(after)+\".csv\",encoding=\"utf-8-sig\")"
      ],
      "execution_count": 35,
      "outputs": []
    },
    {
      "cell_type": "code",
      "metadata": {
        "id": "Onigujz0Bqvn",
        "colab_type": "code",
        "colab": {}
      },
      "source": [
        "gb7i90\n",
        "https://api.pushshift.io/reddit/comment/search/?link_id=crzqmg&limit=1000&size=100&after='+str(after)+'&before='+str(before)\n",
        "https://api.pushshift.io/reddit/search/comment/?q=trump&after=7d&aggs=created_utc&frequency=hour&size=0"
      ],
      "execution_count": null,
      "outputs": []
    },
    {
      "cell_type": "code",
      "metadata": {
        "id": "uALbOBxHDgII",
        "colab_type": "code",
        "colab": {}
      },
      "source": [
        "def getPushshiftComments(PostId):\n",
        "  url='https://api.pushshift.io/reddit/comment/search/?link_id='+str(PostId)+'&limit=100'\n",
        "  print(url)\n",
        "  r = requests.get(url)\n",
        "  comments = json.loads(r.text)\n",
        "  return comments['data']"
      ],
      "execution_count": 68,
      "outputs": []
    },
    {
      "cell_type": "code",
      "metadata": {
        "id": "f-PKXXaZonCz",
        "colab_type": "code",
        "colab": {}
      },
      "source": [
        "subCount = 0\n",
        "subStatsC = {}"
      ],
      "execution_count": 69,
      "outputs": []
    },
    {
      "cell_type": "code",
      "metadata": {
        "id": "hBKVa3zfJ2j_",
        "colab_type": "code",
        "colab": {}
      },
      "source": [
        "def collectComments(subm):\n",
        "    subData = list() #list to store data points\n",
        "    permalink=subm['permalink']\n",
        "    comment = subm['body']\n",
        "    subreddit = subm['subreddit']\n",
        "    subreddit_id = subm['subreddit_id']    \n",
        "    total_awards_received = subm['total_awards_received']\n",
        "    created = datetime.fromtimestamp(subm['created_utc']) #1520561700.0    \n",
        "    \n",
        "    subData.append((permalink,comment,subreddit,subreddit_id,total_awards_received,created))\n",
        "    subStatsC[permalink] = subData"
      ],
      "execution_count": 70,
      "outputs": []
    },
    {
      "cell_type": "code",
      "metadata": {
        "id": "N9-Mz1IUNHlI",
        "colab_type": "code",
        "colab": {
          "base_uri": "https://localhost:8080/",
          "height": 185
        },
        "outputId": "8d302d30-fc1c-400d-f2e7-28507f765472"
      },
      "source": [
        "for link in df['Post ID']:\n",
        "  try:\n",
        "    data=getPushshiftComments(link)\n",
        "    for submission in data:\n",
        "      collectComments(submission)\n",
        "      subCount+=1\n",
        "  except:\n",
        "    pass\n"
      ],
      "execution_count": 71,
      "outputs": [
        {
          "output_type": "stream",
          "text": [
            "https://api.pushshift.io/reddit/comment/search/?link_id=gulu7b&limit=100\n",
            "https://api.pushshift.io/reddit/comment/search/?link_id=gucr3h&limit=100\n",
            "https://api.pushshift.io/reddit/comment/search/?link_id=gul0hp&limit=100\n",
            "https://api.pushshift.io/reddit/comment/search/?link_id=guk32n&limit=100\n",
            "https://api.pushshift.io/reddit/comment/search/?link_id=gun51t&limit=100\n",
            "https://api.pushshift.io/reddit/comment/search/?link_id=gulozi&limit=100\n",
            "https://api.pushshift.io/reddit/comment/search/?link_id=guw0ot&limit=100\n",
            "https://api.pushshift.io/reddit/comment/search/?link_id=gulgf2&limit=100\n",
            "https://api.pushshift.io/reddit/comment/search/?link_id=guleez&limit=100\n",
            "https://api.pushshift.io/reddit/comment/search/?link_id=gudz9j&limit=100\n"
          ],
          "name": "stdout"
        }
      ]
    },
    {
      "cell_type": "code",
      "metadata": {
        "id": "Uo0_UeXJFsRK",
        "colab_type": "code",
        "colab": {}
      },
      "source": [
        "k=0\n",
        "i=0\n",
        "for com in comments:\n",
        "  leng=len(comments[k]['items'])\n",
        "  for i in range(0,leng):\n",
        "    #print(i)\n",
        "    try:\n",
        "      publishedAt.append(comments[k]['items'][i]['snippet']['topLevelComment']['snippet']['publishedAt'])\n",
        "      videoId.append(comments[k]['items'][i]['snippet']['topLevelComment']['snippet']['videoId'])\n",
        "      likeCount.append(comments[k]['items'][i]['snippet']['topLevelComment']['snippet']['likeCount'])\n",
        "      textOriginal.append(comments[k]['items'][i]['snippet']['topLevelComment']['snippet']['textDisplay'])\n",
        "      i+=1\n",
        "    except:\n",
        "      pass\n",
        "  k+=1\n",
        "\n",
        "         "
      ],
      "execution_count": null,
      "outputs": []
    },
    {
      "cell_type": "code",
      "metadata": {
        "id": "VhBJC_N1Af3Z",
        "colab_type": "code",
        "colab": {}
      },
      "source": [
        "subStatsC"
      ],
      "execution_count": null,
      "outputs": []
    },
    {
      "cell_type": "code",
      "metadata": {
        "id": "VNh84yH6Eq9v",
        "colab_type": "code",
        "colab": {
          "base_uri": "https://localhost:8080/",
          "height": 34
        },
        "outputId": "0b3d2c4f-aeb7-4a34-88fe-bd3bb8dbce10"
      },
      "source": [
        "len(subStatsC)"
      ],
      "execution_count": 72,
      "outputs": [
        {
          "output_type": "execute_result",
          "data": {
            "text/plain": [
              "1000"
            ]
          },
          "metadata": {
            "tags": []
          },
          "execution_count": 72
        }
      ]
    },
    {
      "cell_type": "code",
      "metadata": {
        "id": "pNNs_R3mpEQN",
        "colab_type": "code",
        "colab": {
          "base_uri": "https://localhost:8080/",
          "height": 738
        },
        "outputId": "14a336f8-7bf0-47d5-bbd4-56c3055eb194"
      },
      "source": [
        "postsC=[]\n",
        "for sub in subStatsC:\n",
        "  postsC.append(subStatsC[sub][0]) \n",
        " \n",
        "dfc=pd.DataFrame(postsC, columns=[\"permalink\",\"comment\",\"subreddit\",\"subreddit_id\",\"total_awards_received\",\"created\"])\n",
        "dfc.head(100)"
      ],
      "execution_count": 73,
      "outputs": [
        {
          "output_type": "execute_result",
          "data": {
            "text/html": [
              "<div>\n",
              "<style scoped>\n",
              "    .dataframe tbody tr th:only-of-type {\n",
              "        vertical-align: middle;\n",
              "    }\n",
              "\n",
              "    .dataframe tbody tr th {\n",
              "        vertical-align: top;\n",
              "    }\n",
              "\n",
              "    .dataframe thead th {\n",
              "        text-align: right;\n",
              "    }\n",
              "</style>\n",
              "<table border=\"1\" class=\"dataframe\">\n",
              "  <thead>\n",
              "    <tr style=\"text-align: right;\">\n",
              "      <th></th>\n",
              "      <th>permalink</th>\n",
              "      <th>comment</th>\n",
              "      <th>subreddit</th>\n",
              "      <th>subreddit_id</th>\n",
              "      <th>total_awards_received</th>\n",
              "      <th>created</th>\n",
              "    </tr>\n",
              "  </thead>\n",
              "  <tbody>\n",
              "    <tr>\n",
              "      <th>0</th>\n",
              "      <td>/r/Coronavirus/comments/gulu7b/57_of_americans...</td>\n",
              "      <td>Your post or comment has been removed because\\...</td>\n",
              "      <td>Coronavirus</td>\n",
              "      <td>t5_2x4yx</td>\n",
              "      <td>0</td>\n",
              "      <td>2020-06-02 22:05:42</td>\n",
              "    </tr>\n",
              "    <tr>\n",
              "      <th>1</th>\n",
              "      <td>/r/Coronavirus/comments/gulu7b/57_of_americans...</td>\n",
              "      <td>Your post or comment has been removed because\\...</td>\n",
              "      <td>Coronavirus</td>\n",
              "      <td>t5_2x4yx</td>\n",
              "      <td>0</td>\n",
              "      <td>2020-06-02 22:04:24</td>\n",
              "    </tr>\n",
              "    <tr>\n",
              "      <th>2</th>\n",
              "      <td>/r/Coronavirus/comments/gulu7b/57_of_americans...</td>\n",
              "      <td>Your post or comment has been removed because\\...</td>\n",
              "      <td>Coronavirus</td>\n",
              "      <td>t5_2x4yx</td>\n",
              "      <td>0</td>\n",
              "      <td>2020-06-02 22:04:13</td>\n",
              "    </tr>\n",
              "    <tr>\n",
              "      <th>3</th>\n",
              "      <td>/r/Coronavirus/comments/gulu7b/57_of_americans...</td>\n",
              "      <td>Your post or comment has been removed because\\...</td>\n",
              "      <td>Coronavirus</td>\n",
              "      <td>t5_2x4yx</td>\n",
              "      <td>0</td>\n",
              "      <td>2020-06-02 22:03:29</td>\n",
              "    </tr>\n",
              "    <tr>\n",
              "      <th>4</th>\n",
              "      <td>/r/Coronavirus/comments/gulu7b/57_of_americans...</td>\n",
              "      <td>Your post or comment has been removed because\\...</td>\n",
              "      <td>Coronavirus</td>\n",
              "      <td>t5_2x4yx</td>\n",
              "      <td>0</td>\n",
              "      <td>2020-06-02 22:03:19</td>\n",
              "    </tr>\n",
              "    <tr>\n",
              "      <th>...</th>\n",
              "      <td>...</td>\n",
              "      <td>...</td>\n",
              "      <td>...</td>\n",
              "      <td>...</td>\n",
              "      <td>...</td>\n",
              "      <td>...</td>\n",
              "    </tr>\n",
              "    <tr>\n",
              "      <th>95</th>\n",
              "      <td>/r/Coronavirus/comments/gulu7b/57_of_americans...</td>\n",
              "      <td>Yeah, because if the economy is utterly shut d...</td>\n",
              "      <td>Coronavirus</td>\n",
              "      <td>t5_2x4yx</td>\n",
              "      <td>0</td>\n",
              "      <td>2020-06-02 02:42:50</td>\n",
              "    </tr>\n",
              "    <tr>\n",
              "      <th>96</th>\n",
              "      <td>/r/Coronavirus/comments/gulu7b/57_of_americans...</td>\n",
              "      <td>To bad 50 percent of america is currently gath...</td>\n",
              "      <td>Coronavirus</td>\n",
              "      <td>t5_2x4yx</td>\n",
              "      <td>0</td>\n",
              "      <td>2020-06-02 02:38:50</td>\n",
              "    </tr>\n",
              "    <tr>\n",
              "      <th>97</th>\n",
              "      <td>/r/Coronavirus/comments/gulu7b/57_of_americans...</td>\n",
              "      <td>The woman who mentors me said it in April!! Wo...</td>\n",
              "      <td>Coronavirus</td>\n",
              "      <td>t5_2x4yx</td>\n",
              "      <td>0</td>\n",
              "      <td>2020-06-02 02:38:43</td>\n",
              "    </tr>\n",
              "    <tr>\n",
              "      <th>98</th>\n",
              "      <td>/r/Coronavirus/comments/gulu7b/57_of_americans...</td>\n",
              "      <td>[removed]</td>\n",
              "      <td>Coronavirus</td>\n",
              "      <td>t5_2x4yx</td>\n",
              "      <td>0</td>\n",
              "      <td>2020-06-02 02:37:58</td>\n",
              "    </tr>\n",
              "    <tr>\n",
              "      <th>99</th>\n",
              "      <td>/r/Coronavirus/comments/gulu7b/57_of_americans...</td>\n",
              "      <td>it only being 57% is what bothers me... jesus ...</td>\n",
              "      <td>Coronavirus</td>\n",
              "      <td>t5_2x4yx</td>\n",
              "      <td>0</td>\n",
              "      <td>2020-06-02 02:35:51</td>\n",
              "    </tr>\n",
              "  </tbody>\n",
              "</table>\n",
              "<p>100 rows × 6 columns</p>\n",
              "</div>"
            ],
            "text/plain": [
              "                                            permalink  ...             created\n",
              "0   /r/Coronavirus/comments/gulu7b/57_of_americans...  ... 2020-06-02 22:05:42\n",
              "1   /r/Coronavirus/comments/gulu7b/57_of_americans...  ... 2020-06-02 22:04:24\n",
              "2   /r/Coronavirus/comments/gulu7b/57_of_americans...  ... 2020-06-02 22:04:13\n",
              "3   /r/Coronavirus/comments/gulu7b/57_of_americans...  ... 2020-06-02 22:03:29\n",
              "4   /r/Coronavirus/comments/gulu7b/57_of_americans...  ... 2020-06-02 22:03:19\n",
              "..                                                ...  ...                 ...\n",
              "95  /r/Coronavirus/comments/gulu7b/57_of_americans...  ... 2020-06-02 02:42:50\n",
              "96  /r/Coronavirus/comments/gulu7b/57_of_americans...  ... 2020-06-02 02:38:50\n",
              "97  /r/Coronavirus/comments/gulu7b/57_of_americans...  ... 2020-06-02 02:38:43\n",
              "98  /r/Coronavirus/comments/gulu7b/57_of_americans...  ... 2020-06-02 02:37:58\n",
              "99  /r/Coronavirus/comments/gulu7b/57_of_americans...  ... 2020-06-02 02:35:51\n",
              "\n",
              "[100 rows x 6 columns]"
            ]
          },
          "metadata": {
            "tags": []
          },
          "execution_count": 73
        }
      ]
    },
    {
      "cell_type": "code",
      "metadata": {
        "id": "aVGOcYesDelI",
        "colab_type": "code",
        "colab": {}
      },
      "source": [
        "dfc.to_csv(\"reddit_comments\"+str(searchdateafter)+\"_\"+str(searchdatebefore)+\".csv\",encoding=\"utf-8-sig\")"
      ],
      "execution_count": 75,
      "outputs": []
    }
  ]
}
{
 "cells": [
  {
   "cell_type": "code",
   "execution_count": 66,
   "metadata": {},
   "outputs": [
    {
     "name": "stdout",
     "output_type": "stream",
     "text": [
      "Requirement already satisfied: boto3 in c:\\users\\woneu\\appdata\\local\\continuum\\anaconda3\\lib\\site-packages (1.12.23)\n",
      "Requirement already satisfied: s3transfer<0.4.0,>=0.3.0 in c:\\users\\woneu\\appdata\\local\\continuum\\anaconda3\\lib\\site-packages (from boto3) (0.3.3)\n",
      "Requirement already satisfied: botocore<1.16.0,>=1.15.23 in c:\\users\\woneu\\appdata\\local\\continuum\\anaconda3\\lib\\site-packages (from boto3) (1.15.23)\n",
      "Requirement already satisfied: jmespath<1.0.0,>=0.7.1 in c:\\users\\woneu\\appdata\\local\\continuum\\anaconda3\\lib\\site-packages (from boto3) (0.9.5)\n",
      "Requirement already satisfied: docutils<0.16,>=0.10 in c:\\users\\woneu\\appdata\\local\\continuum\\anaconda3\\lib\\site-packages (from botocore<1.16.0,>=1.15.23->boto3) (0.15.2)\n",
      "Requirement already satisfied: urllib3<1.26,>=1.20; python_version != \"3.4\" in c:\\users\\woneu\\appdata\\local\\continuum\\anaconda3\\lib\\site-packages (from botocore<1.16.0,>=1.15.23->boto3) (1.24.2)\n",
      "Requirement already satisfied: python-dateutil<3.0.0,>=2.1 in c:\\users\\woneu\\appdata\\local\\continuum\\anaconda3\\lib\\site-packages (from botocore<1.16.0,>=1.15.23->boto3) (2.8.0)\n",
      "Requirement already satisfied: six>=1.5 in c:\\users\\woneu\\appdata\\local\\continuum\\anaconda3\\lib\\site-packages (from python-dateutil<3.0.0,>=2.1->botocore<1.16.0,>=1.15.23->boto3) (1.12.0)\n",
      "Note: you may need to restart the kernel to use updated packages.\n"
     ]
    }
   ],
   "source": [
    "pip install boto3"
   ]
  },
  {
   "cell_type": "code",
   "execution_count": 67,
   "metadata": {},
   "outputs": [],
   "source": [
    "# Libraries used on the tutorial\n",
    "import boto3\n",
    "import os\n",
    "import time\n",
    "import pandas as pd\n",
    "import matplotlib as plt\n",
    "from botocore.exceptions import ClientError\n",
    "from datetime import date\n",
    "import json\n",
    "import seaborn as sns\n",
    "import spacy\n",
    "import numpy as np\n",
    "#import wmd\n",
    "from gensim.models import word2vec\n",
    "\n",
    "\n",
    "%matplotlib inline"
   ]
  },
  {
   "cell_type": "code",
   "execution_count": 100,
   "metadata": {},
   "outputs": [],
   "source": [
    "# Create a dictionary with the URLs for each speech on Youtube\n",
    "dict_urls_youtube = {\n",
    "    '2020-04-05':'https://www.youtube.com/watch?v=jJSfz7POzM8',\n",
    "    '2020-04-02':'https://www.youtube.com/watch?v=BbWEVgbIXbM'\n",
    "   }"
   ]
  },
  {
   "cell_type": "code",
   "execution_count": 101,
   "metadata": {},
   "outputs": [
    {
     "name": "stdout",
     "output_type": "stream",
     "text": [
      "Downloading audio file from the link: https://www.youtube.com/watch?v=jJSfz7POzM8\n",
      "Downloading audio file from the link: https://www.youtube.com/watch?v=BbWEVgbIXbM\n"
     ]
    }
   ],
   "source": [
    "# Download each speech in mp3 format using Youtube-DL\n",
    "for url in list(dict_urls_youtube.values()):\n",
    "    print(f'Downloading audio file from the link: {url}')\n",
    "    os.system(f'youtube-dl -x --audio-format \"mp3\" {url}')"
   ]
  },
  {
   "cell_type": "code",
   "execution_count": 102,
   "metadata": {},
   "outputs": [
    {
     "data": {
      "text/html": [
       "<div>\n",
       "<style scoped>\n",
       "    .dataframe tbody tr th:only-of-type {\n",
       "        vertical-align: middle;\n",
       "    }\n",
       "\n",
       "    .dataframe tbody tr th {\n",
       "        vertical-align: top;\n",
       "    }\n",
       "\n",
       "    .dataframe thead th {\n",
       "        text-align: right;\n",
       "    }\n",
       "</style>\n",
       "<table border=\"1\" class=\"dataframe\">\n",
       "  <thead>\n",
       "    <tr style=\"text-align: right;\">\n",
       "      <th></th>\n",
       "      <th>youtube_urls</th>\n",
       "    </tr>\n",
       "  </thead>\n",
       "  <tbody>\n",
       "    <tr>\n",
       "      <td>2020-04-05</td>\n",
       "      <td>https://www.youtube.com/watch?v=jJSfz7POzM8</td>\n",
       "    </tr>\n",
       "    <tr>\n",
       "      <td>2020-04-02</td>\n",
       "      <td>https://www.youtube.com/watch?v=BbWEVgbIXbM</td>\n",
       "    </tr>\n",
       "  </tbody>\n",
       "</table>\n",
       "</div>"
      ],
      "text/plain": [
       "                                           youtube_urls\n",
       "2020-04-05  https://www.youtube.com/watch?v=jJSfz7POzM8\n",
       "2020-04-02  https://www.youtube.com/watch?v=BbWEVgbIXbM"
      ]
     },
     "execution_count": 102,
     "metadata": {},
     "output_type": "execute_result"
    }
   ],
   "source": [
    "# Create a Dataframe to store the information trough the analysis\n",
    "df_audio = pd.DataFrame.from_dict(dict_urls_youtube, orient='index', columns=['youtube_urls'])\n",
    "df_audio"
   ]
  },
  {
   "cell_type": "code",
   "execution_count": 103,
   "metadata": {},
   "outputs": [
    {
     "data": {
      "text/plain": [
       "[\"'Berlin Wall' Speech - President Reagan's Address at the Brandenburg Gate - 6_12_87-5MDFX-dNtsM.m4a\",\n",
       " \"'We choose to go to the moon' Speech by President John F. Kennedy-QAmHcdwKgtQ.m4a\",\n",
       " '.anaconda',\n",
       " '.aws',\n",
       " '.azuredatastudio',\n",
       " '.boto',\n",
       " '.cache',\n",
       " '.conda',\n",
       " '.condarc',\n",
       " '.config',\n",
       " '.dotnet',\n",
       " '.gitconfig',\n",
       " '.idlerc',\n",
       " '.ipynb',\n",
       " '.ipynb_checkpoints',\n",
       " '.ipython',\n",
       " '.jupyter',\n",
       " '.matplotlib',\n",
       " '3D Objects',\n",
       " '558_May_7_320-1.ipynb',\n",
       " 'AppData',\n",
       " 'Application Data',\n",
       " 'AudioToText.ipynb',\n",
       " 'AudioToTextMedical_3.ipynb',\n",
       " 'AudioToTextMedical_4.ipynb',\n",
       " 'AudioToText_Nokey.ipynb',\n",
       " 'AudioToText_youtube.ipynb',\n",
       " 'Audio_onesample.ipynb',\n",
       " 'Audio_To_TextMedical_short.ipynb',\n",
       " 'Contacts',\n",
       " 'Cookies',\n",
       " 'Desktop',\n",
       " 'Documents',\n",
       " 'Downloads',\n",
       " 'Dropbox (CSU Fullerton)',\n",
       " 'Duty, Honor, Country _ Douglas MacArthur _ May 12, 1962 _ West Point-_42_aLGkRpg.m4a',\n",
       " 'env',\n",
       " 'Fauci reacts to reports he needs security detail after threats-BbWEVgbIXbM.m4a',\n",
       " 'Fauci says coronavirus deaths will keep rising even as new U.S. cases stabilize-jJSfz7POzM8.m4a',\n",
       " 'Favorites',\n",
       " 'HW1.ipynb',\n",
       " 'IntelGraphicsProfiles',\n",
       " 'ISDS558',\n",
       " 'Links',\n",
       " 'Local Settings',\n",
       " \"Martin Luther King _ 'I Have A Dream' Speech-I47Y6VHc3Ms.webm\",\n",
       " 'MicrosoftEdgeBackups',\n",
       " 'Music',\n",
       " 'My Documents',\n",
       " 'NetHood',\n",
       " 'NTUSER.DAT',\n",
       " 'ntuser.dat.LOG1',\n",
       " 'ntuser.dat.LOG2',\n",
       " 'NTUSER.DAT{fd9a35db-49fe-11e9-aa2c-248a07783950}.TM.blf',\n",
       " 'NTUSER.DAT{fd9a35db-49fe-11e9-aa2c-248a07783950}.TMContainer00000000000000000001.regtrans-ms',\n",
       " 'NTUSER.DAT{fd9a35db-49fe-11e9-aa2c-248a07783950}.TMContainer00000000000000000002.regtrans-ms',\n",
       " 'ntuser.ini',\n",
       " 'OneDrive',\n",
       " 'Pictures',\n",
       " 'PrintHood',\n",
       " 'Recent',\n",
       " 'run_wmd.ipynb',\n",
       " 'Saved Games',\n",
       " 'Searches',\n",
       " 'SendTo',\n",
       " 'source',\n",
       " 'SpeechRecognition.ipynb',\n",
       " 'SpeechtoText.ipynb',\n",
       " 'Start Menu',\n",
       " 'Templates',\n",
       " 'test.ipynb',\n",
       " 'UCSD ML',\n",
       " 'Untitled Folder',\n",
       " 'Videos',\n",
       " 'WE SHALL NEVER SURRENDER speech by Winston Churchill (We Shall Fight on the Beaches)-s_LncVnecLA.m4a',\n",
       " 'word2vec_similarity.png',\n",
       " 'Zotero']"
      ]
     },
     "execution_count": 103,
     "metadata": {},
     "output_type": "execute_result"
    }
   ],
   "source": [
    "os.listdir('.')"
   ]
  },
  {
   "cell_type": "code",
   "execution_count": 108,
   "metadata": {},
   "outputs": [],
   "source": [
    "# Linking the name of each audio file to the speaker\n",
    "for audio_file in os.listdir('.'):\n",
    "    #if 'churchill' in audio_file.lower():\n",
    "    #    df_audio.at['churchill','filename'] = audio_file\n",
    "    if 'threats' in audio_file.lower():\n",
    "        df_audio.at['2020-04-02', 'filename'] = audio_file  \n",
    "    elif 'deaths' in audio_file.lower():\n",
    "        df_audio.at['2020-04-05', 'filename'] = audio_file"
   ]
  },
  {
   "cell_type": "code",
   "execution_count": 109,
   "metadata": {},
   "outputs": [
    {
     "data": {
      "text/html": [
       "<div>\n",
       "<style scoped>\n",
       "    .dataframe tbody tr th:only-of-type {\n",
       "        vertical-align: middle;\n",
       "    }\n",
       "\n",
       "    .dataframe tbody tr th {\n",
       "        vertical-align: top;\n",
       "    }\n",
       "\n",
       "    .dataframe thead th {\n",
       "        text-align: right;\n",
       "    }\n",
       "</style>\n",
       "<table border=\"1\" class=\"dataframe\">\n",
       "  <thead>\n",
       "    <tr style=\"text-align: right;\">\n",
       "      <th></th>\n",
       "      <th>youtube_urls</th>\n",
       "      <th>filename</th>\n",
       "    </tr>\n",
       "  </thead>\n",
       "  <tbody>\n",
       "    <tr>\n",
       "      <td>2020-04-05</td>\n",
       "      <td>https://www.youtube.com/watch?v=jJSfz7POzM8</td>\n",
       "      <td>Fauci says coronavirus deaths will keep rising...</td>\n",
       "    </tr>\n",
       "    <tr>\n",
       "      <td>2020-04-02</td>\n",
       "      <td>https://www.youtube.com/watch?v=BbWEVgbIXbM</td>\n",
       "      <td>Fauci reacts to reports he needs security deta...</td>\n",
       "    </tr>\n",
       "  </tbody>\n",
       "</table>\n",
       "</div>"
      ],
      "text/plain": [
       "                                           youtube_urls  \\\n",
       "2020-04-05  https://www.youtube.com/watch?v=jJSfz7POzM8   \n",
       "2020-04-02  https://www.youtube.com/watch?v=BbWEVgbIXbM   \n",
       "\n",
       "                                                     filename  \n",
       "2020-04-05  Fauci says coronavirus deaths will keep rising...  \n",
       "2020-04-02  Fauci reacts to reports he needs security deta...  "
      ]
     },
     "execution_count": 109,
     "metadata": {},
     "output_type": "execute_result"
    }
   ],
   "source": [
    "df_audio"
   ]
  },
  {
   "cell_type": "code",
   "execution_count": 12,
   "metadata": {},
   "outputs": [],
   "source": [
    "import boto3\n",
    "\n",
    "aws_access_key_id = 'A**************************'\n",
    "aws_secret_access_key = 'p*******************************'\n",
    "region_name = 'us-west-1'\n",
    "\n",
    "session = boto3.session.Session(aws_access_key_id=aws_access_key_id,\n",
    "                                aws_secret_access_key=aws_secret_access_key,\n",
    "                                region_name=region_name)"
   ]
  },
  {
   "cell_type": "code",
   "execution_count": 110,
   "metadata": {},
   "outputs": [
    {
     "name": "stdout",
     "output_type": "stream",
     "text": [
      "audiofirst\n",
      "medicalaudio1\n"
     ]
    }
   ],
   "source": [
    "\n",
    "# Uploading files to S3\n",
    "# Instantiate client\n",
    "s3 = boto3.client('s3')\n",
    "\n",
    "# List created buckets\n",
    "response = s3.list_buckets()\n",
    "#print(response)\n",
    "#buckets = [bucket['audiofirst'] for bucket in response['us-west-1']]\n",
    "buckets = [bucket['Name'] for bucket in response['Buckets']]\n",
    "for bucket in buckets:\n",
    "    print(bucket)"
   ]
  },
  {
   "cell_type": "code",
   "execution_count": 111,
   "metadata": {},
   "outputs": [],
   "source": [
    "# set the bucket link to audio files\n",
    "bucket_name = 'audiofirst'\n",
    "client_s3 = boto3.client('s3')\n"
   ]
  },
  {
   "cell_type": "code",
   "execution_count": 55,
   "metadata": {},
   "outputs": [
    {
     "name": "stdout",
     "output_type": "stream",
     "text": [
      "Fauci reacts to reports he needs security detail after threats-BbWEVgbIXbM.m4a\n",
      "Fauci says coronavirus deaths will keep rising even as new U.S. cases stabilize-jJSfz7POzM8.m4a\n"
     ]
    }
   ],
   "source": [
    "# Uploading the files to the created bucket\n",
    "for audio_file in df_audio.filename.values:\n",
    "    print(audio_file)\n",
    "    #client_s3.upload_file(audio_file, bucket_name,  audio_file)\n",
    "    client_s3.upload_file(audio_file, 'audiofirst',  audio_file)"
   ]
  },
  {
   "cell_type": "code",
   "execution_count": 112,
   "metadata": {
    "scrolled": true
   },
   "outputs": [
    {
     "data": {
      "text/html": [
       "<div>\n",
       "<style scoped>\n",
       "    .dataframe tbody tr th:only-of-type {\n",
       "        vertical-align: middle;\n",
       "    }\n",
       "\n",
       "    .dataframe tbody tr th {\n",
       "        vertical-align: top;\n",
       "    }\n",
       "\n",
       "    .dataframe thead th {\n",
       "        text-align: right;\n",
       "    }\n",
       "</style>\n",
       "<table border=\"1\" class=\"dataframe\">\n",
       "  <thead>\n",
       "    <tr style=\"text-align: right;\">\n",
       "      <th></th>\n",
       "      <th>youtube_urls</th>\n",
       "      <th>filename</th>\n",
       "    </tr>\n",
       "  </thead>\n",
       "  <tbody>\n",
       "    <tr>\n",
       "      <td>2020-04-05</td>\n",
       "      <td>https://www.youtube.com/watch?v=jJSfz7POzM8</td>\n",
       "      <td>Fauci says coronavirus deaths will keep rising...</td>\n",
       "    </tr>\n",
       "    <tr>\n",
       "      <td>2020-04-02</td>\n",
       "      <td>https://www.youtube.com/watch?v=BbWEVgbIXbM</td>\n",
       "      <td>Fauci reacts to reports he needs security deta...</td>\n",
       "    </tr>\n",
       "  </tbody>\n",
       "</table>\n",
       "</div>"
      ],
      "text/plain": [
       "                                           youtube_urls  \\\n",
       "2020-04-05  https://www.youtube.com/watch?v=jJSfz7POzM8   \n",
       "2020-04-02  https://www.youtube.com/watch?v=BbWEVgbIXbM   \n",
       "\n",
       "                                                     filename  \n",
       "2020-04-05  Fauci says coronavirus deaths will keep rising...  \n",
       "2020-04-02  Fauci reacts to reports he needs security deta...  "
      ]
     },
     "execution_count": 112,
     "metadata": {},
     "output_type": "execute_result"
    }
   ],
   "source": [
    "df_audio"
   ]
  },
  {
   "cell_type": "code",
   "execution_count": 113,
   "metadata": {},
   "outputs": [
    {
     "name": "stdout",
     "output_type": "stream",
     "text": [
      "https://audiofirst.s3.amazonaws.com/Fauci+says+coronavirus+deaths+will+keep+rising+even+as+new+U.S.+cases+stabilize-jJSfz7POzM8.m4a\n",
      "https://audiofirst.s3.amazonaws.com/Fauci+reacts+to+reports+he+needs+security+detail+after+threats-BbWEVgbIXbM.m4a\n"
     ]
    }
   ],
   "source": [
    "\n",
    "# Define the file URLs on the bucket using S3 convention for file paths\n",
    "for index, row in df_audio.iterrows():\n",
    "    bucket_location = boto3.client('s3').get_bucket_location(Bucket='audiofirst')\n",
    "    object_url = f\"https://{'audiofirst'}.s3.amazonaws.com/{row['filename'].replace(' ', '+')}\"\n",
    "    df_audio.at[index, 'url'] = object_url\n",
    "    print(object_url)"
   ]
  },
  {
   "cell_type": "code",
   "execution_count": 115,
   "metadata": {
    "scrolled": true
   },
   "outputs": [
    {
     "data": {
      "text/html": [
       "<div>\n",
       "<style scoped>\n",
       "    .dataframe tbody tr th:only-of-type {\n",
       "        vertical-align: middle;\n",
       "    }\n",
       "\n",
       "    .dataframe tbody tr th {\n",
       "        vertical-align: top;\n",
       "    }\n",
       "\n",
       "    .dataframe thead th {\n",
       "        text-align: right;\n",
       "    }\n",
       "</style>\n",
       "<table border=\"1\" class=\"dataframe\">\n",
       "  <thead>\n",
       "    <tr style=\"text-align: right;\">\n",
       "      <th></th>\n",
       "      <th>youtube_urls</th>\n",
       "      <th>filename</th>\n",
       "      <th>url</th>\n",
       "    </tr>\n",
       "  </thead>\n",
       "  <tbody>\n",
       "    <tr>\n",
       "      <td>2020-04-05</td>\n",
       "      <td>https://www.youtube.com/watch?v=jJSfz7POzM8</td>\n",
       "      <td>Fauci says coronavirus deaths will keep rising...</td>\n",
       "      <td>https://audiofirst.s3.amazonaws.com/Fauci+says...</td>\n",
       "    </tr>\n",
       "    <tr>\n",
       "      <td>2020-04-02</td>\n",
       "      <td>https://www.youtube.com/watch?v=BbWEVgbIXbM</td>\n",
       "      <td>Fauci reacts to reports he needs security deta...</td>\n",
       "      <td>https://audiofirst.s3.amazonaws.com/Fauci+reac...</td>\n",
       "    </tr>\n",
       "  </tbody>\n",
       "</table>\n",
       "</div>"
      ],
      "text/plain": [
       "                                           youtube_urls  \\\n",
       "2020-04-05  https://www.youtube.com/watch?v=jJSfz7POzM8   \n",
       "2020-04-02  https://www.youtube.com/watch?v=BbWEVgbIXbM   \n",
       "\n",
       "                                                     filename  \\\n",
       "2020-04-05  Fauci says coronavirus deaths will keep rising...   \n",
       "2020-04-02  Fauci reacts to reports he needs security deta...   \n",
       "\n",
       "                                                          url  \n",
       "2020-04-05  https://audiofirst.s3.amazonaws.com/Fauci+says...  \n",
       "2020-04-02  https://audiofirst.s3.amazonaws.com/Fauci+reac...  "
      ]
     },
     "execution_count": 115,
     "metadata": {},
     "output_type": "execute_result"
    }
   ],
   "source": [
    "df_audio"
   ]
  },
  {
   "cell_type": "code",
   "execution_count": 116,
   "metadata": {},
   "outputs": [],
   "source": [
    "\n",
    "# Function to start Amazon Transcribe job\n",
    "def start_transcription(bucket, job_name, file_url, wait_process=True):\n",
    "    client_transcribe = boto3.client('transcribe', region_name='us-west-1')\n",
    "    client_transcribe.start_transcription_job(\n",
    "        TranscriptionJobName=job_name,\n",
    "        Media={'MediaFileUri': file_url},\n",
    "        MediaFormat='mp4',\n",
    "        LanguageCode='en-US',\n",
    "        OutputBucketName=bucket)\n",
    "    if wait_process:\n",
    "        while True:\n",
    "            status = client_transcribe.get_transcription_job(TranscriptionJobName=job_name)\n",
    "            if status['TranscriptionJob']['TranscriptionJobStatus'] in ['COMPLETED', 'FAILED']:\n",
    "                break\n",
    "            print(\"Not ready yet...\")\n",
    "            time.sleep(20)\n",
    "\n",
    "        print('Transcription finished')\n",
    "        return status\n",
    "    \n",
    "        "
   ]
  },
  {
   "cell_type": "code",
   "execution_count": 121,
   "metadata": {},
   "outputs": [
    {
     "name": "stdout",
     "output_type": "stream",
     "text": [
      "2020-04-05_speech_06042020 https://audiofirst.s3.amazonaws.com/Fauci+says+coronavirus+deaths+will+keep+rising+even+as+new+U.S.+cases+stabilize-jJSfz7POzM8.m4a\n",
      "2020-04-02_speech_06042020 https://audiofirst.s3.amazonaws.com/Fauci+reacts+to+reports+he+needs+security+detail+after+threats-BbWEVgbIXbM.m4a\n"
     ]
    }
   ],
   "source": [
    "\n",
    "# Define today's date to use on job name\n",
    "today = date.today().strftime(\"%d%m%Y\")\n",
    "\n",
    "# Iterate over the audio files URLs on S3 and call start_transcription\n",
    "# the name in start_ & df_audio.at should be the same\n",
    "for index, row in df_audio.iterrows():    \n",
    "    print(f'{index}_speech_{today}', row.url)\n",
    "    start_transcription(bucket_name, f'{index}_speech_{today}', row.url, wait_process=False)\n",
    "    #original\n",
    "    #start_transcription(bucket_name, f'{index}_speech_{today}', row.url, wait_process=False)\n",
    "    df_audio.at[index, 'transcription_url'] = f\"https://{bucket_name}.s3.amazonaws.com/{index}_speech_{today}.json\"\n",
    "    df_audio.at[index, 'json_transcription'] = f\"{index}_speech_{today}.json\""
   ]
  },
  {
   "cell_type": "code",
   "execution_count": null,
   "metadata": {},
   "outputs": [],
   "source": []
  },
  {
   "cell_type": "code",
   "execution_count": null,
   "metadata": {},
   "outputs": [],
   "source": []
  },
  {
   "cell_type": "code",
   "execution_count": null,
   "metadata": {},
   "outputs": [],
   "source": []
  }
 ],
 "metadata": {
  "kernelspec": {
   "display_name": "Python 3",
   "language": "python",
   "name": "python3"
  },
  "language_info": {
   "codemirror_mode": {
    "name": "ipython",
    "version": 3
   },
   "file_extension": ".py",
   "mimetype": "text/x-python",
   "name": "python",
   "nbconvert_exporter": "python",
   "pygments_lexer": "ipython3",
   "version": "3.7.4"
  }
 },
 "nbformat": 4,
 "nbformat_minor": 2
}

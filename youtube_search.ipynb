{
  "nbformat": 4,
  "nbformat_minor": 0,
  "metadata": {
    "colab": {
      "name": "youtube_search.ipynb",
      "provenance": [],
      "collapsed_sections": [],
      "authorship_tag": "ABX9TyPCEV9MOc+NwoZqRSvCGW4y",
      "include_colab_link": true
    },
    "kernelspec": {
      "name": "python3",
      "display_name": "Python 3"
    },
    "accelerator": "GPU"
  },
  "cells": [
    {
      "cell_type": "markdown",
      "metadata": {
        "id": "view-in-github",
        "colab_type": "text"
      },
      "source": [
        "<a href=\"https://colab.research.google.com/github/woneuy01/AudioToText/blob/master/youtube_search.ipynb\" target=\"_parent\"><img src=\"https://colab.research.google.com/assets/colab-badge.svg\" alt=\"Open In Colab\"/></a>"
      ]
    },
    {
      "cell_type": "code",
      "metadata": {
        "id": "HpCYXSpoDd6n",
        "colab_type": "code",
        "outputId": "29cb30ce-db59-4e2a-88c1-6987ccfc3392",
        "colab": {
          "base_uri": "https://localhost:8080/",
          "height": 490
        }
      },
      "source": [
        "!pip install --upgrade google-api-python-client"
      ],
      "execution_count": 0,
      "outputs": [
        {
          "output_type": "stream",
          "text": [
            "Collecting google-api-python-client\n",
            "\u001b[?25l  Downloading https://files.pythonhosted.org/packages/91/dc/1207147686a770a867c918fac580e73fd5c8dcac1ec918ebd868b3f62c8b/google_api_python_client-1.8.4-py3-none-any.whl (58kB)\n",
            "\r\u001b[K     |█████▋                          | 10kB 30.8MB/s eta 0:00:01\r\u001b[K     |███████████▏                    | 20kB 6.2MB/s eta 0:00:01\r\u001b[K     |████████████████▊               | 30kB 8.9MB/s eta 0:00:01\r\u001b[K     |██████████████████████▎         | 40kB 11.2MB/s eta 0:00:01\r\u001b[K     |███████████████████████████▉    | 51kB 7.2MB/s eta 0:00:01\r\u001b[K     |████████████████████████████████| 61kB 4.5MB/s \n",
            "\u001b[?25hRequirement already satisfied, skipping upgrade: google-auth-httplib2>=0.0.3 in /usr/local/lib/python3.6/dist-packages (from google-api-python-client) (0.0.3)\n",
            "Requirement already satisfied, skipping upgrade: google-auth>=1.4.1 in /usr/local/lib/python3.6/dist-packages (from google-api-python-client) (1.7.2)\n",
            "Requirement already satisfied, skipping upgrade: google-api-core<2dev,>=1.13.0 in /usr/local/lib/python3.6/dist-packages (from google-api-python-client) (1.16.0)\n",
            "Requirement already satisfied, skipping upgrade: httplib2<1dev,>=0.9.2 in /usr/local/lib/python3.6/dist-packages (from google-api-python-client) (0.17.3)\n",
            "Requirement already satisfied, skipping upgrade: uritemplate<4dev,>=3.0.0 in /usr/local/lib/python3.6/dist-packages (from google-api-python-client) (3.0.1)\n",
            "Requirement already satisfied, skipping upgrade: six<2dev,>=1.6.1 in /usr/local/lib/python3.6/dist-packages (from google-api-python-client) (1.12.0)\n",
            "Requirement already satisfied, skipping upgrade: setuptools>=40.3.0 in /usr/local/lib/python3.6/dist-packages (from google-auth>=1.4.1->google-api-python-client) (46.3.0)\n",
            "Requirement already satisfied, skipping upgrade: cachetools<3.2,>=2.0.0 in /usr/local/lib/python3.6/dist-packages (from google-auth>=1.4.1->google-api-python-client) (3.1.1)\n",
            "Requirement already satisfied, skipping upgrade: rsa<4.1,>=3.1.4 in /usr/local/lib/python3.6/dist-packages (from google-auth>=1.4.1->google-api-python-client) (4.0)\n",
            "Requirement already satisfied, skipping upgrade: pyasn1-modules>=0.2.1 in /usr/local/lib/python3.6/dist-packages (from google-auth>=1.4.1->google-api-python-client) (0.2.8)\n",
            "Requirement already satisfied, skipping upgrade: requests<3.0.0dev,>=2.18.0 in /usr/local/lib/python3.6/dist-packages (from google-api-core<2dev,>=1.13.0->google-api-python-client) (2.23.0)\n",
            "Requirement already satisfied, skipping upgrade: protobuf>=3.4.0 in /usr/local/lib/python3.6/dist-packages (from google-api-core<2dev,>=1.13.0->google-api-python-client) (3.10.0)\n",
            "Requirement already satisfied, skipping upgrade: googleapis-common-protos<2.0dev,>=1.6.0 in /usr/local/lib/python3.6/dist-packages (from google-api-core<2dev,>=1.13.0->google-api-python-client) (1.51.0)\n",
            "Requirement already satisfied, skipping upgrade: pytz in /usr/local/lib/python3.6/dist-packages (from google-api-core<2dev,>=1.13.0->google-api-python-client) (2018.9)\n",
            "Requirement already satisfied, skipping upgrade: pyasn1>=0.1.3 in /usr/local/lib/python3.6/dist-packages (from rsa<4.1,>=3.1.4->google-auth>=1.4.1->google-api-python-client) (0.4.8)\n",
            "Requirement already satisfied, skipping upgrade: urllib3!=1.25.0,!=1.25.1,<1.26,>=1.21.1 in /usr/local/lib/python3.6/dist-packages (from requests<3.0.0dev,>=2.18.0->google-api-core<2dev,>=1.13.0->google-api-python-client) (1.24.3)\n",
            "Requirement already satisfied, skipping upgrade: certifi>=2017.4.17 in /usr/local/lib/python3.6/dist-packages (from requests<3.0.0dev,>=2.18.0->google-api-core<2dev,>=1.13.0->google-api-python-client) (2020.4.5.1)\n",
            "Requirement already satisfied, skipping upgrade: chardet<4,>=3.0.2 in /usr/local/lib/python3.6/dist-packages (from requests<3.0.0dev,>=2.18.0->google-api-core<2dev,>=1.13.0->google-api-python-client) (3.0.4)\n",
            "Requirement already satisfied, skipping upgrade: idna<3,>=2.5 in /usr/local/lib/python3.6/dist-packages (from requests<3.0.0dev,>=2.18.0->google-api-core<2dev,>=1.13.0->google-api-python-client) (2.9)\n",
            "Installing collected packages: google-api-python-client\n",
            "  Found existing installation: google-api-python-client 1.7.12\n",
            "    Uninstalling google-api-python-client-1.7.12:\n",
            "      Successfully uninstalled google-api-python-client-1.7.12\n",
            "Successfully installed google-api-python-client-1.8.4\n"
          ],
          "name": "stdout"
        }
      ]
    },
    {
      "cell_type": "code",
      "metadata": {
        "id": "v_zkuwyiPj0t",
        "colab_type": "code",
        "colab": {}
      },
      "source": [
        "from apiclient.discovery import build\n",
        "from apiclient.errors import HttpError\n",
        "from oauth2client.tools import argparser\n",
        "import numpy as np\n",
        "import pandas as pd\n",
        "import pprint \n",
        "import matplotlib.pyplot as pd\n",
        "\n",
        "DEVELOPER_KEY = \"***********************************\"\n",
        "YOUTUBE_API_SERVICE_NAME = \"youtube\"\n",
        "YOUTUBE_API_VERSION = \"v3\"\n",
        "\n",
        "def youtube_search(q, publishedAfter, publishedBefore, max_results=50,order=\"relevance\", token=None,\n",
        "                   location=None, location_radius=None, regionCode=\"US\"):\n",
        "    # 50 results is maximum\n",
        "    youtube = build(YOUTUBE_API_SERVICE_NAME, YOUTUBE_API_VERSION,developerKey=DEVELOPER_KEY)\n",
        "\n",
        "    search_response = youtube.search().list(\n",
        "    q=q,\n",
        "    type=\"video\",\n",
        "    pageToken=token,\n",
        "    order =order,\n",
        "    part=\"id,snippet\", # Part signifies the different types of data you want \n",
        "    maxResults=max_results,\n",
        "    location=location,\n",
        "    regionCode=regionCode,\n",
        "    publishedAfter=publishedAfter,\n",
        "    publishedBefore=publishedBefore,\n",
        "    locationRadius=location_radius).execute()\n",
        "\n",
        "#     videos=channelId=channelTitle=categoryId=videoId=viewCount=likeCount=dislikeCount=commentCount=favoriteCount=category=tags  = []\n",
        "    title = []\n",
        "    channelId = []\n",
        "    channelTitle = []\n",
        "    categoryId = []\n",
        "    videoId = []\n",
        "    pubDate = [] \n",
        "    viewCount = []\n",
        "    likeCount = []\n",
        "    dislikeCount = []\n",
        "    commentCount = []\n",
        "    favoriteCount = []\n",
        "    category = []\n",
        "    tags = []\n",
        "    videos = []\n",
        "    \n",
        "    for search_result in search_response.get(\"items\", []):\n",
        "        #pprint.pprint(search_result)\n",
        "  \n",
        "  \n",
        "        if search_result[\"id\"][\"kind\"] == \"youtube#video\":\n",
        "\n",
        "            title.append(search_result['snippet']['title']) \n",
        "\n",
        "            videoId.append(search_result['id']['videoId'])\n",
        "\n",
        "            response = youtube.videos().list(\n",
        "                part='statistics, snippet',\n",
        "                id=search_result['id']['videoId']).execute()\n",
        "\n",
        "            channelId.append(response['items'][0]['snippet']['channelId'])\n",
        "            channelTitle.append(response['items'][0]['snippet']['channelTitle'])\n",
        "            pubDate.append(response['items'][0]['snippet']['publishedAt'])\n",
        "            categoryId.append(response['items'][0]['snippet']['categoryId'])\n",
        "            favoriteCount.append(response['items'][0]['statistics']['favoriteCount'])\n",
        "            viewCount.append(response['items'][0]['statistics']['viewCount'])\n",
        "            # likeCount.append(response['items'][0]['statistics']['likeCount'])\n",
        "            # dislikeCount.append(response['items'][0]['statistics']['dislikeCount'])\n",
        "\n",
        "        if 'likeCount' in response['items'][0]['statistics'].keys():\n",
        "            likeCount.append(response['items'][0]['statistics']['likeCount'])\n",
        "        else:\n",
        "            likeCount.append([])\n",
        "            \n",
        "        if 'dislikeCount' in response['items'][0]['statistics'].keys():\n",
        "            dislikeCount.append(response['items'][0]['statistics']['dislikeCount'])\n",
        "        else:\n",
        "            dislikeCount.append([])\n",
        " \n",
        "        if 'commentCount' in response['items'][0]['statistics'].keys():\n",
        "            commentCount.append(response['items'][0]['statistics']['commentCount'])\n",
        "        else:\n",
        "            commentCount.append([])\n",
        "\t  \n",
        "        if 'tags' in response['items'][0]['snippet'].keys():\n",
        "            tags.append(response['items'][0]['snippet']['tags'])\n",
        "        else:\n",
        "            tags.append([])\n",
        "#     pprint.pprint(response)\n",
        "    youtube_dict = {'pubDate': pubDate,'tags':tags,'channelId': channelId,'channelTitle': channelTitle,'categoryId':categoryId,'title':title,'videoId':videoId,'viewCount':viewCount,'likeCount':likeCount,'dislikeCount':dislikeCount,'commentCount':commentCount,'favoriteCount':favoriteCount}\n",
        "\n",
        "    return youtube_dict\n",
        "\n"
      ],
      "execution_count": 0,
      "outputs": []
    },
    {
      "cell_type": "code",
      "metadata": {
        "id": "UBISkDEqQ_AW",
        "colab_type": "code",
        "outputId": "41c19bfb-f646-4a57-f526-01f6a9359a4a",
        "colab": {
          "base_uri": "https://localhost:8080/",
          "height": 185
        }
      },
      "source": [
        "# !pip install youtube-search"
      ],
      "execution_count": 0,
      "outputs": [
        {
          "output_type": "stream",
          "text": [
            "Collecting youtube-search\n",
            "  Downloading https://files.pythonhosted.org/packages/43/72/144d8d54f102d02e98f28bc0b9be7c4f3c45d6e3ce0d8d78bb44815263c0/youtube_search-0.1.3-py3-none-any.whl\n",
            "Requirement already satisfied: requests in /usr/local/lib/python3.6/dist-packages (from youtube-search) (2.23.0)\n",
            "Requirement already satisfied: beautifulsoup4 in /usr/local/lib/python3.6/dist-packages (from youtube-search) (4.6.3)\n",
            "Requirement already satisfied: urllib3!=1.25.0,!=1.25.1,<1.26,>=1.21.1 in /usr/local/lib/python3.6/dist-packages (from requests->youtube-search) (1.24.3)\n",
            "Requirement already satisfied: chardet<4,>=3.0.2 in /usr/local/lib/python3.6/dist-packages (from requests->youtube-search) (3.0.4)\n",
            "Requirement already satisfied: idna<3,>=2.5 in /usr/local/lib/python3.6/dist-packages (from requests->youtube-search) (2.9)\n",
            "Requirement already satisfied: certifi>=2017.4.17 in /usr/local/lib/python3.6/dist-packages (from requests->youtube-search) (2020.4.5.1)\n",
            "Installing collected packages: youtube-search\n",
            "Successfully installed youtube-search-0.1.3\n"
          ],
          "name": "stdout"
        }
      ]
    },
    {
      "cell_type": "code",
      "metadata": {
        "id": "lKkSVFHXP403",
        "colab_type": "code",
        "outputId": "4b1f260a-3762-47e5-8e06-19f25c3cc230",
        "colab": {
          "base_uri": "https://localhost:8080/",
          "height": 118
        }
      },
      "source": [
        "import pandas as pd\n",
        "import matplotlib.pyplot as plt\n",
        "from datetime import datetime\n",
        "\n",
        "import seaborn as sns\n",
        "#from youtube_data import youtube_search\n",
        "keyword = input('Enter a keyword: ')\n",
        "searchdateafter = input(\"Enter search date publish after (yyyymmdd):\")\n",
        "searchdatebefore = input(\"Enter search date publish before (yyyymmdd):\")\n",
        "\n",
        "searchdateafter = datetime.strptime(searchdateafter, \"%Y%m%d\").date()\n",
        "searchdateafter=str(searchdateafter)+\"T00:00:00Z\"\n",
        "print(searchdateafter)\n",
        "\n",
        "searchdatebefore = datetime.strptime(searchdatebefore, \"%Y%m%d\").date()\n",
        "searchdatebefore=str(searchdatebefore)+\"T00:00:00Z\"\n",
        "print(searchdatebefore)\n",
        "\n",
        "# the time should set to period 5/26--> published after 5/26 to published before 5/27\n",
        "\n",
        "test = youtube_search(keyword,searchdateafter,searchdatebefore)\n",
        "test.keys()"
      ],
      "execution_count": 0,
      "outputs": [
        {
          "output_type": "stream",
          "text": [
            "Enter a keyword: coronavirus\n",
            "Enter search date publish after (yyyymmdd):20200526\n",
            "Enter search date publish before (yyyymmdd):20200527\n",
            "2020-05-26T00:00:00Z\n",
            "2020-05-27T00:00:00Z\n"
          ],
          "name": "stdout"
        },
        {
          "output_type": "execute_result",
          "data": {
            "text/plain": [
              "dict_keys(['pubDate', 'tags', 'channelId', 'channelTitle', 'categoryId', 'title', 'videoId', 'viewCount', 'likeCount', 'dislikeCount', 'commentCount', 'favoriteCount'])"
            ]
          },
          "metadata": {
            "tags": []
          },
          "execution_count": 119
        }
      ]
    },
    {
      "cell_type": "code",
      "metadata": {
        "id": "divvCGDmUcaS",
        "colab_type": "code",
        "outputId": "3fc1f0d7-4047-4d85-a0ee-89b2deeef29e",
        "colab": {
          "base_uri": "https://localhost:8080/",
          "height": 34
        }
      },
      "source": [
        "test['commentCount'][:5]"
      ],
      "execution_count": 0,
      "outputs": [
        {
          "output_type": "execute_result",
          "data": {
            "text/plain": [
              "[[], '109', '576', '687', []]"
            ]
          },
          "metadata": {
            "tags": []
          },
          "execution_count": 120
        }
      ]
    },
    {
      "cell_type": "code",
      "metadata": {
        "id": "PHKUrdaqeFop",
        "colab_type": "code",
        "outputId": "1dc5f7ed-a3a3-495c-e689-95165cc9f64f",
        "colab": {
          "base_uri": "https://localhost:8080/",
          "height": 430
        }
      },
      "source": [
        "df = pd.DataFrame(data=test)\n",
        "df.head()\n"
      ],
      "execution_count": 0,
      "outputs": [
        {
          "output_type": "execute_result",
          "data": {
            "text/html": [
              "<div>\n",
              "<style scoped>\n",
              "    .dataframe tbody tr th:only-of-type {\n",
              "        vertical-align: middle;\n",
              "    }\n",
              "\n",
              "    .dataframe tbody tr th {\n",
              "        vertical-align: top;\n",
              "    }\n",
              "\n",
              "    .dataframe thead th {\n",
              "        text-align: right;\n",
              "    }\n",
              "</style>\n",
              "<table border=\"1\" class=\"dataframe\">\n",
              "  <thead>\n",
              "    <tr style=\"text-align: right;\">\n",
              "      <th></th>\n",
              "      <th>pubDate</th>\n",
              "      <th>tags</th>\n",
              "      <th>channelId</th>\n",
              "      <th>channelTitle</th>\n",
              "      <th>categoryId</th>\n",
              "      <th>title</th>\n",
              "      <th>videoId</th>\n",
              "      <th>viewCount</th>\n",
              "      <th>likeCount</th>\n",
              "      <th>dislikeCount</th>\n",
              "      <th>commentCount</th>\n",
              "      <th>favoriteCount</th>\n",
              "    </tr>\n",
              "  </thead>\n",
              "  <tbody>\n",
              "    <tr>\n",
              "      <th>0</th>\n",
              "      <td>2020-05-26T01:31:08Z</td>\n",
              "      <td>[Ministry of Health NZ, New Zealand, health.go...</td>\n",
              "      <td>UCPuGpQo9IX49SGn2iYCoqOQ</td>\n",
              "      <td>minhealthnz</td>\n",
              "      <td>27</td>\n",
              "      <td>COVID-19 (novel coronavirus) update – 26 May, ...</td>\n",
              "      <td>4pxGvXBwRf4</td>\n",
              "      <td>17663</td>\n",
              "      <td>54</td>\n",
              "      <td>8</td>\n",
              "      <td>[]</td>\n",
              "      <td>0</td>\n",
              "    </tr>\n",
              "    <tr>\n",
              "      <th>1</th>\n",
              "      <td>2020-05-26T22:46:47Z</td>\n",
              "      <td>[British Columbia COVID-19, COVID-19 British C...</td>\n",
              "      <td>UChLtXXpo4Ge1ReTEboVvTDg</td>\n",
              "      <td>Global News</td>\n",
              "      <td>25</td>\n",
              "      <td>Coronavirus outbreak: B.C. reports 11 new COVI...</td>\n",
              "      <td>xGeLAGKG9N4</td>\n",
              "      <td>24794</td>\n",
              "      <td>181</td>\n",
              "      <td>36</td>\n",
              "      <td>109</td>\n",
              "      <td>0</td>\n",
              "    </tr>\n",
              "    <tr>\n",
              "      <th>2</th>\n",
              "      <td>2020-05-26T15:49:27Z</td>\n",
              "      <td>[latest News, Happening Now, CNN]</td>\n",
              "      <td>UCupvZG-5ko_eiXAupbDfxWw</td>\n",
              "      <td>CNN</td>\n",
              "      <td>25</td>\n",
              "      <td>How coronavirus changed Congress</td>\n",
              "      <td>OpOGmnEdH9c</td>\n",
              "      <td>61794</td>\n",
              "      <td>898</td>\n",
              "      <td>428</td>\n",
              "      <td>576</td>\n",
              "      <td>0</td>\n",
              "    </tr>\n",
              "    <tr>\n",
              "      <th>3</th>\n",
              "      <td>2020-05-26T15:41:07Z</td>\n",
              "      <td>[]</td>\n",
              "      <td>UCsRnhjcUCR78Q3Ud6OXCTNg</td>\n",
              "      <td>T13</td>\n",
              "      <td>25</td>\n",
              "      <td>Coronavirus en Chile: balance oficial 26 de mayo</td>\n",
              "      <td>xipQKHM8Uzk</td>\n",
              "      <td>78352</td>\n",
              "      <td>538</td>\n",
              "      <td>258</td>\n",
              "      <td>687</td>\n",
              "      <td>0</td>\n",
              "    </tr>\n",
              "    <tr>\n",
              "      <th>4</th>\n",
              "      <td>2020-05-26T21:59:24Z</td>\n",
              "      <td>[Nine News Australia, Channel 9, Nine news, ch...</td>\n",
              "      <td>UCIYLOcEUX6TbBo7HQVF2PKA</td>\n",
              "      <td>9 News Australia</td>\n",
              "      <td>25</td>\n",
              "      <td>Scott Morrison on job reform, coronavirus, Chi...</td>\n",
              "      <td>E5k5eNE6E9o</td>\n",
              "      <td>66408</td>\n",
              "      <td>431</td>\n",
              "      <td>162</td>\n",
              "      <td>[]</td>\n",
              "      <td>0</td>\n",
              "    </tr>\n",
              "  </tbody>\n",
              "</table>\n",
              "</div>"
            ],
            "text/plain": [
              "                pubDate  ... favoriteCount\n",
              "0  2020-05-26T01:31:08Z  ...             0\n",
              "1  2020-05-26T22:46:47Z  ...             0\n",
              "2  2020-05-26T15:49:27Z  ...             0\n",
              "3  2020-05-26T15:41:07Z  ...             0\n",
              "4  2020-05-26T21:59:24Z  ...             0\n",
              "\n",
              "[5 rows x 12 columns]"
            ]
          },
          "metadata": {
            "tags": []
          },
          "execution_count": 121
        }
      ]
    },
    {
      "cell_type": "code",
      "metadata": {
        "id": "lFAxdtToR91m",
        "colab_type": "code",
        "outputId": "39682199-69f8-4e6e-a9ce-69b7a3f15d5a",
        "colab": {
          "base_uri": "https://localhost:8080/",
          "height": 34
        }
      },
      "source": [
        "df.shape"
      ],
      "execution_count": 0,
      "outputs": [
        {
          "output_type": "execute_result",
          "data": {
            "text/plain": [
              "(50, 12)"
            ]
          },
          "metadata": {
            "tags": []
          },
          "execution_count": 122
        }
      ]
    },
    {
      "cell_type": "code",
      "metadata": {
        "id": "4c-8TXOJXdiY",
        "colab_type": "code",
        "colab": {}
      },
      "source": [
        "df['pubDate'] = pd.to_datetime(df.pubDate)\n",
        "df['publishedDate'] = df['pubDate'].dt.strftime('%d/%m/%Y')"
      ],
      "execution_count": 0,
      "outputs": []
    },
    {
      "cell_type": "code",
      "metadata": {
        "id": "tC3kLdX7Uoi3",
        "colab_type": "code",
        "outputId": "d6b35585-1b39-4edf-be41-e43976a11060",
        "colab": {
          "base_uri": "https://localhost:8080/",
          "height": 501
        }
      },
      "source": [
        "df1 = df[['publishedDate','title','viewCount','channelTitle','commentCount','likeCount','dislikeCount','tags','favoriteCount','videoId','channelId','categoryId']]\n",
        "df1.columns = ['publishedDate','Title','viewCount','channelTitle','commentCount','likeCount','dislikeCount','tags','favoriteCount','videoId','channelId','categoryId']\n",
        "df1 = df1.sort_values(ascending=False,by='viewCount')\n",
        "df1.head()"
      ],
      "execution_count": 0,
      "outputs": [
        {
          "output_type": "execute_result",
          "data": {
            "text/html": [
              "<div>\n",
              "<style scoped>\n",
              "    .dataframe tbody tr th:only-of-type {\n",
              "        vertical-align: middle;\n",
              "    }\n",
              "\n",
              "    .dataframe tbody tr th {\n",
              "        vertical-align: top;\n",
              "    }\n",
              "\n",
              "    .dataframe thead th {\n",
              "        text-align: right;\n",
              "    }\n",
              "</style>\n",
              "<table border=\"1\" class=\"dataframe\">\n",
              "  <thead>\n",
              "    <tr style=\"text-align: right;\">\n",
              "      <th></th>\n",
              "      <th>publishedDate</th>\n",
              "      <th>Title</th>\n",
              "      <th>viewCount</th>\n",
              "      <th>channelTitle</th>\n",
              "      <th>commentCount</th>\n",
              "      <th>likeCount</th>\n",
              "      <th>dislikeCount</th>\n",
              "      <th>tags</th>\n",
              "      <th>favoriteCount</th>\n",
              "      <th>videoId</th>\n",
              "      <th>channelId</th>\n",
              "      <th>categoryId</th>\n",
              "    </tr>\n",
              "  </thead>\n",
              "  <tbody>\n",
              "    <tr>\n",
              "      <th>40</th>\n",
              "      <td>26/05/2020</td>\n",
              "      <td>Reportaje #CORONAVIRUS | La FRONTERA entre ESP...</td>\n",
              "      <td>99169</td>\n",
              "      <td>EL PAIS</td>\n",
              "      <td>129</td>\n",
              "      <td>540</td>\n",
              "      <td>250</td>\n",
              "      <td>[coronavirus, covid-19, coronavirus covid-19, ...</td>\n",
              "      <td>0</td>\n",
              "      <td>HyQFYK4wf9E</td>\n",
              "      <td>UCnsvJeZO4RigQ898WdDNoBw</td>\n",
              "      <td>25</td>\n",
              "    </tr>\n",
              "    <tr>\n",
              "      <th>14</th>\n",
              "      <td>26/05/2020</td>\n",
              "      <td>Coronavirus: Australia&amp;#39;s first COVID-19 hu...</td>\n",
              "      <td>92425</td>\n",
              "      <td>9 News Australia</td>\n",
              "      <td>[]</td>\n",
              "      <td>816</td>\n",
              "      <td>301</td>\n",
              "      <td>[Nine News Australia, Nine news, channel 9 new...</td>\n",
              "      <td>0</td>\n",
              "      <td>7vHAAhZV8M8</td>\n",
              "      <td>UCIYLOcEUX6TbBo7HQVF2PKA</td>\n",
              "      <td>25</td>\n",
              "    </tr>\n",
              "    <tr>\n",
              "      <th>35</th>\n",
              "      <td>26/05/2020</td>\n",
              "      <td>Coronavirus: usan vacuna peruana en alpacas y ...</td>\n",
              "      <td>80162</td>\n",
              "      <td>Agencia de Noticias Andina</td>\n",
              "      <td>351</td>\n",
              "      <td>896</td>\n",
              "      <td>129</td>\n",
              "      <td>[ciencia, medicina, covid19, coronavirus, Perú...</td>\n",
              "      <td>0</td>\n",
              "      <td>jj6t9H7c-r8</td>\n",
              "      <td>UCZHgA_ORVMB4N6vuOhx8_Cg</td>\n",
              "      <td>25</td>\n",
              "    </tr>\n",
              "    <tr>\n",
              "      <th>29</th>\n",
              "      <td>26/05/2020</td>\n",
              "      <td>CDC warns about &amp;quot;aggressive&amp;quot; rats as...</td>\n",
              "      <td>79101</td>\n",
              "      <td>CBS News</td>\n",
              "      <td>320</td>\n",
              "      <td>416</td>\n",
              "      <td>160</td>\n",
              "      <td>[cbsn, CBS News, rats, rodents, U.S. centers f...</td>\n",
              "      <td>0</td>\n",
              "      <td>AW7CfxHrb-U</td>\n",
              "      <td>UC8p1vwvWtl6T73JiExfWs1g</td>\n",
              "      <td>25</td>\n",
              "    </tr>\n",
              "    <tr>\n",
              "      <th>3</th>\n",
              "      <td>26/05/2020</td>\n",
              "      <td>Coronavirus en Chile: balance oficial 26 de mayo</td>\n",
              "      <td>78352</td>\n",
              "      <td>T13</td>\n",
              "      <td>687</td>\n",
              "      <td>538</td>\n",
              "      <td>258</td>\n",
              "      <td>[]</td>\n",
              "      <td>0</td>\n",
              "      <td>xipQKHM8Uzk</td>\n",
              "      <td>UCsRnhjcUCR78Q3Ud6OXCTNg</td>\n",
              "      <td>25</td>\n",
              "    </tr>\n",
              "  </tbody>\n",
              "</table>\n",
              "</div>"
            ],
            "text/plain": [
              "   publishedDate  ... categoryId\n",
              "40    26/05/2020  ...         25\n",
              "14    26/05/2020  ...         25\n",
              "35    26/05/2020  ...         25\n",
              "29    26/05/2020  ...         25\n",
              "3     26/05/2020  ...         25\n",
              "\n",
              "[5 rows x 12 columns]"
            ]
          },
          "metadata": {
            "tags": []
          },
          "execution_count": 124
        }
      ]
    },
    {
      "cell_type": "code",
      "metadata": {
        "id": "LmQwBYOVYqnP",
        "colab_type": "code",
        "colab": {}
      },
      "source": [
        "df1.to_csv(\"youtube_data.csv\")"
      ],
      "execution_count": 0,
      "outputs": []
    },
    {
      "cell_type": "code",
      "metadata": {
        "id": "M-lXSXZ2U98w",
        "colab_type": "code",
        "outputId": "b4f3017f-a1e7-41b9-dd20-999a8f3a245d",
        "colab": {
          "base_uri": "https://localhost:8080/",
          "height": 752
        }
      },
      "source": [
        "df1 = df1.sort_values(ascending=False,by='viewCount').head(10)\n",
        "plt.bar(range(df1.shape[0]),df1['viewCount'])\n",
        "plt.xticks(range(df1.shape[0]),df1['Title'],rotation=90)\n",
        "plt.ylabel('viewCount in 100 millions')\n",
        "\n",
        "plt.show()"
      ],
      "execution_count": 0,
      "outputs": [
        {
          "output_type": "display_data",
          "data": {
            "image/png": "[encoded data removed]",
            "text/plain": [
              "<Figure size 432x288 with 1 Axes>"
            ]
          },
          "metadata": {
            "tags": [],
            "needs_background": "light"
          }
        }
      ]
    },
    {
      "cell_type": "code",
      "metadata": {
        "id": "bHwzu6iL-vr1",
        "colab_type": "code",
        "colab": {}
      },
      "source": [
        "#input list of search terms of interest \n",
        "keywords = [\"bts\",\"blackpink\",\"twice\",\"one direction\"]\n",
        "youtube = build(YOUTUBE_API_SERVICE_NAME, YOUTUBE_API_VERSION,developerKey=DEVELOPER_KEY)\n",
        "\n",
        "max_results=50\n",
        "order=\"relevance\"\n",
        "token=None\n",
        "location=None\n",
        "location_radius=None\n",
        "\n",
        "title = []\n",
        "channelId = []\n",
        "channelTitle = []\n",
        "categoryId = []\n",
        "videoId = []\n",
        "pubDate = [] \n",
        "viewCount = []\n",
        "likeCount = []\n",
        "dislikeCount = []\n",
        "commentCount = []\n",
        "favoriteCount = []\n",
        "category = []\n",
        "tags = []\n",
        "videos = []\n",
        "keyword = []\n",
        "\n",
        "for q in keywords:\n",
        "    search_response = youtube.search().list(\n",
        "    q=q,\n",
        "    type=\"video\",\n",
        "    pageToken=token,\n",
        "    order = order,\n",
        "    part=\"id,snippet\",  \n",
        "    maxResults=max_results,\n",
        "    location=location,\n",
        "    locationRadius=location_radius).execute()\n",
        "\n",
        "\n",
        "    for search_result in search_response.get(\"items\", []):\n",
        "\n",
        "        keyword.append(q)\n",
        "\n",
        "        if search_result[\"id\"][\"kind\"] == \"youtube#video\":\n",
        "\n",
        "            title.append(search_result['snippet']['title']) \n",
        "\n",
        "            videoId.append(search_result['id']['videoId'])\n",
        "\n",
        "            response = youtube.videos().list(\n",
        "                part='statistics, snippet',\n",
        "                id=search_result['id']['videoId']).execute()\n",
        "\n",
        "            channelId.append(response['items'][0]['snippet']['channelId'])\n",
        "            channelTitle.append(response['items'][0]['snippet']['channelTitle'])\n",
        "            pubDate.append(response['items'][0]['snippet']['publishedAt'])\n",
        "            categoryId.append(response['items'][0]['snippet']['categoryId'])\n",
        "            favoriteCount.append(response['items'][0]['statistics']['favoriteCount'])\n",
        "            viewCount.append(response['items'][0]['statistics']['viewCount'])\n",
        "            try:\n",
        "                likeCount.append(response['items'][0]['statistics']['likeCount'])\n",
        "            except:\n",
        "                likeCount.append(\"NaN\")\n",
        "\n",
        "            try:\n",
        "                dislikeCount.append(response['items'][0]['statistics']['dislikeCount'])     \n",
        "            except:\n",
        "                dislikeCount.append(\"NaN\")\n",
        "\n",
        "            if 'commentCount' in response['items'][0]['statistics'].keys():\n",
        "                commentCount.append(response['items'][0]['statistics']['commentCount'])\n",
        "            else:\n",
        "                commentCount.append(0)\n",
        "\n",
        "            if 'tags' in response['items'][0]['snippet'].keys():\n",
        "                tags.append(response['items'][0]['snippet']['tags'])\n",
        "            else:\n",
        "                tags.append(\"No Tags\") "
      ],
      "execution_count": 0,
      "outputs": []
    }
  ]
}
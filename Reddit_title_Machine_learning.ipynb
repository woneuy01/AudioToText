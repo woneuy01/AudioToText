{
  "nbformat": 4,
  "nbformat_minor": 0,
  "metadata": {
    "colab": {
      "name": "Reddit_title_Machine learning.ipynb",
      "provenance": [],
      "collapsed_sections": [],
      "authorship_tag": "ABX9TyO/NkxLmvJRuKQz5OMPSZd3",
      "include_colab_link": true
    },
    "kernelspec": {
      "name": "python3",
      "display_name": "Python 3"
    }
  },
  "cells": [
    {
      "cell_type": "markdown",
      "metadata": {
        "id": "view-in-github",
        "colab_type": "text"
      },
      "source": [
        "<a href=\"https://colab.research.google.com/github/woneuy01/AudioToText/blob/master/Reddit_title_Machine_learning.ipynb\" target=\"_parent\"><img src=\"https://colab.research.google.com/assets/colab-badge.svg\" alt=\"Open In Colab\"/></a>"
      ]
    },
    {
      "cell_type": "code",
      "metadata": {
        "id": "hAkPuTgXeLGu",
        "colab_type": "code",
        "colab": {}
      },
      "source": [
        "import pandas as pd\n",
        "import numpy as np\n",
        "import requests\n",
        "import json\n",
        "import csv\n",
        "import time\n",
        "import datetime"
      ],
      "execution_count": null,
      "outputs": []
    },
    {
      "cell_type": "code",
      "metadata": {
        "id": "DFz3wj1ReNjH",
        "colab_type": "code",
        "colab": {}
      },
      "source": [
        "def getPushshiftData(query, after, before, sub):\n",
        "    url = 'https://api.pushshift.io/reddit/search/submission/?title='+str(query)+'&size=100&after='+str(after)+'&before='+str(before)+'&subreddit='+str(sub)\n",
        "    print(url)\n",
        "    r = requests.get(url)\n",
        "    data = json.loads(r.text)\n",
        "    return data['data']"
      ],
      "execution_count": null,
      "outputs": []
    },
    {
      "cell_type": "code",
      "metadata": {
        "id": "OlqswullejXF",
        "colab_type": "code",
        "colab": {}
      },
      "source": [
        "def collectSubData(subm):\n",
        "    subData = list() #list to store data points\n",
        "    title = subm['title']\n",
        "    url = subm['url']\n",
        "    try:\n",
        "        flair = subm['link_flair_text']\n",
        "    except KeyError:\n",
        "        flair = \"NaN\"    \n",
        "    author = subm['author']\n",
        "    sub_id = subm['id']\n",
        "    score = subm['score']\n",
        "    created = datetime.datetime.fromtimestamp(subm['created_utc']) #1520561700.0\n",
        "    numComms = subm['num_comments']\n",
        "    permalink = subm['permalink']\n",
        "    \n",
        "    subData.append((sub_id,title,url,author,score,created,numComms,permalink,flair))\n",
        "    subStats[sub_id] = subData"
      ],
      "execution_count": null,
      "outputs": []
    },
    {
      "cell_type": "code",
      "metadata": {
        "id": "G3VLWwAM0Wfn",
        "colab_type": "code",
        "colab": {
          "base_uri": "https://localhost:8080/",
          "height": 35
        },
        "outputId": "038c12c7-33df-4e32-b238-d78439119dd3"
      },
      "source": [
        "from datetime import datetime\n",
        "\n",
        "### input time here\n",
        "time_before=\"20/04/01 00:00:00\" # to if set as 5/9 end date input 5/10\n",
        "time_before = datetime.strptime(time_before, '%y/%m/%d %H:%M:%S')\n",
        "time_after=\"20/03/01 00:00:00\" # from\n",
        "time_after = datetime.strptime(time_after, '%y/%m/%d %H:%M:%S')\n",
        "#now = datetime.now()\n",
        "\n",
        "before = datetime.timestamp(time_before)\n",
        "after = datetime.timestamp(time_after)\n",
        "before = str(int(before)) #October 1st\n",
        "after = str(int(after)) #January 1st \n",
        "print(\"timestamp =\",  after,before )"
      ],
      "execution_count": null,
      "outputs": [
        {
          "output_type": "stream",
          "text": [
            "timestamp = 1583020800 1585699200\n"
          ],
          "name": "stdout"
        }
      ]
    },
    {
      "cell_type": "code",
      "metadata": {
        "id": "tBORCr5ogjcT",
        "colab_type": "code",
        "colab": {}
      },
      "source": [
        "#Subreddit to query\n",
        "sub='MachineLearning'\n",
        "query = \"\"\n",
        "subCount = 0\n",
        "subStats = {}\n"
      ],
      "execution_count": null,
      "outputs": []
    },
    {
      "cell_type": "code",
      "metadata": {
        "id": "MLh38YcXgMuO",
        "colab_type": "code",
        "colab": {
          "base_uri": "https://localhost:8080/",
          "height": 1000
        },
        "outputId": "980610df-ae54-4004-b5c7-55823afa7891"
      },
      "source": [
        "import datetime\n",
        "data = getPushshiftData(query, after, before, sub)\n",
        "# Will run until all posts have been gathered \n",
        "# from the 'after' date up until before date\n",
        "while len(data) > 0:\n",
        "    for submission in data:\n",
        "        collectSubData(submission)\n",
        "        subCount+=1\n",
        "    # Calls getPushshiftData() with the created date of the last submission\n",
        "    print(len(data))\n",
        "    print(str(datetime.datetime.fromtimestamp(data[-1]['created_utc'])))\n",
        "    after = data[-1]['created_utc']\n",
        "    try:\n",
        "      data = getPushshiftData(query, after, before, sub)\n",
        "    except Exception:\n",
        "      pass\n",
        "    \n",
        "print(len(data))"
      ],
      "execution_count": null,
      "outputs": [
        {
          "output_type": "stream",
          "text": [
            "https://api.pushshift.io/reddit/search/submission/?title=&size=100&after=1583020800&before=1585699200&subreddit=MachineLearning\n",
            "100\n",
            "2020-03-02 11:35:54\n",
            "https://api.pushshift.io/reddit/search/submission/?title=&size=100&after=1583148954&before=1585699200&subreddit=MachineLearning\n",
            "100\n",
            "2020-03-03 16:53:51\n",
            "https://api.pushshift.io/reddit/search/submission/?title=&size=100&after=1583254431&before=1585699200&subreddit=MachineLearning\n",
            "100\n",
            "2020-03-05 06:08:25\n",
            "https://api.pushshift.io/reddit/search/submission/?title=&size=100&after=1583388505&before=1585699200&subreddit=MachineLearning\n",
            "100\n",
            "2020-03-06 06:55:57\n",
            "https://api.pushshift.io/reddit/search/submission/?title=&size=100&after=1583477757&before=1585699200&subreddit=MachineLearning\n",
            "100\n",
            "2020-03-07 15:28:23\n",
            "https://api.pushshift.io/reddit/search/submission/?title=&size=100&after=1583594903&before=1585699200&subreddit=MachineLearning\n",
            "100\n",
            "2020-03-09 12:30:45\n",
            "https://api.pushshift.io/reddit/search/submission/?title=&size=100&after=1583757045&before=1585699200&subreddit=MachineLearning\n",
            "100\n",
            "2020-03-10 16:06:10\n",
            "https://api.pushshift.io/reddit/search/submission/?title=&size=100&after=1583856370&before=1585699200&subreddit=MachineLearning\n",
            "100\n",
            "2020-03-11 22:23:00\n",
            "https://api.pushshift.io/reddit/search/submission/?title=&size=100&after=1583965380&before=1585699200&subreddit=MachineLearning\n",
            "100\n",
            "2020-03-13 00:47:15\n",
            "https://api.pushshift.io/reddit/search/submission/?title=&size=100&after=1584060435&before=1585699200&subreddit=MachineLearning\n",
            "100\n",
            "2020-03-14 18:05:21\n",
            "https://api.pushshift.io/reddit/search/submission/?title=&size=100&after=1584209121&before=1585699200&subreddit=MachineLearning\n",
            "100\n",
            "2020-03-16 14:19:22\n",
            "https://api.pushshift.io/reddit/search/submission/?title=&size=100&after=1584368362&before=1585699200&subreddit=MachineLearning\n",
            "100\n",
            "2020-03-17 19:58:36\n",
            "https://api.pushshift.io/reddit/search/submission/?title=&size=100&after=1584475116&before=1585699200&subreddit=MachineLearning\n",
            "100\n",
            "2020-03-19 11:26:14\n",
            "https://api.pushshift.io/reddit/search/submission/?title=&size=100&after=1584617174&before=1585699200&subreddit=MachineLearning\n",
            "100\n",
            "2020-03-21 06:38:52\n",
            "https://api.pushshift.io/reddit/search/submission/?title=&size=100&after=1584772732&before=1585699200&subreddit=MachineLearning\n",
            "100\n",
            "2020-03-22 21:10:02\n",
            "https://api.pushshift.io/reddit/search/submission/?title=&size=100&after=1584911402&before=1585699200&subreddit=MachineLearning\n",
            "100\n",
            "2020-03-24 03:34:11\n",
            "https://api.pushshift.io/reddit/search/submission/?title=&size=100&after=1585020851&before=1585699200&subreddit=MachineLearning\n",
            "100\n",
            "2020-03-25 09:48:06\n",
            "https://api.pushshift.io/reddit/search/submission/?title=&size=100&after=1585129686&before=1585699200&subreddit=MachineLearning\n",
            "100\n",
            "2020-03-26 15:16:45\n",
            "https://api.pushshift.io/reddit/search/submission/?title=&size=100&after=1585235805&before=1585699200&subreddit=MachineLearning\n",
            "100\n",
            "2020-03-27 19:25:38\n",
            "https://api.pushshift.io/reddit/search/submission/?title=&size=100&after=1585337138&before=1585699200&subreddit=MachineLearning\n",
            "100\n",
            "2020-03-29 06:08:06\n",
            "https://api.pushshift.io/reddit/search/submission/?title=&size=100&after=1585462086&before=1585699200&subreddit=MachineLearning\n",
            "100\n",
            "2020-03-30 15:30:08\n",
            "https://api.pushshift.io/reddit/search/submission/?title=&size=100&after=1585582208&before=1585699200&subreddit=MachineLearning\n",
            "100\n",
            "2020-03-31 17:10:29\n",
            "https://api.pushshift.io/reddit/search/submission/?title=&size=100&after=1585674629&before=1585699200&subreddit=MachineLearning\n",
            "30\n",
            "2020-03-31 23:51:44\n",
            "https://api.pushshift.io/reddit/search/submission/?title=&size=100&after=1585698704&before=1585699200&subreddit=MachineLearning\n",
            "0\n"
          ],
          "name": "stdout"
        }
      ]
    },
    {
      "cell_type": "code",
      "metadata": {
        "id": "elV8zAUBgQdl",
        "colab_type": "code",
        "colab": {
          "base_uri": "https://localhost:8080/",
          "height": 106
        },
        "outputId": "43e5fe4b-5a27-4e0e-950a-2ab2c456b31a"
      },
      "source": [
        "print(str(len(subStats)) + \" submissions have added to list\")\n",
        "print(\"1st entry is:\")\n",
        "print(list(subStats.values())[0][0][1] + \" created: \" + str(list(subStats.values())[0][0][5]))\n",
        "print(\"Last entry is:\")\n",
        "print(list(subStats.values())[-1][0][1] + \" created: \" + str(list(subStats.values())[-1][0][5]))"
      ],
      "execution_count": null,
      "outputs": [
        {
          "output_type": "stream",
          "text": [
            "2230 submissions have added to list\n",
            "1st entry is:\n",
            "[Discussion] Interesting ML research at NYU? created: 2020-03-01 01:01:54\n",
            "Last entry is:\n",
            "Introduction to and Visualization of Word Vectors created: 2020-03-31 23:51:44\n"
          ],
          "name": "stdout"
        }
      ]
    },
    {
      "cell_type": "code",
      "metadata": {
        "id": "DfvfWI2ggVYY",
        "colab_type": "code",
        "colab": {}
      },
      "source": [
        "# def updateSubs_file():\n",
        "#     upload_count = 0\n",
        "#     location = \"\"\n",
        "#     print(\"input filename of submission file, please add .csv\")\n",
        "    #filename = input()\n",
        "    #file = location + filename\n",
        "    # with open(file, 'w', newline='', encoding='utf-8') as file: \n",
        "    #     a = csv.writer(file, delimiter=',')\n",
        "    #     headers = [\"Post ID\",\"Title\",\"Url\",\"Author\",\"Score\",\"Publish Date\",\"Total No. of Comments\",\"Permalink\",\"Flair\"]\n",
        "    #     a.writerow(headers)\n",
        "    #     for sub in subStats:\n",
        "    #         a.writerow(subStats[sub][0])\n",
        "    #         upload_count+=1\n",
        "               \n",
        "        #print(str(upload_count) + \" submissions have been uploaded\")\n"
      ],
      "execution_count": null,
      "outputs": []
    },
    {
      "cell_type": "code",
      "metadata": {
        "id": "Wgpicp9_y8TI",
        "colab_type": "code",
        "colab": {
          "base_uri": "https://localhost:8080/",
          "height": 299
        },
        "outputId": "2fe844a0-f2b6-47e7-ae44-6b8043c6b9ef"
      },
      "source": [
        "posts=[]\n",
        "for sub in subStats:\n",
        "  posts.append(subStats[sub][0]) \n",
        " \n",
        "df=pd.DataFrame(posts, columns=[\"Post ID\",\"Title\",\"Url\",\"Author\",\"Score\",\"Publish Date\",\"Total No. of Comments\",\"Permalink\",\"Flair\"])\n",
        "df.head()"
      ],
      "execution_count": null,
      "outputs": [
        {
          "output_type": "execute_result",
          "data": {
            "text/html": [
              "<div>\n",
              "<style scoped>\n",
              "    .dataframe tbody tr th:only-of-type {\n",
              "        vertical-align: middle;\n",
              "    }\n",
              "\n",
              "    .dataframe tbody tr th {\n",
              "        vertical-align: top;\n",
              "    }\n",
              "\n",
              "    .dataframe thead th {\n",
              "        text-align: right;\n",
              "    }\n",
              "</style>\n",
              "<table border=\"1\" class=\"dataframe\">\n",
              "  <thead>\n",
              "    <tr style=\"text-align: right;\">\n",
              "      <th></th>\n",
              "      <th>Post ID</th>\n",
              "      <th>Title</th>\n",
              "      <th>Url</th>\n",
              "      <th>Author</th>\n",
              "      <th>Score</th>\n",
              "      <th>Publish Date</th>\n",
              "      <th>Total No. of Comments</th>\n",
              "      <th>Permalink</th>\n",
              "      <th>Flair</th>\n",
              "    </tr>\n",
              "  </thead>\n",
              "  <tbody>\n",
              "    <tr>\n",
              "      <th>0</th>\n",
              "      <td>fbmc2c</td>\n",
              "      <td>[Discussion] Interesting ML research at NYU?</td>\n",
              "      <td>https://www.reddit.com/r/MachineLearning/comme...</td>\n",
              "      <td>sethcoast</td>\n",
              "      <td>1</td>\n",
              "      <td>2020-03-01 01:01:54</td>\n",
              "      <td>5</td>\n",
              "      <td>/r/MachineLearning/comments/fbmc2c/discussion_...</td>\n",
              "      <td>Discussion</td>\n",
              "    </tr>\n",
              "    <tr>\n",
              "      <th>1</th>\n",
              "      <td>fbmh4r</td>\n",
              "      <td>[D] What are some schools, labs, or professors...</td>\n",
              "      <td>https://www.reddit.com/r/MachineLearning/comme...</td>\n",
              "      <td>Seankala</td>\n",
              "      <td>1</td>\n",
              "      <td>2020-03-01 01:12:32</td>\n",
              "      <td>7</td>\n",
              "      <td>/r/MachineLearning/comments/fbmh4r/d_what_are_...</td>\n",
              "      <td>NaN</td>\n",
              "    </tr>\n",
              "    <tr>\n",
              "      <th>2</th>\n",
              "      <td>fbn0oe</td>\n",
              "      <td>[D] Attention is All You Need - Transformer De...</td>\n",
              "      <td>https://www.reddit.com/r/MachineLearning/comme...</td>\n",
              "      <td>nottakumasato</td>\n",
              "      <td>1</td>\n",
              "      <td>2020-03-01 01:54:22</td>\n",
              "      <td>3</td>\n",
              "      <td>/r/MachineLearning/comments/fbn0oe/d_attention...</td>\n",
              "      <td>Discussion</td>\n",
              "    </tr>\n",
              "    <tr>\n",
              "      <th>3</th>\n",
              "      <td>fbn4hz</td>\n",
              "      <td>Time series</td>\n",
              "      <td>https://www.reddit.com/r/MachineLearning/comme...</td>\n",
              "      <td>raviacharps</td>\n",
              "      <td>1</td>\n",
              "      <td>2020-03-01 02:02:45</td>\n",
              "      <td>1</td>\n",
              "      <td>/r/MachineLearning/comments/fbn4hz/time_series/</td>\n",
              "      <td>NaN</td>\n",
              "    </tr>\n",
              "    <tr>\n",
              "      <th>4</th>\n",
              "      <td>fbn521</td>\n",
              "      <td>Time series help on aggregation</td>\n",
              "      <td>https://www.reddit.com/r/MachineLearning/comme...</td>\n",
              "      <td>raviacharps</td>\n",
              "      <td>1</td>\n",
              "      <td>2020-03-01 02:03:56</td>\n",
              "      <td>1</td>\n",
              "      <td>/r/MachineLearning/comments/fbn521/time_series...</td>\n",
              "      <td>NaN</td>\n",
              "    </tr>\n",
              "  </tbody>\n",
              "</table>\n",
              "</div>"
            ],
            "text/plain": [
              "  Post ID  ...       Flair\n",
              "0  fbmc2c  ...  Discussion\n",
              "1  fbmh4r  ...         NaN\n",
              "2  fbn0oe  ...  Discussion\n",
              "3  fbn4hz  ...         NaN\n",
              "4  fbn521  ...         NaN\n",
              "\n",
              "[5 rows x 9 columns]"
            ]
          },
          "metadata": {
            "tags": []
          },
          "execution_count": 33
        }
      ]
    },
    {
      "cell_type": "code",
      "metadata": {
        "id": "b259CmUoDHpX",
        "colab_type": "code",
        "colab": {
          "base_uri": "https://localhost:8080/",
          "height": 651
        },
        "outputId": "7a8208a3-4d8e-4c13-f6cd-b76ab5b5a57f"
      },
      "source": [
        "df.sort_values(\"Total No. of Comments\", axis = 0, ascending = False, \n",
        "                 inplace = True, na_position ='last') \n",
        "df.head()"
      ],
      "execution_count": null,
      "outputs": [
        {
          "output_type": "execute_result",
          "data": {
            "text/html": [
              "<div>\n",
              "<style scoped>\n",
              "    .dataframe tbody tr th:only-of-type {\n",
              "        vertical-align: middle;\n",
              "    }\n",
              "\n",
              "    .dataframe tbody tr th {\n",
              "        vertical-align: top;\n",
              "    }\n",
              "\n",
              "    .dataframe thead th {\n",
              "        text-align: right;\n",
              "    }\n",
              "</style>\n",
              "<table border=\"1\" class=\"dataframe\">\n",
              "  <thead>\n",
              "    <tr style=\"text-align: right;\">\n",
              "      <th></th>\n",
              "      <th>Post ID</th>\n",
              "      <th>Title</th>\n",
              "      <th>Url</th>\n",
              "      <th>Author</th>\n",
              "      <th>Score</th>\n",
              "      <th>Publish Date</th>\n",
              "      <th>Total No. of Comments</th>\n",
              "      <th>Permalink</th>\n",
              "      <th>Flair</th>\n",
              "    </tr>\n",
              "  </thead>\n",
              "  <tbody>\n",
              "    <tr>\n",
              "      <th>1539</th>\n",
              "      <td>fni5ow</td>\n",
              "      <td>[D] Why is the AI Hype Absolutely Bonkers</td>\n",
              "      <td>https://www.reddit.com/r/MachineLearning/comme...</td>\n",
              "      <td>good_rice</td>\n",
              "      <td>1</td>\n",
              "      <td>2020-03-23 11:05:24</td>\n",
              "      <td>256</td>\n",
              "      <td>/r/MachineLearning/comments/fni5ow/d_why_is_th...</td>\n",
              "      <td>Discussion</td>\n",
              "    </tr>\n",
              "    <tr>\n",
              "      <th>2072</th>\n",
              "      <td>frno4g</td>\n",
              "      <td>[N] Remember that guy who claimed to have achi...</td>\n",
              "      <td>https://www.reddit.com/r/MachineLearning/comme...</td>\n",
              "      <td>LoveMetal</td>\n",
              "      <td>1</td>\n",
              "      <td>2020-03-30 09:31:42</td>\n",
              "      <td>150</td>\n",
              "      <td>/r/MachineLearning/comments/frno4g/n_remember_...</td>\n",
              "      <td>News</td>\n",
              "    </tr>\n",
              "    <tr>\n",
              "      <th>1417</th>\n",
              "      <td>fmg41r</td>\n",
              "      <td>[D] (Rant) What annoys me the most in a time o...</td>\n",
              "      <td>https://www.reddit.com/r/MachineLearning/comme...</td>\n",
              "      <td>pier4r</td>\n",
              "      <td>1</td>\n",
              "      <td>2020-03-21 14:52:27</td>\n",
              "      <td>149</td>\n",
              "      <td>/r/MachineLearning/comments/fmg41r/d_rant_what...</td>\n",
              "      <td>Discussion</td>\n",
              "    </tr>\n",
              "    <tr>\n",
              "      <th>2052</th>\n",
              "      <td>frgoje</td>\n",
              "      <td>[D] Is anyone frankly getting a little tired o...</td>\n",
              "      <td>https://www.reddit.com/r/MachineLearning/comme...</td>\n",
              "      <td>deadtreescrolls</td>\n",
              "      <td>14</td>\n",
              "      <td>2020-03-30 00:26:54</td>\n",
              "      <td>131</td>\n",
              "      <td>/r/MachineLearning/comments/frgoje/d_is_anyone...</td>\n",
              "      <td>Discussion</td>\n",
              "    </tr>\n",
              "    <tr>\n",
              "      <th>1276</th>\n",
              "      <td>fkwueg</td>\n",
              "      <td>[D] Can \"Scipy + Numpy\" replace Matlab in an i...</td>\n",
              "      <td>https://www.reddit.com/r/MachineLearning/comme...</td>\n",
              "      <td>AlexSnakeKing</td>\n",
              "      <td>2</td>\n",
              "      <td>2020-03-18 20:46:37</td>\n",
              "      <td>121</td>\n",
              "      <td>/r/MachineLearning/comments/fkwueg/d_can_scipy...</td>\n",
              "      <td>Discussion</td>\n",
              "    </tr>\n",
              "  </tbody>\n",
              "</table>\n",
              "</div>"
            ],
            "text/plain": [
              "     Post ID  ...       Flair\n",
              "1539  fni5ow  ...  Discussion\n",
              "2072  frno4g  ...        News\n",
              "1417  fmg41r  ...  Discussion\n",
              "2052  frgoje  ...  Discussion\n",
              "1276  fkwueg  ...  Discussion\n",
              "\n",
              "[5 rows x 9 columns]"
            ]
          },
          "metadata": {
            "tags": []
          },
          "execution_count": 34
        }
      ]
    },
    {
      "cell_type": "code",
      "metadata": {
        "id": "XZLUC0xWEyiB",
        "colab_type": "code",
        "colab": {
          "base_uri": "https://localhost:8080/",
          "height": 651
        },
        "outputId": "d09ce50a-37f2-4553-8cd5-af7998608855"
      },
      "source": [
        "df=df[df[\"Total No. of Comments\"]>2]\n",
        "df.head()"
      ],
      "execution_count": null,
      "outputs": [
        {
          "output_type": "execute_result",
          "data": {
            "text/html": [
              "<div>\n",
              "<style scoped>\n",
              "    .dataframe tbody tr th:only-of-type {\n",
              "        vertical-align: middle;\n",
              "    }\n",
              "\n",
              "    .dataframe tbody tr th {\n",
              "        vertical-align: top;\n",
              "    }\n",
              "\n",
              "    .dataframe thead th {\n",
              "        text-align: right;\n",
              "    }\n",
              "</style>\n",
              "<table border=\"1\" class=\"dataframe\">\n",
              "  <thead>\n",
              "    <tr style=\"text-align: right;\">\n",
              "      <th></th>\n",
              "      <th>Post ID</th>\n",
              "      <th>Title</th>\n",
              "      <th>Url</th>\n",
              "      <th>Author</th>\n",
              "      <th>Score</th>\n",
              "      <th>Publish Date</th>\n",
              "      <th>Total No. of Comments</th>\n",
              "      <th>Permalink</th>\n",
              "      <th>Flair</th>\n",
              "    </tr>\n",
              "  </thead>\n",
              "  <tbody>\n",
              "    <tr>\n",
              "      <th>1539</th>\n",
              "      <td>fni5ow</td>\n",
              "      <td>[D] Why is the AI Hype Absolutely Bonkers</td>\n",
              "      <td>https://www.reddit.com/r/MachineLearning/comme...</td>\n",
              "      <td>good_rice</td>\n",
              "      <td>1</td>\n",
              "      <td>2020-03-23 11:05:24</td>\n",
              "      <td>256</td>\n",
              "      <td>/r/MachineLearning/comments/fni5ow/d_why_is_th...</td>\n",
              "      <td>Discussion</td>\n",
              "    </tr>\n",
              "    <tr>\n",
              "      <th>2072</th>\n",
              "      <td>frno4g</td>\n",
              "      <td>[N] Remember that guy who claimed to have achi...</td>\n",
              "      <td>https://www.reddit.com/r/MachineLearning/comme...</td>\n",
              "      <td>LoveMetal</td>\n",
              "      <td>1</td>\n",
              "      <td>2020-03-30 09:31:42</td>\n",
              "      <td>150</td>\n",
              "      <td>/r/MachineLearning/comments/frno4g/n_remember_...</td>\n",
              "      <td>News</td>\n",
              "    </tr>\n",
              "    <tr>\n",
              "      <th>1417</th>\n",
              "      <td>fmg41r</td>\n",
              "      <td>[D] (Rant) What annoys me the most in a time o...</td>\n",
              "      <td>https://www.reddit.com/r/MachineLearning/comme...</td>\n",
              "      <td>pier4r</td>\n",
              "      <td>1</td>\n",
              "      <td>2020-03-21 14:52:27</td>\n",
              "      <td>149</td>\n",
              "      <td>/r/MachineLearning/comments/fmg41r/d_rant_what...</td>\n",
              "      <td>Discussion</td>\n",
              "    </tr>\n",
              "    <tr>\n",
              "      <th>2052</th>\n",
              "      <td>frgoje</td>\n",
              "      <td>[D] Is anyone frankly getting a little tired o...</td>\n",
              "      <td>https://www.reddit.com/r/MachineLearning/comme...</td>\n",
              "      <td>deadtreescrolls</td>\n",
              "      <td>14</td>\n",
              "      <td>2020-03-30 00:26:54</td>\n",
              "      <td>131</td>\n",
              "      <td>/r/MachineLearning/comments/frgoje/d_is_anyone...</td>\n",
              "      <td>Discussion</td>\n",
              "    </tr>\n",
              "    <tr>\n",
              "      <th>1276</th>\n",
              "      <td>fkwueg</td>\n",
              "      <td>[D] Can \"Scipy + Numpy\" replace Matlab in an i...</td>\n",
              "      <td>https://www.reddit.com/r/MachineLearning/comme...</td>\n",
              "      <td>AlexSnakeKing</td>\n",
              "      <td>2</td>\n",
              "      <td>2020-03-18 20:46:37</td>\n",
              "      <td>121</td>\n",
              "      <td>/r/MachineLearning/comments/fkwueg/d_can_scipy...</td>\n",
              "      <td>Discussion</td>\n",
              "    </tr>\n",
              "  </tbody>\n",
              "</table>\n",
              "</div>"
            ],
            "text/plain": [
              "     Post ID  ...       Flair\n",
              "1539  fni5ow  ...  Discussion\n",
              "2072  frno4g  ...        News\n",
              "1417  fmg41r  ...  Discussion\n",
              "2052  frgoje  ...  Discussion\n",
              "1276  fkwueg  ...  Discussion\n",
              "\n",
              "[5 rows x 9 columns]"
            ]
          },
          "metadata": {
            "tags": []
          },
          "execution_count": 35
        }
      ]
    },
    {
      "cell_type": "code",
      "metadata": {
        "id": "8c4g7yJ9FHkj",
        "colab_type": "code",
        "colab": {}
      },
      "source": [
        "#produce excel\n",
        "#caution encoding=\"uft-8\" does not work. only \"utf-8-sig\"\n",
        "#df.to_csv(str(after)+\".csv\",encoding=\"utf-8-sig\")"
      ],
      "execution_count": null,
      "outputs": []
    },
    {
      "cell_type": "code",
      "metadata": {
        "id": "hUrmF5deP7z5",
        "colab_type": "code",
        "colab": {}
      },
      "source": [
        "#df.title text file no index&header\n",
        "df[\"Title\"].to_csv(str(time_after)+\".txt\",index=False,header=None, encoding=\"utf-8-sig\")"
      ],
      "execution_count": null,
      "outputs": []
    }
  ]
}
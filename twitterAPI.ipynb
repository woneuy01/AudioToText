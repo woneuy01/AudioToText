{
  "nbformat": 4,
  "nbformat_minor": 0,
  "metadata": {
    "colab": {
      "name": "twitterAPI.ipynb",
      "provenance": [],
      "collapsed_sections": [],
      "authorship_tag": "ABX9TyOSVZvW+7RUabjSIuCrGdAy",
      "include_colab_link": true
    },
    "kernelspec": {
      "name": "python3",
      "display_name": "Python 3"
    }
  },
  "cells": [
    {
      "cell_type": "markdown",
      "metadata": {
        "id": "view-in-github",
        "colab_type": "text"
      },
      "source": [
        "<a href=\"https://colab.research.google.com/github/woneuy01/AudioToText/blob/master/twitterAPI.ipynb\" target=\"_parent\"><img src=\"https://colab.research.google.com/assets/colab-badge.svg\" alt=\"Open In Colab\"/></a>"
      ]
    },
    {
      "cell_type": "code",
      "metadata": {
        "id": "WozYZcKuZGZ_",
        "colab_type": "code",
        "colab": {}
      },
      "source": [
        "https://github.com/mikhailklassen/Mining-the-Social-Web-3rd-Edition/blob/master/notebooks/Chapter%201%20-%20Mining%20Twitter.ipynb"
      ],
      "execution_count": 0,
      "outputs": []
    },
    {
      "cell_type": "code",
      "metadata": {
        "id": "LbaSTxPhyStN",
        "colab_type": "code",
        "outputId": "b6646291-7f6d-42e2-a160-13cfe3d52487",
        "colab": {
          "base_uri": "https://localhost:8080/",
          "height": 102
        }
      },
      "source": [
        "!pip install twitter"
      ],
      "execution_count": 3,
      "outputs": [
        {
          "output_type": "stream",
          "text": [
            "Collecting twitter\n",
            "\u001b[?25l  Downloading https://files.pythonhosted.org/packages/85/e2/f602e3f584503f03e0389491b251464f8ecfe2596ac86e6b9068fe7419d3/twitter-1.18.0-py2.py3-none-any.whl (54kB)\n",
            "\r\u001b[K     |██████                          | 10kB 21.4MB/s eta 0:00:01\r\u001b[K     |████████████                    | 20kB 1.7MB/s eta 0:00:01\r\u001b[K     |██████████████████              | 30kB 2.1MB/s eta 0:00:01\r\u001b[K     |████████████████████████        | 40kB 2.4MB/s eta 0:00:01\r\u001b[K     |██████████████████████████████▏ | 51kB 2.0MB/s eta 0:00:01\r\u001b[K     |████████████████████████████████| 61kB 2.0MB/s \n",
            "\u001b[?25hInstalling collected packages: twitter\n",
            "Successfully installed twitter-1.18.0\n"
          ],
          "name": "stdout"
        }
      ]
    },
    {
      "cell_type": "code",
      "metadata": {
        "id": "Hx6Tdxj7x8G8",
        "colab_type": "code",
        "outputId": "ab0166a3-a081-4bb8-f4fb-2958b68ef724",
        "colab": {
          "base_uri": "https://localhost:8080/",
          "height": 34
        }
      },
      "source": [
        "import twitter\n",
        "CONSUMER_KEY = '*********************************'\n",
        "CONSUMER_SECRET = '**************************************************'\n",
        "OAUTH_TOKEN = '****************************************'\n",
        "OAUTH_TOKEN_SECRET = '*******************************************'\n",
        "\n",
        "auth = twitter.oauth.OAuth(OAUTH_TOKEN, OAUTH_TOKEN_SECRET,\n",
        "                           CONSUMER_KEY, CONSUMER_SECRET)\n",
        "\n",
        "twitter_api = twitter.Twitter(auth=auth)\n",
        "\n",
        "# Nothing to see by displaying twitter_api except that it's now a\n",
        "# defined variable\n",
        "\n",
        "print(twitter_api)"
      ],
      "execution_count": 4,
      "outputs": [
        {
          "output_type": "stream",
          "text": [
            "<twitter.api.Twitter object at 0x7f94978a19b0>\n"
          ],
          "name": "stdout"
        }
      ]
    },
    {
      "cell_type": "code",
      "metadata": {
        "id": "weG1ofoK54rK",
        "colab_type": "code",
        "colab": {
          "base_uri": "https://localhost:8080/",
          "height": 88
        },
        "outputId": "8773955b-4d65-42a3-c701-863488d5d803"
      },
      "source": [
        "# The Yahoo! Where On Earth ID for the entire world is 1.\n",
        "# See https://dev.twitter.com/docs/api/1.1/get/trends/place and\n",
        "# http://developer.yahoo.com/geo/geoplanet/\n",
        "\n",
        "WORLD_WOE_ID = 1\n",
        "US_WOE_ID = 23424977\n",
        "\n",
        "# Prefix ID with the underscore for query string parameterization.\n",
        "# Without the underscore, the twitter package appends the ID value\n",
        "# to the URL itself as a special case keyword argument.\n",
        "\n",
        "world_trends = twitter_api.trends.place(_id=WORLD_WOE_ID)\n",
        "us_trends = twitter_api.trends.place(_id=US_WOE_ID)\n",
        "\n",
        "print(world_trends)\n",
        "print()\n",
        "print(us_trends)"
      ],
      "execution_count": 5,
      "outputs": [
        {
          "output_type": "stream",
          "text": [
            "[{'trends': [{'name': '#InsecureHBO', 'url': 'http://twitter.com/search?q=%23InsecureHBO', 'promoted_content': None, 'query': '%23InsecureHBO', 'tweet_volume': 98348}, {'name': '#VidasNegrasImportam', 'url': 'http://twitter.com/search?q=%23VidasNegrasImportam', 'promoted_content': None, 'query': '%23VidasNegrasImportam', 'tweet_volume': 906794}, {'name': '#lacotorrisamerespalda', 'url': 'http://twitter.com/search?q=%23lacotorrisamerespalda', 'promoted_content': None, 'query': '%23lacotorrisamerespalda', 'tweet_volume': None}, {'name': 'Gerardo', 'url': 'http://twitter.com/search?q=Gerardo', 'promoted_content': None, 'query': 'Gerardo', 'tweet_volume': 28215}, {'name': '#BakeOffArgentina', 'url': 'http://twitter.com/search?q=%23BakeOffArgentina', 'promoted_content': None, 'query': '%23BakeOffArgentina', 'tweet_volume': 33330}, {'name': '#protests2020', 'url': 'http://twitter.com/search?q=%23protests2020', 'promoted_content': None, 'query': '%23protests2020', 'tweet_volume': 586547}, {'name': '渡辺麻友', 'url': 'http://twitter.com/search?q=%E6%B8%A1%E8%BE%BA%E9%BA%BB%E5%8F%8B', 'promoted_content': None, 'query': '%E6%B8%A1%E8%BE%BA%E9%BA%BB%E5%8F%8B', 'tweet_volume': 33419}, {'name': 'まゆゆ引退', 'url': 'http://twitter.com/search?q=%E3%81%BE%E3%82%86%E3%82%86%E5%BC%95%E9%80%80', 'promoted_content': None, 'query': '%E3%81%BE%E3%82%86%E3%82%86%E5%BC%95%E9%80%80', 'tweet_volume': 13988}, {'name': 'Avicii', 'url': 'http://twitter.com/search?q=Avicii', 'promoted_content': None, 'query': 'Avicii', 'tweet_volume': 123394}, {'name': 'Lanata', 'url': 'http://twitter.com/search?q=Lanata', 'promoted_content': None, 'query': 'Lanata', 'tweet_volume': 57483}, {'name': 'Pancasila', 'url': 'http://twitter.com/search?q=Pancasila', 'promoted_content': None, 'query': 'Pancasila', 'tweet_volume': 76071}, {'name': 'Long Beach', 'url': 'http://twitter.com/search?q=%22Long+Beach%22', 'promoted_content': None, 'query': '%22Long+Beach%22', 'tweet_volume': 79572}, {'name': 'Hai Juni', 'url': 'http://twitter.com/search?q=%22Hai+Juni%22', 'promoted_content': None, 'query': '%22Hai+Juni%22', 'tweet_volume': 30017}, {'name': 'FAKE PRESIDENT', 'url': 'http://twitter.com/search?q=%22FAKE+PRESIDENT%22', 'promoted_content': None, 'query': '%22FAKE+PRESIDENT%22', 'tweet_volume': 93892}, {'name': 'サラーサ', 'url': 'http://twitter.com/search?q=%E3%82%B5%E3%83%A9%E3%83%BC%E3%82%B5', 'promoted_content': None, 'query': '%E3%82%B5%E3%83%A9%E3%83%BC%E3%82%B5', 'tweet_volume': None}, {'name': 'ゼロツー', 'url': 'http://twitter.com/search?q=%E3%82%BC%E3%83%AD%E3%83%84%E3%83%BC', 'promoted_content': None, 'query': '%E3%82%BC%E3%83%AD%E3%83%84%E3%83%BC', 'tweet_volume': 12823}, {'name': 'ユエル', 'url': 'http://twitter.com/search?q=%E3%83%A6%E3%82%A8%E3%83%AB', 'promoted_content': None, 'query': '%E3%83%A6%E3%82%A8%E3%83%AB', 'tweet_volume': None}, {'name': 'Rakin', 'url': 'http://twitter.com/search?q=Rakin', 'promoted_content': None, 'query': 'Rakin', 'tweet_volume': 13491}, {'name': 'Jane Fonda', 'url': 'http://twitter.com/search?q=%22Jane+Fonda%22', 'promoted_content': None, 'query': '%22Jane+Fonda%22', 'tweet_volume': 22583}, {'name': 'Juanpa Zurita', 'url': 'http://twitter.com/search?q=%22Juanpa+Zurita%22', 'promoted_content': None, 'query': '%22Juanpa+Zurita%22', 'tweet_volume': 10210}, {'name': 'jr smith', 'url': 'http://twitter.com/search?q=%22jr+smith%22', 'promoted_content': None, 'query': '%22jr+smith%22', 'tweet_volume': 105999}, {'name': 'St. John', 'url': 'http://twitter.com/search?q=%22St.+John%22', 'promoted_content': None, 'query': '%22St.+John%22', 'tweet_volume': 63807}, {'name': 'Bellevue', 'url': 'http://twitter.com/search?q=Bellevue', 'promoted_content': None, 'query': 'Bellevue', 'tweet_volume': 23189}, {'name': '#ArgentinaSupportsTrump', 'url': 'http://twitter.com/search?q=%23ArgentinaSupportsTrump', 'promoted_content': None, 'query': '%23ArgentinaSupportsTrump', 'tweet_volume': 13480}, {'name': '#BunkerBoy', 'url': 'http://twitter.com/search?q=%23BunkerBoy', 'promoted_content': None, 'query': '%23BunkerBoy', 'tweet_volume': 20874}, {'name': '#90DayFiance', 'url': 'http://twitter.com/search?q=%2390DayFiance', 'promoted_content': None, 'query': '%2390DayFiance', 'tweet_volume': 31423}, {'name': '#LaGuindaDeLaTorta', 'url': 'http://twitter.com/search?q=%23LaGuindaDeLaTorta', 'promoted_content': None, 'query': '%23LaGuindaDeLaTorta', 'tweet_volume': None}, {'name': '#KillingEve', 'url': 'http://twitter.com/search?q=%23KillingEve', 'promoted_content': None, 'query': '%23KillingEve', 'tweet_volume': 35487}, {'name': '#WajidKhan', 'url': 'http://twitter.com/search?q=%23WajidKhan', 'promoted_content': None, 'query': '%23WajidKhan', 'tweet_volume': 16053}, {'name': '#PrideMonth', 'url': 'http://twitter.com/search?q=%23PrideMonth', 'promoted_content': None, 'query': '%23PrideMonth', 'tweet_volume': 29313}, {'name': '#ForaBol卐onaro', 'url': 'http://twitter.com/search?q=%23ForaBol%E5%8D%90onaro', 'promoted_content': None, 'query': '%23ForaBol%E5%8D%90onaro', 'tweet_volume': 191951}, {'name': '#JusticiaPorPapo', 'url': 'http://twitter.com/search?q=%23JusticiaPorPapo', 'promoted_content': None, 'query': '%23JusticiaPorPapo', 'tweet_volume': None}, {'name': '#IbalikAngABSCBN', 'url': 'http://twitter.com/search?q=%23IbalikAngABSCBN', 'promoted_content': None, 'query': '%23IbalikAngABSCBN', 'tweet_volume': 34973}, {'name': '#MañalichNoSeVa', 'url': 'http://twitter.com/search?q=%23Ma%C3%B1alichNoSeVa', 'promoted_content': None, 'query': '%23Ma%C3%B1alichNoSeVa', 'tweet_volume': 35775}, {'name': '#Verzuz', 'url': 'http://twitter.com/search?q=%23Verzuz', 'promoted_content': None, 'query': '%23Verzuz', 'tweet_volume': 94467}, {'name': '#GraciasHugoGatell', 'url': 'http://twitter.com/search?q=%23GraciasHugoGatell', 'promoted_content': None, 'query': '%23GraciasHugoGatell', 'tweet_volume': 16706}, {'name': '#1stAnvTheoryOfLove', 'url': 'http://twitter.com/search?q=%231stAnvTheoryOfLove', 'promoted_content': None, 'query': '%231stAnvTheoryOfLove', 'tweet_volume': 113266}, {'name': '#BigParvsSatdehh', 'url': 'http://twitter.com/search?q=%23BigParvsSatdehh', 'promoted_content': None, 'query': '%23BigParvsSatdehh', 'tweet_volume': None}, {'name': '#PizzaGate', 'url': 'http://twitter.com/search?q=%23PizzaGate', 'promoted_content': None, 'query': '%23PizzaGate', 'tweet_volume': 61508}, {'name': '#出れスパ2020', 'url': 'http://twitter.com/search?q=%23%E5%87%BA%E3%82%8C%E3%82%B9%E3%83%912020', 'promoted_content': None, 'query': '%23%E5%87%BA%E3%82%8C%E3%82%B9%E3%83%912020', 'tweet_volume': None}, {'name': '#AntifasPelaDemocracia', 'url': 'http://twitter.com/search?q=%23AntifasPelaDemocracia', 'promoted_content': None, 'query': '%23AntifasPelaDemocracia', 'tweet_volume': 46152}, {'name': '#JusticeforGeorgesFloyd', 'url': 'http://twitter.com/search?q=%23JusticeforGeorgesFloyd', 'promoted_content': None, 'query': '%23JusticeforGeorgesFloyd', 'tweet_volume': 11788}, {'name': '#MyLovelyFluke24th', 'url': 'http://twitter.com/search?q=%23MyLovelyFluke24th', 'promoted_content': None, 'query': '%23MyLovelyFluke24th', 'tweet_volume': 153217}, {'name': '#AntifaTERRORISTA', 'url': 'http://twitter.com/search?q=%23AntifaTERRORISTA', 'promoted_content': None, 'query': '%23AntifaTERRORISTA', 'tweet_volume': 222076}, {'name': '#Miracles_Of_GodKabir', 'url': 'http://twitter.com/search?q=%23Miracles_Of_GodKabir', 'promoted_content': None, 'query': '%23Miracles_Of_GodKabir', 'tweet_volume': 206548}, {'name': '#مسابقه_mna7isa', 'url': 'http://twitter.com/search?q=%23%D9%85%D8%B3%D8%A7%D8%A8%D9%82%D9%87_mna7isa', 'promoted_content': None, 'query': '%23%D9%85%D8%B3%D8%A7%D8%A8%D9%82%D9%87_mna7isa', 'tweet_volume': None}, {'name': '#Fantastico', 'url': 'http://twitter.com/search?q=%23Fantastico', 'promoted_content': None, 'query': '%23Fantastico', 'tweet_volume': 18883}, {'name': '#صوره_مطعم_مناحي', 'url': 'http://twitter.com/search?q=%23%D8%B5%D9%88%D8%B1%D9%87_%D9%85%D8%B7%D8%B9%D9%85_%D9%85%D9%86%D8%A7%D8%AD%D9%8A', 'promoted_content': None, 'query': '%23%D8%B5%D9%88%D8%B1%D9%87_%D9%85%D8%B7%D8%B9%D9%85_%D9%85%D9%86%D8%A7%D8%AD%D9%8A', 'tweet_volume': None}, {'name': '#خميس_مشيط', 'url': 'http://twitter.com/search?q=%23%D8%AE%D9%85%D9%8A%D8%B3_%D9%85%D8%B4%D9%8A%D8%B7', 'promoted_content': None, 'query': '%23%D8%AE%D9%85%D9%8A%D8%B3_%D9%85%D8%B4%D9%8A%D8%B7', 'tweet_volume': None}], 'as_of': '2020-06-01T04:09:25Z', 'created_at': '2020-06-01T04:08:46Z', 'locations': [{'name': 'Worldwide', 'woeid': 1}]}]\n",
            "\n",
            "[{'trends': [{'name': '#InsecureHBO', 'url': 'http://twitter.com/search?q=%23InsecureHBO', 'promoted_content': None, 'query': '%23InsecureHBO', 'tweet_volume': 98348}, {'name': '#BunkerBoy', 'url': 'http://twitter.com/search?q=%23BunkerBoy', 'promoted_content': None, 'query': '%23BunkerBoy', 'tweet_volume': 20874}, {'name': '#90DayFiance', 'url': 'http://twitter.com/search?q=%2390DayFiance', 'promoted_content': None, 'query': '%2390DayFiance', 'tweet_volume': 31423}, {'name': '#protests2020', 'url': 'http://twitter.com/search?q=%23protests2020', 'promoted_content': None, 'query': '%23protests2020', 'tweet_volume': 586547}, {'name': '#BLACK_LIVES_MATTERS', 'url': 'http://twitter.com/search?q=%23BLACK_LIVES_MATTERS', 'promoted_content': None, 'query': '%23BLACK_LIVES_MATTERS', 'tweet_volume': 1106482}, {'name': 'Santa Monica', 'url': 'http://twitter.com/search?q=%22Santa+Monica%22', 'promoted_content': None, 'query': '%22Santa+Monica%22', 'tweet_volume': 200338}, {'name': 'FAKE PRESIDENT', 'url': 'http://twitter.com/search?q=%22FAKE+PRESIDENT%22', 'promoted_content': None, 'query': '%22FAKE+PRESIDENT%22', 'tweet_volume': 93892}, {'name': 'St. John', 'url': 'http://twitter.com/search?q=%22St.+John%22', 'promoted_content': None, 'query': '%22St.+John%22', 'tweet_volume': 63807}, {'name': 'Jane Fonda', 'url': 'http://twitter.com/search?q=%22Jane+Fonda%22', 'promoted_content': None, 'query': '%22Jane+Fonda%22', 'tweet_volume': 22583}, {'name': 'Oakland Zoo', 'url': 'http://twitter.com/search?q=%22Oakland+Zoo%22', 'promoted_content': None, 'query': '%22Oakland+Zoo%22', 'tweet_volume': 10136}, {'name': 'Bellevue', 'url': 'http://twitter.com/search?q=Bellevue', 'promoted_content': None, 'query': 'Bellevue', 'tweet_volume': 23189}, {'name': 'Virgil', 'url': 'http://twitter.com/search?q=Virgil', 'promoted_content': None, 'query': 'Virgil', 'tweet_volume': 12186}, {'name': 'JR Smith', 'url': 'http://twitter.com/search?q=%22JR+Smith%22', 'promoted_content': None, 'query': '%22JR+Smith%22', 'tweet_volume': 105999}, {'name': 'Kindergarten', 'url': 'http://twitter.com/search?q=Kindergarten', 'promoted_content': None, 'query': 'Kindergarten', 'tweet_volume': 11734}, {'name': 'Walnut Creek', 'url': 'http://twitter.com/search?q=%22Walnut+Creek%22', 'promoted_content': None, 'query': '%22Walnut+Creek%22', 'tweet_volume': 15164}, {'name': 'Sioux Falls', 'url': 'http://twitter.com/search?q=%22Sioux+Falls%22', 'promoted_content': None, 'query': '%22Sioux+Falls%22', 'tweet_volume': None}, {'name': 'El Super', 'url': 'http://twitter.com/search?q=%22El+Super%22', 'promoted_content': None, 'query': '%22El+Super%22', 'tweet_volume': None}, {'name': 'Marco', 'url': 'http://twitter.com/search?q=Marco', 'promoted_content': None, 'query': 'Marco', 'tweet_volume': 132077}, {'name': 'Rubio', 'url': 'http://twitter.com/search?q=Rubio', 'promoted_content': None, 'query': 'Rubio', 'tweet_volume': 34243}, {'name': 'Druski', 'url': 'http://twitter.com/search?q=Druski', 'promoted_content': None, 'query': 'Druski', 'tweet_volume': None}, {'name': 'AFL-CIO', 'url': 'http://twitter.com/search?q=AFL-CIO', 'promoted_content': None, 'query': 'AFL-CIO', 'tweet_volume': None}, {'name': 'HAPPY PRIDE MONTH', 'url': 'http://twitter.com/search?q=%22HAPPY+PRIDE+MONTH%22', 'promoted_content': None, 'query': '%22HAPPY+PRIDE+MONTH%22', 'tweet_volume': 78562}, {'name': 'Waukegan', 'url': 'http://twitter.com/search?q=Waukegan', 'promoted_content': None, 'query': 'Waukegan', 'tweet_volume': None}, {'name': 'Broward County', 'url': 'http://twitter.com/search?q=%22Broward+County%22', 'promoted_content': None, 'query': '%22Broward+County%22', 'tweet_volume': None}, {'name': 'Danny Havoc', 'url': 'http://twitter.com/search?q=%22Danny+Havoc%22', 'promoted_content': None, 'query': '%22Danny+Havoc%22', 'tweet_volume': None}, {'name': 'Law & Order', 'url': 'http://twitter.com/search?q=%22Law+%26+Order%22', 'promoted_content': None, 'query': '%22Law+%26+Order%22', 'tweet_volume': 111072}, {'name': 'Carson mall', 'url': 'http://twitter.com/search?q=%22Carson+mall%22', 'promoted_content': None, 'query': '%22Carson+mall%22', 'tweet_volume': None}, {'name': 'Freshman', 'url': 'http://twitter.com/search?q=Freshman', 'promoted_content': None, 'query': 'Freshman', 'tweet_volume': 59113}, {'name': 'Dale Murphy', 'url': 'http://twitter.com/search?q=%22Dale+Murphy%22', 'promoted_content': None, 'query': '%22Dale+Murphy%22', 'tweet_volume': None}, {'name': 'Vans', 'url': 'http://twitter.com/search?q=Vans', 'promoted_content': None, 'query': 'Vans', 'tweet_volume': 143980}, {'name': 'Hot Topic', 'url': 'http://twitter.com/search?q=%22Hot+Topic%22', 'promoted_content': None, 'query': '%22Hot+Topic%22', 'tweet_volume': None}, {'name': 'lakewood mall', 'url': 'http://twitter.com/search?q=%22lakewood+mall%22', 'promoted_content': None, 'query': '%22lakewood+mall%22', 'tweet_volume': None}, {'name': 'Bogdan Vechirko', 'url': 'http://twitter.com/search?q=%22Bogdan+Vechirko%22', 'promoted_content': None, 'query': '%22Bogdan+Vechirko%22', 'tweet_volume': None}, {'name': '#BostonProtests', 'url': 'http://twitter.com/search?q=%23BostonProtests', 'promoted_content': None, 'query': '%23BostonProtests', 'tweet_volume': 25882}, {'name': '#RickandMorty', 'url': 'http://twitter.com/search?q=%23RickandMorty', 'promoted_content': None, 'query': '%23RickandMorty', 'tweet_volume': None}, {'name': '#KillingEve', 'url': 'http://twitter.com/search?q=%23KillingEve', 'promoted_content': None, 'query': '%23KillingEve', 'tweet_volume': 35487}, {'name': '#JusticeforGeorgesFloyd', 'url': 'http://twitter.com/search?q=%23JusticeforGeorgesFloyd', 'promoted_content': None, 'query': '%23JusticeforGeorgesFloyd', 'tweet_volume': 11788}, {'name': '#SanBernardino', 'url': 'http://twitter.com/search?q=%23SanBernardino', 'promoted_content': None, 'query': '%23SanBernardino', 'tweet_volume': None}, {'name': '#JustinCosby', 'url': 'http://twitter.com/search?q=%23JustinCosby', 'promoted_content': None, 'query': '%23JustinCosby', 'tweet_volume': 38024}, {'name': '#AntifaTerrorist', 'url': 'http://twitter.com/search?q=%23AntifaTerrorist', 'promoted_content': None, 'query': '%23AntifaTerrorist', 'tweet_volume': 31152}, {'name': '#LaCotorrisaMeRespalda', 'url': 'http://twitter.com/search?q=%23LaCotorrisaMeRespalda', 'promoted_content': None, 'query': '%23LaCotorrisaMeRespalda', 'tweet_volume': None}], 'as_of': '2020-06-01T04:09:25Z', 'created_at': '2020-06-01T04:08:46Z', 'locations': [{'name': 'United States', 'woeid': 23424977}]}]\n"
          ],
          "name": "stdout"
        }
      ]
    },
    {
      "cell_type": "code",
      "metadata": {
        "id": "I61O7oFRE1Or",
        "colab_type": "code",
        "colab": {
          "base_uri": "https://localhost:8080/",
          "height": 850
        },
        "outputId": "e3b0695e-0371-4524-8858-8dbf4be16976"
      },
      "source": [
        "for trend in world_trends[0]['trends']:\n",
        "    print(trend['name'])"
      ],
      "execution_count": 6,
      "outputs": [
        {
          "output_type": "stream",
          "text": [
            "#InsecureHBO\n",
            "#VidasNegrasImportam\n",
            "#lacotorrisamerespalda\n",
            "Gerardo\n",
            "#BakeOffArgentina\n",
            "#protests2020\n",
            "渡辺麻友\n",
            "まゆゆ引退\n",
            "Avicii\n",
            "Lanata\n",
            "Pancasila\n",
            "Long Beach\n",
            "Hai Juni\n",
            "FAKE PRESIDENT\n",
            "サラーサ\n",
            "ゼロツー\n",
            "ユエル\n",
            "Rakin\n",
            "Jane Fonda\n",
            "Juanpa Zurita\n",
            "jr smith\n",
            "St. John\n",
            "Bellevue\n",
            "#ArgentinaSupportsTrump\n",
            "#BunkerBoy\n",
            "#90DayFiance\n",
            "#LaGuindaDeLaTorta\n",
            "#KillingEve\n",
            "#WajidKhan\n",
            "#PrideMonth\n",
            "#ForaBol卐onaro\n",
            "#JusticiaPorPapo\n",
            "#IbalikAngABSCBN\n",
            "#MañalichNoSeVa\n",
            "#Verzuz\n",
            "#GraciasHugoGatell\n",
            "#1stAnvTheoryOfLove\n",
            "#BigParvsSatdehh\n",
            "#PizzaGate\n",
            "#出れスパ2020\n",
            "#AntifasPelaDemocracia\n",
            "#JusticeforGeorgesFloyd\n",
            "#MyLovelyFluke24th\n",
            "#AntifaTERRORISTA\n",
            "#Miracles_Of_GodKabir\n",
            "#مسابقه_mna7isa\n",
            "#Fantastico\n",
            "#صوره_مطعم_مناحي\n",
            "#خميس_مشيط\n"
          ],
          "name": "stdout"
        }
      ]
    },
    {
      "cell_type": "code",
      "metadata": {
        "id": "pfxu_AUcE9fd",
        "colab_type": "code",
        "colab": {
          "base_uri": "https://localhost:8080/",
          "height": 714
        },
        "outputId": "04032b86-c00e-45c6-afb2-9c0da141fa03"
      },
      "source": [
        "for trend in us_trends[0]['trends']:\n",
        "    print(trend['name'])"
      ],
      "execution_count": 7,
      "outputs": [
        {
          "output_type": "stream",
          "text": [
            "#InsecureHBO\n",
            "#BunkerBoy\n",
            "#90DayFiance\n",
            "#protests2020\n",
            "#BLACK_LIVES_MATTERS\n",
            "Santa Monica\n",
            "FAKE PRESIDENT\n",
            "St. John\n",
            "Jane Fonda\n",
            "Oakland Zoo\n",
            "Bellevue\n",
            "Virgil\n",
            "JR Smith\n",
            "Kindergarten\n",
            "Walnut Creek\n",
            "Sioux Falls\n",
            "El Super\n",
            "Marco\n",
            "Rubio\n",
            "Druski\n",
            "AFL-CIO\n",
            "HAPPY PRIDE MONTH\n",
            "Waukegan\n",
            "Broward County\n",
            "Danny Havoc\n",
            "Law & Order\n",
            "Carson mall\n",
            "Freshman\n",
            "Dale Murphy\n",
            "Vans\n",
            "Hot Topic\n",
            "lakewood mall\n",
            "Bogdan Vechirko\n",
            "#BostonProtests\n",
            "#RickandMorty\n",
            "#KillingEve\n",
            "#JusticeforGeorgesFloyd\n",
            "#SanBernardino\n",
            "#JustinCosby\n",
            "#AntifaTerrorist\n",
            "#LaCotorrisaMeRespalda\n"
          ],
          "name": "stdout"
        }
      ]
    },
    {
      "cell_type": "code",
      "metadata": {
        "id": "gBKwoBFwFIu4",
        "colab_type": "code",
        "colab": {
          "base_uri": "https://localhost:8080/",
          "height": 34
        },
        "outputId": "c9a24416-56eb-4584-86f5-8da966a8df98"
      },
      "source": [
        "world_trends_set = set([trend['name'] \n",
        "                        for trend in world_trends[0]['trends']])\n",
        "\n",
        "us_trends_set = set([trend['name'] \n",
        "                     for trend in us_trends[0]['trends']]) \n",
        "\n",
        "common_trends = world_trends_set.intersection(us_trends_set)\n",
        "\n",
        "print(common_trends) # common trend for world and us trends."
      ],
      "execution_count": 8,
      "outputs": [
        {
          "output_type": "stream",
          "text": [
            "{'Jane Fonda', '#JusticeforGeorgesFloyd', 'FAKE PRESIDENT', 'St. John', '#BunkerBoy', '#90DayFiance', '#protests2020', '#InsecureHBO', 'Bellevue', '#KillingEve'}\n"
          ],
          "name": "stdout"
        }
      ]
    },
    {
      "cell_type": "code",
      "metadata": {
        "id": "kO77qscjMxhq",
        "colab_type": "code",
        "colab": {
          "base_uri": "https://localhost:8080/",
          "height": 1000
        },
        "outputId": "51c151ee-0ed8-415a-ab89-f883fad78d28"
      },
      "source": [
        "import json\n",
        "\n",
        "# Set this variable to a trending topic, \n",
        "# or anything else for that matter. The example query below\n",
        "# was a trending topic when this content was being developed\n",
        "# and is used throughout the remainder of this chapter.\n",
        "\n",
        "q = '#corona virus' \n",
        "\n",
        "count = 100\n",
        "\n",
        "# Import unquote to prevent url encoding errors in next_results\n",
        "from urllib.parse import unquote\n",
        "\n",
        "# See https://dev.twitter.com/rest/reference/get/search/tweets\n",
        "\n",
        "search_results = twitter_api.search.tweets(q=q, count=count)\n",
        "\n",
        "statuses = search_results['statuses']\n",
        "\n",
        "\n",
        "# Iterate through 5 more batches of results by following the cursor\n",
        "for _ in range(5):\n",
        "    print('Length of statuses', len(statuses))\n",
        "    try:\n",
        "        next_results = search_results['search_metadata']['next_results']\n",
        "    except KeyError as e: # No more results when next_results doesn't exist\n",
        "        break\n",
        "        \n",
        "    # Create a dictionary from next_results, which has the following form:\n",
        "    # ?max_id=847960489447628799&q=%23RIPSelena&count=100&include_entities=1\n",
        "    kwargs = dict([ kv.split('=') for kv in unquote(next_results[1:]).split(\"&\") ])\n",
        "    \n",
        "    search_results = twitter_api.search.tweets(**kwargs)\n",
        "    statuses += search_results['statuses']\n",
        "\n",
        "# Show one sample search result by slicing the list...\n",
        "print(json.dumps(statuses[0], indent=1))"
      ],
      "execution_count": 11,
      "outputs": [
        {
          "output_type": "stream",
          "text": [
            "Length of statuses 68\n",
            "Length of statuses 140\n",
            "Length of statuses 220\n",
            "Length of statuses 315\n",
            "Length of statuses 405\n",
            "{\n",
            " \"created_at\": \"Mon Jun 01 04:49:25 +0000 2020\",\n",
            " \"id\": 1267317302288175108,\n",
            " \"id_str\": \"1267317302288175108\",\n",
            " \"text\": \"RT @IhtiramEusafxai: Sari dunya ko #Corona Virus may laga kr #chain nay khud #India Border per #Pubg lgai hui ha\\ud83d\\ude01\\ud83d\\ude01\",\n",
            " \"truncated\": false,\n",
            " \"entities\": {\n",
            "  \"hashtags\": [\n",
            "   {\n",
            "    \"text\": \"Corona\",\n",
            "    \"indices\": [\n",
            "     35,\n",
            "     42\n",
            "    ]\n",
            "   },\n",
            "   {\n",
            "    \"text\": \"chain\",\n",
            "    \"indices\": [\n",
            "     61,\n",
            "     67\n",
            "    ]\n",
            "   },\n",
            "   {\n",
            "    \"text\": \"India\",\n",
            "    \"indices\": [\n",
            "     77,\n",
            "     83\n",
            "    ]\n",
            "   },\n",
            "   {\n",
            "    \"text\": \"Pubg\",\n",
            "    \"indices\": [\n",
            "     95,\n",
            "     100\n",
            "    ]\n",
            "   }\n",
            "  ],\n",
            "  \"symbols\": [],\n",
            "  \"user_mentions\": [\n",
            "   {\n",
            "    \"screen_name\": \"IhtiramEusafxai\",\n",
            "    \"name\": \"Ihtiram EusafXai\\ud83d\\udd25\",\n",
            "    \"id\": 1241297159653412866,\n",
            "    \"id_str\": \"1241297159653412866\",\n",
            "    \"indices\": [\n",
            "     3,\n",
            "     19\n",
            "    ]\n",
            "   }\n",
            "  ],\n",
            "  \"urls\": []\n",
            " },\n",
            " \"metadata\": {\n",
            "  \"iso_language_code\": \"in\",\n",
            "  \"result_type\": \"recent\"\n",
            " },\n",
            " \"source\": \"<a href=\\\"http://twitter.com/download/android\\\" rel=\\\"nofollow\\\">Twitter for Android</a>\",\n",
            " \"in_reply_to_status_id\": null,\n",
            " \"in_reply_to_status_id_str\": null,\n",
            " \"in_reply_to_user_id\": null,\n",
            " \"in_reply_to_user_id_str\": null,\n",
            " \"in_reply_to_screen_name\": null,\n",
            " \"user\": {\n",
            "  \"id\": 1267315695034957828,\n",
            "  \"id_str\": \"1267315695034957828\",\n",
            "  \"name\": \"Ihtiram EusafXai\",\n",
            "  \"screen_name\": \"IhtiramEusafXa1\",\n",
            "  \"location\": \"\",\n",
            "  \"description\": \"life is Awesome\\u270c\",\n",
            "  \"url\": null,\n",
            "  \"entities\": {\n",
            "   \"description\": {\n",
            "    \"urls\": []\n",
            "   }\n",
            "  },\n",
            "  \"protected\": false,\n",
            "  \"followers_count\": 0,\n",
            "  \"friends_count\": 3,\n",
            "  \"listed_count\": 0,\n",
            "  \"created_at\": \"Mon Jun 01 04:44:02 +0000 2020\",\n",
            "  \"favourites_count\": 6,\n",
            "  \"utc_offset\": null,\n",
            "  \"time_zone\": null,\n",
            "  \"geo_enabled\": false,\n",
            "  \"verified\": false,\n",
            "  \"statuses_count\": 4,\n",
            "  \"lang\": null,\n",
            "  \"contributors_enabled\": false,\n",
            "  \"is_translator\": false,\n",
            "  \"is_translation_enabled\": false,\n",
            "  \"profile_background_color\": \"F5F8FA\",\n",
            "  \"profile_background_image_url\": null,\n",
            "  \"profile_background_image_url_https\": null,\n",
            "  \"profile_background_tile\": false,\n",
            "  \"profile_image_url\": \"http://pbs.twimg.com/profile_images/1267316457366605830/ssW98MoU_normal.jpg\",\n",
            "  \"profile_image_url_https\": \"https://pbs.twimg.com/profile_images/1267316457366605830/ssW98MoU_normal.jpg\",\n",
            "  \"profile_banner_url\": \"https://pbs.twimg.com/profile_banners/1267315695034957828/1590986791\",\n",
            "  \"profile_link_color\": \"1DA1F2\",\n",
            "  \"profile_sidebar_border_color\": \"C0DEED\",\n",
            "  \"profile_sidebar_fill_color\": \"DDEEF6\",\n",
            "  \"profile_text_color\": \"333333\",\n",
            "  \"profile_use_background_image\": true,\n",
            "  \"has_extended_profile\": false,\n",
            "  \"default_profile\": true,\n",
            "  \"default_profile_image\": false,\n",
            "  \"following\": false,\n",
            "  \"follow_request_sent\": false,\n",
            "  \"notifications\": false,\n",
            "  \"translator_type\": \"none\"\n",
            " },\n",
            " \"geo\": null,\n",
            " \"coordinates\": null,\n",
            " \"place\": null,\n",
            " \"contributors\": null,\n",
            " \"retweeted_status\": {\n",
            "  \"created_at\": \"Sat May 30 10:57:55 +0000 2020\",\n",
            "  \"id\": 1266685263062892545,\n",
            "  \"id_str\": \"1266685263062892545\",\n",
            "  \"text\": \"Sari dunya ko #Corona Virus may laga kr #chain nay khud #India Border per #Pubg lgai hui ha\\ud83d\\ude01\\ud83d\\ude01\",\n",
            "  \"truncated\": false,\n",
            "  \"entities\": {\n",
            "   \"hashtags\": [\n",
            "    {\n",
            "     \"text\": \"Corona\",\n",
            "     \"indices\": [\n",
            "      14,\n",
            "      21\n",
            "     ]\n",
            "    },\n",
            "    {\n",
            "     \"text\": \"chain\",\n",
            "     \"indices\": [\n",
            "      40,\n",
            "      46\n",
            "     ]\n",
            "    },\n",
            "    {\n",
            "     \"text\": \"India\",\n",
            "     \"indices\": [\n",
            "      56,\n",
            "      62\n",
            "     ]\n",
            "    },\n",
            "    {\n",
            "     \"text\": \"Pubg\",\n",
            "     \"indices\": [\n",
            "      74,\n",
            "      79\n",
            "     ]\n",
            "    }\n",
            "   ],\n",
            "   \"symbols\": [],\n",
            "   \"user_mentions\": [],\n",
            "   \"urls\": []\n",
            "  },\n",
            "  \"metadata\": {\n",
            "   \"iso_language_code\": \"in\",\n",
            "   \"result_type\": \"recent\"\n",
            "  },\n",
            "  \"source\": \"<a href=\\\"http://twitter.com/download/android\\\" rel=\\\"nofollow\\\">Twitter for Android</a>\",\n",
            "  \"in_reply_to_status_id\": null,\n",
            "  \"in_reply_to_status_id_str\": null,\n",
            "  \"in_reply_to_user_id\": null,\n",
            "  \"in_reply_to_user_id_str\": null,\n",
            "  \"in_reply_to_screen_name\": null,\n",
            "  \"user\": {\n",
            "   \"id\": 1241297159653412866,\n",
            "   \"id_str\": \"1241297159653412866\",\n",
            "   \"name\": \"Ihtiram EusafXai\\ud83d\\udd25\",\n",
            "   \"screen_name\": \"IhtiramEusafxai\",\n",
            "   \"location\": \"\",\n",
            "   \"description\": \"Life is Awesome\\u2665\",\n",
            "   \"url\": null,\n",
            "   \"entities\": {\n",
            "    \"description\": {\n",
            "     \"urls\": []\n",
            "    }\n",
            "   },\n",
            "   \"protected\": false,\n",
            "   \"followers_count\": 2,\n",
            "   \"friends_count\": 9,\n",
            "   \"listed_count\": 0,\n",
            "   \"created_at\": \"Sat Mar 21 09:34:56 +0000 2020\",\n",
            "   \"favourites_count\": 41,\n",
            "   \"utc_offset\": null,\n",
            "   \"time_zone\": null,\n",
            "   \"geo_enabled\": false,\n",
            "   \"verified\": false,\n",
            "   \"statuses_count\": 15,\n",
            "   \"lang\": null,\n",
            "   \"contributors_enabled\": false,\n",
            "   \"is_translator\": false,\n",
            "   \"is_translation_enabled\": false,\n",
            "   \"profile_background_color\": \"F5F8FA\",\n",
            "   \"profile_background_image_url\": null,\n",
            "   \"profile_background_image_url_https\": null,\n",
            "   \"profile_background_tile\": false,\n",
            "   \"profile_image_url\": \"http://pbs.twimg.com/profile_images/1265974726792536066/AuwoctQD_normal.jpg\",\n",
            "   \"profile_image_url_https\": \"https://pbs.twimg.com/profile_images/1265974726792536066/AuwoctQD_normal.jpg\",\n",
            "   \"profile_banner_url\": \"https://pbs.twimg.com/profile_banners/1241297159653412866/1590929163\",\n",
            "   \"profile_link_color\": \"1DA1F2\",\n",
            "   \"profile_sidebar_border_color\": \"C0DEED\",\n",
            "   \"profile_sidebar_fill_color\": \"DDEEF6\",\n",
            "   \"profile_text_color\": \"333333\",\n",
            "   \"profile_use_background_image\": true,\n",
            "   \"has_extended_profile\": true,\n",
            "   \"default_profile\": true,\n",
            "   \"default_profile_image\": false,\n",
            "   \"following\": false,\n",
            "   \"follow_request_sent\": false,\n",
            "   \"notifications\": false,\n",
            "   \"translator_type\": \"none\"\n",
            "  },\n",
            "  \"geo\": null,\n",
            "  \"coordinates\": null,\n",
            "  \"place\": null,\n",
            "  \"contributors\": null,\n",
            "  \"is_quote_status\": false,\n",
            "  \"retweet_count\": 0,\n",
            "  \"favorite_count\": 2,\n",
            "  \"favorited\": false,\n",
            "  \"retweeted\": false,\n",
            "  \"lang\": \"in\"\n",
            " },\n",
            " \"is_quote_status\": false,\n",
            " \"retweet_count\": 0,\n",
            " \"favorite_count\": 0,\n",
            " \"favorited\": false,\n",
            " \"retweeted\": false,\n",
            " \"lang\": \"in\"\n",
            "}\n"
          ],
          "name": "stdout"
        }
      ]
    },
    {
      "cell_type": "code",
      "metadata": {
        "id": "FMIboWjcOKAB",
        "colab_type": "code",
        "colab": {
          "base_uri": "https://localhost:8080/",
          "height": 884
        },
        "outputId": "3fb2d4b0-62ce-4769-83b5-79544e17b1d9"
      },
      "source": [
        "for i in range(10):\n",
        "    print()\n",
        "    print(statuses[i]['text'])\n",
        "    print('Favorites: ', statuses[i]['favorite_count'])\n",
        "    print('Retweets: ', statuses[i]['retweet_count'])"
      ],
      "execution_count": 12,
      "outputs": [
        {
          "output_type": "stream",
          "text": [
            "\n",
            "RT @IhtiramEusafxai: Sari dunya ko #Corona Virus may laga kr #chain nay khud #India Border per #Pubg lgai hui ha😁😁\n",
            "Favorites:  0\n",
            "Retweets:  0\n",
            "\n",
            "China targetkan produksi 200 juta dosis vaksin COVID-19\n",
            "https://t.co/3OlzwYFwUJ\n",
            "\n",
            "#China #Amerika #Indonesia #virus… https://t.co/48h7s3QOIN\n",
            "Favorites:  0\n",
            "Retweets:  0\n",
            "\n",
            "Lungs Heart Stomach and rest of the human organs made using pencil color\n",
            "#art 🎨 #drawing #love #coloredpencil… https://t.co/MSj9j0yd1x\n",
            "Favorites:  0\n",
            "Retweets:  0\n",
            "\n",
            "RT @amit_stark007: May whole world get rid of Chinese virus. \n",
            "#Corona #COVID19 #CKMKB https://t.co/Bn0yeAzvpv\n",
            "Favorites:  0\n",
            "Retweets:  1\n",
            "\n",
            "May whole world get rid of Chinese virus. \n",
            "#Corona #COVID19 #CKMKB https://t.co/Bn0yeAzvpv\n",
            "Favorites:  1\n",
            "Retweets:  1\n",
            "\n",
            "RT @Mdzeeshanayyub: After talking to most of the people, I have realised that the most deadly virus is neither #corona nor #communalvirus,…\n",
            "Favorites:  0\n",
            "Retweets:  170\n",
            "\n",
            "RT @HawtinGibb: WHITE RABBITS 🐇, confirmation from Juan O Savin that the Whitehats TAGGED the Adrenochrome with #Corona virus , boom Hollyw…\n",
            "Favorites:  0\n",
            "Retweets:  1550\n",
            "\n",
            "We as Pakistani's should make that there are no more victims to this viral threat.\n",
            "CALL 03185307213 for HOME/OFFICE… https://t.co/Q2tD5C1D1g\n",
            "Favorites:  0\n",
            "Retweets:  0\n",
            "\n",
            "When times are grim\n",
            "And hope seems to be wafer thin\n",
            "Remember that we can walk the desert with the scorching sun\n",
            "If… https://t.co/vFYNdT7yK6\n",
            "Favorites:  0\n",
            "Retweets:  0\n",
            "\n",
            "RT @georgrestle: Shutdown jetzt! Shutdown weg jetzt! Gefährliches Virus! Ungefährliches Virus! Scharia! Egal! Hauptsache Staatsversagen! \n",
            "D…\n",
            "Favorites:  0\n",
            "Retweets:  190\n"
          ],
          "name": "stdout"
        }
      ]
    },
    {
      "cell_type": "markdown",
      "metadata": {
        "id": "0zH1I8OjOuwe",
        "colab_type": "text"
      },
      "source": [
        "Extracting text, screen names, and hashtags from tweets"
      ]
    },
    {
      "cell_type": "code",
      "metadata": {
        "id": "HJ1jxxUqOtrk",
        "colab_type": "code",
        "colab": {
          "base_uri": "https://localhost:8080/",
          "height": 493
        },
        "outputId": "f804bb69-e8f9-4134-b1b4-359fbe392f0f"
      },
      "source": [
        "status_texts = [ status['text'] \n",
        "                 for status in statuses ]\n",
        "\n",
        "screen_names = [ user_mention['screen_name'] \n",
        "                 for status in statuses\n",
        "                     for user_mention in status['entities']['user_mentions'] ]\n",
        "\n",
        "hashtags = [ hashtag['text'] \n",
        "             for status in statuses\n",
        "                 for hashtag in status['entities']['hashtags'] ]\n",
        "\n",
        "# Compute a collection of all words from all tweets\n",
        "words = [ w \n",
        "          for t in status_texts \n",
        "              for w in t.split() ]\n",
        "\n",
        "# Explore the first 5 items for each...\n",
        "\n",
        "print(json.dumps(status_texts[0:5], indent=1))\n",
        "print(json.dumps(screen_names[0:5], indent=1) )\n",
        "print(json.dumps(hashtags[0:5], indent=1))\n",
        "print(json.dumps(words[0:5], indent=1))"
      ],
      "execution_count": 15,
      "outputs": [
        {
          "output_type": "stream",
          "text": [
            "[\n",
            " \"RT @IhtiramEusafxai: Sari dunya ko #Corona Virus may laga kr #chain nay khud #India Border per #Pubg lgai hui ha\\ud83d\\ude01\\ud83d\\ude01\",\n",
            " \"China targetkan produksi 200 juta dosis vaksin COVID-19\\nhttps://t.co/3OlzwYFwUJ\\n\\n#China #Amerika #Indonesia #virus\\u2026 https://t.co/48h7s3QOIN\",\n",
            " \"Lungs Heart Stomach and rest of the human organs made using pencil color\\n#art \\ud83c\\udfa8 #drawing #love #coloredpencil\\u2026 https://t.co/MSj9j0yd1x\",\n",
            " \"RT @amit_stark007: May whole world get rid of Chinese virus. \\n#Corona #COVID19 #CKMKB https://t.co/Bn0yeAzvpv\",\n",
            " \"May whole world get rid of Chinese virus. \\n#Corona #COVID19 #CKMKB https://t.co/Bn0yeAzvpv\"\n",
            "]\n",
            "[\n",
            " \"IhtiramEusafxai\",\n",
            " \"amit_stark007\",\n",
            " \"Mdzeeshanayyub\",\n",
            " \"HawtinGibb\",\n",
            " \"georgrestle\"\n",
            "]\n",
            "[\n",
            " \"Corona\",\n",
            " \"chain\",\n",
            " \"India\",\n",
            " \"Pubg\",\n",
            " \"China\"\n",
            "]\n",
            "[\n",
            " \"RT\",\n",
            " \"@IhtiramEusafxai:\",\n",
            " \"Sari\",\n",
            " \"dunya\",\n",
            " \"ko\"\n",
            "]\n"
          ],
          "name": "stdout"
        }
      ]
    },
    {
      "cell_type": "markdown",
      "metadata": {
        "id": "0CWAayiQPdAa",
        "colab_type": "text"
      },
      "source": [
        "Creating a basic frequency distribution from the words in tweets"
      ]
    },
    {
      "cell_type": "code",
      "metadata": {
        "id": "_PPKVqMAPeMB",
        "colab_type": "code",
        "colab": {
          "base_uri": "https://localhost:8080/",
          "height": 139
        },
        "outputId": "4da6865e-f8d3-4cff-aad1-9ce484455b4a"
      },
      "source": [
        "from collections import Counter\n",
        "\n",
        "for item in [words, screen_names, hashtags]:\n",
        "    c = Counter(item)\n",
        "    print(c.most_common()[:10]) # top 10\n",
        "    print()"
      ],
      "execution_count": 16,
      "outputs": [
        {
          "output_type": "stream",
          "text": [
            "[('RT', 277), ('the', 269), ('to', 178), ('virus', 171), ('most', 162), ('is', 149), ('#corona', 148), ('of', 145), ('I', 105), ('that', 104)]\n",
            "\n",
            "[('Mdzeeshanayyub', 77), ('georgrestle', 52), ('mir_sana05', 10), ('jpnncom', 7), ('ghalebalsudmy', 7), ('news_pandemic', 6), ('sandeshnews', 5), ('rtehrani', 5), ('RuchiraC', 5), ('LambaAlka', 5)]\n",
            "\n",
            "[('corona', 163), ('Corona', 103), ('communalvirus', 77), ('virus', 40), ('coronavirus', 35), ('COVID19', 34), ('covid19', 16), ('CoronaVirus', 11), ('covid', 11), ('Covid_19', 10)]\n",
            "\n"
          ],
          "name": "stdout"
        }
      ]
    },
    {
      "cell_type": "markdown",
      "metadata": {
        "id": "z8zO3MDkR2Nq",
        "colab_type": "text"
      },
      "source": [
        "Using prettytable to display tuples in a nice tabular format"
      ]
    },
    {
      "cell_type": "code",
      "metadata": {
        "id": "CGLrd0fVR1Ly",
        "colab_type": "code",
        "colab": {
          "base_uri": "https://localhost:8080/",
          "height": 731
        },
        "outputId": "a444bfc3-38fa-4b34-85c0-728bd57379bc"
      },
      "source": [
        "from prettytable import PrettyTable\n",
        "\n",
        "for label, data in (('Word', words), \n",
        "                    ('Screen Name', screen_names), \n",
        "                    ('Hashtag', hashtags)):\n",
        "    pt = PrettyTable(field_names=[label, 'Count']) \n",
        "    c = Counter(data)\n",
        "    [ pt.add_row(kv) for kv in c.most_common()[:10] ]\n",
        "    pt.align[label], pt.align['Count'] = 'l', 'r' # Set column alignment\n",
        "    print(pt)"
      ],
      "execution_count": 17,
      "outputs": [
        {
          "output_type": "stream",
          "text": [
            "+---------+-------+\n",
            "| Word    | Count |\n",
            "+---------+-------+\n",
            "| RT      |   277 |\n",
            "| the     |   269 |\n",
            "| to      |   178 |\n",
            "| virus   |   171 |\n",
            "| most    |   162 |\n",
            "| is      |   149 |\n",
            "| #corona |   148 |\n",
            "| of      |   145 |\n",
            "| I       |   105 |\n",
            "| that    |   104 |\n",
            "+---------+-------+\n",
            "+----------------+-------+\n",
            "| Screen Name    | Count |\n",
            "+----------------+-------+\n",
            "| Mdzeeshanayyub |    77 |\n",
            "| georgrestle    |    52 |\n",
            "| mir_sana05     |    10 |\n",
            "| jpnncom        |     7 |\n",
            "| ghalebalsudmy  |     7 |\n",
            "| news_pandemic  |     6 |\n",
            "| sandeshnews    |     5 |\n",
            "| rtehrani       |     5 |\n",
            "| RuchiraC       |     5 |\n",
            "| LambaAlka      |     5 |\n",
            "+----------------+-------+\n",
            "+---------------+-------+\n",
            "| Hashtag       | Count |\n",
            "+---------------+-------+\n",
            "| corona        |   163 |\n",
            "| Corona        |   103 |\n",
            "| communalvirus |    77 |\n",
            "| virus         |    40 |\n",
            "| coronavirus   |    35 |\n",
            "| COVID19       |    34 |\n",
            "| covid19       |    16 |\n",
            "| CoronaVirus   |    11 |\n",
            "| covid         |    11 |\n",
            "| Covid_19      |    10 |\n",
            "+---------------+-------+\n"
          ],
          "name": "stdout"
        }
      ]
    },
    {
      "cell_type": "markdown",
      "metadata": {
        "id": "Oo9IYFjtSOXc",
        "colab_type": "text"
      },
      "source": [
        "Calculating lexical diversity for **tweets** **bold text**"
      ]
    },
    {
      "cell_type": "code",
      "metadata": {
        "id": "uqBOalPpSSbc",
        "colab_type": "code",
        "colab": {
          "base_uri": "https://localhost:8080/",
          "height": 85
        },
        "outputId": "b1fa595e-d174-4c3f-8752-f1f2b40bf9e4"
      },
      "source": [
        "# A function for computing lexical diversity\n",
        "def lexical_diversity(tokens):\n",
        "    return len(set(tokens))/len(tokens) \n",
        "\n",
        "# A function for computing the average number of words per tweet\n",
        "def average_words(statuses):\n",
        "    total_words = sum([ len(s.split()) for s in statuses ]) \n",
        "    return total_words/len(statuses)\n",
        "\n",
        "print(lexical_diversity(words))\n",
        "print(lexical_diversity(screen_names))\n",
        "print(lexical_diversity(hashtags))\n",
        "print(average_words(status_texts))"
      ],
      "execution_count": 18,
      "outputs": [
        {
          "output_type": "stream",
          "text": [
            "0.3193500424808836\n",
            "0.356353591160221\n",
            "0.35091083413231067\n",
            "18.645544554455444\n"
          ],
          "name": "stdout"
        }
      ]
    },
    {
      "cell_type": "markdown",
      "metadata": {
        "id": "ujMD6WK6Sg4Z",
        "colab_type": "text"
      },
      "source": [
        "Finding the most popular retweets¶ **bold text**"
      ]
    },
    {
      "cell_type": "code",
      "metadata": {
        "id": "mJ-61NiTSgc_",
        "colab_type": "code",
        "colab": {
          "base_uri": "https://localhost:8080/",
          "height": 340
        },
        "outputId": "4cf6d80c-2355-4823-bce5-3619ec3d2c59"
      },
      "source": [
        "retweets = [\n",
        "            # Store out a tuple of these three values ...\n",
        "            (status['retweet_count'], \n",
        "             status['retweeted_status']['user']['screen_name'],\n",
        "             status['retweeted_status']['id'],\n",
        "             status['text']) \n",
        "            \n",
        "            # ... for each status ...\n",
        "            for status in statuses \n",
        "            \n",
        "            # ... so long as the status meets this condition.\n",
        "                if 'retweeted_status' in status.keys()\n",
        "           ]\n",
        "\n",
        "# Slice off the first 5 from the sorted results and display each item in the tuple\n",
        "\n",
        "pt = PrettyTable(field_names=['Count', 'Screen Name', 'Tweet ID', 'Text'])\n",
        "[ pt.add_row(row) for row in sorted(retweets, reverse=True)[:5] ]\n",
        "pt.max_width['Text'] = 50\n",
        "pt.align= 'l'\n",
        "print(pt)"
      ],
      "execution_count": 19,
      "outputs": [
        {
          "output_type": "stream",
          "text": [
            "+-------+---------------+---------------------+----------------------------------------------------+\n",
            "| Count | Screen Name   | Tweet ID            | Text                                               |\n",
            "+-------+---------------+---------------------+----------------------------------------------------+\n",
            "| 51289 | mbahndi       | 1241556884261224449 | RT @mbahndi: masa saat ini ketika kita membaca     |\n",
            "|       |               |                     | berita atau cerita tentang gejala virus #corona    |\n",
            "|       |               |                     | atau #COVID19 dan tiba2 kita merasa tenggoro…      |\n",
            "| 1550  | HawtinGibb    | 1242806520645062659 | RT @HawtinGibb: WHITE RABBITS 🐇, confirmation from |\n",
            "|       |               |                     | Juan O Savin that the Whitehats TAGGED the         |\n",
            "|       |               |                     | Adrenochrome with #Corona virus , boom Hollyw…     |\n",
            "| 1550  | HawtinGibb    | 1242806520645062659 | RT @HawtinGibb: WHITE RABBITS 🐇, confirmation from |\n",
            "|       |               |                     | Juan O Savin that the Whitehats TAGGED the         |\n",
            "|       |               |                     | Adrenochrome with #Corona virus , boom Hollyw…     |\n",
            "| 1550  | HawtinGibb    | 1242806520645062659 | RT @HawtinGibb: WHITE RABBITS 🐇, confirmation from |\n",
            "|       |               |                     | Juan O Savin that the Whitehats TAGGED the         |\n",
            "|       |               |                     | Adrenochrome with #Corona virus , boom Hollyw…     |\n",
            "| 1040  | FarhangNamdar | 1230554753182003203 | RT @FarhangNamdar: Graph shows the exponential and |\n",
            "|       |               |                     | dangerous growth of corona virus compared to other |\n",
            "|       |               |                     | major viruses such as Ebola and SARS.…             |\n",
            "+-------+---------------+---------------------+----------------------------------------------------+\n"
          ],
          "name": "stdout"
        }
      ]
    },
    {
      "cell_type": "markdown",
      "metadata": {
        "id": "--aSLOtJSwc-",
        "colab_type": "text"
      },
      "source": [
        "Looking up users who have retweeted a status"
      ]
    },
    {
      "cell_type": "code",
      "metadata": {
        "id": "KTffkq5LSvkB",
        "colab_type": "code",
        "colab": {
          "base_uri": "https://localhost:8080/",
          "height": 34
        },
        "outputId": "e91482f6-1a29-4449-b262-f5dfe8624f5e"
      },
      "source": [
        "# Get the original tweet id for a tweet from its retweeted_status node \n",
        "# and insert it here\n",
        "\n",
        "_retweets = twitter_api.statuses.retweets(id=862359093398261760)\n",
        "print([r['user']['screen_name'] for r in _retweets])"
      ],
      "execution_count": 20,
      "outputs": [
        {
          "output_type": "stream",
          "text": [
            "['vijoumolce1988', 'driftourare1988', 'NoNicheNC', 'livingmybestie', 'Rockawaytheday']\n"
          ],
          "name": "stdout"
        }
      ]
    },
    {
      "cell_type": "markdown",
      "metadata": {
        "id": "3r7AqXRsS3p-",
        "colab_type": "text"
      },
      "source": [
        "Plotting frequencies of words\n"
      ]
    },
    {
      "cell_type": "code",
      "metadata": {
        "id": "nxlzC2tdS5PH",
        "colab_type": "code",
        "colab": {
          "base_uri": "https://localhost:8080/",
          "height": 300
        },
        "outputId": "8e5e67bd-81c0-40e7-d3b5-a9c29cdd29a4"
      },
      "source": [
        "import matplotlib.pyplot as plt\n",
        "%matplotlib inline\n",
        "word_counts = sorted(Counter(words).values(), reverse=True)\n",
        "\n",
        "plt.loglog(word_counts)\n",
        "plt.ylabel(\"Freq\")\n",
        "plt.xlabel(\"Word Rank\")"
      ],
      "execution_count": 21,
      "outputs": [
        {
          "output_type": "execute_result",
          "data": {
            "text/plain": [
              "Text(0.5, 0, 'Word Rank')"
            ]
          },
          "metadata": {
            "tags": []
          },
          "execution_count": 21
        },
        {
          "output_type": "display_data",
          "data": {
            "image/png": "[encoded data removed]",
            "text/plain": [
              "<Figure size 432x288 with 1 Axes>"
            ]
          },
          "metadata": {
            "tags": [],
            "needs_background": "light"
          }
        }
      ]
    },
    {
      "cell_type": "markdown",
      "metadata": {
        "id": "Te4PZfrnTA44",
        "colab_type": "text"
      },
      "source": [
        "Generating histograms of words, screen names, and hashtags"
      ]
    },
    {
      "cell_type": "code",
      "metadata": {
        "id": "8BnPcPi9TAhz",
        "colab_type": "code",
        "colab": {
          "base_uri": "https://localhost:8080/",
          "height": 868
        },
        "outputId": "9ce35847-bb58-428d-eb43-43727b5e2792"
      },
      "source": [
        "for label, data in (('Words', words), \n",
        "                    ('Screen Names', screen_names), \n",
        "                    ('Hashtags', hashtags)):\n",
        "\n",
        "    # Build a frequency map for each set of data\n",
        "    # and plot the values\n",
        "    c = Counter(data)\n",
        "    plt.hist(list(c.values()))\n",
        "    \n",
        "    # Add a title and y-label ...\n",
        "    plt.title(label)\n",
        "    plt.ylabel(\"Number of items in bin\")\n",
        "    plt.xlabel(\"Bins (number of times an item appeared)\")\n",
        "    \n",
        "    # ... and display as a new figure\n",
        "    plt.figure()"
      ],
      "execution_count": 22,
      "outputs": [
        {
          "output_type": "display_data",
          "data": {
            "image/png": "[encoded data removed]",
            "text/plain": [
              "<Figure size 432x288 with 1 Axes>"
            ]
          },
          "metadata": {
            "tags": [],
            "needs_background": "light"
          }
        },
        {
          "output_type": "display_data",
          "data": {
            "image/png": "[encoded data removed]",
            "text/plain": [
              "<Figure size 432x288 with 1 Axes>"
            ]
          },
          "metadata": {
            "tags": [],
            "needs_background": "light"
          }
        },
        {
          "output_type": "display_data",
          "data": {
            "image/png": "[encoded data removed]",
            "text/plain": [
              "<Figure size 432x288 with 1 Axes>"
            ]
          },
          "metadata": {
            "tags": [],
            "needs_background": "light"
          }
        },
        {
          "output_type": "display_data",
          "data": {
            "text/plain": [
              "<Figure size 432x288 with 0 Axes>"
            ]
          },
          "metadata": {
            "tags": []
          }
        }
      ]
    },
    {
      "cell_type": "markdown",
      "metadata": {
        "id": "HoUqhzLaTIzK",
        "colab_type": "text"
      },
      "source": [
        "Generating a histogram of retweet counts"
      ]
    },
    {
      "cell_type": "code",
      "metadata": {
        "id": "3q4Ae9qhTJ7n",
        "colab_type": "code",
        "colab": {
          "base_uri": "https://localhost:8080/",
          "height": 312
        },
        "outputId": "19d8a3c4-4a34-4bbc-a40d-2c2a6eb26282"
      },
      "source": [
        "# Using underscores while unpacking values in\n",
        "# a tuple is idiomatic for discarding them\n",
        "\n",
        "counts = [count for count, _, _, _ in retweets]\n",
        "\n",
        "plt.hist(counts)\n",
        "plt.title('Retweets')\n",
        "plt.xlabel('Bins (number of times retweeted)')\n",
        "plt.ylabel('Number of tweets in bin')"
      ],
      "execution_count": 23,
      "outputs": [
        {
          "output_type": "execute_result",
          "data": {
            "text/plain": [
              "Text(0, 0.5, 'Number of tweets in bin')"
            ]
          },
          "metadata": {
            "tags": []
          },
          "execution_count": 23
        },
        {
          "output_type": "display_data",
          "data": {
            "image/png": "[encoded data removed]",
            "text/plain": [
              "<Figure size 432x288 with 1 Axes>"
            ]
          },
          "metadata": {
            "tags": [],
            "needs_background": "light"
          }
        }
      ]
    },
    {
      "cell_type": "markdown",
      "metadata": {
        "id": "gMCmgrH1WiWt",
        "colab_type": "text"
      },
      "source": [
        "Sentiment Analysis¶ \n"
      ]
    },
    {
      "cell_type": "code",
      "metadata": {
        "id": "-JgIqtIrWkjP",
        "colab_type": "code",
        "colab": {
          "base_uri": "https://localhost:8080/",
          "height": 122
        },
        "outputId": "524ed786-a701-4b1c-ea1c-4575661f3086"
      },
      "source": [
        "!pip install nltk\n",
        "import nltk\n",
        "nltk.download('vader_lexicon')\n",
        "\n",
        "import numpy as np\n",
        "from nltk.sentiment.vader import SentimentIntensityAnalyzer"
      ],
      "execution_count": 24,
      "outputs": [
        {
          "output_type": "stream",
          "text": [
            "Requirement already satisfied: nltk in /usr/local/lib/python3.6/dist-packages (3.2.5)\n",
            "Requirement already satisfied: six in /usr/local/lib/python3.6/dist-packages (from nltk) (1.12.0)\n",
            "[nltk_data] Downloading package vader_lexicon to /root/nltk_data...\n"
          ],
          "name": "stdout"
        },
        {
          "output_type": "stream",
          "text": [
            "/usr/local/lib/python3.6/dist-packages/nltk/twitter/__init__.py:20: UserWarning: The twython library has not been installed. Some functionality from the twitter package will not be available.\n",
            "  warnings.warn(\"The twython library has not been installed. \"\n"
          ],
          "name": "stderr"
        }
      ]
    },
    {
      "cell_type": "code",
      "metadata": {
        "id": "8lcktMnJYIkV",
        "colab_type": "code",
        "colab": {}
      },
      "source": [
        "twitter_stream = twitter.TwitterStream(auth=auth)\n",
        "iterator = twitter_stream.statuses.sample()"
      ],
      "execution_count": 0,
      "outputs": []
    },
    {
      "cell_type": "code",
      "metadata": {
        "id": "F1V63GIGYL2x",
        "colab_type": "code",
        "colab": {}
      },
      "source": [
        "tweets = []\n",
        "for tweet in iterator:\n",
        "    try:\n",
        "        if tweet['lang'] == 'en':\n",
        "            tweets.append(tweet)\n",
        "    except:\n",
        "        pass\n",
        "    if len(tweets) == 100:\n",
        "        break"
      ],
      "execution_count": 0,
      "outputs": []
    },
    {
      "cell_type": "code",
      "metadata": {
        "id": "_FIsBI5wYc6q",
        "colab_type": "code",
        "colab": {}
      },
      "source": [
        "analyzer = SentimentIntensityAnalyzer()"
      ],
      "execution_count": 0,
      "outputs": []
    },
    {
      "cell_type": "code",
      "metadata": {
        "id": "tOuiRNWqYhnk",
        "colab_type": "code",
        "colab": {
          "base_uri": "https://localhost:8080/",
          "height": 34
        },
        "outputId": "390d81ea-cd32-4874-fa8a-1387f614aec5"
      },
      "source": [
        "analyzer.polarity_scores('Hello')"
      ],
      "execution_count": 29,
      "outputs": [
        {
          "output_type": "execute_result",
          "data": {
            "text/plain": [
              "{'compound': 0.0, 'neg': 0.0, 'neu': 1.0, 'pos': 0.0}"
            ]
          },
          "metadata": {
            "tags": []
          },
          "execution_count": 29
        }
      ]
    },
    {
      "cell_type": "code",
      "metadata": {
        "id": "DUEufrAMYkvu",
        "colab_type": "code",
        "colab": {
          "base_uri": "https://localhost:8080/",
          "height": 34
        },
        "outputId": "894c4ecf-bb46-4ec8-aa30-d17c1c2668c9"
      },
      "source": [
        "analyzer.polarity_scores('I really enjoy this video series.')"
      ],
      "execution_count": 30,
      "outputs": [
        {
          "output_type": "execute_result",
          "data": {
            "text/plain": [
              "{'compound': 0.5413, 'neg': 0.0, 'neu': 0.534, 'pos': 0.466}"
            ]
          },
          "metadata": {
            "tags": []
          },
          "execution_count": 30
        }
      ]
    },
    {
      "cell_type": "code",
      "metadata": {
        "id": "vsQKzh-gYoD5",
        "colab_type": "code",
        "colab": {
          "base_uri": "https://localhost:8080/",
          "height": 34
        },
        "outputId": "801de480-edb3-4979-aa81-f94a564b1425"
      },
      "source": [
        "analyzer.polarity_scores('I REALLY enjoy this video series.')"
      ],
      "execution_count": 31,
      "outputs": [
        {
          "output_type": "execute_result",
          "data": {
            "text/plain": [
              "{'compound': 0.64, 'neg': 0.0, 'neu': 0.486, 'pos': 0.514}"
            ]
          },
          "metadata": {
            "tags": []
          },
          "execution_count": 31
        }
      ]
    },
    {
      "cell_type": "code",
      "metadata": {
        "id": "ofX2vAr8YqGF",
        "colab_type": "code",
        "colab": {
          "base_uri": "https://localhost:8080/",
          "height": 34
        },
        "outputId": "ff980072-5f3a-4614-85da-04a67d95c5ce"
      },
      "source": [
        "analyzer.polarity_scores('I REALLY enjoy this video series!!!')"
      ],
      "execution_count": 32,
      "outputs": [
        {
          "output_type": "execute_result",
          "data": {
            "text/plain": [
              "{'compound': 0.7271, 'neg': 0.0, 'neu': 0.439, 'pos': 0.561}"
            ]
          },
          "metadata": {
            "tags": []
          },
          "execution_count": 32
        }
      ]
    },
    {
      "cell_type": "code",
      "metadata": {
        "id": "43sbdtCyYv0J",
        "colab_type": "code",
        "colab": {
          "base_uri": "https://localhost:8080/",
          "height": 34
        },
        "outputId": "a1e28160-d613-4cf8-aeee-32311c370152"
      },
      "source": [
        "analyzer.polarity_scores('I REALLY did not enjoy this video series!!!')"
      ],
      "execution_count": 33,
      "outputs": [
        {
          "output_type": "execute_result",
          "data": {
            "text/plain": [
              "{'compound': -0.6627, 'neg': 0.425, 'neu': 0.575, 'pos': 0.0}"
            ]
          },
          "metadata": {
            "tags": []
          },
          "execution_count": 33
        }
      ]
    },
    {
      "cell_type": "code",
      "metadata": {
        "id": "n1XWhZMxYzAS",
        "colab_type": "code",
        "colab": {}
      },
      "source": [
        "scores = np.zeros(len(tweets))\n",
        "\n",
        "for i, t in enumerate(tweets):\n",
        "    # Extract the text portion of the tweet\n",
        "    text = t['text']\n",
        "    \n",
        "    # Measure the polarity of the tweet\n",
        "    polarity = analyzer.polarity_scores(text)\n",
        "    \n",
        "    # Store the normalized, weighted composite score\n",
        "    scores[i] = polarity['compound']"
      ],
      "execution_count": 0,
      "outputs": []
    },
    {
      "cell_type": "code",
      "metadata": {
        "id": "a8rAG6NhY2u0",
        "colab_type": "code",
        "colab": {}
      },
      "source": [
        "most_positive = np.argmax(scores)\n",
        "most_negative = np.argmin(scores)"
      ],
      "execution_count": 0,
      "outputs": []
    },
    {
      "cell_type": "code",
      "metadata": {
        "id": "CIOEm97lY5sQ",
        "colab_type": "code",
        "colab": {
          "base_uri": "https://localhost:8080/",
          "height": 34
        },
        "outputId": "b55f8077-2d62-42e2-c4c6-1941ec8c805a"
      },
      "source": [
        "print('{0:6.3f} : \"{1}\"'.format(scores[most_positive], tweets[most_positive]['text']))"
      ],
      "execution_count": 36,
      "outputs": [
        {
          "output_type": "stream",
          "text": [
            " 0.898 : \"RT @ncitybase_: nctbase anyone wanna be my friends? i’m a royals who love 21 guys, please don’t interact if you’re a homophobic, suka fan w…\"\n"
          ],
          "name": "stdout"
        }
      ]
    },
    {
      "cell_type": "code",
      "metadata": {
        "id": "1MQnxzMpY9nZ",
        "colab_type": "code",
        "colab": {
          "base_uri": "https://localhost:8080/",
          "height": 34
        },
        "outputId": "fd14a1c6-471a-4e07-9c4d-b43b442aa0dc"
      },
      "source": [
        "print('{0:6.3f} : \"{1}\"'.format(scores[most_negative], tweets[most_negative]['text']))"
      ],
      "execution_count": 37,
      "outputs": [
        {
          "output_type": "stream",
          "text": [
            "-0.952 : \"RT @loverboywill_: we’re fighting covid, we’re fighting racists, we’re fighting rapists. world really messed up man.\"\n"
          ],
          "name": "stdout"
        }
      ]
    }
  ]
}
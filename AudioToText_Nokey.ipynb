{
 "cells": [
  {
   "cell_type": "code",
   "execution_count": 1,
   "metadata": {},
   "outputs": [
    {
     "name": "stdout",
     "output_type": "stream",
     "text": [
      "Requirement already satisfied: boto3 in c:\\users\\woneu\\appdata\\local\\continuum\\anaconda3\\lib\\site-packages (1.12.23)\n",
      "Requirement already satisfied: s3transfer<0.4.0,>=0.3.0 in c:\\users\\woneu\\appdata\\local\\continuum\\anaconda3\\lib\\site-packages (from boto3) (0.3.3)\n",
      "Requirement already satisfied: jmespath<1.0.0,>=0.7.1 in c:\\users\\woneu\\appdata\\local\\continuum\\anaconda3\\lib\\site-packages (from boto3) (0.9.5)\n",
      "Requirement already satisfied: botocore<1.16.0,>=1.15.23 in c:\\users\\woneu\\appdata\\local\\continuum\\anaconda3\\lib\\site-packages (from boto3) (1.15.23)\n",
      "Requirement already satisfied: python-dateutil<3.0.0,>=2.1 in c:\\users\\woneu\\appdata\\local\\continuum\\anaconda3\\lib\\site-packages (from botocore<1.16.0,>=1.15.23->boto3) (2.8.0)\n",
      "Requirement already satisfied: docutils<0.16,>=0.10 in c:\\users\\woneu\\appdata\\local\\continuum\\anaconda3\\lib\\site-packages (from botocore<1.16.0,>=1.15.23->boto3) (0.15.2)\n",
      "Requirement already satisfied: urllib3<1.26,>=1.20; python_version != \"3.4\" in c:\\users\\woneu\\appdata\\local\\continuum\\anaconda3\\lib\\site-packages (from botocore<1.16.0,>=1.15.23->boto3) (1.24.2)\n",
      "Requirement already satisfied: six>=1.5 in c:\\users\\woneu\\appdata\\local\\continuum\\anaconda3\\lib\\site-packages (from python-dateutil<3.0.0,>=2.1->botocore<1.16.0,>=1.15.23->boto3) (1.12.0)\n",
      "Note: you may need to restart the kernel to use updated packages.\n"
     ]
    }
   ],
   "source": [
    "pip install boto3"
   ]
  },
  {
   "cell_type": "code",
   "execution_count": null,
   "metadata": {},
   "outputs": [],
   "source": [
    "pip install wmd\n",
    "#pip install git+https://github.com/src-d/wmd-relax"
   ]
  },
  {
   "cell_type": "code",
   "execution_count": 1,
   "metadata": {},
   "outputs": [],
   "source": [
    "# Libraries used on the tutorial\n",
    "import boto3\n",
    "import os\n",
    "import time\n",
    "import pandas as pd\n",
    "import matplotlib as plt\n",
    "from botocore.exceptions import ClientError\n",
    "from datetime import date\n",
    "import json\n",
    "import seaborn as sns\n",
    "import spacy\n",
    "import numpy as np\n",
    "#import wmd\n",
    "from gensim.models import word2vec\n",
    "\n",
    "\n",
    "%matplotlib inline"
   ]
  },
  {
   "cell_type": "code",
   "execution_count": 81,
   "metadata": {},
   "outputs": [],
   "source": [
    "# Create a dictionary with the URLs for each speech on Youtube\n",
    "dict_urls_youtube = {\n",
    "    #'churchill': 'https://www.youtube.com/watch?v=s_LncVnecLA',\n",
    "    'reagan': 'https://www.youtube.com/watch?v=5MDFX-dNtsM&t=6s',\n",
    "    #'luther_king': 'https://www.youtube.com/watch?v=I47Y6VHc3Ms',\n",
    "    #'macarthur': 'https://www.youtube.com/watch?v=_42_aLGkRpg&t=19s',\n",
    "    'kennedy': 'https://www.youtube.com/watch?v=QAmHcdwKgtQ'}"
   ]
  },
  {
   "cell_type": "code",
   "execution_count": 82,
   "metadata": {},
   "outputs": [
    {
     "name": "stdout",
     "output_type": "stream",
     "text": [
      "Downloading audio file from the link: https://www.youtube.com/watch?v=5MDFX-dNtsM&t=6s\n",
      "Downloading audio file from the link: https://www.youtube.com/watch?v=QAmHcdwKgtQ\n"
     ]
    }
   ],
   "source": [
    "# Download each speech in mp3 format using Youtube-DL\n",
    "for url in list(dict_urls_youtube.values()):\n",
    "    print(f'Downloading audio file from the link: {url}')\n",
    "    os.system(f'youtube-dl -x --audio-format \"mp3\" {url}')"
   ]
  },
  {
   "cell_type": "code",
   "execution_count": 83,
   "metadata": {},
   "outputs": [
    {
     "data": {
      "text/html": [
       "<div>\n",
       "<style scoped>\n",
       "    .dataframe tbody tr th:only-of-type {\n",
       "        vertical-align: middle;\n",
       "    }\n",
       "\n",
       "    .dataframe tbody tr th {\n",
       "        vertical-align: top;\n",
       "    }\n",
       "\n",
       "    .dataframe thead th {\n",
       "        text-align: right;\n",
       "    }\n",
       "</style>\n",
       "<table border=\"1\" class=\"dataframe\">\n",
       "  <thead>\n",
       "    <tr style=\"text-align: right;\">\n",
       "      <th></th>\n",
       "      <th>youtube_urls</th>\n",
       "    </tr>\n",
       "  </thead>\n",
       "  <tbody>\n",
       "    <tr>\n",
       "      <td>reagan</td>\n",
       "      <td>https://www.youtube.com/watch?v=5MDFX-dNtsM&amp;t=6s</td>\n",
       "    </tr>\n",
       "    <tr>\n",
       "      <td>kennedy</td>\n",
       "      <td>https://www.youtube.com/watch?v=QAmHcdwKgtQ</td>\n",
       "    </tr>\n",
       "  </tbody>\n",
       "</table>\n",
       "</div>"
      ],
      "text/plain": [
       "                                             youtube_urls\n",
       "reagan   https://www.youtube.com/watch?v=5MDFX-dNtsM&t=6s\n",
       "kennedy       https://www.youtube.com/watch?v=QAmHcdwKgtQ"
      ]
     },
     "execution_count": 83,
     "metadata": {},
     "output_type": "execute_result"
    }
   ],
   "source": [
    "# Create a Dataframe to store the information trough the analysis\n",
    "df_audio = pd.DataFrame.from_dict(dict_urls_youtube, orient='index', columns=['youtube_urls'])\n",
    "df_audio"
   ]
  },
  {
   "cell_type": "code",
   "execution_count": 84,
   "metadata": {},
   "outputs": [],
   "source": [
    "# Linking the name of each audio file to the speaker\n",
    "for audio_file in os.listdir('.'):\n",
    "    #if 'churchill' in audio_file.lower():\n",
    "    #    df_audio.at['churchill','filename'] = audio_file\n",
    "    if 'reagan' in audio_file.lower():\n",
    "        df_audio.at['reagan', 'filename'] = audio_file\n",
    "   # elif 'king' in audio_file.lower():\n",
    "   #     df_audio.at['luther_king', 'filename'] = audio_file\n",
    "   # elif 'macarthur' in audio_file.lower():\n",
    "   #    df_audio.at['macarthur', 'filename'] = audio_file\n",
    "    elif 'kennedy' in audio_file.lower():\n",
    "        df_audio.at['kennedy', 'filename'] = audio_file"
   ]
  },
  {
   "cell_type": "code",
   "execution_count": 85,
   "metadata": {},
   "outputs": [
    {
     "data": {
      "text/html": [
       "<div>\n",
       "<style scoped>\n",
       "    .dataframe tbody tr th:only-of-type {\n",
       "        vertical-align: middle;\n",
       "    }\n",
       "\n",
       "    .dataframe tbody tr th {\n",
       "        vertical-align: top;\n",
       "    }\n",
       "\n",
       "    .dataframe thead th {\n",
       "        text-align: right;\n",
       "    }\n",
       "</style>\n",
       "<table border=\"1\" class=\"dataframe\">\n",
       "  <thead>\n",
       "    <tr style=\"text-align: right;\">\n",
       "      <th></th>\n",
       "      <th>youtube_urls</th>\n",
       "      <th>filename</th>\n",
       "    </tr>\n",
       "  </thead>\n",
       "  <tbody>\n",
       "    <tr>\n",
       "      <td>reagan</td>\n",
       "      <td>https://www.youtube.com/watch?v=5MDFX-dNtsM&amp;t=6s</td>\n",
       "      <td>'Berlin Wall' Speech - President Reagan's Addr...</td>\n",
       "    </tr>\n",
       "    <tr>\n",
       "      <td>kennedy</td>\n",
       "      <td>https://www.youtube.com/watch?v=QAmHcdwKgtQ</td>\n",
       "      <td>'We choose to go to the moon' Speech by Presid...</td>\n",
       "    </tr>\n",
       "  </tbody>\n",
       "</table>\n",
       "</div>"
      ],
      "text/plain": [
       "                                             youtube_urls  \\\n",
       "reagan   https://www.youtube.com/watch?v=5MDFX-dNtsM&t=6s   \n",
       "kennedy       https://www.youtube.com/watch?v=QAmHcdwKgtQ   \n",
       "\n",
       "                                                  filename  \n",
       "reagan   'Berlin Wall' Speech - President Reagan's Addr...  \n",
       "kennedy  'We choose to go to the moon' Speech by Presid...  "
      ]
     },
     "execution_count": 85,
     "metadata": {},
     "output_type": "execute_result"
    }
   ],
   "source": [
    "df_audio"
   ]
  },
  {
   "cell_type": "code",
   "execution_count": 137,
   "metadata": {},
   "outputs": [],
   "source": [
    "import boto3\n",
    "\n",
    "aws_access_key_id = 'AKI***************************'\n",
    "aws_secret_access_key = 'L*************************'\n",
    "region_name = 'us-west-1'\n",
    "\n",
    "session = boto3.session.Session(aws_access_key_id=aws_access_key_id,\n",
    "                                aws_secret_access_key=aws_secret_access_key,\n",
    "                                region_name=region_name)"
   ]
  },
  {
   "cell_type": "code",
   "execution_count": 170,
   "metadata": {},
   "outputs": [
    {
     "name": "stdout",
     "output_type": "stream",
     "text": [
      "audiofirst\n",
      "bucket-audio1\n"
     ]
    }
   ],
   "source": [
    "\n",
    "# Uploading files to S3\n",
    "# Instantiate client\n",
    "s3 = boto3.client('s3')\n",
    "\n",
    "# List created buckets\n",
    "response = s3.list_buckets()\n",
    "#print(response)\n",
    "#buckets = [bucket['audiofirst'] for bucket in response['us-west-1']]\n",
    "buckets = [bucket['Name'] for bucket in response['Buckets']]\n",
    "for bucket in buckets:\n",
    "    print(bucket)"
   ]
  },
  {
   "cell_type": "code",
   "execution_count": 187,
   "metadata": {},
   "outputs": [],
   "source": [
    "# Creating a new S3 bucket to upload the audio files\n",
    "bucket_name = 'audiofirst'\n",
    "client_s3 = boto3.client('s3')\n",
    "#do not use here\n",
    "#client_s3.create_bucket(Bucket=bucket_name)\n",
    "# this code is replaced as below in cmd\n",
    "# aws s3 mb s3://bucket-audio1 --region us-west-1 --endpoint-url https://s3.us-west-1.amazonaws.com\n",
    "#  make_bucket: bucket-audio1"
   ]
  },
  {
   "cell_type": "code",
   "execution_count": 108,
   "metadata": {},
   "outputs": [
    {
     "name": "stdout",
     "output_type": "stream",
     "text": [
      "'Berlin Wall' Speech - President Reagan's Address at the Brandenburg Gate - 6_12_87-5MDFX-dNtsM.m4a\n",
      "'We choose to go to the moon' Speech by President John F. Kennedy-QAmHcdwKgtQ.m4a\n"
     ]
    }
   ],
   "source": [
    "# Uploading the files to the created bucket\n",
    "for audio_file in df_audio.filename.values:\n",
    "    print(audio_file)\n",
    "    #client_s3.upload_file(audio_file, bucket_name,  audio_file)\n",
    "    client_s3.upload_file(audio_file, 'audiofirst',  audio_file)"
   ]
  },
  {
   "cell_type": "code",
   "execution_count": 180,
   "metadata": {
    "scrolled": true
   },
   "outputs": [
    {
     "data": {
      "text/html": [
       "<div>\n",
       "<style scoped>\n",
       "    .dataframe tbody tr th:only-of-type {\n",
       "        vertical-align: middle;\n",
       "    }\n",
       "\n",
       "    .dataframe tbody tr th {\n",
       "        vertical-align: top;\n",
       "    }\n",
       "\n",
       "    .dataframe thead th {\n",
       "        text-align: right;\n",
       "    }\n",
       "</style>\n",
       "<table border=\"1\" class=\"dataframe\">\n",
       "  <thead>\n",
       "    <tr style=\"text-align: right;\">\n",
       "      <th></th>\n",
       "      <th>youtube_urls</th>\n",
       "      <th>filename</th>\n",
       "      <th>url</th>\n",
       "      <th>transcription_url</th>\n",
       "      <th>json_transcription</th>\n",
       "    </tr>\n",
       "  </thead>\n",
       "  <tbody>\n",
       "    <tr>\n",
       "      <td>reagan</td>\n",
       "      <td>https://www.youtube.com/watch?v=5MDFX-dNtsM&amp;t=6s</td>\n",
       "      <td>'Berlin Wall' Speech - President Reagan's Addr...</td>\n",
       "      <td>https://audiofirst.s3.amazonaws.com/'Berlin+Wa...</td>\n",
       "      <td>https://audiofirst.s3.amazonaws.com/reagan_spe...</td>\n",
       "      <td>reagan_speech_20032020.json</td>\n",
       "    </tr>\n",
       "    <tr>\n",
       "      <td>kennedy</td>\n",
       "      <td>https://www.youtube.com/watch?v=QAmHcdwKgtQ</td>\n",
       "      <td>'We choose to go to the moon' Speech by Presid...</td>\n",
       "      <td>https://audiofirst.s3.amazonaws.com/'We+choose...</td>\n",
       "      <td>https://audiofirst.s3.amazonaws.com/kennedy_sp...</td>\n",
       "      <td>kennedy_speech_20032020.json</td>\n",
       "    </tr>\n",
       "  </tbody>\n",
       "</table>\n",
       "</div>"
      ],
      "text/plain": [
       "                                             youtube_urls  \\\n",
       "reagan   https://www.youtube.com/watch?v=5MDFX-dNtsM&t=6s   \n",
       "kennedy       https://www.youtube.com/watch?v=QAmHcdwKgtQ   \n",
       "\n",
       "                                                  filename  \\\n",
       "reagan   'Berlin Wall' Speech - President Reagan's Addr...   \n",
       "kennedy  'We choose to go to the moon' Speech by Presid...   \n",
       "\n",
       "                                                       url  \\\n",
       "reagan   https://audiofirst.s3.amazonaws.com/'Berlin+Wa...   \n",
       "kennedy  https://audiofirst.s3.amazonaws.com/'We+choose...   \n",
       "\n",
       "                                         transcription_url  \\\n",
       "reagan   https://audiofirst.s3.amazonaws.com/reagan_spe...   \n",
       "kennedy  https://audiofirst.s3.amazonaws.com/kennedy_sp...   \n",
       "\n",
       "                   json_transcription  \n",
       "reagan    reagan_speech_20032020.json  \n",
       "kennedy  kennedy_speech_20032020.json  "
      ]
     },
     "execution_count": 180,
     "metadata": {},
     "output_type": "execute_result"
    }
   ],
   "source": [
    "df_audio"
   ]
  },
  {
   "cell_type": "code",
   "execution_count": 181,
   "metadata": {},
   "outputs": [
    {
     "name": "stdout",
     "output_type": "stream",
     "text": [
      "https://audiofirst.s3.amazonaws.com/'Berlin+Wall'+Speech+-+President+Reagan's+Address+at+the+Brandenburg+Gate+-+6_12_87-5MDFX-dNtsM.m4a\n",
      "https://audiofirst.s3.amazonaws.com/'We+choose+to+go+to+the+moon'+Speech+by+President+John+F.+Kennedy-QAmHcdwKgtQ.m4a\n"
     ]
    }
   ],
   "source": [
    "\n",
    "# Define the file URLs on the bucket using S3 convention for file paths\n",
    "for index, row in df_audio.iterrows():\n",
    "    bucket_location = boto3.client('s3').get_bucket_location(Bucket='audiofirst')\n",
    "    object_url = f\"https://{'audiofirst'}.s3.amazonaws.com/{row['filename'].replace(' ', '+')}\"\n",
    "    df_audio.at[index, 'url'] = object_url\n",
    "    print(object_url)"
   ]
  },
  {
   "cell_type": "code",
   "execution_count": 182,
   "metadata": {
    "scrolled": true
   },
   "outputs": [
    {
     "data": {
      "text/html": [
       "<div>\n",
       "<style scoped>\n",
       "    .dataframe tbody tr th:only-of-type {\n",
       "        vertical-align: middle;\n",
       "    }\n",
       "\n",
       "    .dataframe tbody tr th {\n",
       "        vertical-align: top;\n",
       "    }\n",
       "\n",
       "    .dataframe thead th {\n",
       "        text-align: right;\n",
       "    }\n",
       "</style>\n",
       "<table border=\"1\" class=\"dataframe\">\n",
       "  <thead>\n",
       "    <tr style=\"text-align: right;\">\n",
       "      <th></th>\n",
       "      <th>youtube_urls</th>\n",
       "      <th>filename</th>\n",
       "      <th>url</th>\n",
       "      <th>transcription_url</th>\n",
       "      <th>json_transcription</th>\n",
       "    </tr>\n",
       "  </thead>\n",
       "  <tbody>\n",
       "    <tr>\n",
       "      <td>reagan</td>\n",
       "      <td>https://www.youtube.com/watch?v=5MDFX-dNtsM&amp;t=6s</td>\n",
       "      <td>'Berlin Wall' Speech - President Reagan's Addr...</td>\n",
       "      <td>https://audiofirst.s3.amazonaws.com/'Berlin+Wa...</td>\n",
       "      <td>https://audiofirst.s3.amazonaws.com/reagan_spe...</td>\n",
       "      <td>reagan_speech_20032020.json</td>\n",
       "    </tr>\n",
       "    <tr>\n",
       "      <td>kennedy</td>\n",
       "      <td>https://www.youtube.com/watch?v=QAmHcdwKgtQ</td>\n",
       "      <td>'We choose to go to the moon' Speech by Presid...</td>\n",
       "      <td>https://audiofirst.s3.amazonaws.com/'We+choose...</td>\n",
       "      <td>https://audiofirst.s3.amazonaws.com/kennedy_sp...</td>\n",
       "      <td>kennedy_speech_20032020.json</td>\n",
       "    </tr>\n",
       "  </tbody>\n",
       "</table>\n",
       "</div>"
      ],
      "text/plain": [
       "                                             youtube_urls  \\\n",
       "reagan   https://www.youtube.com/watch?v=5MDFX-dNtsM&t=6s   \n",
       "kennedy       https://www.youtube.com/watch?v=QAmHcdwKgtQ   \n",
       "\n",
       "                                                  filename  \\\n",
       "reagan   'Berlin Wall' Speech - President Reagan's Addr...   \n",
       "kennedy  'We choose to go to the moon' Speech by Presid...   \n",
       "\n",
       "                                                       url  \\\n",
       "reagan   https://audiofirst.s3.amazonaws.com/'Berlin+Wa...   \n",
       "kennedy  https://audiofirst.s3.amazonaws.com/'We+choose...   \n",
       "\n",
       "                                         transcription_url  \\\n",
       "reagan   https://audiofirst.s3.amazonaws.com/reagan_spe...   \n",
       "kennedy  https://audiofirst.s3.amazonaws.com/kennedy_sp...   \n",
       "\n",
       "                   json_transcription  \n",
       "reagan    reagan_speech_20032020.json  \n",
       "kennedy  kennedy_speech_20032020.json  "
      ]
     },
     "execution_count": 182,
     "metadata": {},
     "output_type": "execute_result"
    }
   ],
   "source": [
    "df_audio"
   ]
  },
  {
   "cell_type": "code",
   "execution_count": 188,
   "metadata": {},
   "outputs": [],
   "source": [
    "\n",
    "# Function to start Amazon Transcribe job\n",
    "def start_transcription(bucket, job_name, file_url, wait_process=True):\n",
    "    client_transcribe = boto3.client('transcribe', region_name='us-west-1')\n",
    "    client_transcribe.start_transcription_job(\n",
    "        TranscriptionJobName=job_name,\n",
    "        Media={'MediaFileUri': file_url},\n",
    "        MediaFormat='mp4',\n",
    "        LanguageCode='en-US',\n",
    "        OutputBucketName=bucket)\n",
    "    if wait_process:\n",
    "        while True:\n",
    "            status = client_transcribe.get_transcription_job(TranscriptionJobName=job_name)\n",
    "            if status['TranscriptionJob']['TranscriptionJobStatus'] in ['COMPLETED', 'FAILED']:\n",
    "                break\n",
    "            print(\"Not ready yet...\")\n",
    "            time.sleep(20)\n",
    "\n",
    "        print('Transcription finished')\n",
    "        return status\n",
    "    \n",
    "        "
   ]
  },
  {
   "cell_type": "code",
   "execution_count": 190,
   "metadata": {
    "scrolled": true
   },
   "outputs": [],
   "source": [
    "df_audio\n",
    "df_audio.to_csv('C:/Users/woneu/Desktop/data1.csv', index = False)"
   ]
  },
  {
   "cell_type": "code",
   "execution_count": 218,
   "metadata": {},
   "outputs": [
    {
     "name": "stdout",
     "output_type": "stream",
     "text": [
      "reagan_speech_20032020 https://audiofirst.s3.amazonaws.com/'Berlin+Wall'+Speech+-+President+Reagan's+Address+at+the+Brandenburg+Gate+-+6_12_87-5MDFX-dNtsM.m4a\n",
      "kennedy_speech_20032020 https://audiofirst.s3.amazonaws.com/'We+choose+to+go+to+the+moon'+Speech+by+President+John+F.+Kennedy-QAmHcdwKgtQ.m4a\n"
     ]
    }
   ],
   "source": [
    "\n",
    "# Define today's date to use on job name\n",
    "today = date.today().strftime(\"%d%m%Y\")\n",
    "\n",
    "# Iterate over the audio files URLs on S3 and call start_transcription\n",
    "# the name in start_ & df_audio.at should be the same\n",
    "for index, row in df_audio.iterrows():    \n",
    "    print(f'{index}_speech_{today}', row.url)\n",
    "    start_transcription(bucket_name, f'{index}_speech_{today}_a', row.url, wait_process=False)\n",
    "    #original\n",
    "    #start_transcription(bucket_name, f'{index}_speech_{today}', row.url, wait_process=False)\n",
    "    df_audio.at[index, 'transcription_url'] = f\"https://{bucket_name}.s3.amazonaws.com/{index}_speech_{today}.json\"\n",
    "    df_audio.at[index, 'json_transcription'] = f\"{index}_speech_{today}_a.json\""
   ]
  },
  {
   "cell_type": "code",
   "execution_count": 219,
   "metadata": {},
   "outputs": [
    {
     "data": {
      "text/html": [
       "<div>\n",
       "<style scoped>\n",
       "    .dataframe tbody tr th:only-of-type {\n",
       "        vertical-align: middle;\n",
       "    }\n",
       "\n",
       "    .dataframe tbody tr th {\n",
       "        vertical-align: top;\n",
       "    }\n",
       "\n",
       "    .dataframe thead th {\n",
       "        text-align: right;\n",
       "    }\n",
       "</style>\n",
       "<table border=\"1\" class=\"dataframe\">\n",
       "  <thead>\n",
       "    <tr style=\"text-align: right;\">\n",
       "      <th></th>\n",
       "      <th>youtube_urls</th>\n",
       "      <th>filename</th>\n",
       "      <th>url</th>\n",
       "      <th>transcription_url</th>\n",
       "      <th>json_transcription</th>\n",
       "    </tr>\n",
       "  </thead>\n",
       "  <tbody>\n",
       "    <tr>\n",
       "      <td>reagan</td>\n",
       "      <td>https://www.youtube.com/watch?v=5MDFX-dNtsM&amp;t=6s</td>\n",
       "      <td>'Berlin Wall' Speech - President Reagan's Addr...</td>\n",
       "      <td>https://audiofirst.s3.amazonaws.com/'Berlin+Wa...</td>\n",
       "      <td>https://audiofirst.s3.amazonaws.com/reagan_spe...</td>\n",
       "      <td>reagan_speech_20032020_a.json</td>\n",
       "    </tr>\n",
       "    <tr>\n",
       "      <td>kennedy</td>\n",
       "      <td>https://www.youtube.com/watch?v=QAmHcdwKgtQ</td>\n",
       "      <td>'We choose to go to the moon' Speech by Presid...</td>\n",
       "      <td>https://audiofirst.s3.amazonaws.com/'We+choose...</td>\n",
       "      <td>https://audiofirst.s3.amazonaws.com/kennedy_sp...</td>\n",
       "      <td>kennedy_speech_20032020_a.json</td>\n",
       "    </tr>\n",
       "  </tbody>\n",
       "</table>\n",
       "</div>"
      ],
      "text/plain": [
       "                                             youtube_urls  \\\n",
       "reagan   https://www.youtube.com/watch?v=5MDFX-dNtsM&t=6s   \n",
       "kennedy       https://www.youtube.com/watch?v=QAmHcdwKgtQ   \n",
       "\n",
       "                                                  filename  \\\n",
       "reagan   'Berlin Wall' Speech - President Reagan's Addr...   \n",
       "kennedy  'We choose to go to the moon' Speech by Presid...   \n",
       "\n",
       "                                                       url  \\\n",
       "reagan   https://audiofirst.s3.amazonaws.com/'Berlin+Wa...   \n",
       "kennedy  https://audiofirst.s3.amazonaws.com/'We+choose...   \n",
       "\n",
       "                                         transcription_url  \\\n",
       "reagan   https://audiofirst.s3.amazonaws.com/reagan_spe...   \n",
       "kennedy  https://audiofirst.s3.amazonaws.com/kennedy_sp...   \n",
       "\n",
       "                     json_transcription  \n",
       "reagan    reagan_speech_20032020_a.json  \n",
       "kennedy  kennedy_speech_20032020_a.json  "
      ]
     },
     "execution_count": 219,
     "metadata": {},
     "output_type": "execute_result"
    }
   ],
   "source": [
    "df_audio\n",
    "#df_audio.to_csv('C:/Users/woneu/Desktop/data.csv', index = False)"
   ]
  },
  {
   "cell_type": "code",
   "execution_count": 220,
   "metadata": {},
   "outputs": [
    {
     "data": {
      "text/plain": [
       "{'Status': 'COMPLETED',\n",
       " 'NextToken': '3/Q22yZ4n/FldYqPp90dXuFrGDwH9mu7LZ4J1RaiIpumT2vQoyWUUpbJXmD+zMmcF2goV35cRlwmhbomxjmf7CQblIr60XJbRTDEVQjW3mllfszOk/kVIGYBWVVKh5bGqmPWhpTsMlk9V7i0q+OSkWME/21vi4tOjK9wlUDv2AO7hvsdOqT5Bx1zL3LaJhlSVnaOaDr0UR6QdCP1P2ZJaz9a+gU3jkMOzIfY3Okm1xjo8X69x1qPtbrtocfBljLOcCddure6yB5KcXe5ro3FLxIEgh8VA9E1uxqAqwiz/QunSgpHA5+sUZ/NEm1sDjxGiS1K6u2LMLoGPcHtrzVbsJ4uEVxxdEbsaUUhQF4hPB0P5J5ojD9VjrQ1gF76kU880coX+lwX1CrfrgQfP830u7rc//gyrEDtbbWiAr8I/9sE9qJL1tCLDnzR7AA2rxf6QfLvwzn5q4H10Ap9Cta4bWtueD36rMePXz7btTCOL1qrzjPS70YmvVmhY68bKJzO5fPWodnUq7J2/2IysqdHYoG5cX5lyqHLk8i1Evuv99sYSyroE8fW9fS2pymuOlJTynG91Cz1393z9qMrIl6yOc0/Ld7la7pDbOtlSvWgMZpVyx1N6k9WW6NYgKdOgtmNwvPRYJrGJhOHH3f89ZCrXvLFk+HJ8120Q2ilt2eyiVTAWD2lO13ZpibjoKo5Sb8oAb2xyrFZBWa3E1Q69z9list1AoFVlG5xCQuolsP6UOQbNCQ0ruz9d4ZQepI7Nlyp0XmNDO+evlWx1Kr0lRlHVh03B/iSviIHul/QiapcPod0YrLsUpJg/N7cy8D7XlG557Bfbga1qiJNHZDG2U44xS83xGY0HFsYo89PtuhBVpUQtrxVAYlePY9Fdem8k9z/WXGZjIVG0=',\n",
       " 'TranscriptionJobSummaries': [{'TranscriptionJobName': 'kennedy_speech_20032020____',\n",
       "   'CreationTime': datetime.datetime(2020, 3, 20, 21, 23, 44, 157000, tzinfo=tzlocal()),\n",
       "   'StartTime': datetime.datetime(2020, 3, 20, 21, 23, 44, 181000, tzinfo=tzlocal()),\n",
       "   'CompletionTime': datetime.datetime(2020, 3, 20, 21, 26, 1, 652000, tzinfo=tzlocal()),\n",
       "   'LanguageCode': 'en-US',\n",
       "   'TranscriptionJobStatus': 'COMPLETED',\n",
       "   'OutputLocationType': 'CUSTOMER_BUCKET'},\n",
       "  {'TranscriptionJobName': 'kennedy_speech_20032020___',\n",
       "   'CreationTime': datetime.datetime(2020, 3, 20, 21, 18, 4, 57000, tzinfo=tzlocal()),\n",
       "   'StartTime': datetime.datetime(2020, 3, 20, 21, 18, 4, 81000, tzinfo=tzlocal()),\n",
       "   'CompletionTime': datetime.datetime(2020, 3, 20, 21, 20, 24, 127000, tzinfo=tzlocal()),\n",
       "   'LanguageCode': 'en-US',\n",
       "   'TranscriptionJobStatus': 'COMPLETED',\n",
       "   'OutputLocationType': 'CUSTOMER_BUCKET'},\n",
       "  {'TranscriptionJobName': 'reagan_speech_20032020___',\n",
       "   'CreationTime': datetime.datetime(2020, 3, 20, 21, 18, 3, 724000, tzinfo=tzlocal()),\n",
       "   'StartTime': datetime.datetime(2020, 3, 20, 21, 18, 3, 747000, tzinfo=tzlocal()),\n",
       "   'CompletionTime': datetime.datetime(2020, 3, 20, 21, 21, 33, 30000, tzinfo=tzlocal()),\n",
       "   'LanguageCode': 'en-US',\n",
       "   'TranscriptionJobStatus': 'COMPLETED',\n",
       "   'OutputLocationType': 'CUSTOMER_BUCKET'},\n",
       "  {'TranscriptionJobName': 'kennedy_speech_20032020__',\n",
       "   'CreationTime': datetime.datetime(2020, 3, 20, 20, 42, 59, 843000, tzinfo=tzlocal()),\n",
       "   'StartTime': datetime.datetime(2020, 3, 20, 20, 42, 59, 867000, tzinfo=tzlocal()),\n",
       "   'CompletionTime': datetime.datetime(2020, 3, 20, 20, 45, 22, 605000, tzinfo=tzlocal()),\n",
       "   'LanguageCode': 'en-US',\n",
       "   'TranscriptionJobStatus': 'COMPLETED',\n",
       "   'OutputLocationType': 'CUSTOMER_BUCKET'},\n",
       "  {'TranscriptionJobName': 'reagan_speech_20032020__',\n",
       "   'CreationTime': datetime.datetime(2020, 3, 20, 20, 42, 59, 501000, tzinfo=tzlocal()),\n",
       "   'StartTime': datetime.datetime(2020, 3, 20, 20, 42, 59, 524000, tzinfo=tzlocal()),\n",
       "   'CompletionTime': datetime.datetime(2020, 3, 20, 20, 46, 25, 821000, tzinfo=tzlocal()),\n",
       "   'LanguageCode': 'en-US',\n",
       "   'TranscriptionJobStatus': 'COMPLETED',\n",
       "   'OutputLocationType': 'CUSTOMER_BUCKET'}],\n",
       " 'ResponseMetadata': {'RequestId': 'a72c053e-6974-4900-9746-6e7171404398',\n",
       "  'HTTPStatusCode': 200,\n",
       "  'HTTPHeaders': {'content-type': 'application/x-amz-json-1.1',\n",
       "   'date': 'Sat, 21 Mar 2020 04:26:44 GMT',\n",
       "   'x-amzn-requestid': 'a72c053e-6974-4900-9746-6e7171404398',\n",
       "   'content-length': '2209',\n",
       "   'connection': 'keep-alive'},\n",
       "  'RetryAttempts': 0}}"
      ]
     },
     "execution_count": 220,
     "metadata": {},
     "output_type": "execute_result"
    }
   ],
   "source": [
    "# Verify Amazon Transcrive jobs that are under the status COMPLETE\n",
    "client_transcribe = boto3.client('transcribe', region_name='us-west-1')\n",
    "response_transcribe = client_transcribe.list_transcription_jobs(\n",
    "    Status='COMPLETED')\n",
    "   \n",
    "response_transcribe"
   ]
  },
  {
   "cell_type": "markdown",
   "metadata": {},
   "source": [
    "\n",
    "Comparing the audio transcription with the original transcription using Spacy\n",
    "In order to check the quality of the transcription generated using Amazon Transcribe we are going to compare it to the original text using the SpaCy library."
   ]
  },
  {
   "cell_type": "code",
   "execution_count": 221,
   "metadata": {},
   "outputs": [],
   "source": [
    "# Function to get text from the JSON file generated using Amazon Transcribe\n",
    "def get_text_from_json(bucket, key):\n",
    "    s3 = boto3.client('s3', region_name='us-west-1')\n",
    "    object = s3.get_object(Bucket=bucket, Key=key)\n",
    "    serializedObject = object['Body'].read()\n",
    "    data = json.loads(serializedObject)\n",
    "    return data.get('results').get('transcripts')[0].get('transcript')"
   ]
  },
  {
   "cell_type": "code",
   "execution_count": 222,
   "metadata": {
    "scrolled": true
   },
   "outputs": [],
   "source": [
    "# Reading the original transcription from the JSON file\n",
    "with open('C:/Users/woneu/Desktop/original_transcripts.json', 'r', encoding=\"utf8\") as f:\n",
    "    original_transcriptions = json.load(f)\n",
    "    #print(original_transcriptions)"
   ]
  },
  {
   "cell_type": "code",
   "execution_count": 223,
   "metadata": {},
   "outputs": [],
   "source": [
    "def process_text(text):\n",
    "    \"\"\"\n",
    "    Process text by removing stop words, punctuation,\n",
    "    pronouns and performing lemmatization on tokens.\n",
    "    \n",
    "    Parameters\n",
    "    text (str): Any given text\n",
    "    \n",
    "    Return\n",
    "    str: Processed text\n",
    "    \"\"\"\n",
    "    doc = nlp(text.lower())\n",
    "    result = []\n",
    "    for token in doc:\n",
    "        if token.text in nlp.Defaults.stop_words:\n",
    "            continue\n",
    "        if token.is_punct:\n",
    "            continue\n",
    "        if token.lemma_ == '-PRON-':\n",
    "            continue\n",
    "        result.append(token.lemma_)\n",
    "    return \" \".join(result)"
   ]
  },
  {
   "cell_type": "code",
   "execution_count": 225,
   "metadata": {},
   "outputs": [
    {
     "name": "stdout",
     "output_type": "stream",
     "text": [
      "reagan_speech_20032020_a.json\n",
      "Word2vec Similarity for reagan's speech: 0.9994752513721701\n",
      "kennedy_speech_20032020_a.json\n",
      "Word2vec Similarity for kennedy's speech: 0.9996413482224711\n"
     ]
    }
   ],
   "source": [
    "# Iterate over the speakers comparing the transcription texts using spaCy\n",
    "# !!!!!run only after ckecking the upload of transcription json file on s3\n",
    "for index, row in df_audio.iterrows():\n",
    "    nlp = spacy.load('en_core_web_lg') # must download model first via `python3 -m spacy download en_core_web_lg`\n",
    "    original_transcription = nlp(process_text(original_transcriptions.get(index)))\n",
    "    print(row.json_transcription)\n",
    "    transcribe_transcription = nlp(process_text(get_text_from_json(bucket_name, row.json_transcription)))\n",
    "    w2v_similarity = original_transcription.similarity(transcribe_transcription)\n",
    "    \n",
    "    df_audio.at[index, 'w2v_text_similarity'] = w2v_similarity\n",
    "    print(f'Word2vec Similarity for {index}\\'s speech: {w2v_similarity}')\n",
    "    "
   ]
  },
  {
   "cell_type": "code",
   "execution_count": 226,
   "metadata": {},
   "outputs": [
    {
     "name": "stdout",
     "output_type": "stream",
     "text": [
      "['Reagan', 'Kennedy']\n",
      "[99.94752513721701, 99.9641348222471]\n"
     ]
    }
   ],
   "source": [
    "# Create columns with formated speaker name and word2vec similarity\n",
    "y_labels = [label.replace('_', ' ').capitalize() for label in df_audio.index]\n",
    "print(y_labels)\n",
    "x_values = [x * 100 for x in df_audio.w2v_text_similarity ]\n",
    "print(x_values)\n",
    "df_audio['label_capitalized'], df_audio['similarity_perc'] = y_labels, x_values"
   ]
  },
  {
   "cell_type": "code",
   "execution_count": 227,
   "metadata": {},
   "outputs": [
    {
     "data": {
      "text/html": [
       "<div>\n",
       "<style scoped>\n",
       "    .dataframe tbody tr th:only-of-type {\n",
       "        vertical-align: middle;\n",
       "    }\n",
       "\n",
       "    .dataframe tbody tr th {\n",
       "        vertical-align: top;\n",
       "    }\n",
       "\n",
       "    .dataframe thead th {\n",
       "        text-align: right;\n",
       "    }\n",
       "</style>\n",
       "<table border=\"1\" class=\"dataframe\">\n",
       "  <thead>\n",
       "    <tr style=\"text-align: right;\">\n",
       "      <th></th>\n",
       "      <th>youtube_urls</th>\n",
       "      <th>filename</th>\n",
       "      <th>url</th>\n",
       "      <th>transcription_url</th>\n",
       "      <th>json_transcription</th>\n",
       "      <th>w2v_text_similarity</th>\n",
       "      <th>label_capitalized</th>\n",
       "      <th>similarity_perc</th>\n",
       "    </tr>\n",
       "  </thead>\n",
       "  <tbody>\n",
       "    <tr>\n",
       "      <td>reagan</td>\n",
       "      <td>https://www.youtube.com/watch?v=5MDFX-dNtsM&amp;t=6s</td>\n",
       "      <td>'Berlin Wall' Speech - President Reagan's Addr...</td>\n",
       "      <td>https://audiofirst.s3.amazonaws.com/'Berlin+Wa...</td>\n",
       "      <td>https://audiofirst.s3.amazonaws.com/reagan_spe...</td>\n",
       "      <td>reagan_speech_20032020_a.json</td>\n",
       "      <td>0.999475</td>\n",
       "      <td>Reagan</td>\n",
       "      <td>99.947525</td>\n",
       "    </tr>\n",
       "    <tr>\n",
       "      <td>kennedy</td>\n",
       "      <td>https://www.youtube.com/watch?v=QAmHcdwKgtQ</td>\n",
       "      <td>'We choose to go to the moon' Speech by Presid...</td>\n",
       "      <td>https://audiofirst.s3.amazonaws.com/'We+choose...</td>\n",
       "      <td>https://audiofirst.s3.amazonaws.com/kennedy_sp...</td>\n",
       "      <td>kennedy_speech_20032020_a.json</td>\n",
       "      <td>0.999641</td>\n",
       "      <td>Kennedy</td>\n",
       "      <td>99.964135</td>\n",
       "    </tr>\n",
       "  </tbody>\n",
       "</table>\n",
       "</div>"
      ],
      "text/plain": [
       "                                             youtube_urls  \\\n",
       "reagan   https://www.youtube.com/watch?v=5MDFX-dNtsM&t=6s   \n",
       "kennedy       https://www.youtube.com/watch?v=QAmHcdwKgtQ   \n",
       "\n",
       "                                                  filename  \\\n",
       "reagan   'Berlin Wall' Speech - President Reagan's Addr...   \n",
       "kennedy  'We choose to go to the moon' Speech by Presid...   \n",
       "\n",
       "                                                       url  \\\n",
       "reagan   https://audiofirst.s3.amazonaws.com/'Berlin+Wa...   \n",
       "kennedy  https://audiofirst.s3.amazonaws.com/'We+choose...   \n",
       "\n",
       "                                         transcription_url  \\\n",
       "reagan   https://audiofirst.s3.amazonaws.com/reagan_spe...   \n",
       "kennedy  https://audiofirst.s3.amazonaws.com/kennedy_sp...   \n",
       "\n",
       "                     json_transcription  w2v_text_similarity  \\\n",
       "reagan    reagan_speech_20032020_a.json             0.999475   \n",
       "kennedy  kennedy_speech_20032020_a.json             0.999641   \n",
       "\n",
       "        label_capitalized  similarity_perc  \n",
       "reagan             Reagan        99.947525  \n",
       "kennedy           Kennedy        99.964135  "
      ]
     },
     "execution_count": 227,
     "metadata": {},
     "output_type": "execute_result"
    }
   ],
   "source": [
    "df_audio"
   ]
  },
  {
   "cell_type": "code",
   "execution_count": 228,
   "metadata": {},
   "outputs": [],
   "source": [
    "def show_values_on_bars(axs, h_v=\"v\", space=0.4):\n",
    "    def _show_on_single_plot(ax):\n",
    "        if h_v == \"v\":\n",
    "            for p in ax.patches:\n",
    "                _x = p.get_x() + p.get_width() / 2\n",
    "                _y = p.get_y() + p.get_height()\n",
    "                value = int(p.get_height())\n",
    "                ax.text(_x, _y, value, ha=\"center\") \n",
    "        elif h_v == \"h\":\n",
    "            for p in ax.patches:\n",
    "                _x = p.get_x() + p.get_width() + float(space)\n",
    "                _y = p.get_y() + p.get_height()\n",
    "                value = f'{round(p.get_width(),2)}%'\n",
    "                ax.text(_x, _y, value, ha=\"left\")\n",
    "\n",
    "    if isinstance(axs, np.ndarray):\n",
    "        for idx, ax in np.ndenumerate(axs):\n",
    "            _show_on_single_plot(ax)\n",
    "    else:\n",
    "        _show_on_single_plot(axs)"
   ]
  },
  {
   "cell_type": "code",
   "execution_count": 229,
   "metadata": {},
   "outputs": [
    {
     "data": {
      "image/png": "[encoded data removed]",
      "text/plain": [
       "<Figure size 432x288 with 1 Axes>"
      ]
     },
     "metadata": {},
     "output_type": "display_data"
    }
   ],
   "source": [
    "# Plotting the results for similarity between the original transcripts and Amazon Transcribe transcription\n",
    "sns.set(style=\"whitegrid\")\n",
    "ax = sns.barplot(y='label_capitalized', x='similarity_perc', \n",
    "                 data=df_audio, orient='h')\n",
    "ax.set_title('Word Vectors Similarity between original\\ntext and audio transcription\\n', fontsize=20)\n",
    "ax.set_xlabel('\\nSimilarity %', fontsize=14)\n",
    "ax.set_ylabel('Speakers', fontsize=14)\n",
    "\n",
    "show_values_on_bars(ax, \"h\", 0.3)\n",
    "ax.figure.savefig(\"word2vec_similarity.png\", dpi=400, bbox_inches='tight')"
   ]
  },
  {
   "cell_type": "code",
   "execution_count": null,
   "metadata": {},
   "outputs": [],
   "source": []
  },
  {
   "cell_type": "code",
   "execution_count": null,
   "metadata": {},
   "outputs": [],
   "source": []
  },
  {
   "cell_type": "code",
   "execution_count": null,
   "metadata": {},
   "outputs": [],
   "source": []
  }
 ],
 "metadata": {
  "kernelspec": {
   "display_name": "Python 3",
   "language": "python",
   "name": "python3"
  },
  "language_info": {
   "codemirror_mode": {
    "name": "ipython",
    "version": 3
   },
   "file_extension": ".py",
   "mimetype": "text/x-python",
   "name": "python",
   "nbconvert_exporter": "python",
   "pygments_lexer": "ipython3",
   "version": "3.7.4"
  }
 },
 "nbformat": 4,
 "nbformat_minor": 2
}

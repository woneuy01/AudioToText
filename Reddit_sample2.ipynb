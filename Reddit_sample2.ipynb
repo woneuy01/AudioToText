{
  "nbformat": 4,
  "nbformat_minor": 0,
  "metadata": {
    "colab": {
      "name": "Reddit_sample2.ipynb",
      "provenance": [],
      "collapsed_sections": [],
      "authorship_tag": "ABX9TyMLFqUKS5JRjY+RwIsWLTVw",
      "include_colab_link": true
    },
    "kernelspec": {
      "name": "python3",
      "display_name": "Python 3"
    }
  },
  "cells": [
    {
      "cell_type": "markdown",
      "metadata": {
        "id": "view-in-github",
        "colab_type": "text"
      },
      "source": [
        "<a href=\"https://colab.research.google.com/github/woneuy01/AudioToText/blob/master/Reddit_sample2.ipynb\" target=\"_parent\"><img src=\"https://colab.research.google.com/assets/colab-badge.svg\" alt=\"Open In Colab\"/></a>"
      ]
    },
    {
      "cell_type": "code",
      "metadata": {
        "id": "hAkPuTgXeLGu",
        "colab_type": "code",
        "colab": {}
      },
      "source": [
        "import pandas as pd\n",
        "import numpy as np\n",
        "import requests\n",
        "import json\n",
        "import csv\n",
        "import time\n",
        "import datetime"
      ],
      "execution_count": 0,
      "outputs": []
    },
    {
      "cell_type": "code",
      "metadata": {
        "id": "DFz3wj1ReNjH",
        "colab_type": "code",
        "colab": {}
      },
      "source": [
        "def getPushshiftData(query, after, before, sub):\n",
        "    url = 'https://api.pushshift.io/reddit/search/submission/?title='+str(query)+'&size=100&after='+str(after)+'&before='+str(before)+'&subreddit='+str(sub)\n",
        "    print(url)\n",
        "    r = requests.get(url)\n",
        "    data = json.loads(r.text)\n",
        "    return data['data']"
      ],
      "execution_count": 0,
      "outputs": []
    },
    {
      "cell_type": "code",
      "metadata": {
        "id": "OlqswullejXF",
        "colab_type": "code",
        "colab": {}
      },
      "source": [
        "def collectSubData(subm):\n",
        "    subData = list() #list to store data points\n",
        "    title = subm['title']\n",
        "    url = subm['url']\n",
        "    try:\n",
        "        flair = subm['link_flair_text']\n",
        "    except KeyError:\n",
        "        flair = \"NaN\"    \n",
        "    author = subm['author']\n",
        "    sub_id = subm['id']\n",
        "    score = subm['score']\n",
        "    created = datetime.datetime.fromtimestamp(subm['created_utc']) #1520561700.0\n",
        "    numComms = subm['num_comments']\n",
        "    permalink = subm['permalink']\n",
        "    \n",
        "    subData.append((sub_id,title,url,author,score,created,numComms,permalink,flair))\n",
        "    subStats[sub_id] = subData"
      ],
      "execution_count": 0,
      "outputs": []
    },
    {
      "cell_type": "code",
      "metadata": {
        "id": "tBORCr5ogjcT",
        "colab_type": "code",
        "colab": {}
      },
      "source": [
        "#Subreddit to query\n",
        "sub='coronavirus'\n",
        "#before and after dates\n",
        "before = \"1588377600\" #June 2\n",
        "after = \"1588291200\"  #June 1st \n",
        "query = \"\"\n",
        "subCount = 0\n",
        "subStats = {}"
      ],
      "execution_count": 0,
      "outputs": []
    },
    {
      "cell_type": "code",
      "metadata": {
        "id": "MLh38YcXgMuO",
        "colab_type": "code",
        "outputId": "cb6980ef-b5cd-470d-f51e-2864dd7e721f",
        "colab": {
          "base_uri": "https://localhost:8080/",
          "height": 753
        }
      },
      "source": [
        "data = getPushshiftData(query, after, before, sub)\n",
        "# Will run until all posts have been gathered \n",
        "# from the 'after' date up until before date\n",
        "while len(data) > 0:\n",
        "    for submission in data:\n",
        "        collectSubData(submission)\n",
        "        subCount+=1\n",
        "    # Calls getPushshiftData() with the created date of the last submission\n",
        "    print(len(data))\n",
        "    print(str(datetime.datetime.fromtimestamp(data[-1]['created_utc'])))\n",
        "    after = data[-1]['created_utc']\n",
        "    try:\n",
        "      data = getPushshiftData(query, after, before, sub)\n",
        "    except ValueError:\n",
        "      print(\"response content is not valid json\")\n",
        "    \n",
        "print(len(data))"
      ],
      "execution_count": 9,
      "outputs": [
        {
          "output_type": "stream",
          "text": [
            "https://api.pushshift.io/reddit/search/submission/?title=&size=100&after=1588291200&before=1588377600&subreddit=coronavirus\n",
            "100\n",
            "2020-05-01 01:27:42\n",
            "https://api.pushshift.io/reddit/search/submission/?title=&size=100&after=1588296462&before=1588377600&subreddit=coronavirus\n",
            "100\n",
            "2020-05-01 03:39:16\n",
            "https://api.pushshift.io/reddit/search/submission/?title=&size=100&after=1588304356&before=1588377600&subreddit=coronavirus\n",
            "100\n",
            "2020-05-01 06:30:17\n",
            "https://api.pushshift.io/reddit/search/submission/?title=&size=100&after=1588314617&before=1588377600&subreddit=coronavirus\n",
            "100\n",
            "2020-05-01 09:54:40\n",
            "https://api.pushshift.io/reddit/search/submission/?title=&size=100&after=1588326880&before=1588377600&subreddit=coronavirus\n",
            "100\n",
            "2020-05-01 11:51:22\n",
            "https://api.pushshift.io/reddit/search/submission/?title=&size=100&after=1588333882&before=1588377600&subreddit=coronavirus\n",
            "100\n",
            "2020-05-01 13:27:24\n",
            "https://api.pushshift.io/reddit/search/submission/?title=&size=100&after=1588339644&before=1588377600&subreddit=coronavirus\n",
            "100\n",
            "2020-05-01 15:00:52\n",
            "https://api.pushshift.io/reddit/search/submission/?title=&size=100&after=1588345252&before=1588377600&subreddit=coronavirus\n",
            "100\n",
            "2020-05-01 16:24:53\n",
            "https://api.pushshift.io/reddit/search/submission/?title=&size=100&after=1588350293&before=1588377600&subreddit=coronavirus\n",
            "100\n",
            "2020-05-01 17:45:46\n",
            "https://api.pushshift.io/reddit/search/submission/?title=&size=100&after=1588355146&before=1588377600&subreddit=coronavirus\n",
            "100\n",
            "2020-05-01 19:00:42\n",
            "https://api.pushshift.io/reddit/search/submission/?title=&size=100&after=1588359642&before=1588377600&subreddit=coronavirus\n",
            "100\n",
            "2020-05-01 20:19:28\n",
            "https://api.pushshift.io/reddit/search/submission/?title=&size=100&after=1588364368&before=1588377600&subreddit=coronavirus\n",
            "100\n",
            "2020-05-01 22:04:31\n",
            "https://api.pushshift.io/reddit/search/submission/?title=&size=100&after=1588370671&before=1588377600&subreddit=coronavirus\n",
            "100\n",
            "2020-05-01 23:21:58\n",
            "https://api.pushshift.io/reddit/search/submission/?title=&size=100&after=1588375318&before=1588377600&subreddit=coronavirus\n",
            "21\n",
            "2020-05-01 23:54:39\n",
            "https://api.pushshift.io/reddit/search/submission/?title=&size=100&after=1588377279&before=1588377600&subreddit=coronavirus\n",
            "0\n"
          ],
          "name": "stdout"
        }
      ]
    },
    {
      "cell_type": "code",
      "metadata": {
        "id": "elV8zAUBgQdl",
        "colab_type": "code",
        "outputId": "906afd3e-b20d-4527-9a2d-012cffc06351",
        "colab": {
          "base_uri": "https://localhost:8080/",
          "height": 100
        }
      },
      "source": [
        "print(str(len(subStats)) + \" submissions have added to list\")\n",
        "print(\"1st entry is:\")\n",
        "print(list(subStats.values())[0][0][1] + \" created: \" + str(list(subStats.values())[0][0][5]))\n",
        "print(\"Last entry is:\")\n",
        "print(list(subStats.values())[-1][0][1] + \" created: \" + str(list(subStats.values())[-1][0][5]))"
      ],
      "execution_count": 11,
      "outputs": [
        {
          "output_type": "stream",
          "text": [
            "1321 submissions have added to list\n",
            "1st entry is:\n",
            "Coronavirus Australia: China lashes out at Scott Morrison as diplomatic tensions escalate created: 2020-05-01 00:01:55\n",
            "Last entry is:\n",
            "Brazil’s Bolsonaro sits on a ticking coronavirus time bomb created: 2020-05-01 23:54:39\n"
          ],
          "name": "stdout"
        }
      ]
    },
    {
      "cell_type": "code",
      "metadata": {
        "id": "DfvfWI2ggVYY",
        "colab_type": "code",
        "colab": {}
      },
      "source": [
        "# def updateSubs_file():\n",
        "#     upload_count = 0\n",
        "#     location = \"\"\n",
        "#     print(\"input filename of submission file, please add .csv\")\n",
        "    #filename = input()\n",
        "    #file = location + filename\n",
        "    # with open(file, 'w', newline='', encoding='utf-8') as file: \n",
        "    #     a = csv.writer(file, delimiter=',')\n",
        "    #     headers = [\"Post ID\",\"Title\",\"Url\",\"Author\",\"Score\",\"Publish Date\",\"Total No. of Comments\",\"Permalink\",\"Flair\"]\n",
        "    #     a.writerow(headers)\n",
        "    #     for sub in subStats:\n",
        "    #         a.writerow(subStats[sub][0])\n",
        "    #         upload_count+=1\n",
        "               \n",
        "        #print(str(upload_count) + \" submissions have been uploaded\")\n"
      ],
      "execution_count": 0,
      "outputs": []
    },
    {
      "cell_type": "code",
      "metadata": {
        "id": "Wgpicp9_y8TI",
        "colab_type": "code",
        "colab": {
          "base_uri": "https://localhost:8080/",
          "height": 517
        },
        "outputId": "ce8b367e-ab36-49ca-a4af-b46bee9f9536"
      },
      "source": [
        "posts=[]\n",
        "for sub in subStats:\n",
        "  posts.append(subStats[sub][0]) \n",
        " \n",
        "df=pd.DataFrame(posts, columns=[\"Post ID\",\"Title\",\"Url\",\"Author\",\"Score\",\"Publish Date\",\"Total No. of Comments\",\"Permalink\",\"Flair\"])\n",
        "df.head()"
      ],
      "execution_count": 75,
      "outputs": [
        {
          "output_type": "execute_result",
          "data": {
            "text/html": [
              "<div>\n",
              "<style scoped>\n",
              "    .dataframe tbody tr th:only-of-type {\n",
              "        vertical-align: middle;\n",
              "    }\n",
              "\n",
              "    .dataframe tbody tr th {\n",
              "        vertical-align: top;\n",
              "    }\n",
              "\n",
              "    .dataframe thead th {\n",
              "        text-align: right;\n",
              "    }\n",
              "</style>\n",
              "<table border=\"1\" class=\"dataframe\">\n",
              "  <thead>\n",
              "    <tr style=\"text-align: right;\">\n",
              "      <th></th>\n",
              "      <th>Post ID</th>\n",
              "      <th>Title</th>\n",
              "      <th>Url</th>\n",
              "      <th>Author</th>\n",
              "      <th>Score</th>\n",
              "      <th>Publish Date</th>\n",
              "      <th>Total No. of Comments</th>\n",
              "      <th>Permalink</th>\n",
              "      <th>Flair</th>\n",
              "    </tr>\n",
              "  </thead>\n",
              "  <tbody>\n",
              "    <tr>\n",
              "      <th>0</th>\n",
              "      <td>gb7i90</td>\n",
              "      <td>Coronavirus Australia: China lashes out at Sco...</td>\n",
              "      <td>https://www.news.com.au/world/coronavirus/aust...</td>\n",
              "      <td>Scbadiver</td>\n",
              "      <td>1</td>\n",
              "      <td>2020-05-01 00:01:55</td>\n",
              "      <td>7</td>\n",
              "      <td>/r/Coronavirus/comments/gb7i90/coronavirus_aus...</td>\n",
              "      <td>NaN</td>\n",
              "    </tr>\n",
              "    <tr>\n",
              "      <th>1</th>\n",
              "      <td>gb7irp</td>\n",
              "      <td>Delta, Frontier &amp;amp; American Airlines All Jo...</td>\n",
              "      <td>https://www.doctorofcredit.com/delta-frontier-...</td>\n",
              "      <td>white_men_disease</td>\n",
              "      <td>1</td>\n",
              "      <td>2020-05-01 00:02:47</td>\n",
              "      <td>0</td>\n",
              "      <td>/r/Coronavirus/comments/gb7irp/delta_frontier_...</td>\n",
              "      <td>USA</td>\n",
              "    </tr>\n",
              "    <tr>\n",
              "      <th>2</th>\n",
              "      <td>gb7jqn</td>\n",
              "      <td>Texas Walmart employees share nearly $18.9 mil...</td>\n",
              "      <td>https://www.kwtx.com/content/news/Texas-Walmar...</td>\n",
              "      <td>BoyYeetzWorld</td>\n",
              "      <td>1</td>\n",
              "      <td>2020-05-01 00:04:24</td>\n",
              "      <td>25</td>\n",
              "      <td>/r/Coronavirus/comments/gb7jqn/texas_walmart_e...</td>\n",
              "      <td>USA</td>\n",
              "    </tr>\n",
              "    <tr>\n",
              "      <th>3</th>\n",
              "      <td>gb7k7t</td>\n",
              "      <td>The International Dota 2 Championships (bigges...</td>\n",
              "      <td>http://blog.dota2.com/2020/04/the-internationa...</td>\n",
              "      <td>pinoygs</td>\n",
              "      <td>1</td>\n",
              "      <td>2020-05-01 00:05:07</td>\n",
              "      <td>9</td>\n",
              "      <td>/r/Coronavirus/comments/gb7k7t/the_internation...</td>\n",
              "      <td>World</td>\n",
              "    </tr>\n",
              "    <tr>\n",
              "      <th>4</th>\n",
              "      <td>gb7mc3</td>\n",
              "      <td>China exports billions of masks from March to ...</td>\n",
              "      <td>http://www.chinadaily.com.cn/a/202004/26/WS5ea...</td>\n",
              "      <td>flying-fat-cat</td>\n",
              "      <td>1</td>\n",
              "      <td>2020-05-01 00:08:33</td>\n",
              "      <td>25</td>\n",
              "      <td>/r/Coronavirus/comments/gb7mc3/china_exports_b...</td>\n",
              "      <td>Central &amp;amp; East Asia</td>\n",
              "    </tr>\n",
              "  </tbody>\n",
              "</table>\n",
              "</div>"
            ],
            "text/plain": [
              "  Post ID  ...                    Flair\n",
              "0  gb7i90  ...                      NaN\n",
              "1  gb7irp  ...                      USA\n",
              "2  gb7jqn  ...                      USA\n",
              "3  gb7k7t  ...                    World\n",
              "4  gb7mc3  ...  Central &amp; East Asia\n",
              "\n",
              "[5 rows x 9 columns]"
            ]
          },
          "metadata": {
            "tags": []
          },
          "execution_count": 75
        }
      ]
    },
    {
      "cell_type": "code",
      "metadata": {
        "id": "dq2OwuWoH7mn",
        "colab_type": "code",
        "colab": {}
      },
      "source": [
        "#df[\"Title\"]=df[\"Title\"].str.decode('utf-8')"
      ],
      "execution_count": 0,
      "outputs": []
    },
    {
      "cell_type": "code",
      "metadata": {
        "id": "b259CmUoDHpX",
        "colab_type": "code",
        "colab": {
          "base_uri": "https://localhost:8080/",
          "height": 501
        },
        "outputId": "f37e408e-d256-4ce1-fd27-52686f526f2c"
      },
      "source": [
        "df.sort_values(\"Total No. of Comments\", axis = 0, ascending = False, \n",
        "                 inplace = True, na_position ='last') \n",
        "df.head()"
      ],
      "execution_count": 76,
      "outputs": [
        {
          "output_type": "execute_result",
          "data": {
            "text/html": [
              "<div>\n",
              "<style scoped>\n",
              "    .dataframe tbody tr th:only-of-type {\n",
              "        vertical-align: middle;\n",
              "    }\n",
              "\n",
              "    .dataframe tbody tr th {\n",
              "        vertical-align: top;\n",
              "    }\n",
              "\n",
              "    .dataframe thead th {\n",
              "        text-align: right;\n",
              "    }\n",
              "</style>\n",
              "<table border=\"1\" class=\"dataframe\">\n",
              "  <thead>\n",
              "    <tr style=\"text-align: right;\">\n",
              "      <th></th>\n",
              "      <th>Post ID</th>\n",
              "      <th>Title</th>\n",
              "      <th>Url</th>\n",
              "      <th>Author</th>\n",
              "      <th>Score</th>\n",
              "      <th>Publish Date</th>\n",
              "      <th>Total No. of Comments</th>\n",
              "      <th>Permalink</th>\n",
              "      <th>Flair</th>\n",
              "    </tr>\n",
              "  </thead>\n",
              "  <tbody>\n",
              "    <tr>\n",
              "      <th>809</th>\n",
              "      <td>gbldq9</td>\n",
              "      <td>Coronavirus homeschooling: 77 percent of paren...</td>\n",
              "      <td>https://www.foxnews.com/lifestyle/coronavirus-...</td>\n",
              "      <td>Sumit316</td>\n",
              "      <td>1</td>\n",
              "      <td>2020-05-01 16:33:11</td>\n",
              "      <td>2184</td>\n",
              "      <td>/r/Coronavirus/comments/gbldq9/coronavirus_hom...</td>\n",
              "      <td>USA</td>\n",
              "    </tr>\n",
              "    <tr>\n",
              "      <th>627</th>\n",
              "      <td>gbih0c</td>\n",
              "      <td>Daily Discussion Post - May 01 | Questions, im...</td>\n",
              "      <td>https://www.reddit.com/r/Coronavirus/comments/...</td>\n",
              "      <td>AutoModerator</td>\n",
              "      <td>1</td>\n",
              "      <td>2020-05-01 13:52:38</td>\n",
              "      <td>2112</td>\n",
              "      <td>/r/Coronavirus/comments/gbih0c/daily_discussio...</td>\n",
              "      <td>NaN</td>\n",
              "    </tr>\n",
              "    <tr>\n",
              "      <th>656</th>\n",
              "      <td>gbiwcm</td>\n",
              "      <td>Chinese state media releases animated propagan...</td>\n",
              "      <td>https://www.abc.net.au/news/2020-05-01/china-s...</td>\n",
              "      <td>Classic-Durian</td>\n",
              "      <td>1</td>\n",
              "      <td>2020-05-01 14:17:32</td>\n",
              "      <td>1866</td>\n",
              "      <td>/r/Coronavirus/comments/gbiwcm/chinese_state_m...</td>\n",
              "      <td>NaN</td>\n",
              "    </tr>\n",
              "    <tr>\n",
              "      <th>189</th>\n",
              "      <td>gbaq2w</td>\n",
              "      <td>Japanese island suffering second wave of coron...</td>\n",
              "      <td>https://www.telegraph.co.uk/news/2020/04/29/ja...</td>\n",
              "      <td>N19864</td>\n",
              "      <td>1</td>\n",
              "      <td>2020-05-01 03:31:26</td>\n",
              "      <td>1737</td>\n",
              "      <td>/r/Coronavirus/comments/gbaq2w/japanese_island...</td>\n",
              "      <td>Central &amp;amp; East Asia</td>\n",
              "    </tr>\n",
              "    <tr>\n",
              "      <th>592</th>\n",
              "      <td>gbhz0c</td>\n",
              "      <td>After a day of armed protesters and a GOP laws...</td>\n",
              "      <td>https://www.washingtonpost.com/nation/2020/05/...</td>\n",
              "      <td>HeinieKaboobler</td>\n",
              "      <td>1</td>\n",
              "      <td>2020-05-01 13:20:27</td>\n",
              "      <td>1472</td>\n",
              "      <td>/r/Coronavirus/comments/gbhz0c/after_a_day_of_...</td>\n",
              "      <td>USA</td>\n",
              "    </tr>\n",
              "  </tbody>\n",
              "</table>\n",
              "</div>"
            ],
            "text/plain": [
              "    Post ID  ...                    Flair\n",
              "809  gbldq9  ...                      USA\n",
              "627  gbih0c  ...                      NaN\n",
              "656  gbiwcm  ...                      NaN\n",
              "189  gbaq2w  ...  Central &amp; East Asia\n",
              "592  gbhz0c  ...                      USA\n",
              "\n",
              "[5 rows x 9 columns]"
            ]
          },
          "metadata": {
            "tags": []
          },
          "execution_count": 76
        }
      ]
    },
    {
      "cell_type": "code",
      "metadata": {
        "id": "XZLUC0xWEyiB",
        "colab_type": "code",
        "colab": {
          "base_uri": "https://localhost:8080/",
          "height": 501
        },
        "outputId": "2b47aed9-cb46-42ec-b9c5-bdb74d03efec"
      },
      "source": [
        "df=df[df[\"Total No. of Comments\"]>300]\n",
        "df.head()"
      ],
      "execution_count": 78,
      "outputs": [
        {
          "output_type": "execute_result",
          "data": {
            "text/html": [
              "<div>\n",
              "<style scoped>\n",
              "    .dataframe tbody tr th:only-of-type {\n",
              "        vertical-align: middle;\n",
              "    }\n",
              "\n",
              "    .dataframe tbody tr th {\n",
              "        vertical-align: top;\n",
              "    }\n",
              "\n",
              "    .dataframe thead th {\n",
              "        text-align: right;\n",
              "    }\n",
              "</style>\n",
              "<table border=\"1\" class=\"dataframe\">\n",
              "  <thead>\n",
              "    <tr style=\"text-align: right;\">\n",
              "      <th></th>\n",
              "      <th>Post ID</th>\n",
              "      <th>Title</th>\n",
              "      <th>Url</th>\n",
              "      <th>Author</th>\n",
              "      <th>Score</th>\n",
              "      <th>Publish Date</th>\n",
              "      <th>Total No. of Comments</th>\n",
              "      <th>Permalink</th>\n",
              "      <th>Flair</th>\n",
              "    </tr>\n",
              "  </thead>\n",
              "  <tbody>\n",
              "    <tr>\n",
              "      <th>809</th>\n",
              "      <td>gbldq9</td>\n",
              "      <td>Coronavirus homeschooling: 77 percent of paren...</td>\n",
              "      <td>https://www.foxnews.com/lifestyle/coronavirus-...</td>\n",
              "      <td>Sumit316</td>\n",
              "      <td>1</td>\n",
              "      <td>2020-05-01 16:33:11</td>\n",
              "      <td>2184</td>\n",
              "      <td>/r/Coronavirus/comments/gbldq9/coronavirus_hom...</td>\n",
              "      <td>USA</td>\n",
              "    </tr>\n",
              "    <tr>\n",
              "      <th>627</th>\n",
              "      <td>gbih0c</td>\n",
              "      <td>Daily Discussion Post - May 01 | Questions, im...</td>\n",
              "      <td>https://www.reddit.com/r/Coronavirus/comments/...</td>\n",
              "      <td>AutoModerator</td>\n",
              "      <td>1</td>\n",
              "      <td>2020-05-01 13:52:38</td>\n",
              "      <td>2112</td>\n",
              "      <td>/r/Coronavirus/comments/gbih0c/daily_discussio...</td>\n",
              "      <td>NaN</td>\n",
              "    </tr>\n",
              "    <tr>\n",
              "      <th>656</th>\n",
              "      <td>gbiwcm</td>\n",
              "      <td>Chinese state media releases animated propagan...</td>\n",
              "      <td>https://www.abc.net.au/news/2020-05-01/china-s...</td>\n",
              "      <td>Classic-Durian</td>\n",
              "      <td>1</td>\n",
              "      <td>2020-05-01 14:17:32</td>\n",
              "      <td>1866</td>\n",
              "      <td>/r/Coronavirus/comments/gbiwcm/chinese_state_m...</td>\n",
              "      <td>NaN</td>\n",
              "    </tr>\n",
              "    <tr>\n",
              "      <th>189</th>\n",
              "      <td>gbaq2w</td>\n",
              "      <td>Japanese island suffering second wave of coron...</td>\n",
              "      <td>https://www.telegraph.co.uk/news/2020/04/29/ja...</td>\n",
              "      <td>N19864</td>\n",
              "      <td>1</td>\n",
              "      <td>2020-05-01 03:31:26</td>\n",
              "      <td>1737</td>\n",
              "      <td>/r/Coronavirus/comments/gbaq2w/japanese_island...</td>\n",
              "      <td>Central &amp;amp; East Asia</td>\n",
              "    </tr>\n",
              "    <tr>\n",
              "      <th>592</th>\n",
              "      <td>gbhz0c</td>\n",
              "      <td>After a day of armed protesters and a GOP laws...</td>\n",
              "      <td>https://www.washingtonpost.com/nation/2020/05/...</td>\n",
              "      <td>HeinieKaboobler</td>\n",
              "      <td>1</td>\n",
              "      <td>2020-05-01 13:20:27</td>\n",
              "      <td>1472</td>\n",
              "      <td>/r/Coronavirus/comments/gbhz0c/after_a_day_of_...</td>\n",
              "      <td>USA</td>\n",
              "    </tr>\n",
              "  </tbody>\n",
              "</table>\n",
              "</div>"
            ],
            "text/plain": [
              "    Post ID  ...                    Flair\n",
              "809  gbldq9  ...                      USA\n",
              "627  gbih0c  ...                      NaN\n",
              "656  gbiwcm  ...                      NaN\n",
              "189  gbaq2w  ...  Central &amp; East Asia\n",
              "592  gbhz0c  ...                      USA\n",
              "\n",
              "[5 rows x 9 columns]"
            ]
          },
          "metadata": {
            "tags": []
          },
          "execution_count": 78
        }
      ]
    },
    {
      "cell_type": "code",
      "metadata": {
        "id": "8c4g7yJ9FHkj",
        "colab_type": "code",
        "colab": {}
      },
      "source": [
        "#produce excel\n",
        "#caution encoding=\"uft-8\" does not work. only \"utf-8-sig\"\n",
        "#df.to_csv(str(after)+\".csv\",encoding=\"utf-8-sig\")"
      ],
      "execution_count": 0,
      "outputs": []
    },
    {
      "cell_type": "code",
      "metadata": {
        "id": "hUrmF5deP7z5",
        "colab_type": "code",
        "colab": {}
      },
      "source": [
        "#df.title text file no index&header\n",
        "df[\"Title\"].to_csv(str(after)+\".txt\",index=False,header=None, encoding=\"utf-8-sig\")"
      ],
      "execution_count": 0,
      "outputs": []
    }
  ]
}
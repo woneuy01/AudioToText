{
  "nbformat": 4,
  "nbformat_minor": 0,
  "metadata": {
    "colab": {
      "name": "Reddit__sentiWordNet.ipynb",
      "provenance": [],
      "collapsed_sections": [],
      "mount_file_id": "1wgBz0E0-lY4wyvypmLgEw_6JJ_jsFBAk",
      "authorship_tag": "ABX9TyMtWJ4MFxZgEjwDsya0e7P0",
      "include_colab_link": true
    },
    "kernelspec": {
      "name": "python3",
      "display_name": "Python 3"
    },
    "accelerator": "GPU"
  },
  "cells": [
    {
      "cell_type": "markdown",
      "metadata": {
        "id": "view-in-github",
        "colab_type": "text"
      },
      "source": [
        "<a href=\"https://colab.research.google.com/github/woneuy01/AudioToText/blob/master/Reddit__sentiWordNet.ipynb\" target=\"_parent\"><img src=\"https://colab.research.google.com/assets/colab-badge.svg\" alt=\"Open In Colab\"/></a>"
      ]
    },
    {
      "cell_type": "code",
      "metadata": {
        "id": "9tEH6Gb0wuuh",
        "colab_type": "code",
        "colab": {
          "base_uri": "https://localhost:8080/",
          "height": 134
        },
        "outputId": "1a1cf84f-4b8f-4636-f06b-242421ed384b"
      },
      "source": [
        "import collections\n",
        "import nltk\n",
        "import os\n",
        "nltk.download('wordnet')\n",
        "import numpy as np\n",
        "import pandas as pd\n",
        "#from nltk.stem import PorterStemmer\n",
        "from nltk.stem import WordNetLemmatizer\n",
        "from nltk.corpus import sentiwordnet as swn, wordnet as wn\n",
        "nltk.download('punkt')\n",
        "nltk.download('sentiwordnet')"
      ],
      "execution_count": 6,
      "outputs": [
        {
          "output_type": "stream",
          "text": [
            "[nltk_data] Downloading package wordnet to /root/nltk_data...\n",
            "[nltk_data]   Package wordnet is already up-to-date!\n",
            "[nltk_data] Downloading package punkt to /root/nltk_data...\n",
            "[nltk_data]   Package punkt is already up-to-date!\n",
            "[nltk_data] Downloading package sentiwordnet to /root/nltk_data...\n",
            "[nltk_data]   Package sentiwordnet is already up-to-date!\n"
          ],
          "name": "stdout"
        },
        {
          "output_type": "execute_result",
          "data": {
            "text/plain": [
              "True"
            ]
          },
          "metadata": {
            "tags": []
          },
          "execution_count": 6
        }
      ]
    },
    {
      "cell_type": "code",
      "metadata": {
        "id": "G6xOz1I7w0Cl",
        "colab_type": "code",
        "colab": {
          "base_uri": "https://localhost:8080/",
          "height": 401
        },
        "outputId": "9b9e508f-d550-4665-ccfd-e4486718ab66"
      },
      "source": [
        "import glob\n",
        "import pandas as pd\n",
        "from pandas import DataFrame\n",
        "# import multiple cvs file\n",
        "#path =r'C:\\DRO\\DCL_rawdata_files' \n",
        "#filenames = glob.glob(path + \"/*.csv\")\n",
        "filenames = glob.glob(\"*.csv\") # file is in the same directory\n",
        "print(filenames)\n",
        "dfs = []\n",
        "for filename in filenames:\n",
        "    dfs.append(pd.read_csv(filename))\n",
        "# Concatenate all data into one DataFrame\n",
        "big_frame = pd.concat(dfs, ignore_index=True)\n",
        "print(big_frame)\n",
        "#making file as dataframe\n",
        "df = DataFrame(big_frame,columns=['Unnamed: 0',\t'permalink',\t'comment',\t'subreddit',\n",
        "                             'subreddit_id',\t'total_awards_received',\t'created'])\n",
        "#df.rename(columns={'Unnamed: 0':'index'})\n",
        "print(df.head())\n",
        "#stemmer = PorterStemmer()\n",
        "wordnet_lemmatizer = WordNetLemmatizer()\n",
        "\n",
        "def tokenize(text):\n",
        "        tokens = [word for word in nltk.word_tokenize(text)] \n",
        "        lemma = [wordnet_lemmatizer.lemmatize(item,pos=\"v\").lower() for item in tokens]\n",
        "        return lemma\n"
      ],
      "execution_count": 7,
      "outputs": [
        {
          "output_type": "stream",
          "text": [
            "['reddit_comments2020-06-08 00_00_00_2020-06-14 00_00_00.csv', 'reddit_comments2020-06-01 00_00_00_2020-06-07 00_00_00.csv']\n",
            "      Unnamed: 0  ...              created\n",
            "0              0  ...  2020-07-03 14:39:56\n",
            "1              1  ...  2020-07-01 16:03:42\n",
            "2              2  ...  2020-07-01 14:53:53\n",
            "3              3  ...  2020-06-19 11:36:07\n",
            "4              4  ...  2020-06-19 05:30:39\n",
            "...          ...  ...                  ...\n",
            "9944        4400  ...       6/4/2020 20:52\n",
            "9945        1857  ...       6/2/2020 11:50\n",
            "9946         783  ...       6/6/2020 20:40\n",
            "9947          16  ...        6/5/2020 2:54\n",
            "9948        2319  ...       6/6/2020 23:29\n",
            "\n",
            "[9949 rows x 7 columns]\n",
            "   Unnamed: 0  ...              created\n",
            "0           0  ...  2020-07-03 14:39:56\n",
            "1           1  ...  2020-07-01 16:03:42\n",
            "2           2  ...  2020-07-01 14:53:53\n",
            "3           3  ...  2020-06-19 11:36:07\n",
            "4           4  ...  2020-06-19 05:30:39\n",
            "\n",
            "[5 rows x 7 columns]\n"
          ],
          "name": "stdout"
        }
      ]
    },
    {
      "cell_type": "code",
      "metadata": {
        "id": "4nfLhyfJyx_9",
        "colab_type": "code",
        "colab": {}
      },
      "source": [
        "def score_sentiwordnet(doc):   \n",
        "    synsets = (wn.synsets(w) for w in tokenize(doc) if w is not None) # tokenize and lookup synonyms in WordNet\n",
        "    words = (s[0].name() for s in synsets if s is not None and len(s) > 0) # use the first (most common) synonym\n",
        "    words = (swn.senti_synset(s) for s in words) # get sentiment scores which have pos, neg, and neutral parts\n",
        "    scores = ((1 - w.obj_score()) * (w.pos_score() - w.neg_score()) for w in words) # calculate individual word scores\n",
        "    return sum(scores)                             #(sum(scores) > 0)"
      ],
      "execution_count": 4,
      "outputs": []
    },
    {
      "cell_type": "code",
      "metadata": {
        "id": "wUEdTQi6MsJP",
        "colab_type": "code",
        "cellView": "code",
        "colab": {}
      },
      "source": [
        "score = [] \n",
        "for comment in df['comment']:\n",
        "  #print(comment)\n",
        "  pol_score = score_sentiwordnet(comment)\n",
        "  #print(pol_score)\n",
        "  score.append(pol_score)\n",
        "\n",
        "df['sentiwordNet']=score"
      ],
      "execution_count": null,
      "outputs": []
    },
    {
      "cell_type": "code",
      "metadata": {
        "id": "2VivqazatglC",
        "colab_type": "code",
        "colab": {
          "base_uri": "https://localhost:8080/",
          "height": 1000
        },
        "outputId": "2a8975c7-913a-4c17-ff77-beb0b61a3b1e"
      },
      "source": [
        "df.head(10)"
      ],
      "execution_count": 17,
      "outputs": [
        {
          "output_type": "execute_result",
          "data": {
            "text/html": [
              "<div>\n",
              "<style scoped>\n",
              "    .dataframe tbody tr th:only-of-type {\n",
              "        vertical-align: middle;\n",
              "    }\n",
              "\n",
              "    .dataframe tbody tr th {\n",
              "        vertical-align: top;\n",
              "    }\n",
              "\n",
              "    .dataframe thead th {\n",
              "        text-align: right;\n",
              "    }\n",
              "</style>\n",
              "<table border=\"1\" class=\"dataframe\">\n",
              "  <thead>\n",
              "    <tr style=\"text-align: right;\">\n",
              "      <th></th>\n",
              "      <th>Unnamed: 0</th>\n",
              "      <th>permalink</th>\n",
              "      <th>comment</th>\n",
              "      <th>subreddit</th>\n",
              "      <th>subreddit_id</th>\n",
              "      <th>total_awards_received</th>\n",
              "      <th>created</th>\n",
              "      <th>sentiwordNet</th>\n",
              "    </tr>\n",
              "  </thead>\n",
              "  <tbody>\n",
              "    <tr>\n",
              "      <th>0</th>\n",
              "      <td>0</td>\n",
              "      <td>/r/Coronavirus/comments/h0p2bs/its_serious_sou...</td>\n",
              "      <td>Still waiting on that thousand bucks, buddy.</td>\n",
              "      <td>Coronavirus</td>\n",
              "      <td>t5_2x4yx</td>\n",
              "      <td>0</td>\n",
              "      <td>2020-07-03 14:39:56</td>\n",
              "      <td>-0.234375</td>\n",
              "    </tr>\n",
              "    <tr>\n",
              "      <th>1</th>\n",
              "      <td>1</td>\n",
              "      <td>/r/Coronavirus/comments/h0p2bs/its_serious_sou...</td>\n",
              "      <td>[removed]</td>\n",
              "      <td>Coronavirus</td>\n",
              "      <td>t5_2x4yx</td>\n",
              "      <td>0</td>\n",
              "      <td>2020-07-01 16:03:42</td>\n",
              "      <td>0.000000</td>\n",
              "    </tr>\n",
              "    <tr>\n",
              "      <th>2</th>\n",
              "      <td>2</td>\n",
              "      <td>/r/Coronavirus/comments/h0p2bs/its_serious_sou...</td>\n",
              "      <td>So uhhh.... about that thousand dollars?</td>\n",
              "      <td>Coronavirus</td>\n",
              "      <td>t5_2x4yx</td>\n",
              "      <td>0</td>\n",
              "      <td>2020-07-01 14:53:53</td>\n",
              "      <td>0.000000</td>\n",
              "    </tr>\n",
              "    <tr>\n",
              "      <th>3</th>\n",
              "      <td>3</td>\n",
              "      <td>/r/Coronavirus/comments/h0p2bs/its_serious_sou...</td>\n",
              "      <td>They seem ok! \\n\\nBased on a off hand comment ...</td>\n",
              "      <td>Coronavirus</td>\n",
              "      <td>t5_2x4yx</td>\n",
              "      <td>0</td>\n",
              "      <td>2020-06-19 11:36:07</td>\n",
              "      <td>0.687500</td>\n",
              "    </tr>\n",
              "    <tr>\n",
              "      <th>4</th>\n",
              "      <td>4</td>\n",
              "      <td>/r/Coronavirus/comments/h0p2bs/its_serious_sou...</td>\n",
              "      <td>Any news?</td>\n",
              "      <td>Coronavirus</td>\n",
              "      <td>t5_2x4yx</td>\n",
              "      <td>0</td>\n",
              "      <td>2020-06-19 05:30:39</td>\n",
              "      <td>0.000000</td>\n",
              "    </tr>\n",
              "    <tr>\n",
              "      <th>5</th>\n",
              "      <td>5</td>\n",
              "      <td>/r/Coronavirus/comments/h0p2bs/its_serious_sou...</td>\n",
              "      <td>Yeah we all get to choose, that’s totally fine...</td>\n",
              "      <td>Coronavirus</td>\n",
              "      <td>t5_2x4yx</td>\n",
              "      <td>0</td>\n",
              "      <td>2020-06-18 23:12:46</td>\n",
              "      <td>-0.171875</td>\n",
              "    </tr>\n",
              "    <tr>\n",
              "      <th>6</th>\n",
              "      <td>6</td>\n",
              "      <td>/r/Coronavirus/comments/h0p2bs/its_serious_sou...</td>\n",
              "      <td>Because I like one more layer in between mysel...</td>\n",
              "      <td>Coronavirus</td>\n",
              "      <td>t5_2x4yx</td>\n",
              "      <td>0</td>\n",
              "      <td>2020-06-18 21:56:23</td>\n",
              "      <td>0.203125</td>\n",
              "    </tr>\n",
              "    <tr>\n",
              "      <th>7</th>\n",
              "      <td>7</td>\n",
              "      <td>/r/Coronavirus/comments/h0p2bs/its_serious_sou...</td>\n",
              "      <td>thats some bull</td>\n",
              "      <td>Coronavirus</td>\n",
              "      <td>t5_2x4yx</td>\n",
              "      <td>0</td>\n",
              "      <td>2020-06-18 16:19:50</td>\n",
              "      <td>0.000000</td>\n",
              "    </tr>\n",
              "    <tr>\n",
              "      <th>8</th>\n",
              "      <td>8</td>\n",
              "      <td>/r/Coronavirus/comments/h0p2bs/its_serious_sou...</td>\n",
              "      <td>maybe thats why they have no problem giving ba...</td>\n",
              "      <td>Coronavirus</td>\n",
              "      <td>t5_2x4yx</td>\n",
              "      <td>0</td>\n",
              "      <td>2020-06-18 16:19:27</td>\n",
              "      <td>-1.203125</td>\n",
              "    </tr>\n",
              "    <tr>\n",
              "      <th>9</th>\n",
              "      <td>9</td>\n",
              "      <td>/r/Coronavirus/comments/h0p2bs/its_serious_sou...</td>\n",
              "      <td>Either that or american education</td>\n",
              "      <td>Coronavirus</td>\n",
              "      <td>t5_2x4yx</td>\n",
              "      <td>0</td>\n",
              "      <td>2020-06-18 03:38:53</td>\n",
              "      <td>0.062500</td>\n",
              "    </tr>\n",
              "  </tbody>\n",
              "</table>\n",
              "</div>"
            ],
            "text/plain": [
              "   Unnamed: 0  ... sentiwordNet\n",
              "0           0  ...    -0.234375\n",
              "1           1  ...     0.000000\n",
              "2           2  ...     0.000000\n",
              "3           3  ...     0.687500\n",
              "4           4  ...     0.000000\n",
              "5           5  ...    -0.171875\n",
              "6           6  ...     0.203125\n",
              "7           7  ...     0.000000\n",
              "8           8  ...    -1.203125\n",
              "9           9  ...     0.062500\n",
              "\n",
              "[10 rows x 8 columns]"
            ]
          },
          "metadata": {
            "tags": []
          },
          "execution_count": 17
        }
      ]
    },
    {
      "cell_type": "code",
      "metadata": {
        "id": "nUhc1G68_p0Z",
        "colab_type": "code",
        "colab": {}
      },
      "source": [
        "df.to_csv(\"reddit_comments\"+\"*\"+\".csv\",encoding=\"utf-8-sig\")"
      ],
      "execution_count": 18,
      "outputs": []
    }
  ]
}
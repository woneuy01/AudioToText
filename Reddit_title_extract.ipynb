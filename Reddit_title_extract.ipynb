{
  "nbformat": 4,
  "nbformat_minor": 0,
  "metadata": {
    "colab": {
      "name": "Reddit_title_extract.ipynb",
      "provenance": [],
      "collapsed_sections": [],
      "authorship_tag": "ABX9TyNmUJxa5KTGCKo5fx06yVOF",
      "include_colab_link": true
    },
    "kernelspec": {
      "name": "python3",
      "display_name": "Python 3"
    }
  },
  "cells": [
    {
      "cell_type": "markdown",
      "metadata": {
        "id": "view-in-github",
        "colab_type": "text"
      },
      "source": [
        "<a href=\"https://colab.research.google.com/github/woneuy01/AudioToText/blob/master/Reddit_title_extract.ipynb\" target=\"_parent\"><img src=\"https://colab.research.google.com/assets/colab-badge.svg\" alt=\"Open In Colab\"/></a>"
      ]
    },
    {
      "cell_type": "code",
      "metadata": {
        "id": "hAkPuTgXeLGu",
        "colab_type": "code",
        "colab": {}
      },
      "source": [
        "import pandas as pd\n",
        "import numpy as np\n",
        "import requests\n",
        "import json\n",
        "import csv\n",
        "import time\n",
        "import datetime"
      ],
      "execution_count": 0,
      "outputs": []
    },
    {
      "cell_type": "code",
      "metadata": {
        "id": "DFz3wj1ReNjH",
        "colab_type": "code",
        "colab": {}
      },
      "source": [
        "def getPushshiftData(query, after, before, sub):\n",
        "    url = 'https://api.pushshift.io/reddit/search/submission/?title='+str(query)+'&size=100&after='+str(after)+'&before='+str(before)+'&subreddit='+str(sub)\n",
        "    print(url)\n",
        "    r = requests.get(url)\n",
        "    data = json.loads(r.text)\n",
        "    return data['data']"
      ],
      "execution_count": 0,
      "outputs": []
    },
    {
      "cell_type": "code",
      "metadata": {
        "id": "OlqswullejXF",
        "colab_type": "code",
        "colab": {}
      },
      "source": [
        "def collectSubData(subm):\n",
        "    subData = list() #list to store data points\n",
        "    title = subm['title']\n",
        "    url = subm['url']\n",
        "    try:\n",
        "        flair = subm['link_flair_text']\n",
        "    except KeyError:\n",
        "        flair = \"NaN\"    \n",
        "    author = subm['author']\n",
        "    sub_id = subm['id']\n",
        "    score = subm['score']\n",
        "    created = datetime.datetime.fromtimestamp(subm['created_utc']) #1520561700.0\n",
        "    numComms = subm['num_comments']\n",
        "    permalink = subm['permalink']\n",
        "    \n",
        "    subData.append((sub_id,title,url,author,score,created,numComms,permalink,flair))\n",
        "    subStats[sub_id] = subData"
      ],
      "execution_count": 0,
      "outputs": []
    },
    {
      "cell_type": "code",
      "metadata": {
        "id": "G3VLWwAM0Wfn",
        "colab_type": "code",
        "colab": {
          "base_uri": "https://localhost:8080/",
          "height": 33
        },
        "outputId": "882036b4-a7e8-4b84-ac32-90755c5ad64c"
      },
      "source": [
        "from datetime import datetime\n",
        "\n",
        "### input time here\n",
        "time_before=\"20/06/01 00:00:00\" # to if set as 5/9 end date input 5/10\n",
        "time_before = datetime.strptime(time_before, '%y/%m/%d %H:%M:%S')\n",
        "time_after=\"20/05/29 00:00:00\" # from\n",
        "time_after = datetime.strptime(time_after, '%y/%m/%d %H:%M:%S')\n",
        "#now = datetime.now()\n",
        "\n",
        "before = datetime.timestamp(time_before)\n",
        "after = datetime.timestamp(time_after)\n",
        "before = str(int(before)) #October 1st\n",
        "after = str(int(after)) #January 1st \n",
        "print(\"timestamp =\",  after,before )"
      ],
      "execution_count": 307,
      "outputs": [
        {
          "output_type": "stream",
          "text": [
            "timestamp = 1590710400 1590969600\n"
          ],
          "name": "stdout"
        }
      ]
    },
    {
      "cell_type": "code",
      "metadata": {
        "id": "tBORCr5ogjcT",
        "colab_type": "code",
        "colab": {}
      },
      "source": [
        "#Subreddit to query\n",
        "sub='coronavirus'\n",
        "query = \"\"\n",
        "subCount = 0\n",
        "subStats = {}\n"
      ],
      "execution_count": 0,
      "outputs": []
    },
    {
      "cell_type": "code",
      "metadata": {
        "id": "MLh38YcXgMuO",
        "colab_type": "code",
        "outputId": "ca87f7a1-ed54-4cd5-bbe9-e08b7cac1ad4",
        "colab": {
          "base_uri": "https://localhost:8080/",
          "height": 1000
        }
      },
      "source": [
        "import datetime\n",
        "data = getPushshiftData(query, after, before, sub)\n",
        "# Will run until all posts have been gathered \n",
        "# from the 'after' date up until before date\n",
        "while len(data) > 0:\n",
        "    for submission in data:\n",
        "        collectSubData(submission)\n",
        "        subCount+=1\n",
        "    # Calls getPushshiftData() with the created date of the last submission\n",
        "    print(len(data))\n",
        "    print(str(datetime.datetime.fromtimestamp(data[-1]['created_utc'])))\n",
        "    after = data[-1]['created_utc']\n",
        "    try:\n",
        "      data = getPushshiftData(query, after, before, sub)\n",
        "    except Exception:\n",
        "      pass\n",
        "    \n",
        "print(len(data))"
      ],
      "execution_count": 309,
      "outputs": [
        {
          "output_type": "stream",
          "text": [
            "https://api.pushshift.io/reddit/search/submission/?title=&size=100&after=1590710400&before=1590969600&subreddit=coronavirus\n",
            "100\n",
            "2020-05-29 02:51:24\n",
            "https://api.pushshift.io/reddit/search/submission/?title=&size=100&after=1590720684&before=1590969600&subreddit=coronavirus\n",
            "100\n",
            "2020-05-29 05:04:50\n",
            "https://api.pushshift.io/reddit/search/submission/?title=&size=100&after=1590728690&before=1590969600&subreddit=coronavirus\n",
            "100\n",
            "2020-05-29 10:39:24\n",
            "https://api.pushshift.io/reddit/search/submission/?title=&size=100&after=1590748764&before=1590969600&subreddit=coronavirus\n",
            "100\n",
            "2020-05-29 14:07:08\n",
            "https://api.pushshift.io/reddit/search/submission/?title=&size=100&after=1590761228&before=1590969600&subreddit=coronavirus\n",
            "100\n",
            "2020-05-29 16:27:28\n",
            "https://api.pushshift.io/reddit/search/submission/?title=&size=100&after=1590769648&before=1590969600&subreddit=coronavirus\n",
            "100\n",
            "2020-05-29 18:57:43\n",
            "https://api.pushshift.io/reddit/search/submission/?title=&size=100&after=1590778663&before=1590969600&subreddit=coronavirus\n",
            "100\n",
            "2020-05-29 21:06:13\n",
            "https://api.pushshift.io/reddit/search/submission/?title=&size=100&after=1590786373&before=1590969600&subreddit=coronavirus\n",
            "100\n",
            "2020-05-30 00:18:47\n",
            "https://api.pushshift.io/reddit/search/submission/?title=&size=100&after=1590797927&before=1590969600&subreddit=coronavirus\n",
            "100\n",
            "2020-05-30 04:08:47\n",
            "https://api.pushshift.io/reddit/search/submission/?title=&size=100&after=1590811727&before=1590969600&subreddit=coronavirus\n",
            "100\n",
            "2020-05-30 09:39:33\n",
            "https://api.pushshift.io/reddit/search/submission/?title=&size=100&after=1590831573&before=1590969600&subreddit=coronavirus\n",
            "100\n",
            "2020-05-30 14:27:46\n",
            "https://api.pushshift.io/reddit/search/submission/?title=&size=100&after=1590848866&before=1590969600&subreddit=coronavirus\n",
            "100\n",
            "2020-05-30 18:30:19\n",
            "https://api.pushshift.io/reddit/search/submission/?title=&size=100&after=1590863419&before=1590969600&subreddit=coronavirus\n",
            "100\n",
            "2020-05-30 21:53:26\n",
            "https://api.pushshift.io/reddit/search/submission/?title=&size=100&after=1590875606&before=1590969600&subreddit=coronavirus\n",
            "100\n",
            "2020-05-31 01:27:31\n",
            "https://api.pushshift.io/reddit/search/submission/?title=&size=100&after=1590888451&before=1590969600&subreddit=coronavirus\n",
            "100\n",
            "2020-05-31 08:04:38\n",
            "https://api.pushshift.io/reddit/search/submission/?title=&size=100&after=1590912278&before=1590969600&subreddit=coronavirus\n",
            "100\n",
            "2020-05-31 13:23:19\n",
            "https://api.pushshift.io/reddit/search/submission/?title=&size=100&after=1590931399&before=1590969600&subreddit=coronavirus\n",
            "100\n",
            "2020-05-31 18:30:24\n",
            "https://api.pushshift.io/reddit/search/submission/?title=&size=100&after=1590949824&before=1590969600&subreddit=coronavirus\n",
            "94\n",
            "2020-05-31 23:59:29\n",
            "https://api.pushshift.io/reddit/search/submission/?title=&size=100&after=1590969569&before=1590969600&subreddit=coronavirus\n",
            "94\n",
            "2020-05-31 23:59:29\n",
            "https://api.pushshift.io/reddit/search/submission/?title=&size=100&after=1590969569&before=1590969600&subreddit=coronavirus\n",
            "0\n"
          ],
          "name": "stdout"
        }
      ]
    },
    {
      "cell_type": "code",
      "metadata": {
        "id": "elV8zAUBgQdl",
        "colab_type": "code",
        "outputId": "a2868bde-c200-4993-a1d7-3a9d4df46fcb",
        "colab": {
          "base_uri": "https://localhost:8080/",
          "height": 120
        }
      },
      "source": [
        "print(str(len(subStats)) + \" submissions have added to list\")\n",
        "print(\"1st entry is:\")\n",
        "print(list(subStats.values())[0][0][1] + \" created: \" + str(list(subStats.values())[0][0][5]))\n",
        "print(\"Last entry is:\")\n",
        "print(list(subStats.values())[-1][0][1] + \" created: \" + str(list(subStats.values())[-1][0][5]))"
      ],
      "execution_count": 310,
      "outputs": [
        {
          "output_type": "stream",
          "text": [
            "1794 submissions have added to list\n",
            "1st entry is:\n",
            "HOW HIGH WIND SPEED CAN REDUCE NEGATIVE EFFECTS OF CONFIRMED CASES AND TOTAL DEATHS OF COVID-19 INFECTION IN SOCIETY created: 2020-05-29 00:03:45\n",
            "Last entry is:\n",
            "New coronavirus losing potency, top Italian doctor says created: 2020-05-31 23:59:29\n"
          ],
          "name": "stdout"
        }
      ]
    },
    {
      "cell_type": "code",
      "metadata": {
        "id": "DfvfWI2ggVYY",
        "colab_type": "code",
        "colab": {}
      },
      "source": [
        "# def updateSubs_file():\n",
        "#     upload_count = 0\n",
        "#     location = \"\"\n",
        "#     print(\"input filename of submission file, please add .csv\")\n",
        "    #filename = input()\n",
        "    #file = location + filename\n",
        "    # with open(file, 'w', newline='', encoding='utf-8') as file: \n",
        "    #     a = csv.writer(file, delimiter=',')\n",
        "    #     headers = [\"Post ID\",\"Title\",\"Url\",\"Author\",\"Score\",\"Publish Date\",\"Total No. of Comments\",\"Permalink\",\"Flair\"]\n",
        "    #     a.writerow(headers)\n",
        "    #     for sub in subStats:\n",
        "    #         a.writerow(subStats[sub][0])\n",
        "    #         upload_count+=1\n",
        "               \n",
        "        #print(str(upload_count) + \" submissions have been uploaded\")\n"
      ],
      "execution_count": 0,
      "outputs": []
    },
    {
      "cell_type": "code",
      "metadata": {
        "id": "Wgpicp9_y8TI",
        "colab_type": "code",
        "colab": {
          "base_uri": "https://localhost:8080/",
          "height": 568
        },
        "outputId": "457935d8-fe50-439a-bbe9-3c8f26318527"
      },
      "source": [
        "posts=[]\n",
        "for sub in subStats:\n",
        "  posts.append(subStats[sub][0]) \n",
        " \n",
        "df=pd.DataFrame(posts, columns=[\"Post ID\",\"Title\",\"Url\",\"Author\",\"Score\",\"Publish Date\",\"Total No. of Comments\",\"Permalink\",\"Flair\"])\n",
        "df.head()"
      ],
      "execution_count": 311,
      "outputs": [
        {
          "output_type": "execute_result",
          "data": {
            "text/html": [
              "<div>\n",
              "<style scoped>\n",
              "    .dataframe tbody tr th:only-of-type {\n",
              "        vertical-align: middle;\n",
              "    }\n",
              "\n",
              "    .dataframe tbody tr th {\n",
              "        vertical-align: top;\n",
              "    }\n",
              "\n",
              "    .dataframe thead th {\n",
              "        text-align: right;\n",
              "    }\n",
              "</style>\n",
              "<table border=\"1\" class=\"dataframe\">\n",
              "  <thead>\n",
              "    <tr style=\"text-align: right;\">\n",
              "      <th></th>\n",
              "      <th>Post ID</th>\n",
              "      <th>Title</th>\n",
              "      <th>Url</th>\n",
              "      <th>Author</th>\n",
              "      <th>Score</th>\n",
              "      <th>Publish Date</th>\n",
              "      <th>Total No. of Comments</th>\n",
              "      <th>Permalink</th>\n",
              "      <th>Flair</th>\n",
              "    </tr>\n",
              "  </thead>\n",
              "  <tbody>\n",
              "    <tr>\n",
              "      <th>0</th>\n",
              "      <td>gshz6t</td>\n",
              "      <td>HOW HIGH WIND SPEED CAN REDUCE NEGATIVE EFFECT...</td>\n",
              "      <td>https://poseidon01.ssrn.com/delivery.php?ID=14...</td>\n",
              "      <td>D-R-AZ</td>\n",
              "      <td>1</td>\n",
              "      <td>2020-05-29 00:03:45</td>\n",
              "      <td>4</td>\n",
              "      <td>/r/Coronavirus/comments/gshz6t/how_high_wind_s...</td>\n",
              "      <td>World</td>\n",
              "    </tr>\n",
              "    <tr>\n",
              "      <th>1</th>\n",
              "      <td>gsi2rf</td>\n",
              "      <td>Effects of Climatological Parameters on the Ou...</td>\n",
              "      <td>https://europepmc.org/article/ppr/ppr165634</td>\n",
              "      <td>D-R-AZ</td>\n",
              "      <td>1</td>\n",
              "      <td>2020-05-29 00:09:34</td>\n",
              "      <td>2</td>\n",
              "      <td>/r/Coronavirus/comments/gsi2rf/effects_of_clim...</td>\n",
              "      <td>Europe</td>\n",
              "    </tr>\n",
              "    <tr>\n",
              "      <th>2</th>\n",
              "      <td>gsi6fu</td>\n",
              "      <td>Spain will not stop use of HCQ to treat COVID-...</td>\n",
              "      <td>https://www.wionews.com/world/spain-will-not-s...</td>\n",
              "      <td>SafePangolin3</td>\n",
              "      <td>1</td>\n",
              "      <td>2020-05-29 00:15:23</td>\n",
              "      <td>0</td>\n",
              "      <td>/r/Coronavirus/comments/gsi6fu/spain_will_not_...</td>\n",
              "      <td>Europe</td>\n",
              "    </tr>\n",
              "    <tr>\n",
              "      <th>3</th>\n",
              "      <td>gsi6ta</td>\n",
              "      <td>White House and CDC remove coronavirus warning...</td>\n",
              "      <td>https://www.washingtonpost.com/health/white-ho...</td>\n",
              "      <td>DrAnthonyFauci</td>\n",
              "      <td>1</td>\n",
              "      <td>2020-05-29 00:16:04</td>\n",
              "      <td>62</td>\n",
              "      <td>/r/Coronavirus/comments/gsi6ta/white_house_and...</td>\n",
              "      <td>USA</td>\n",
              "    </tr>\n",
              "    <tr>\n",
              "      <th>4</th>\n",
              "      <td>gsi71y</td>\n",
              "      <td>Pennsylvania Democrats Say They Weren't Told W...</td>\n",
              "      <td>https://www.npr.org/sections/coronavirus-live-...</td>\n",
              "      <td>semaforic</td>\n",
              "      <td>1</td>\n",
              "      <td>2020-05-29 00:16:28</td>\n",
              "      <td>2</td>\n",
              "      <td>/r/Coronavirus/comments/gsi71y/pennsylvania_de...</td>\n",
              "      <td>USA</td>\n",
              "    </tr>\n",
              "  </tbody>\n",
              "</table>\n",
              "</div>"
            ],
            "text/plain": [
              "  Post ID  ...   Flair\n",
              "0  gshz6t  ...   World\n",
              "1  gsi2rf  ...  Europe\n",
              "2  gsi6fu  ...  Europe\n",
              "3  gsi6ta  ...     USA\n",
              "4  gsi71y  ...     USA\n",
              "\n",
              "[5 rows x 9 columns]"
            ]
          },
          "metadata": {
            "tags": []
          },
          "execution_count": 311
        }
      ]
    },
    {
      "cell_type": "code",
      "metadata": {
        "id": "b259CmUoDHpX",
        "colab_type": "code",
        "colab": {
          "base_uri": "https://localhost:8080/",
          "height": 634
        },
        "outputId": "90e803b3-aaf3-48f3-e452-0a280b3e8d0f"
      },
      "source": [
        "df.sort_values(\"Total No. of Comments\", axis = 0, ascending = False, \n",
        "                 inplace = True, na_position ='last') \n",
        "df.head()"
      ],
      "execution_count": 312,
      "outputs": [
        {
          "output_type": "execute_result",
          "data": {
            "text/html": [
              "<div>\n",
              "<style scoped>\n",
              "    .dataframe tbody tr th:only-of-type {\n",
              "        vertical-align: middle;\n",
              "    }\n",
              "\n",
              "    .dataframe tbody tr th {\n",
              "        vertical-align: top;\n",
              "    }\n",
              "\n",
              "    .dataframe thead th {\n",
              "        text-align: right;\n",
              "    }\n",
              "</style>\n",
              "<table border=\"1\" class=\"dataframe\">\n",
              "  <thead>\n",
              "    <tr style=\"text-align: right;\">\n",
              "      <th></th>\n",
              "      <th>Post ID</th>\n",
              "      <th>Title</th>\n",
              "      <th>Url</th>\n",
              "      <th>Author</th>\n",
              "      <th>Score</th>\n",
              "      <th>Publish Date</th>\n",
              "      <th>Total No. of Comments</th>\n",
              "      <th>Permalink</th>\n",
              "      <th>Flair</th>\n",
              "    </tr>\n",
              "  </thead>\n",
              "  <tbody>\n",
              "    <tr>\n",
              "      <th>1331</th>\n",
              "      <td>gtnc3z</td>\n",
              "      <td>U.S. cities fear protests may fuel new wave of...</td>\n",
              "      <td>https://www.cp24.com/world/u-s-cities-fear-pro...</td>\n",
              "      <td>OneBernie2020Please</td>\n",
              "      <td>1</td>\n",
              "      <td>2020-05-30 22:31:59</td>\n",
              "      <td>4194</td>\n",
              "      <td>/r/Coronavirus/comments/gtnc3z/us_cities_fear_...</td>\n",
              "      <td>USA</td>\n",
              "    </tr>\n",
              "    <tr>\n",
              "      <th>366</th>\n",
              "      <td>gsspt5</td>\n",
              "      <td>Monkeys 'escape with COVID-19 samples' after a...</td>\n",
              "      <td>https://news.sky.com/story/coronavirus-monkeys...</td>\n",
              "      <td>clonetheory</td>\n",
              "      <td>1</td>\n",
              "      <td>2020-05-29 13:09:16</td>\n",
              "      <td>2266</td>\n",
              "      <td>/r/Coronavirus/comments/gsspt5/monkeys_escape_...</td>\n",
              "      <td>World</td>\n",
              "    </tr>\n",
              "    <tr>\n",
              "      <th>1702</th>\n",
              "      <td>gu4czd</td>\n",
              "      <td>Italy Is Reopening for Tourism in June, But No...</td>\n",
              "      <td>https://www.thrillist.com/news/nation/italy-re...</td>\n",
              "      <td>angjiankai02</td>\n",
              "      <td>1284</td>\n",
              "      <td>2020-05-31 18:39:28</td>\n",
              "      <td>1639</td>\n",
              "      <td>/r/Coronavirus/comments/gu4czd/italy_is_reopen...</td>\n",
              "      <td>World</td>\n",
              "    </tr>\n",
              "    <tr>\n",
              "      <th>868</th>\n",
              "      <td>gt648s</td>\n",
              "      <td>Colorado, USA: COVID-19 Survivor Receives Firs...</td>\n",
              "      <td>https://www.thedenverchannel.com/news/local-ne...</td>\n",
              "      <td>Tactless2U</td>\n",
              "      <td>1</td>\n",
              "      <td>2020-05-30 02:07:59</td>\n",
              "      <td>1515</td>\n",
              "      <td>/r/Coronavirus/comments/gt648s/colorado_usa_co...</td>\n",
              "      <td>USA</td>\n",
              "    </tr>\n",
              "    <tr>\n",
              "      <th>5</th>\n",
              "      <td>gsi7li</td>\n",
              "      <td>People are accidentally throwing out their sti...</td>\n",
              "      <td>https://www.nbcnews.com/business/consumer/peop...</td>\n",
              "      <td>txiao007</td>\n",
              "      <td>1</td>\n",
              "      <td>2020-05-29 00:17:28</td>\n",
              "      <td>1264</td>\n",
              "      <td>/r/Coronavirus/comments/gsi7li/people_are_acci...</td>\n",
              "      <td>USA</td>\n",
              "    </tr>\n",
              "  </tbody>\n",
              "</table>\n",
              "</div>"
            ],
            "text/plain": [
              "     Post ID  ...  Flair\n",
              "1331  gtnc3z  ...    USA\n",
              "366   gsspt5  ...  World\n",
              "1702  gu4czd  ...  World\n",
              "868   gt648s  ...    USA\n",
              "5     gsi7li  ...    USA\n",
              "\n",
              "[5 rows x 9 columns]"
            ]
          },
          "metadata": {
            "tags": []
          },
          "execution_count": 312
        }
      ]
    },
    {
      "cell_type": "code",
      "metadata": {
        "id": "XZLUC0xWEyiB",
        "colab_type": "code",
        "colab": {
          "base_uri": "https://localhost:8080/",
          "height": 634
        },
        "outputId": "8b9630b5-173a-4199-dda4-afcb3127c90f"
      },
      "source": [
        "df=df[df[\"Total No. of Comments\"]>300]\n",
        "df.head()"
      ],
      "execution_count": 313,
      "outputs": [
        {
          "output_type": "execute_result",
          "data": {
            "text/html": [
              "<div>\n",
              "<style scoped>\n",
              "    .dataframe tbody tr th:only-of-type {\n",
              "        vertical-align: middle;\n",
              "    }\n",
              "\n",
              "    .dataframe tbody tr th {\n",
              "        vertical-align: top;\n",
              "    }\n",
              "\n",
              "    .dataframe thead th {\n",
              "        text-align: right;\n",
              "    }\n",
              "</style>\n",
              "<table border=\"1\" class=\"dataframe\">\n",
              "  <thead>\n",
              "    <tr style=\"text-align: right;\">\n",
              "      <th></th>\n",
              "      <th>Post ID</th>\n",
              "      <th>Title</th>\n",
              "      <th>Url</th>\n",
              "      <th>Author</th>\n",
              "      <th>Score</th>\n",
              "      <th>Publish Date</th>\n",
              "      <th>Total No. of Comments</th>\n",
              "      <th>Permalink</th>\n",
              "      <th>Flair</th>\n",
              "    </tr>\n",
              "  </thead>\n",
              "  <tbody>\n",
              "    <tr>\n",
              "      <th>1331</th>\n",
              "      <td>gtnc3z</td>\n",
              "      <td>U.S. cities fear protests may fuel new wave of...</td>\n",
              "      <td>https://www.cp24.com/world/u-s-cities-fear-pro...</td>\n",
              "      <td>OneBernie2020Please</td>\n",
              "      <td>1</td>\n",
              "      <td>2020-05-30 22:31:59</td>\n",
              "      <td>4194</td>\n",
              "      <td>/r/Coronavirus/comments/gtnc3z/us_cities_fear_...</td>\n",
              "      <td>USA</td>\n",
              "    </tr>\n",
              "    <tr>\n",
              "      <th>366</th>\n",
              "      <td>gsspt5</td>\n",
              "      <td>Monkeys 'escape with COVID-19 samples' after a...</td>\n",
              "      <td>https://news.sky.com/story/coronavirus-monkeys...</td>\n",
              "      <td>clonetheory</td>\n",
              "      <td>1</td>\n",
              "      <td>2020-05-29 13:09:16</td>\n",
              "      <td>2266</td>\n",
              "      <td>/r/Coronavirus/comments/gsspt5/monkeys_escape_...</td>\n",
              "      <td>World</td>\n",
              "    </tr>\n",
              "    <tr>\n",
              "      <th>1702</th>\n",
              "      <td>gu4czd</td>\n",
              "      <td>Italy Is Reopening for Tourism in June, But No...</td>\n",
              "      <td>https://www.thrillist.com/news/nation/italy-re...</td>\n",
              "      <td>angjiankai02</td>\n",
              "      <td>1284</td>\n",
              "      <td>2020-05-31 18:39:28</td>\n",
              "      <td>1639</td>\n",
              "      <td>/r/Coronavirus/comments/gu4czd/italy_is_reopen...</td>\n",
              "      <td>World</td>\n",
              "    </tr>\n",
              "    <tr>\n",
              "      <th>868</th>\n",
              "      <td>gt648s</td>\n",
              "      <td>Colorado, USA: COVID-19 Survivor Receives Firs...</td>\n",
              "      <td>https://www.thedenverchannel.com/news/local-ne...</td>\n",
              "      <td>Tactless2U</td>\n",
              "      <td>1</td>\n",
              "      <td>2020-05-30 02:07:59</td>\n",
              "      <td>1515</td>\n",
              "      <td>/r/Coronavirus/comments/gt648s/colorado_usa_co...</td>\n",
              "      <td>USA</td>\n",
              "    </tr>\n",
              "    <tr>\n",
              "      <th>5</th>\n",
              "      <td>gsi7li</td>\n",
              "      <td>People are accidentally throwing out their sti...</td>\n",
              "      <td>https://www.nbcnews.com/business/consumer/peop...</td>\n",
              "      <td>txiao007</td>\n",
              "      <td>1</td>\n",
              "      <td>2020-05-29 00:17:28</td>\n",
              "      <td>1264</td>\n",
              "      <td>/r/Coronavirus/comments/gsi7li/people_are_acci...</td>\n",
              "      <td>USA</td>\n",
              "    </tr>\n",
              "  </tbody>\n",
              "</table>\n",
              "</div>"
            ],
            "text/plain": [
              "     Post ID  ...  Flair\n",
              "1331  gtnc3z  ...    USA\n",
              "366   gsspt5  ...  World\n",
              "1702  gu4czd  ...  World\n",
              "868   gt648s  ...    USA\n",
              "5     gsi7li  ...    USA\n",
              "\n",
              "[5 rows x 9 columns]"
            ]
          },
          "metadata": {
            "tags": []
          },
          "execution_count": 313
        }
      ]
    },
    {
      "cell_type": "code",
      "metadata": {
        "id": "8c4g7yJ9FHkj",
        "colab_type": "code",
        "colab": {}
      },
      "source": [
        "#produce excel\n",
        "#caution encoding=\"uft-8\" does not work. only \"utf-8-sig\"\n",
        "#df.to_csv(str(after)+\".csv\",encoding=\"utf-8-sig\")"
      ],
      "execution_count": 0,
      "outputs": []
    },
    {
      "cell_type": "code",
      "metadata": {
        "id": "hUrmF5deP7z5",
        "colab_type": "code",
        "colab": {}
      },
      "source": [
        "#df.title text file no index&header\n",
        "df[\"Title\"].to_csv(str(time_after)+\".txt\",index=False,header=None, encoding=\"utf-8-sig\")"
      ],
      "execution_count": 0,
      "outputs": []
    }
  ]
}